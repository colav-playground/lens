{
 "cells": [
  {
   "cell_type": "markdown",
   "id": "68029272-ca46-4b91-87e3-a35386c532c7",
   "metadata": {},
   "source": [
    "# Check JSON"
   ]
  },
  {
   "cell_type": "markdown",
   "id": "2a3f4c8b-728f-4b66-8e69-1f0ff3cc11ac",
   "metadata": {},
   "source": [
    "Search Formula https://link.lens.org/VX54fIStybb\n",
    "* Version Date: 2022-08-22"
   ]
  },
  {
   "cell_type": "code",
   "execution_count": 27,
   "id": "9d12d530-c418-4999-9b0e-f511b63be660",
   "metadata": {},
   "outputs": [],
   "source": [
    "import json\n",
    "import requests\n",
    "import pandas as pd"
   ]
  },
  {
   "cell_type": "code",
   "execution_count": 28,
   "id": "f707caf1-ab22-42da-a627-1d6a00a74016",
   "metadata": {},
   "outputs": [],
   "source": [
    "#https://www.howtosolutions.net/2019/04/python-fixing-unexpected-utf-8-bom-error-when-loading-json-data/\n",
    "decoded_data=r.text.encode().decode('utf-8-sig') \n",
    "data = json.loads(decoded_data)"
   ]
  },
  {
   "cell_type": "code",
   "execution_count": 29,
   "id": "1007f7d5-11c5-42a1-80b3-4b496cc0062f",
   "metadata": {},
   "outputs": [],
   "source": [
    "from IPython.display import JSON"
   ]
  },
  {
   "cell_type": "code",
   "execution_count": 30,
   "id": "86cc073b-61d6-482e-84e3-b2a58d66c6cf",
   "metadata": {},
   "outputs": [
    {
     "data": {
      "application/json": [
       {
        "abstract": "We perform a systematic analysis of Standard Model extensions with an additional anomaly-free gauge $U(1)$ symmetry, to generate tree-level Dirac neutrino masses. An anomaly-free symmetry demands nontrivial conditions on the charges of the unavoidable new states. An intensive scan was performed, looking for solutions generating neutrino masses by the type-I and type-II tree-level Dirac seesaw mechanism, via operators with dimension 5 and 6, that correspond to active or dark symmetries. Special attention was paid to the cases featuring no extra massless chiral fermions or multicomponent dark matter with unconditional stability.",
        "authors": [
         {
          "affiliations": [
           {
            "addresses": [],
            "ids": [],
            "name": "CVR Partners"
           }
          ],
          "collective_name": null,
          "first_name": "Nicolás",
          "initials": "N",
          "last_name": "Bernal"
         },
         {
          "affiliations": [
           {
            "addresses": [
             {
              "country_code": "CO"
             }
            ],
            "ids": [
             {
              "type": "magid",
              "value": "35961687"
             },
             {
              "type": "grid",
              "value": "grid.412881.6"
             },
             {
              "type": "ror",
              "value": "https://ror.org/03bp5hc83"
             }
            ],
            "name": "University of Antioquia"
           }
          ],
          "collective_name": null,
          "first_name": "Diego",
          "initials": "D",
          "last_name": "Restrepo"
         }
        ],
        "chemicals": [],
        "date_published": {
         "date": "2021-08-16T00:00:00+00:00"
        },
        "end_page": null,
        "fields_of_study": [
         {
          "name": "Standard Model (mathematical formulation)"
         },
         {
          "name": "Particle physics"
         },
         {
          "name": "Physics"
         },
         {
          "name": "Anomaly (physics)"
         },
         {
          "name": "Dark matter"
         },
         {
          "name": "Neutrino"
         },
         {
          "name": "Dirac (software)"
         },
         {
          "name": "Seesaw mechanism"
         },
         {
          "name": "Theoretical physics"
         },
         {
          "name": "Symmetry (physics)"
         },
         {
          "name": "Massless particle"
         }
        ],
        "funding": [],
        "issue": null,
        "keywords": [],
        "lens_id": "000-191-015-917-095",
        "mesh_terms": [],
        "patent_citations_count": 0,
        "publication_type": null,
        "references": [
         {
          "lens_id": "002-122-391-536-484"
         },
         {
          "lens_id": "004-766-632-851-036"
         },
         {
          "lens_id": "004-796-185-342-308"
         },
         {
          "lens_id": "008-030-098-746-271"
         },
         {
          "lens_id": "009-737-615-895-562"
         },
         {
          "lens_id": "010-203-461-674-917"
         },
         {
          "lens_id": "010-915-835-788-755"
         },
         {
          "lens_id": "017-930-819-670-095"
         },
         {
          "lens_id": "021-815-698-693-557"
         },
         {
          "lens_id": "022-276-209-793-28X"
         },
         {
          "lens_id": "024-599-000-693-842"
         },
         {
          "lens_id": "025-673-012-266-564"
         },
         {
          "lens_id": "026-855-784-961-931"
         },
         {
          "lens_id": "030-396-043-787-328"
         },
         {
          "lens_id": "032-175-397-329-141"
         },
         {
          "lens_id": "039-656-229-723-969"
         },
         {
          "lens_id": "040-876-865-240-271"
         },
         {
          "lens_id": "042-283-384-847-258"
         },
         {
          "lens_id": "043-615-531-486-523"
         },
         {
          "lens_id": "052-482-282-449-27X"
         },
         {
          "lens_id": "056-113-309-955-810"
         },
         {
          "lens_id": "056-811-740-903-207"
         },
         {
          "lens_id": "061-019-801-987-259"
         },
         {
          "lens_id": "064-091-235-413-482"
         },
         {
          "lens_id": "064-957-298-752-144"
         },
         {
          "lens_id": "065-715-855-665-68X"
         },
         {
          "lens_id": "067-494-247-746-474"
         },
         {
          "lens_id": "069-680-214-572-430"
         },
         {
          "lens_id": "074-529-342-891-160"
         },
         {
          "lens_id": "076-460-648-165-68X"
         },
         {
          "lens_id": "077-845-976-945-515"
         },
         {
          "lens_id": "089-245-310-588-925"
         },
         {
          "lens_id": "098-600-563-772-755"
         },
         {
          "lens_id": "099-913-751-331-686"
         },
         {
          "lens_id": "102-463-721-251-571"
         },
         {
          "lens_id": "108-941-043-938-180"
         },
         {
          "lens_id": "119-648-445-420-882"
         },
         {
          "lens_id": "122-903-924-224-559"
         },
         {
          "lens_id": "133-455-513-461-333"
         },
         {
          "lens_id": "133-456-848-606-762"
         },
         {
          "lens_id": "135-568-336-699-44X"
         },
         {
          "lens_id": "154-540-499-514-352"
         },
         {
          "lens_id": "166-791-595-733-004"
         }
        ],
        "scholarly_citations_count": 1,
        "source": {
         "country": null,
         "issn": [],
         "publisher": null,
         "title_full": "arXiv: High Energy Physics - Phenomenology"
        },
        "source_urls": [
         {
          "type": "pdf",
          "url": "https://arxiv.org/pdf/2108.05907"
         },
         {
          "type": "html",
          "url": "https://inspirehep.net/literature/1904961"
         },
         {
          "type": "html",
          "url": "https://arxiv.org/abs/2108.05907"
         }
        ],
        "start_page": null,
        "title": "Anomaly-free Abelian gauge symmetries with Dirac seesaws",
        "volume": null,
        "year_published": 2021
       },
       {
        "abstract": null,
        "authors": [
         {
          "affiliations": [
           {
            "addresses": [
             {
              "country_code": "CO"
             }
            ],
            "ids": [
             {
              "type": "magid",
              "value": "35961687"
             },
             {
              "type": "grid",
              "value": "grid.412881.6"
             },
             {
              "type": "ror",
              "value": "https://ror.org/03bp5hc83"
             }
            ],
            "name": "University of Antioquia"
           }
          ],
          "collective_name": null,
          "first_name": "Gabriel Jaime Vélez",
          "initials": "GJV",
          "last_name": "Cuartas"
         },
         {
          "affiliations": [
           {
            "addresses": [
             {
              "country_code": "CO"
             }
            ],
            "ids": [
             {
              "type": "magid",
              "value": "35961687"
             },
             {
              "type": "grid",
              "value": "grid.412881.6"
             },
             {
              "type": "ror",
              "value": "https://ror.org/03bp5hc83"
             }
            ],
            "name": "University of Antioquia"
           }
          ],
          "collective_name": null,
          "first_name": "Alejandro",
          "initials": "A",
          "last_name": "Uribe-Tirado"
         },
         {
          "affiliations": [
           {
            "addresses": [
             {
              "country_code": "CO"
             }
            ],
            "ids": [
             {
              "type": "magid",
              "value": "36243813"
             },
             {
              "type": "grid",
              "value": "grid.10689.36"
             },
             {
              "type": "fundref",
              "value": "501100002753"
             },
             {
              "type": "wikidata",
              "value": "q1150419"
             },
             {
              "type": "ror",
              "value": "https://ror.org/059yx9a68"
             }
            ],
            "name": "National University of Colombia"
           }
          ],
          "collective_name": null,
          "first_name": "Jorge",
          "initials": "J",
          "last_name": "Robledo-Velásquez"
         },
         {
          "affiliations": [
           {
            "addresses": [
             {
              "country_code": "CO"
             }
            ],
            "ids": [
             {
              "type": "magid",
              "value": "35961687"
             },
             {
              "type": "grid",
              "value": "grid.412881.6"
             },
             {
              "type": "ror",
              "value": "https://ror.org/03bp5hc83"
             }
            ],
            "name": "University of Antioquia"
           }
          ],
          "collective_name": null,
          "first_name": "Diego",
          "initials": "D",
          "last_name": "Restrepo"
         },
         {
          "affiliations": [
           {
            "addresses": [
             {
              "country_code": "CO"
             }
            ],
            "ids": [
             {
              "type": "magid",
              "value": "35961687"
             },
             {
              "type": "grid",
              "value": "grid.412881.6"
             },
             {
              "type": "ror",
              "value": "https://ror.org/03bp5hc83"
             }
            ],
            "name": "University of Antioquia"
           }
          ],
          "collective_name": null,
          "first_name": "María Coral",
          "initials": "MC",
          "last_name": "Correa"
         },
         {
          "affiliations": [
           {
            "addresses": [
             {
              "country_code": "CO"
             }
            ],
            "ids": [
             {
              "type": "magid",
              "value": "35961687"
             },
             {
              "type": "grid",
              "value": "grid.412881.6"
             },
             {
              "type": "ror",
              "value": "https://ror.org/03bp5hc83"
             }
            ],
            "name": "University of Antioquia"
           }
          ],
          "collective_name": null,
          "first_name": "Felipe",
          "initials": "F",
          "last_name": "González"
         },
         {
          "affiliations": [
           {
            "addresses": [
             {
              "country_code": "CO"
             }
            ],
            "ids": [
             {
              "type": "magid",
              "value": "35961687"
             },
             {
              "type": "grid",
              "value": "grid.412881.6"
             },
             {
              "type": "ror",
              "value": "https://ror.org/03bp5hc83"
             }
            ],
            "name": "University of Antioquia"
           }
          ],
          "collective_name": null,
          "first_name": "Ana María Osorio",
          "initials": "AMO",
          "last_name": "López"
         },
         {
          "affiliations": [
           {
            "addresses": [
             {
              "country_code": "CO"
             }
            ],
            "ids": [
             {
              "type": "magid",
              "value": "35961687"
             },
             {
              "type": "grid",
              "value": "grid.412881.6"
             },
             {
              "type": "ror",
              "value": "https://ror.org/03bp5hc83"
             }
            ],
            "name": "University of Antioquia"
           }
          ],
          "collective_name": null,
          "first_name": "Sebastián Mendoza",
          "initials": "SM",
          "last_name": "González"
         },
         {
          "affiliations": [
           {
            "addresses": [
             {
              "country_code": "CO"
             }
            ],
            "ids": [
             {
              "type": "magid",
              "value": "35961687"
             },
             {
              "type": "grid",
              "value": "grid.412881.6"
             },
             {
              "type": "ror",
              "value": "https://ror.org/03bp5hc83"
             }
            ],
            "name": "University of Antioquia"
           }
          ],
          "collective_name": null,
          "first_name": "Alejandra Marcela",
          "initials": "AM",
          "last_name": "Castro"
         },
         {
          "affiliations": [
           {
            "addresses": [
             {
              "country_code": "ES"
             }
            ],
            "ids": [
             {
              "type": "magid",
              "value": "184999862"
             },
             {
              "type": "grid",
              "value": "grid.11762.33"
             },
             {
              "type": "ror",
              "value": "https://ror.org/02f40zc51"
             }
            ],
            "name": "University of Salamanca"
           },
           {
            "addresses": [
             {
              "country_code": "CO"
             }
            ],
            "ids": [
             {
              "type": "magid",
              "value": "35961687"
             },
             {
              "type": "grid",
              "value": "grid.412881.6"
             },
             {
              "type": "ror",
              "value": "https://ror.org/03bp5hc83"
             }
            ],
            "name": "University of Antioquia"
           }
          ],
          "collective_name": null,
          "first_name": "César O.",
          "initials": "CO",
          "last_name": "Pallares"
         }
        ],
        "chemicals": [],
        "date_published": {
         "date": null
        },
        "end_page": null,
        "fields_of_study": [
         {
          "name": "Humanities"
         },
         {
          "name": "Political science"
         },
         {
          "name": "Differential impact"
         }
        ],
        "funding": [],
        "issue": null,
        "keywords": [],
        "lens_id": "000-293-119-187-370",
        "mesh_terms": [],
        "patent_citations_count": 0,
        "publication_type": "journal article",
        "references": [
         {
          "lens_id": "008-337-514-790-690"
         },
         {
          "lens_id": "034-154-058-064-652"
         },
         {
          "lens_id": "047-044-428-156-04X"
         },
         {
          "lens_id": "056-094-840-002-44X"
         },
         {
          "lens_id": "056-386-914-265-520"
         },
         {
          "lens_id": "087-800-540-319-154"
         },
         {
          "lens_id": "098-761-314-823-07X"
         },
         {
          "lens_id": "101-752-490-869-458"
         },
         {
          "lens_id": "131-467-398-562-731"
         }
        ],
        "scholarly_citations_count": 0,
        "source": {
         "country": null,
         "issn": [
          {
           "type": "electronic",
           "value": "15565068"
          }
         ],
         "publisher": "Elsevier BV",
         "title_full": "SSRN Electronic Journal"
        },
        "source_urls": [
         {
          "type": "html",
          "url": "https://papers.ssrn.com/sol3/papers.cfm?abstract_id=3136094"
         }
        ],
        "start_page": null,
        "title": "Indicadores de vinculación con el entorno para Unidades de Gestión de Investigación. (Universidad de Antioquia SIU. Estudio Piloto 2004-2016) (Indicators of Linkage with the Environment for Research Management Units. (Universidad de Antioquia SIU. Pilot Study 2004-2016))",
        "volume": null,
        "year_published": 2017
       },
       {
        "abstract": "In models with gauge mediated supersymmetry breaking the gravitino is the lightest supersymmetric particle. If R-parity is violated the gravitino decays, but with a half-live far exceeding the age of the universe and thus is, in principle, a candidate for the dark matter. We consider the decays of the next-to-lightest supersymmetric particle, assumed to be the neutralino. We show that in models where the breaking of R-parity is bilinear, the condition that R-parity violation explains correctly the measured neutrino masses fixes the branching ratio of the decay 01 ? ? in the range (10-3?10-2), if the gravitino mass is in the range required to solve the dark matter problem, i.e. of the order (few) 100 eV. This scenario is therefore directly testable at the next generation of colliders.",
        "authors": [
         {
          "affiliations": [
           {
            "addresses": [
             {
              "country_code": "ES"
             }
            ],
            "ids": [
             {
              "type": "magid",
              "value": "134820265"
             },
             {
              "type": "grid",
              "value": "grid.4711.3"
             },
             {
              "type": "ror",
              "value": "https://ror.org/02gfc7t72"
             }
            ],
            "name": "Spanish National Research Council"
           }
          ],
          "collective_name": null,
          "first_name": "Martin",
          "initials": "M",
          "last_name": "Hirsch"
         },
         {
          "affiliations": [
           {
            "addresses": [
             {
              "country_code": "ES"
             }
            ],
            "ids": [
             {
              "type": "magid",
              "value": "134820265"
             },
             {
              "type": "grid",
              "value": "grid.4711.3"
             },
             {
              "type": "ror",
              "value": "https://ror.org/02gfc7t72"
             }
            ],
            "name": "Spanish National Research Council"
           }
          ],
          "collective_name": null,
          "first_name": "Werner",
          "initials": "W",
          "last_name": "Porod"
         },
         {
          "affiliations": [
           {
            "addresses": [
             {
              "country_code": "ES"
             }
            ],
            "ids": [
             {
              "type": "magid",
              "value": "134820265"
             },
             {
              "type": "grid",
              "value": "grid.4711.3"
             },
             {
              "type": "ror",
              "value": "https://ror.org/02gfc7t72"
             }
            ],
            "name": "Spanish National Research Council"
           },
           {
            "addresses": [
             {
              "country_code": "CO"
             }
            ],
            "ids": [
             {
              "type": "magid",
              "value": "35961687"
             },
             {
              "type": "grid",
              "value": "grid.412881.6"
             },
             {
              "type": "ror",
              "value": "https://ror.org/03bp5hc83"
             }
            ],
            "name": "University of Antioquia"
           }
          ],
          "collective_name": null,
          "first_name": "Diego",
          "initials": "D",
          "last_name": "Restrepo"
         }
        ],
        "chemicals": [],
        "date_published": {
         "date": "2005-03-23T00:00:00+00:00"
        },
        "end_page": "062",
        "fields_of_study": [
         {
          "name": "Particle physics"
         },
         {
          "name": "Physics"
         },
         {
          "name": "Lightest Supersymmetric Particle"
         },
         {
          "name": "Dark matter"
         },
         {
          "name": "Neutrino"
         },
         {
          "name": "R-parity"
         },
         {
          "name": "Neutralino"
         },
         {
          "name": "Branching fraction"
         },
         {
          "name": "Gravitino"
         },
         {
          "name": "Supersymmetry breaking"
         },
         {
          "name": "Order (ring theory)"
         }
        ],
        "funding": [],
        "issue": "03",
        "keywords": [],
        "lens_id": "008-067-806-341-363",
        "mesh_terms": [],
        "patent_citations_count": 0,
        "publication_type": "journal article",
        "references": [
         {
          "lens_id": "002-575-606-835-695"
         },
         {
          "lens_id": "004-654-799-595-840"
         },
         {
          "lens_id": "005-195-511-492-17X"
         },
         {
          "lens_id": "005-904-164-081-358"
         },
         {
          "lens_id": "008-631-207-228-953"
         },
         {
          "lens_id": "008-863-024-109-25X"
         },
         {
          "lens_id": "011-013-630-697-482"
         },
         {
          "lens_id": "014-959-004-948-199"
         },
         {
          "lens_id": "016-674-794-219-479"
         },
         {
          "lens_id": "018-480-474-091-522"
         },
         {
          "lens_id": "019-143-486-020-640"
         },
         {
          "lens_id": "020-826-263-342-915"
         },
         {
          "lens_id": "026-513-675-017-765"
         },
         {
          "lens_id": "026-774-193-648-64X"
         },
         {
          "lens_id": "027-923-066-874-663"
         },
         {
          "lens_id": "028-931-488-210-994"
         },
         {
          "lens_id": "033-037-157-321-328"
         },
         {
          "lens_id": "037-143-295-022-662"
         },
         {
          "lens_id": "038-819-753-332-187"
         },
         {
          "lens_id": "039-431-000-276-972"
         },
         {
          "lens_id": "045-103-720-920-388"
         },
         {
          "lens_id": "048-694-966-483-372"
         },
         {
          "lens_id": "048-919-788-198-88X"
         },
         {
          "lens_id": "051-512-456-367-329"
         },
         {
          "lens_id": "052-027-856-184-510"
         },
         {
          "lens_id": "052-381-511-704-172"
         },
         {
          "lens_id": "053-357-224-625-419"
         },
         {
          "lens_id": "057-947-504-365-311"
         },
         {
          "lens_id": "059-724-947-928-878"
         },
         {
          "lens_id": "061-227-207-190-112"
         },
         {
          "lens_id": "066-144-648-609-706"
         },
         {
          "lens_id": "071-265-343-524-009"
         },
         {
          "lens_id": "073-061-997-198-183"
         },
         {
          "lens_id": "073-445-875-623-56X"
         },
         {
          "lens_id": "074-697-051-909-423"
         },
         {
          "lens_id": "106-817-268-446-303"
         },
         {
          "lens_id": "108-982-254-908-257"
         },
         {
          "lens_id": "114-831-982-539-364"
         },
         {
          "lens_id": "117-565-310-797-328"
         },
         {
          "lens_id": "125-995-698-066-395"
         },
         {
          "lens_id": "132-740-490-634-452"
         },
         {
          "lens_id": "161-682-088-920-062"
         },
         {
          "lens_id": "199-624-553-014-588"
         }
        ],
        "scholarly_citations_count": 47,
        "source": {
         "country": "Germany",
         "issn": [
          {
           "type": "electronic",
           "value": "10298479"
          }
         ],
         "publisher": "Springer Science and Business Media LLC",
         "title_full": "Journal of High Energy Physics"
        },
        "source_urls": [
         {
          "type": "html",
          "url": "https://pos.sissa.it/archive/conferences/021/343/HEP2005_343.pdf"
         },
         {
          "type": "html",
          "url": "http://core.ac.uk/display/2479064"
         },
         {
          "type": "html",
          "url": "https://www.arxiv-vanity.com/papers/hep-ph/0503059/"
         },
         {
          "type": "html",
          "url": "https://ui.adsabs.harvard.edu/abs/2005JHEP...03..062H/abstract"
         },
         {
          "type": "core_fulltext",
          "url": "https://core.ac.uk/download/71028337.pdf"
         }
        ],
        "start_page": "062",
        "title": "Collider signals of gravitino dark matter in bilinearly broken R-parity",
        "volume": "2005",
        "year_published": 2005
       },
       {
        "abstract": "The singlet-doublet fermion dark matter model (SDFDM) provides a good DM candidate as well as the possibility of generating neutrino masses radiatively. The search and identification of DM requires the combined effort of both indirect and direct DM detection experiments in addition to the LHC. Remarkably, an excess of GeV gamma rays from the Galactic Center (GCE) has been measured with the \\textit{Fermi} Large Area Telescope (LAT) which appears to be robust with respect to changes in the diffuse galactic background modeling. Although several astrophysical explanations have been proposed, DM remains a simple and well motivated alternative. In this work, we examine the sensitivities of dark matter searches in the SDFDM scenario using $\\textit{Fermi}$-LAT, CTA, IceCube/DeepCore, LUX, PICO and LHC with an emphasis on exploring the regions of the parameter space that can account for the GCE. We find that DM particles present in this model with masses close to $\\sim 99$ GeV and $\\sim (173-190)$ GeV annihilating predominantly into the $W^+W^-$ channel and $t\\bar{t}$ channel respectively, provide an acceptable fit to the GCE while being consistent with different current experimental bounds. We also find that much of the obtained parameter space can be ruled out by future direct search experiments like LZ and XENON-1T, in case of null results by these detectors. Interestingly, we show that the most recent data by LUX is starting to probe the best fit region in the SDFDM model.",
        "authors": [
         {
          "affiliations": [
           {
            "addresses": [
             {
              "country_code": "US"
             }
            ],
            "ids": [
             {
              "type": "magid",
              "value": "859038795"
             },
             {
              "type": "grid",
              "value": "grid.438526.e"
             },
             {
              "type": "fundref",
              "value": "100007263"
             },
             {
              "type": "ror",
              "value": "https://ror.org/02smfhw86"
             }
            ],
            "name": "Virginia Tech"
           }
          ],
          "collective_name": null,
          "first_name": "Shunsaku",
          "initials": "S",
          "last_name": "Horiuchi"
         },
         {
          "affiliations": [
           {
            "addresses": [
             {
              "country_code": "US"
             }
            ],
            "ids": [
             {
              "type": "magid",
              "value": "859038795"
             },
             {
              "type": "grid",
              "value": "grid.438526.e"
             },
             {
              "type": "fundref",
              "value": "100007263"
             },
             {
              "type": "ror",
              "value": "https://ror.org/02smfhw86"
             }
            ],
            "name": "Virginia Tech"
           }
          ],
          "collective_name": null,
          "first_name": "Oscar",
          "initials": "O",
          "last_name": "Macias"
         },
         {
          "affiliations": [
           {
            "addresses": [
             {
              "country_code": "CO"
             }
            ],
            "ids": [
             {
              "type": "magid",
              "value": "35961687"
             },
             {
              "type": "grid",
              "value": "grid.412881.6"
             },
             {
              "type": "ror",
              "value": "https://ror.org/03bp5hc83"
             }
            ],
            "name": "University of Antioquia"
           }
          ],
          "collective_name": null,
          "first_name": "Diego",
          "initials": "D",
          "last_name": "Restrepo"
         },
         {
          "affiliations": [
           {
            "addresses": [
             {
              "country_code": "CO"
             }
            ],
            "ids": [
             {
              "type": "magid",
              "value": "35961687"
             },
             {
              "type": "grid",
              "value": "grid.412881.6"
             },
             {
              "type": "ror",
              "value": "https://ror.org/03bp5hc83"
             }
            ],
            "name": "University of Antioquia"
           }
          ],
          "collective_name": null,
          "first_name": "Andrés",
          "initials": "A",
          "last_name": "Rivera"
         },
         {
          "affiliations": [
           {
            "addresses": [
             {
              "country_code": "CO"
             }
            ],
            "ids": [
             {
              "type": "magid",
              "value": "35961687"
             },
             {
              "type": "grid",
              "value": "grid.412881.6"
             },
             {
              "type": "ror",
              "value": "https://ror.org/03bp5hc83"
             }
            ],
            "name": "University of Antioquia"
           }
          ],
          "collective_name": null,
          "first_name": "Óscar",
          "initials": "Ó",
          "last_name": "Zapata"
         },
         {
          "affiliations": [
           {
            "addresses": [
             {
              "country_code": "NL"
             }
            ],
            "ids": [
             {
              "type": "magid",
              "value": "887064364"
             },
             {
              "type": "grid",
              "value": "grid.7177.6"
             },
             {
              "type": "wikidata",
              "value": "q214341"
             },
             {
              "type": "ror",
              "value": "https://ror.org/04dkp9463"
             }
            ],
            "name": "University of Amsterdam"
           }
          ],
          "collective_name": null,
          "first_name": "Hamish",
          "initials": "H",
          "last_name": "Silverwood"
         }
        ],
        "chemicals": [],
        "date_published": {
         "date": "2016-03-29T00:00:00+00:00"
        },
        "end_page": "048",
        "fields_of_study": [
         {
          "name": "Physics"
         },
         {
          "name": "Galactic Center"
         },
         {
          "name": "Dark matter"
         },
         {
          "name": "Physics beyond the Standard Model"
         },
         {
          "name": "Neutrino"
         },
         {
          "name": "Fermi Gamma-ray Space Telescope"
         },
         {
          "name": "Astrophysics"
         },
         {
          "name": "Fermion"
         },
         {
          "name": "Gamma ray"
         },
         {
          "name": "Galaxy"
         },
         {
          "name": "Particle physics"
         },
         {
          "name": "Parameter space"
         },
         {
          "name": "Large Hadron Collider"
         }
        ],
        "funding": [],
        "issue": "03",
        "keywords": [],
        "lens_id": "008-385-643-817-016",
        "mesh_terms": [],
        "patent_citations_count": 0,
        "publication_type": "journal article",
        "references": [
         {
          "lens_id": "000-203-092-275-626"
         },
         {
          "lens_id": "000-310-211-044-032"
         },
         {
          "lens_id": "000-891-134-807-937"
         },
         {
          "lens_id": "002-171-670-217-516"
         },
         {
          "lens_id": "003-232-345-880-704"
         },
         {
          "lens_id": "003-290-261-547-811"
         },
         {
          "lens_id": "003-663-563-675-738"
         },
         {
          "lens_id": "005-045-795-047-006"
         },
         {
          "lens_id": "007-062-449-454-474"
         },
         {
          "lens_id": "007-698-128-384-106"
         },
         {
          "lens_id": "009-887-515-684-980"
         },
         {
          "lens_id": "012-652-918-884-372"
         },
         {
          "lens_id": "012-830-589-738-559"
         },
         {
          "lens_id": "013-009-555-431-596"
         },
         {
          "lens_id": "013-543-414-408-130"
         },
         {
          "lens_id": "013-583-363-864-369"
         },
         {
          "lens_id": "013-953-923-991-784"
         },
         {
          "lens_id": "014-359-506-550-923"
         },
         {
          "lens_id": "014-856-569-215-724"
         },
         {
          "lens_id": "014-893-567-939-596"
         },
         {
          "lens_id": "015-307-961-604-905"
         },
         {
          "lens_id": "015-545-672-334-56X"
         },
         {
          "lens_id": "016-697-650-865-895"
         },
         {
          "lens_id": "016-856-998-862-48X"
         },
         {
          "lens_id": "017-402-578-483-301"
         },
         {
          "lens_id": "018-674-115-901-787"
         },
         {
          "lens_id": "018-787-532-457-892"
         },
         {
          "lens_id": "018-864-001-254-195"
         },
         {
          "lens_id": "019-515-877-253-470"
         },
         {
          "lens_id": "019-802-687-017-292"
         },
         {
          "lens_id": "020-643-107-230-16X"
         },
         {
          "lens_id": "021-660-540-974-128"
         },
         {
          "lens_id": "021-857-704-196-924"
         },
         {
          "lens_id": "022-027-073-156-048"
         },
         {
          "lens_id": "022-419-765-643-843"
         },
         {
          "lens_id": "022-858-351-867-040"
         },
         {
          "lens_id": "023-867-236-899-371"
         },
         {
          "lens_id": "024-166-440-042-37X"
         },
         {
          "lens_id": "024-559-492-733-903"
         },
         {
          "lens_id": "025-572-092-792-384"
         },
         {
          "lens_id": "026-113-886-649-372"
         },
         {
          "lens_id": "027-376-690-395-957"
         },
         {
          "lens_id": "028-320-377-820-367"
         },
         {
          "lens_id": "028-782-185-896-03X"
         },
         {
          "lens_id": "029-039-818-453-18X"
         },
         {
          "lens_id": "029-156-274-888-363"
         },
         {
          "lens_id": "029-486-486-095-121"
         },
         {
          "lens_id": "029-654-941-303-00X"
         },
         {
          "lens_id": "029-703-293-320-079"
         },
         {
          "lens_id": "029-815-421-134-745"
         },
         {
          "lens_id": "033-458-079-656-944"
         },
         {
          "lens_id": "033-898-684-688-871"
         },
         {
          "lens_id": "034-107-331-800-170"
         },
         {
          "lens_id": "034-668-829-127-85X"
         },
         {
          "lens_id": "034-750-693-025-661"
         },
         {
          "lens_id": "034-864-118-367-353"
         },
         {
          "lens_id": "035-773-171-207-538"
         },
         {
          "lens_id": "036-587-535-956-511"
         },
         {
          "lens_id": "036-851-240-465-854"
         },
         {
          "lens_id": "036-998-973-082-70X"
         },
         {
          "lens_id": "038-359-578-185-663"
         },
         {
          "lens_id": "038-521-568-949-386"
         },
         {
          "lens_id": "038-991-065-127-168"
         },
         {
          "lens_id": "040-604-615-751-563"
         },
         {
          "lens_id": "042-609-253-363-250"
         },
         {
          "lens_id": "043-934-064-378-870"
         },
         {
          "lens_id": "044-273-665-152-798"
         },
         {
          "lens_id": "044-773-721-558-655"
         },
         {
          "lens_id": "045-500-028-589-931"
         },
         {
          "lens_id": "045-611-668-998-17X"
         },
         {
          "lens_id": "046-091-421-949-691"
         },
         {
          "lens_id": "050-283-040-619-323"
         },
         {
          "lens_id": "051-417-334-477-815"
         },
         {
          "lens_id": "052-466-519-037-477"
         },
         {
          "lens_id": "053-186-935-732-305"
         },
         {
          "lens_id": "053-770-154-869-07X"
         },
         {
          "lens_id": "055-267-367-656-478"
         },
         {
          "lens_id": "055-665-765-687-927"
         },
         {
          "lens_id": "056-294-892-564-782"
         },
         {
          "lens_id": "056-366-479-890-12X"
         },
         {
          "lens_id": "056-461-313-228-22X"
         },
         {
          "lens_id": "057-576-317-324-530"
         },
         {
          "lens_id": "058-564-286-536-474"
         },
         {
          "lens_id": "059-135-509-766-922"
         },
         {
          "lens_id": "059-937-188-564-661"
         },
         {
          "lens_id": "060-851-022-827-503"
         },
         {
          "lens_id": "060-853-757-048-200"
         },
         {
          "lens_id": "062-524-809-388-553"
         },
         {
          "lens_id": "063-240-878-236-23X"
         },
         {
          "lens_id": "064-273-022-554-414"
         },
         {
          "lens_id": "067-611-942-476-007"
         },
         {
          "lens_id": "068-056-661-568-470"
         },
         {
          "lens_id": "068-587-433-450-262"
         },
         {
          "lens_id": "069-281-310-852-936"
         },
         {
          "lens_id": "069-564-151-474-199"
         },
         {
          "lens_id": "069-648-435-370-269"
         },
         {
          "lens_id": "070-945-660-160-619"
         },
         {
          "lens_id": "073-639-304-361-530"
         },
         {
          "lens_id": "074-359-688-637-857"
         },
         {
          "lens_id": "074-666-465-246-314"
         },
         {
          "lens_id": "078-088-174-101-151"
         },
         {
          "lens_id": "079-123-827-382-630"
         },
         {
          "lens_id": "080-586-821-927-499"
         },
         {
          "lens_id": "081-192-074-891-561"
         },
         {
          "lens_id": "081-699-191-803-834"
         },
         {
          "lens_id": "081-973-788-492-687"
         },
         {
          "lens_id": "083-548-145-193-937"
         },
         {
          "lens_id": "083-563-943-271-114"
         },
         {
          "lens_id": "083-685-372-385-77X"
         },
         {
          "lens_id": "084-507-401-024-100"
         },
         {
          "lens_id": "084-657-391-917-661"
         },
         {
          "lens_id": "085-345-230-261-175"
         },
         {
          "lens_id": "085-871-784-930-625"
         },
         {
          "lens_id": "087-588-754-640-431"
         },
         {
          "lens_id": "088-429-923-361-213"
         },
         {
          "lens_id": "088-743-737-974-118"
         },
         {
          "lens_id": "088-793-456-147-576"
         },
         {
          "lens_id": "089-933-911-060-404"
         },
         {
          "lens_id": "091-472-134-001-962"
         },
         {
          "lens_id": "098-512-371-906-165"
         },
         {
          "lens_id": "099-811-938-308-964"
         },
         {
          "lens_id": "102-962-253-623-982"
         },
         {
          "lens_id": "106-028-588-473-114"
         },
         {
          "lens_id": "110-535-275-843-576"
         },
         {
          "lens_id": "112-673-664-830-144"
         },
         {
          "lens_id": "113-963-390-601-492"
         },
         {
          "lens_id": "120-736-439-412-355"
         },
         {
          "lens_id": "122-780-469-453-917"
         },
         {
          "lens_id": "123-080-709-378-514"
         },
         {
          "lens_id": "124-245-123-092-040"
         },
         {
          "lens_id": "124-954-597-277-436"
         },
         {
          "lens_id": "128-395-237-759-869"
         },
         {
          "lens_id": "129-087-408-159-043"
         },
         {
          "lens_id": "131-498-027-439-605"
         },
         {
          "lens_id": "131-822-745-011-867"
         },
         {
          "lens_id": "132-853-641-520-913"
         },
         {
          "lens_id": "135-096-565-650-591"
         },
         {
          "lens_id": "139-879-131-171-995"
         },
         {
          "lens_id": "149-939-863-799-07X"
         },
         {
          "lens_id": "150-276-359-444-908"
         },
         {
          "lens_id": "151-745-905-331-106"
         },
         {
          "lens_id": "152-840-239-545-55X"
         },
         {
          "lens_id": "157-562-566-188-160"
         },
         {
          "lens_id": "160-842-610-236-890"
         },
         {
          "lens_id": "170-599-374-794-57X"
         }
        ],
        "scholarly_citations_count": 26,
        "source": {
         "country": "United Kingdom",
         "issn": [
          {
           "type": "electronic",
           "value": "14757516"
          }
         ],
         "publisher": "IOP Publishing",
         "title_full": "Journal of Cosmology and Astroparticle Physics"
        },
        "source_urls": [
         {
          "type": null,
          "url": "http://iopscience.iop.org/article/10.1088/1475-7516/2016/03/048/pdf"
         },
         {
          "type": "html",
          "url": "https://inspirehep.net/record/1421624"
         },
         {
          "type": "html",
          "url": "http://ui.adsabs.harvard.edu/abs/2016JCAP...03..048H/abstract"
         },
         {
          "type": null,
          "url": "http://inspirehep.net/record/1421624"
         },
         {
          "type": "core_fulltext",
          "url": "http://arxiv.org/abs/1602.04788"
         }
        ],
        "start_page": "048",
        "title": "The Fermi-LAT gamma-ray excess at the Galactic Center in the singlet-doublet fermion dark matter model",
        "volume": "2016",
        "year_published": 2016
       },
       {
        "abstract": "We study the collider phenomenology of bilinear R-parity violating supergravity, the simplest effective model for supersymmetric neutrino masses accounting for the current neutrino oscillation data. At the CERN Large Hadron Collider the center-of-mass energy will be high enough to probe directly these models through the search for the superpartners of the Standard Model (SM) particles. We analyze the impact of R-parity violation on the canonical supersymmetry searches - that is, we examine how the decay of the lightest supersymmetric particle (LSP) via bilinear R-parity violating interactions degrades the average expected missing momentum of the reactions and show how this diminishes the reach in the 'usual' channels for supersymmetry searches. However, the R-parity violating interactions lead to an enhancement of the final states containing isolated same-sign di-leptons and trileptons, compensating the reach loss in the fully inclusive channel. We show how the searches for displaced vertices associated to LSP decay substantially increase the coverage in supergravity parameter space, giving the corresponding reaches for two reference luminosities of 10 and 100 fb$^{-1}$ and compare with those of the R-parity conserving minimal supergravity model.",
        "authors": [
         {
          "affiliations": [
           {
            "addresses": [
             {
              "country_code": "BR"
             }
            ],
            "ids": [
             {
              "type": "magid",
              "value": "879563668"
             },
             {
              "type": "grid",
              "value": "grid.410543.7"
             },
             {
              "type": "wikidata",
              "value": "q1817137"
             },
             {
              "type": "ror",
              "value": "https://ror.org/00987cb86"
             }
            ],
            "name": "Sao Paulo State University"
           }
          ],
          "collective_name": null,
          "first_name": "F.",
          "initials": "F",
          "last_name": "de Campos"
         },
         {
          "affiliations": [
           {
            "addresses": [
             {
              "country_code": "BR"
             }
            ],
            "ids": [
             {
              "type": "magid",
              "value": "17974374"
             },
             {
              "type": "grid",
              "value": "grid.11899.38"
             },
             {
              "type": "fundref",
              "value": "501100005639"
             },
             {
              "type": "wikidata",
              "value": "q835960"
             },
             {
              "type": "ror",
              "value": "https://ror.org/036rp1748"
             }
            ],
            "name": "University of São Paulo"
           }
          ],
          "collective_name": null,
          "first_name": "Oscar J.P.",
          "initials": "OJP",
          "last_name": "Eboli"
         },
         {
          "affiliations": [
           {
            "addresses": [],
            "ids": [],
            "name": "Faculdade de Engenharia, Centro Universitário Fundação Santo André, Av. Principe de Gales 821, 09060-650, Santo André SP, Brazil"
           }
          ],
          "collective_name": null,
          "first_name": "M. B.",
          "initials": "MB",
          "last_name": "Magro"
         },
         {
          "affiliations": [
           {
            "addresses": [
             {
              "country_code": "DE"
             }
            ],
            "ids": [
             {
              "type": "magid",
              "value": "25974101"
             },
             {
              "type": "grid",
              "value": "grid.8379.5"
             },
             {
              "type": "ror",
              "value": "https://ror.org/00fbnyb24"
             }
            ],
            "name": "University of Würzburg"
           }
          ],
          "collective_name": null,
          "first_name": "Werner",
          "initials": "W",
          "last_name": "Porod"
         },
         {
          "affiliations": [
           {
            "addresses": [
             {
              "country_code": "CO"
             }
            ],
            "ids": [
             {
              "type": "magid",
              "value": "35961687"
             },
             {
              "type": "grid",
              "value": "grid.412881.6"
             },
             {
              "type": "ror",
              "value": "https://ror.org/03bp5hc83"
             }
            ],
            "name": "University of Antioquia"
           }
          ],
          "collective_name": null,
          "first_name": "Diego",
          "initials": "D",
          "last_name": "Restrepo"
         },
         {
          "affiliations": [
           {
            "addresses": [
             {
              "country_code": "ES"
             }
            ],
            "ids": [
             {
              "type": "magid",
              "value": "16097986"
             },
             {
              "type": "grid",
              "value": "grid.5338.d"
             },
             {
              "type": "ror",
              "value": "https://ror.org/043nxc105"
             }
            ],
            "name": "University of Valencia"
           }
          ],
          "collective_name": null,
          "first_name": "Martin",
          "initials": "M",
          "last_name": "Hirsch"
         },
         {
          "affiliations": [
           {
            "addresses": [
             {
              "country_code": "ES"
             }
            ],
            "ids": [
             {
              "type": "magid",
              "value": "16097986"
             },
             {
              "type": "grid",
              "value": "grid.5338.d"
             },
             {
              "type": "ror",
              "value": "https://ror.org/043nxc105"
             }
            ],
            "name": "University of Valencia"
           }
          ],
          "collective_name": null,
          "first_name": "José W. F.",
          "initials": "JWF",
          "last_name": "Valle"
         }
        ],
        "chemicals": [],
        "date_published": {
         "date": "2008-05-15T00:00:00+00:00"
        },
        "end_page": "048",
        "fields_of_study": [
         {
          "name": "Neutrino oscillation"
         },
         {
          "name": "Particle physics"
         },
         {
          "name": "Supersymmetry"
         },
         {
          "name": "Physics"
         },
         {
          "name": "Lightest Supersymmetric Particle"
         },
         {
          "name": "Neutrino"
         },
         {
          "name": "R-parity"
         },
         {
          "name": "Standard Model"
         },
         {
          "name": "Supergravity"
         },
         {
          "name": "Large Hadron Collider"
         }
        ],
        "funding": [],
        "issue": "05",
        "keywords": [],
        "lens_id": "008-403-072-428-215",
        "mesh_terms": [],
        "patent_citations_count": 0,
        "publication_type": "journal article",
        "references": [
         {
          "lens_id": "000-065-002-869-795"
         },
         {
          "lens_id": "001-008-166-412-391"
         },
         {
          "lens_id": "003-843-890-381-612"
         },
         {
          "lens_id": "005-859-568-844-358"
         },
         {
          "lens_id": "005-904-164-081-358"
         },
         {
          "lens_id": "006-729-357-192-258"
         },
         {
          "lens_id": "006-768-323-137-711"
         },
         {
          "lens_id": "008-067-806-341-363"
         },
         {
          "lens_id": "013-259-596-310-83X"
         },
         {
          "lens_id": "013-527-032-216-344"
         },
         {
          "lens_id": "014-385-697-574-205"
         },
         {
          "lens_id": "014-959-004-948-199"
         },
         {
          "lens_id": "015-797-849-593-905"
         },
         {
          "lens_id": "015-933-998-773-700"
         },
         {
          "lens_id": "016-773-516-771-152"
         },
         {
          "lens_id": "018-387-957-459-604"
         },
         {
          "lens_id": "019-515-226-965-781"
         },
         {
          "lens_id": "021-070-787-892-79X"
         },
         {
          "lens_id": "021-436-465-519-101"
         },
         {
          "lens_id": "022-655-190-018-370"
         },
         {
          "lens_id": "023-803-059-832-535"
         },
         {
          "lens_id": "024-453-658-596-000"
         },
         {
          "lens_id": "026-623-148-069-245"
         },
         {
          "lens_id": "028-931-488-210-994"
         },
         {
          "lens_id": "033-037-157-321-328"
         },
         {
          "lens_id": "034-152-165-951-987"
         },
         {
          "lens_id": "035-814-632-813-855"
         },
         {
          "lens_id": "036-544-094-674-091"
         },
         {
          "lens_id": "038-819-753-332-187"
         },
         {
          "lens_id": "042-951-839-004-435"
         },
         {
          "lens_id": "046-613-018-546-070"
         },
         {
          "lens_id": "047-263-785-897-356"
         },
         {
          "lens_id": "047-523-096-001-743"
         },
         {
          "lens_id": "048-740-877-298-030"
         },
         {
          "lens_id": "051-305-747-644-70X"
         },
         {
          "lens_id": "051-366-503-076-872"
         },
         {
          "lens_id": "051-512-456-367-329"
         },
         {
          "lens_id": "052-381-511-704-172"
         },
         {
          "lens_id": "054-042-624-901-822"
         },
         {
          "lens_id": "054-904-338-187-441"
         },
         {
          "lens_id": "055-964-948-944-05X"
         },
         {
          "lens_id": "056-977-981-409-517"
         },
         {
          "lens_id": "057-175-166-620-836"
         },
         {
          "lens_id": "057-947-504-365-311"
         },
         {
          "lens_id": "062-368-837-990-478"
         },
         {
          "lens_id": "062-739-037-344-873"
         },
         {
          "lens_id": "068-783-531-748-204"
         },
         {
          "lens_id": "068-833-133-846-389"
         },
         {
          "lens_id": "071-265-343-524-009"
         },
         {
          "lens_id": "072-244-060-262-081"
         },
         {
          "lens_id": "073-638-729-231-171"
         },
         {
          "lens_id": "074-697-051-909-423"
         },
         {
          "lens_id": "076-978-408-808-97X"
         },
         {
          "lens_id": "079-652-087-388-028"
         },
         {
          "lens_id": "090-784-054-094-886"
         },
         {
          "lens_id": "091-672-362-890-905"
         },
         {
          "lens_id": "096-777-508-677-297"
         },
         {
          "lens_id": "100-253-624-213-997"
         },
         {
          "lens_id": "107-198-224-645-665"
         },
         {
          "lens_id": "111-265-129-821-538"
         },
         {
          "lens_id": "115-922-552-993-161"
         },
         {
          "lens_id": "125-292-495-156-402"
         },
         {
          "lens_id": "142-947-496-162-995"
         },
         {
          "lens_id": "172-687-903-817-478"
         }
        ],
        "scholarly_citations_count": 47,
        "source": {
         "country": "Germany",
         "issn": [
          {
           "type": "electronic",
           "value": "10298479"
          }
         ],
         "publisher": "Springer Science and Business Media LLC",
         "title_full": "Journal of High Energy Physics"
        },
        "source_urls": [
         {
          "type": "html",
          "url": "https://arxiv.org/abs/0712.2156"
         },
         {
          "type": "pdf",
          "url": "https://arxiv.org/pdf/0712.2156.pdf"
         },
         {
          "type": "core_fulltext",
          "url": "https://core.ac.uk/download/71028200.pdf"
         }
        ],
        "start_page": "048",
        "title": "Probing bilinear R-parity violating supergravity at the LHC",
        "volume": "2008",
        "year_published": 2008
       },
       {
        "abstract": "We propose a new extension of the Standard Model by a $U(1{)}_{B\\ensuremath{-}L}$ gauge symmetry in which the anomalies are canceled by two right-handed neutrinos plus four chiral fermions with fractional $B\\ensuremath{-}L$ charges. Two scalar fields that break the $B\\ensuremath{-}L$ symmetry and give masses to the new fermions are also required. After symmetry breaking, two neutrinos acquire Majorana masses via the seesaw mechanism leaving a massless neutrino in the spectrum. Additionally, the other new fermions arrange themselves into two Dirac particles, both of which are automatically stable and contribute to the observed dark matter density. This model thus realizes in a natural way, without ad hoc discrete symmetries, a two-component dark matter scenario. We analyze in some detail the dark matter phenomenology of this model. The dependence of the relic densities with the parameters of the model is illustrated, and the regions consistent with the observed dark matter abundance are identified. Finally, we impose the current limits from LHC and direct detection experiments and show that the high mass region of this model remains unconstrained.",
        "authors": [
         {
          "affiliations": [
           {
            "addresses": [],
            "ids": [],
            "name": "Centro de Investigaciones, Universidad Antonio Nariño, Carrera 3 Este # 47A-15, Bogotá, Colombia"
           }
          ],
          "collective_name": null,
          "first_name": "Nicolás",
          "initials": "N",
          "last_name": "Bernal"
         },
         {
          "affiliations": [
           {
            "addresses": [
             {
              "country_code": "IT"
             }
            ],
            "ids": [
             {
              "type": "magid",
              "value": "12323705"
             },
             {
              "type": "grid",
              "value": "grid.419330.c"
             },
             {
              "type": "ror",
              "value": "https://ror.org/009gyvm78"
             }
            ],
            "name": "International Centre for Theoretical Physics"
           },
           {
            "addresses": [
             {
              "country_code": "CO"
             }
            ],
            "ids": [
             {
              "type": "magid",
              "value": "35961687"
             },
             {
              "type": "grid",
              "value": "grid.412881.6"
             },
             {
              "type": "ror",
              "value": "https://ror.org/03bp5hc83"
             }
            ],
            "name": "University of Antioquia"
           }
          ],
          "collective_name": null,
          "first_name": "Diego",
          "initials": "D",
          "last_name": "Restrepo"
         },
         {
          "affiliations": [
           {
            "addresses": [
             {
              "country_code": "CO"
             }
            ],
            "ids": [
             {
              "type": "magid",
              "value": "222202552"
             },
             {
              "type": "grid",
              "value": "grid.442071.4"
             },
             {
              "type": "ror",
              "value": "https://ror.org/04vdmbk59"
             }
            ],
            "name": "Pedagogical and Technological University of Colombia"
           }
          ],
          "collective_name": null,
          "first_name": "Carlos E.",
          "initials": "CE",
          "last_name": "Yaguna"
         },
         {
          "affiliations": [
           {
            "addresses": [
             {
              "country_code": "CO"
             }
            ],
            "ids": [
             {
              "type": "magid",
              "value": "35961687"
             },
             {
              "type": "grid",
              "value": "grid.412881.6"
             },
             {
              "type": "ror",
              "value": "https://ror.org/03bp5hc83"
             }
            ],
            "name": "University of Antioquia"
           }
          ],
          "collective_name": null,
          "first_name": "Óscar",
          "initials": "Ó",
          "last_name": "Zapata"
         }
        ],
        "chemicals": [],
        "date_published": {
         "date": "2019-01-30T00:00:00+00:00"
        },
        "end_page": null,
        "fields_of_study": [
         {
          "name": "Particle physics"
         },
         {
          "name": "Physics"
         },
         {
          "name": "Gauge symmetry"
         },
         {
          "name": "Dark matter"
         },
         {
          "name": "Physics beyond the Standard Model"
         },
         {
          "name": "Neutrino"
         },
         {
          "name": "Symmetry breaking"
         },
         {
          "name": "Seesaw mechanism"
         },
         {
          "name": "Fermion"
         },
         {
          "name": "Massless particle"
         }
        ],
        "funding": [
         {
          "country": null,
          "funding_id": null,
          "org": "Ministerio de Economía y Competitividad"
         },
         {
          "country": null,
          "funding_id": null,
          "org": "Horizon 2020 Framework Programme"
         },
         {
          "country": null,
          "funding_id": null,
          "org": "H2020 Marie Sk?odowska-Curie Actions"
         },
         {
          "country": null,
          "funding_id": null,
          "org": "H2020 Marie Sk?odowska-Curie Actions"
         },
         {
          "country": null,
          "funding_id": null,
          "org": "Universidad de Antioquia"
         },
         {
          "country": null,
          "funding_id": null,
          "org": "Departamento Administrativo de Ciencia, Tecnología e Innovación"
         },
         {
          "country": null,
          "funding_id": null,
          "org": "Departamento Administrativo de Ciencia, Tecnología e Innovación"
         },
         {
          "country": null,
          "funding_id": null,
          "org": "Universidad Antonio Nariño"
         },
         {
          "country": null,
          "funding_id": null,
          "org": "Universidad Antonio Nariño"
         }
        ],
        "issue": "1",
        "keywords": [],
        "lens_id": "009-737-615-895-562",
        "mesh_terms": [],
        "patent_citations_count": 0,
        "publication_type": "journal article",
        "references": [
         {
          "lens_id": "000-100-728-819-448"
         },
         {
          "lens_id": "008-322-544-136-196"
         },
         {
          "lens_id": "010-006-952-481-981"
         },
         {
          "lens_id": "016-068-606-518-704"
         },
         {
          "lens_id": "021-388-173-784-241"
         },
         {
          "lens_id": "022-176-687-826-084"
         },
         {
          "lens_id": "022-258-509-790-209"
         },
         {
          "lens_id": "022-276-209-793-28X"
         },
         {
          "lens_id": "025-023-069-018-049"
         },
         {
          "lens_id": "025-225-739-419-26X"
         },
         {
          "lens_id": "026-355-798-076-748"
         },
         {
          "lens_id": "026-837-908-360-902"
         },
         {
          "lens_id": "028-025-557-577-438"
         },
         {
          "lens_id": "033-130-765-664-785"
         },
         {
          "lens_id": "033-818-197-449-731"
         },
         {
          "lens_id": "035-278-768-604-407"
         },
         {
          "lens_id": "036-964-159-623-289"
         },
         {
          "lens_id": "044-290-715-232-134"
         },
         {
          "lens_id": "046-174-949-425-734"
         },
         {
          "lens_id": "046-320-315-811-791"
         },
         {
          "lens_id": "046-544-524-848-980"
         },
         {
          "lens_id": "047-744-024-885-948"
         },
         {
          "lens_id": "053-395-312-380-009"
         },
         {
          "lens_id": "053-503-347-003-604"
         },
         {
          "lens_id": "063-404-904-029-057"
         },
         {
          "lens_id": "064-861-272-338-651"
         },
         {
          "lens_id": "071-158-618-976-319"
         },
         {
          "lens_id": "075-423-353-827-368"
         },
         {
          "lens_id": "076-478-547-686-000"
         },
         {
          "lens_id": "081-067-523-514-110"
         },
         {
          "lens_id": "084-529-833-287-235"
         },
         {
          "lens_id": "084-657-391-917-661"
         },
         {
          "lens_id": "096-134-737-550-581"
         },
         {
          "lens_id": "098-551-764-159-73X"
         },
         {
          "lens_id": "099-956-239-582-654"
         },
         {
          "lens_id": "100-343-227-041-756"
         },
         {
          "lens_id": "101-889-959-705-029"
         },
         {
          "lens_id": "103-611-739-209-29X"
         },
         {
          "lens_id": "103-952-801-728-601"
         },
         {
          "lens_id": "106-452-373-217-474"
         },
         {
          "lens_id": "127-562-808-731-632"
         },
         {
          "lens_id": "146-317-001-148-032"
         },
         {
          "lens_id": "152-850-948-773-765"
         },
         {
          "lens_id": "158-539-685-662-735"
         },
         {
          "lens_id": "177-576-669-800-036"
         }
        ],
        "scholarly_citations_count": 36,
        "source": {
         "country": "United States",
         "issn": [
          {
           "type": "print",
           "value": "24700010"
          },
          {
           "type": "electronic",
           "value": "24700029"
          }
         ],
         "publisher": "American Physical Society (APS)",
         "title_full": "Physical Review D"
        },
        "source_urls": [
         {
          "type": "html",
          "url": "https://arxiv.org/abs/1808.03352"
         },
         {
          "type": "html",
          "url": "https://link.aps.org/doi/10.1103/PhysRevD.99.015038"
         },
         {
          "type": "html",
          "url": "http://inspirehep.net/record/1686334"
         },
         {
          "type": "html",
          "url": "https://ui.adsabs.harvard.edu/abs/2019PhRvD..99a5038B/abstract"
         },
         {
          "type": "pdf",
          "url": "https://arxiv.org/pdf/1808.03352.pdf"
         },
         {
          "type": "core_fulltext",
          "url": "http://arxiv.org/abs/1808.03352"
         }
        ],
        "start_page": "015038",
        "title": "Two-component dark matter and a massless neutrino in a new B − L model",
        "volume": "99",
        "year_published": 2019
       },
       {
        "abstract": "It was recently pointed out that in supersymmetric scenarios with gravitino dark matter and bilinear R-parity violation, gravitinos with masses below Mw typically decay with a sizable branching ratio into the 3-body final states W^*+lepton and Z^*+neutrino. In this paper we study the indirect detection signatures of gravitino dark matter including such final states. First, we obtain the gamma ray spectrum from gravitino decays, which features a monochromatic contribution from the decay into photon+neutrino and a continuum contribution from the three-body decays. After studying its dependence on supersymmetric parameters, we compute the expected gamma ray fluxes and derive new constraints, from recent FERMI data, on the R-parity breaking parameter and on the gravitino lifetime. Indirect detection via antimatter searches, a new possibility brought about by the three-body final states, is also analyzed. For models compatible with the gamma ray observations, the positron signal is found to be negligible whereas the antiproton one can be significant.",
        "authors": [
         {
          "affiliations": [
           {
            "addresses": [
             {
              "country_code": "KR"
             }
            ],
            "ids": [
             {
              "type": "magid",
              "value": "4921948"
             },
             {
              "type": "grid",
              "value": "grid.262229.f"
             },
             {
              "type": "ror",
              "value": "https://ror.org/01an57a31"
             }
            ],
            "name": "Pusan National University"
           }
          ],
          "collective_name": null,
          "first_name": "Ki-Young",
          "initials": "K",
          "last_name": "Choi"
         },
         {
          "affiliations": [
           {
            "addresses": [
             {
              "country_code": "CO"
             }
            ],
            "ids": [
             {
              "type": "magid",
              "value": "35961687"
             },
             {
              "type": "grid",
              "value": "grid.412881.6"
             },
             {
              "type": "ror",
              "value": "https://ror.org/03bp5hc83"
             }
            ],
            "name": "University of Antioquia"
           }
          ],
          "collective_name": null,
          "first_name": "Diego",
          "initials": "D",
          "last_name": "Restrepo"
         },
         {
          "affiliations": [
           {
            "addresses": [
             {
              "country_code": "ES"
             }
            ],
            "ids": [
             {
              "type": "magid",
              "value": "63634437"
             },
             {
              "type": "grid",
              "value": "grid.5515.4"
             },
             {
              "type": "ror",
              "value": "https://ror.org/01cby8j38"
             }
            ],
            "name": "Autonomous University of Madrid"
           }
          ],
          "collective_name": null,
          "first_name": "Carlos E.",
          "initials": "CE",
          "last_name": "Yaguna"
         },
         {
          "affiliations": [
           {
            "addresses": [
             {
              "country_code": "CO"
             }
            ],
            "ids": [
             {
              "type": "magid",
              "value": "35961687"
             },
             {
              "type": "grid",
              "value": "grid.412881.6"
             },
             {
              "type": "ror",
              "value": "https://ror.org/03bp5hc83"
             }
            ],
            "name": "University of Antioquia"
           }
          ],
          "collective_name": null,
          "first_name": "Óscar",
          "initials": "Ó",
          "last_name": "Zapata"
         }
        ],
        "chemicals": [],
        "date_published": {
         "date": "2010-10-26T00:00:00+00:00"
        },
        "end_page": "033",
        "fields_of_study": [
         {
          "name": "Particle physics"
         },
         {
          "name": "Antimatter"
         },
         {
          "name": "Physics"
         },
         {
          "name": "Dark matter"
         },
         {
          "name": "Lepton"
         },
         {
          "name": "Neutrino"
         },
         {
          "name": "Fermi Gamma-ray Space Telescope"
         },
         {
          "name": "Antiproton"
         },
         {
          "name": "Branching fraction"
         },
         {
          "name": "Gravitino"
         },
         {
          "name": "Supersymmetry"
         },
         {
          "name": "Particle decay"
         },
         {
          "name": "Nuclear physics"
         }
        ],
        "funding": [],
        "issue": "10",
        "keywords": [],
        "lens_id": "011-483-485-625-736",
        "mesh_terms": [],
        "patent_citations_count": 0,
        "publication_type": "journal article",
        "references": [
         {
          "lens_id": "007-070-063-402-890"
         },
         {
          "lens_id": "007-942-571-377-762"
         },
         {
          "lens_id": "010-623-888-941-296"
         },
         {
          "lens_id": "012-453-692-292-961"
         },
         {
          "lens_id": "015-461-151-787-477"
         },
         {
          "lens_id": "015-891-300-260-776"
         },
         {
          "lens_id": "016-032-649-305-798"
         },
         {
          "lens_id": "016-593-174-446-422"
         },
         {
          "lens_id": "016-925-470-025-962"
         },
         {
          "lens_id": "020-469-586-767-915"
         },
         {
          "lens_id": "020-828-609-157-856"
         },
         {
          "lens_id": "022-538-220-618-658"
         },
         {
          "lens_id": "022-971-547-062-572"
         },
         {
          "lens_id": "025-365-166-803-17X"
         },
         {
          "lens_id": "028-931-488-210-994"
         },
         {
          "lens_id": "034-107-331-800-170"
         },
         {
          "lens_id": "035-455-272-607-529"
         },
         {
          "lens_id": "039-568-972-884-320"
         },
         {
          "lens_id": "040-894-101-051-680"
         },
         {
          "lens_id": "041-851-187-701-651"
         },
         {
          "lens_id": "042-070-156-269-362"
         },
         {
          "lens_id": "049-462-827-478-817"
         },
         {
          "lens_id": "051-417-334-477-815"
         },
         {
          "lens_id": "054-921-888-499-508"
         },
         {
          "lens_id": "064-459-017-896-079"
         },
         {
          "lens_id": "066-331-402-092-974"
         },
         {
          "lens_id": "074-505-346-999-13X"
         },
         {
          "lens_id": "074-544-537-346-512"
         },
         {
          "lens_id": "074-808-406-651-134"
         },
         {
          "lens_id": "083-782-600-320-455"
         },
         {
          "lens_id": "087-359-331-716-036"
         },
         {
          "lens_id": "090-398-864-138-03X"
         },
         {
          "lens_id": "090-859-609-935-399"
         },
         {
          "lens_id": "092-474-849-408-331"
         },
         {
          "lens_id": "093-253-487-508-083"
         },
         {
          "lens_id": "093-290-916-562-292"
         },
         {
          "lens_id": "126-245-516-927-339"
         },
         {
          "lens_id": "143-372-782-217-397"
         },
         {
          "lens_id": "169-966-683-777-825"
         }
        ],
        "scholarly_citations_count": 42,
        "source": {
         "country": "United Kingdom",
         "issn": [
          {
           "type": "electronic",
           "value": "14757516"
          }
         ],
         "publisher": "IOP Publishing",
         "title_full": "Journal of Cosmology and Astroparticle Physics"
        },
        "source_urls": [
         {
          "type": "html",
          "url": "https://arxiv.org/abs/1007.1728"
         },
         {
          "type": "pdf",
          "url": "https://arxiv.org/pdf/1007.1728.pdf"
         },
         {
          "type": "core_fulltext",
          "url": "http://arxiv.org/abs/1007.1728"
         }
        ],
        "start_page": "033",
        "title": "Indirect detection of gravitino dark matter including its three-body decays",
        "volume": "2010",
        "year_published": 2010
       },
       {
        "abstract": "Supersymmetric scenarios with $R$-parity conservation are becoming very constrained due to the lack of missing energy signals associated to heavy neutral particles, thus motivating scenarios with $R$-parity violation. In view of this, we consider a supersymmetric model with $R$-parity violation and extended by an anomalous horizontal $U(1{)}_{H}$ symmetry. A self-consistent framework with baryon-number violation is achieved along with a proper suppression for lepton-number violating dimension-five operators, so that the proton can be sufficiently stable. With the introduction of right-handed neutrinos, both Dirac and Majorana masses can be accommodated within this model. The implications for collider physics are discussed.",
        "authors": [
         {
          "affiliations": [
           {
            "addresses": [
             {
              "country_code": "CO"
             }
            ],
            "ids": [
             {
              "type": "magid",
              "value": "35961687"
             },
             {
              "type": "grid",
              "value": "grid.412881.6"
             },
             {
              "type": "ror",
              "value": "https://ror.org/03bp5hc83"
             }
            ],
            "name": "University of Antioquia"
           }
          ],
          "collective_name": null,
          "first_name": "Carlos Andrés Florez",
          "initials": "CAF",
          "last_name": "Acosta"
         },
         {
          "affiliations": [
           {
            "addresses": [
             {
              "country_code": "CO"
             }
            ],
            "ids": [
             {
              "type": "magid",
              "value": "35961687"
             },
             {
              "type": "grid",
              "value": "grid.412881.6"
             },
             {
              "type": "ror",
              "value": "https://ror.org/03bp5hc83"
             }
            ],
            "name": "University of Antioquia"
           }
          ],
          "collective_name": null,
          "first_name": "Diego",
          "initials": "D",
          "last_name": "Restrepo"
         },
         {
          "affiliations": [
           {
            "addresses": [
             {
              "country_code": "CO"
             }
            ],
            "ids": [
             {
              "type": "magid",
              "value": "35961687"
             },
             {
              "type": "grid",
              "value": "grid.412881.6"
             },
             {
              "type": "ror",
              "value": "https://ror.org/03bp5hc83"
             }
            ],
            "name": "University of Antioquia"
           }
          ],
          "collective_name": null,
          "first_name": "Mauricio",
          "initials": "M",
          "last_name": "de Jesús Velásquez López"
         },
         {
          "affiliations": [
           {
            "addresses": [
             {
              "country_code": "CO"
             }
            ],
            "ids": [
             {
              "type": "magid",
              "value": "35961687"
             },
             {
              "type": "grid",
              "value": "grid.412881.6"
             },
             {
              "type": "ror",
              "value": "https://ror.org/03bp5hc83"
             }
            ],
            "name": "University of Antioquia"
           }
          ],
          "collective_name": null,
          "first_name": "Oscar Zapata",
          "initials": "OZ",
          "last_name": "Noreña"
         }
        ],
        "chemicals": [],
        "date_published": {
         "date": "2013-05-16T00:00:00+00:00"
        },
        "end_page": null,
        "fields_of_study": [
         {
          "name": "Particle physics"
         },
         {
          "name": "Supersymmetry"
         },
         {
          "name": "Physics"
         },
         {
          "name": "Baryon"
         },
         {
          "name": "Neutrino"
         },
         {
          "name": "R-parity"
         },
         {
          "name": "MAJORANA"
         },
         {
          "name": "Missing energy"
         },
         {
          "name": "Symmetry (physics)"
         },
         {
          "name": "Dirac (video compression format)"
         }
        ],
        "funding": [],
        "issue": "9",
        "keywords": [],
        "lens_id": "013-196-894-044-183",
        "mesh_terms": [],
        "patent_citations_count": 0,
        "publication_type": "journal article",
        "references": [
         {
          "lens_id": "000-057-402-957-874"
         },
         {
          "lens_id": "001-371-400-846-857"
         },
         {
          "lens_id": "002-738-008-183-889"
         },
         {
          "lens_id": "003-744-399-686-842"
         },
         {
          "lens_id": "007-392-498-018-910"
         },
         {
          "lens_id": "007-623-867-271-344"
         },
         {
          "lens_id": "008-403-072-428-215"
         },
         {
          "lens_id": "008-905-242-658-583"
         },
         {
          "lens_id": "009-127-455-650-049"
         },
         {
          "lens_id": "009-337-156-831-718"
         },
         {
          "lens_id": "011-592-369-173-640"
         },
         {
          "lens_id": "012-453-692-292-961"
         },
         {
          "lens_id": "014-738-653-653-228"
         },
         {
          "lens_id": "016-189-375-818-726"
         },
         {
          "lens_id": "016-724-587-575-975"
         },
         {
          "lens_id": "017-154-856-921-288"
         },
         {
          "lens_id": "018-159-963-528-691"
         },
         {
          "lens_id": "018-370-311-538-628"
         },
         {
          "lens_id": "018-607-109-308-725"
         },
         {
          "lens_id": "022-473-086-886-832"
         },
         {
          "lens_id": "023-051-751-495-628"
         },
         {
          "lens_id": "025-709-604-431-158"
         },
         {
          "lens_id": "026-515-633-395-935"
         },
         {
          "lens_id": "027-503-564-437-270"
         },
         {
          "lens_id": "028-931-488-210-994"
         },
         {
          "lens_id": "029-625-742-476-343"
         },
         {
          "lens_id": "030-578-975-300-564"
         },
         {
          "lens_id": "030-842-371-807-209"
         },
         {
          "lens_id": "031-361-833-849-446"
         },
         {
          "lens_id": "034-758-064-058-344"
         },
         {
          "lens_id": "035-155-591-360-004"
         },
         {
          "lens_id": "035-907-868-301-066"
         },
         {
          "lens_id": "037-644-016-635-753"
         },
         {
          "lens_id": "041-906-837-355-611"
         },
         {
          "lens_id": "042-074-815-132-369"
         },
         {
          "lens_id": "043-504-534-189-725"
         },
         {
          "lens_id": "043-677-858-737-623"
         },
         {
          "lens_id": "044-598-220-808-593"
         },
         {
          "lens_id": "044-991-167-586-004"
         },
         {
          "lens_id": "045-016-136-860-325"
         },
         {
          "lens_id": "045-094-116-697-499"
         },
         {
          "lens_id": "047-523-096-001-743"
         },
         {
          "lens_id": "047-906-059-637-45X"
         },
         {
          "lens_id": "048-196-995-992-051"
         },
         {
          "lens_id": "050-506-069-641-175"
         },
         {
          "lens_id": "053-244-536-351-567"
         },
         {
          "lens_id": "053-795-623-619-307"
         },
         {
          "lens_id": "053-908-152-767-845"
         },
         {
          "lens_id": "056-133-447-579-532"
         },
         {
          "lens_id": "056-742-258-299-922"
         },
         {
          "lens_id": "057-327-219-299-522"
         },
         {
          "lens_id": "063-597-274-980-510"
         },
         {
          "lens_id": "068-489-009-304-38X"
         },
         {
          "lens_id": "068-783-531-748-204"
         },
         {
          "lens_id": "069-492-120-101-349"
         },
         {
          "lens_id": "071-026-643-851-329"
         },
         {
          "lens_id": "073-338-116-634-723"
         },
         {
          "lens_id": "073-524-836-557-446"
         },
         {
          "lens_id": "077-273-195-396-516"
         },
         {
          "lens_id": "079-652-087-388-028"
         },
         {
          "lens_id": "085-131-118-369-705"
         },
         {
          "lens_id": "089-631-046-766-205"
         },
         {
          "lens_id": "091-164-248-400-481"
         },
         {
          "lens_id": "096-777-508-677-297"
         },
         {
          "lens_id": "099-437-325-211-361"
         },
         {
          "lens_id": "099-775-449-065-716"
         },
         {
          "lens_id": "102-165-569-876-79X"
         },
         {
          "lens_id": "102-690-401-523-355"
         },
         {
          "lens_id": "105-523-839-686-782"
         },
         {
          "lens_id": "111-265-129-821-538"
         },
         {
          "lens_id": "111-634-231-442-885"
         },
         {
          "lens_id": "111-684-886-751-836"
         },
         {
          "lens_id": "112-265-959-822-579"
         },
         {
          "lens_id": "118-389-222-551-121"
         },
         {
          "lens_id": "118-569-177-648-132"
         },
         {
          "lens_id": "120-900-455-955-861"
         },
         {
          "lens_id": "127-524-557-065-489"
         },
         {
          "lens_id": "132-241-804-187-717"
         },
         {
          "lens_id": "134-580-608-553-926"
         },
         {
          "lens_id": "138-789-251-056-048"
         },
         {
          "lens_id": "139-598-041-392-275"
         },
         {
          "lens_id": "140-460-916-369-101"
         },
         {
          "lens_id": "147-943-634-995-674"
         },
         {
          "lens_id": "148-643-007-937-004"
         },
         {
          "lens_id": "155-112-166-184-83X"
         },
         {
          "lens_id": "160-078-134-843-786"
         }
        ],
        "scholarly_citations_count": 14,
        "source": {
         "country": "United States",
         "issn": [
          {
           "type": "print",
           "value": "15507998"
          },
          {
           "type": "electronic",
           "value": "15502368"
          }
         ],
         "publisher": "American Physical Society (APS)",
         "title_full": "Physical Review D"
        },
        "source_urls": [
         {
          "type": "html",
          "url": "https://link.aps.org/doi/10.1103/PhysRevD.87.095010"
         },
         {
          "type": "html",
          "url": "https://bibliotecadigital.udea.edu.co/handle/10495/8378"
         },
         {
          "type": "html",
          "url": "https://tesis.udea.edu.co/handle/10495/8378"
         },
         {
          "type": "pdf",
          "url": "https://bibliotecadigital.udea.edu.co/bitstream/10495/8378/1/RestrepoDiego_2013_BaryonicViolationRparity.pdf"
         },
         {
          "type": "html",
          "url": "https://arxiv.org/abs/1303.0278"
         },
         {
          "type": "pdf",
          "url": "https://arxiv.org/pdf/1303.0278.pdf"
         },
         {
          "type": "html",
          "url": "http://ui.adsabs.harvard.edu/abs/2013PhRvD..87i5010F/abstract"
         }
        ],
        "start_page": "095010",
        "title": "Baryonic violation of R parity from anomalous U(1)H",
        "volume": "87",
        "year_published": 2013
       },
       {
        "abstract": "We provide a list of particle physics models at the TeV-scale that are compatible with neutrino masses and dark matter. In these models, the Standard Model particle content is extended with a small number (≤ 4) of scalar and fermion fields transforming as singlets, doublets or triplets under SU(2), and neutrino masses are generated radiatively via 1-loop diagrams. The dark matter candidates are stabilized by a Z\n 2 symmetry and are in general mixtures of the neutral components of such new multiplets. We describe the particle content of each of these models and determine the conditions under which they are consistent with current data. We find a total of 35 viable models, most of which have not been previously studied in the literature. There is a great potential to test these models at the LHC not only due to the TeV-scale masses of the new fields but also because about half of the viable models contain particles with exotic electric charges, which give rise to background-free signals. Our results should serve as a first step for detailed analysis of models that can simultaneously account for dark matter and neutrino masses.",
        "authors": [
         {
          "affiliations": [
           {
            "addresses": [
             {
              "country_code": "CO"
             }
            ],
            "ids": [
             {
              "type": "magid",
              "value": "35961687"
             },
             {
              "type": "grid",
              "value": "grid.412881.6"
             },
             {
              "type": "ror",
              "value": "https://ror.org/03bp5hc83"
             }
            ],
            "name": "University of Antioquia"
           }
          ],
          "collective_name": null,
          "first_name": "Diego",
          "initials": "D",
          "last_name": "Restrepo"
         },
         {
          "affiliations": [
           {
            "addresses": [
             {
              "country_code": "CO"
             }
            ],
            "ids": [
             {
              "type": "magid",
              "value": "35961687"
             },
             {
              "type": "grid",
              "value": "grid.412881.6"
             },
             {
              "type": "ror",
              "value": "https://ror.org/03bp5hc83"
             }
            ],
            "name": "University of Antioquia"
           }
          ],
          "collective_name": null,
          "first_name": "Óscar",
          "initials": "Ó",
          "last_name": "Zapata"
         },
         {
          "affiliations": [
           {
            "addresses": [
             {
              "country_code": "DE"
             }
            ],
            "ids": [
             {
              "type": "magid",
              "value": "22465464"
             },
             {
              "type": "grid",
              "value": "grid.5949.1"
             },
             {
              "type": "fundref",
              "value": "501100004869"
             },
             {
              "type": "ror",
              "value": "https://ror.org/00pd74e08"
             }
            ],
            "name": "University of Münster"
           }
          ],
          "collective_name": null,
          "first_name": "Carlos E.",
          "initials": "CE",
          "last_name": "Yaguna"
         }
        ],
        "chemicals": [],
        "date_published": {
         "date": "2013-11-04T00:00:00+00:00"
        },
        "end_page": null,
        "fields_of_study": [
         {
          "name": "Sterile neutrino"
         },
         {
          "name": "Particle physics"
         },
         {
          "name": "Warm dark matter"
         },
         {
          "name": "Physics"
         },
         {
          "name": "Dark matter"
         },
         {
          "name": "Nuclear physics"
         },
         {
          "name": "Neutrino"
         },
         {
          "name": "Scalar (physics)"
         },
         {
          "name": "Standard Model"
         },
         {
          "name": "Fermion"
         },
         {
          "name": "Scalar field dark matter"
         },
         {
          "name": "Symmetry (physics)"
         },
         {
          "name": "Radiative transfer"
         },
         {
          "name": "Large Hadron Collider"
         }
        ],
        "funding": [],
        "issue": "11",
        "keywords": [],
        "lens_id": "015-973-366-147-476",
        "mesh_terms": [],
        "patent_citations_count": 0,
        "publication_type": "journal article",
        "references": [
         {
          "lens_id": "000-201-576-458-200"
         },
         {
          "lens_id": "001-421-305-564-31X"
         },
         {
          "lens_id": "002-146-103-859-315"
         },
         {
          "lens_id": "002-704-739-446-35X"
         },
         {
          "lens_id": "003-485-139-902-189"
         },
         {
          "lens_id": "005-904-164-081-358"
         },
         {
          "lens_id": "006-981-236-691-899"
         },
         {
          "lens_id": "007-230-345-675-125"
         },
         {
          "lens_id": "008-322-544-136-196"
         },
         {
          "lens_id": "010-065-299-089-265"
         },
         {
          "lens_id": "012-518-421-625-474"
         },
         {
          "lens_id": "013-139-601-840-397"
         },
         {
          "lens_id": "013-993-352-400-106"
         },
         {
          "lens_id": "015-584-147-655-703"
         },
         {
          "lens_id": "016-437-593-887-412"
         },
         {
          "lens_id": "016-697-650-865-895"
         },
         {
          "lens_id": "018-920-035-058-882"
         },
         {
          "lens_id": "022-719-931-631-181"
         },
         {
          "lens_id": "023-229-224-207-001"
         },
         {
          "lens_id": "025-225-739-419-26X"
         },
         {
          "lens_id": "027-039-268-339-346"
         },
         {
          "lens_id": "028-159-180-754-951"
         },
         {
          "lens_id": "029-642-572-650-066"
         },
         {
          "lens_id": "029-657-199-412-079"
         },
         {
          "lens_id": "030-126-716-662-74X"
         },
         {
          "lens_id": "030-426-640-151-824"
         },
         {
          "lens_id": "033-564-892-514-956"
         },
         {
          "lens_id": "034-004-989-315-735"
         },
         {
          "lens_id": "034-177-057-222-112"
         },
         {
          "lens_id": "034-453-912-078-480"
         },
         {
          "lens_id": "034-547-640-945-110"
         },
         {
          "lens_id": "035-344-091-531-383"
         },
         {
          "lens_id": "037-074-778-945-449"
         },
         {
          "lens_id": "038-067-001-261-153"
         },
         {
          "lens_id": "038-819-753-332-187"
         },
         {
          "lens_id": "039-093-222-773-393"
         },
         {
          "lens_id": "039-129-997-483-916"
         },
         {
          "lens_id": "041-817-191-720-450"
         },
         {
          "lens_id": "045-989-616-762-776"
         },
         {
          "lens_id": "046-202-403-326-991"
         },
         {
          "lens_id": "048-097-409-411-629"
         },
         {
          "lens_id": "049-407-976-686-036"
         },
         {
          "lens_id": "049-785-371-633-239"
         },
         {
          "lens_id": "050-283-040-619-323"
         },
         {
          "lens_id": "057-117-383-313-44X"
         },
         {
          "lens_id": "058-914-485-378-760"
         },
         {
          "lens_id": "064-350-652-723-151"
         },
         {
          "lens_id": "065-989-521-308-04X"
         },
         {
          "lens_id": "067-118-826-406-926"
         },
         {
          "lens_id": "068-115-828-518-318"
         },
         {
          "lens_id": "068-607-570-778-788"
         },
         {
          "lens_id": "074-125-354-012-679"
         },
         {
          "lens_id": "074-191-753-233-829"
         },
         {
          "lens_id": "075-206-567-803-942"
         },
         {
          "lens_id": "076-702-363-358-92X"
         },
         {
          "lens_id": "077-143-437-174-508"
         },
         {
          "lens_id": "085-643-008-582-977"
         },
         {
          "lens_id": "087-606-528-317-536"
         },
         {
          "lens_id": "091-064-058-567-362"
         },
         {
          "lens_id": "097-775-587-884-485"
         },
         {
          "lens_id": "098-113-494-371-991"
         },
         {
          "lens_id": "099-557-618-533-221"
         },
         {
          "lens_id": "100-195-930-737-868"
         },
         {
          "lens_id": "102-948-685-989-338"
         },
         {
          "lens_id": "107-053-529-750-565"
         },
         {
          "lens_id": "108-655-422-488-688"
         },
         {
          "lens_id": "109-644-704-159-527"
         },
         {
          "lens_id": "111-920-654-342-517"
         },
         {
          "lens_id": "118-378-334-464-467"
         },
         {
          "lens_id": "122-098-047-139-66X"
         },
         {
          "lens_id": "126-591-760-587-841"
         },
         {
          "lens_id": "130-619-931-138-634"
         },
         {
          "lens_id": "136-793-956-698-541"
         },
         {
          "lens_id": "136-871-712-221-270"
         },
         {
          "lens_id": "139-388-943-383-946"
         },
         {
          "lens_id": "149-881-555-461-633"
         },
         {
          "lens_id": "151-219-880-004-968"
         },
         {
          "lens_id": "157-205-563-367-707"
         },
         {
          "lens_id": "159-753-480-313-703"
         },
         {
          "lens_id": "160-329-400-722-463"
         },
         {
          "lens_id": "166-363-529-747-845"
         },
         {
          "lens_id": "178-842-737-150-756"
         },
         {
          "lens_id": "190-304-791-651-857"
         }
        ],
        "scholarly_citations_count": 93,
        "source": {
         "country": "Germany",
         "issn": [
          {
           "type": "electronic",
           "value": "10298479"
          }
         ],
         "publisher": "Springer Science and Business Media LLC",
         "title_full": "Journal of High Energy Physics"
        },
        "source_urls": [
         {
          "type": "html",
          "url": "http://inspirehep.net/record/1249404"
         },
         {
          "type": "html",
          "url": "https://link.springer.com/article/10.1007%2FJHEP11%282013%29011"
         },
         {
          "type": "html",
          "url": "http://ui.adsabs.harvard.edu/abs/2013JHEP...11..011R/abstract"
         },
         {
          "type": "core_fulltext",
          "url": "http://arxiv.org/abs/1308.3655"
         }
        ],
        "start_page": "11",
        "title": "Models with radiative neutrino masses and viable dark matter candidates",
        "volume": "2013",
        "year_published": 2013
       },
       {
        "abstract": "The radiative type-I seesaw has been already implemented to explain the lightness of Majorana neutrinos with both Majorana and Dirac heavy fermions, and the lightness of Dirac neutrinos with Dirac heavy fermions. In this work, we present a minimal implementation of the radiative type-I seesaw with light Dirac neutrinos and heavy Majorana fermions. An inert doublet and a complex singlet scalar complete the dark sector, which is protected by an Abelian fermiophobic gauge symmetry that also forbids tree level mass contributions for the full set of light neutrinos. A fermion vectorlike extension of the model is also proposed where the light right-handed neutrinos can thermalize in the primordial plasma and the extra gauge boson can be directly produced at colliders. In particular, the current upper bound on $\\mathrm{\\ensuremath{\\Delta}}{N}_{\\mathrm{eff}}$ reported by PLANCK points to large ratios of ${M}_{{Z}^{\\ensuremath{'}}}/{g}^{\\ensuremath{'}}\\ensuremath{\\gtrsim}40\\text{ }\\text{ }\\mathrm{TeV}$, which can be competitive with collider constraint for ${g}^{\\ensuremath{'}}$ sufficiently large in the ballpark of the Standard Model values, while future cosmic microwave background experiments may probe all the no minimal models presented here.",
        "authors": [
         {
          "affiliations": [
           {
            "addresses": [
             {
              "country_code": "CO"
             }
            ],
            "ids": [
             {
              "type": "magid",
              "value": "35961687"
             },
             {
              "type": "grid",
              "value": "grid.412881.6"
             },
             {
              "type": "ror",
              "value": "https://ror.org/03bp5hc83"
             }
            ],
            "name": "University of Antioquia"
           }
          ],
          "collective_name": null,
          "first_name": "Julián",
          "initials": "J",
          "last_name": "Calle"
         },
         {
          "affiliations": [
           {
            "addresses": [
             {
              "country_code": "BR"
             }
            ],
            "ids": [
             {
              "type": "magid",
              "value": "35046152"
             },
             {
              "type": "grid",
              "value": "grid.411233.6"
             },
             {
              "type": "wikidata",
              "value": "q3847505"
             },
             {
              "type": "ror",
              "value": "https://ror.org/04wn09761"
             }
            ],
            "name": "Federal University of Rio Grande do Norte"
           },
           {
            "addresses": [
             {
              "country_code": "CO"
             }
            ],
            "ids": [
             {
              "type": "magid",
              "value": "35961687"
             },
             {
              "type": "grid",
              "value": "grid.412881.6"
             },
             {
              "type": "ror",
              "value": "https://ror.org/03bp5hc83"
             }
            ],
            "name": "University of Antioquia"
           }
          ],
          "collective_name": null,
          "first_name": "Diego",
          "initials": "D",
          "last_name": "Restrepo"
         },
         {
          "affiliations": [
           {
            "addresses": [
             {
              "country_code": "IT"
             }
            ],
            "ids": [
             {
              "type": "magid",
              "value": "12323705"
             },
             {
              "type": "grid",
              "value": "grid.419330.c"
             },
             {
              "type": "ror",
              "value": "https://ror.org/009gyvm78"
             }
            ],
            "name": "International Centre for Theoretical Physics"
           },
           {
            "addresses": [
             {
              "country_code": "CO"
             }
            ],
            "ids": [
             {
              "type": "magid",
              "value": "35961687"
             },
             {
              "type": "grid",
              "value": "grid.412881.6"
             },
             {
              "type": "ror",
              "value": "https://ror.org/03bp5hc83"
             }
            ],
            "name": "University of Antioquia"
           }
          ],
          "collective_name": null,
          "first_name": "Óscar",
          "initials": "Ó",
          "last_name": "Zapata"
         }
        ],
        "chemicals": [],
        "date_published": {
         "date": "2020-02-06T00:00:00+00:00"
        },
        "end_page": null,
        "fields_of_study": [
         {
          "name": "Particle physics"
         },
         {
          "name": "Physics"
         },
         {
          "name": "Gauge symmetry"
         },
         {
          "name": "Seesaw molecular geometry"
         },
         {
          "name": "Neutrino"
         },
         {
          "name": "MAJORANA"
         },
         {
          "name": "Mass generation"
         },
         {
          "name": "Gauge boson"
         },
         {
          "name": "Fermion"
         },
         {
          "name": "Scalar (mathematics)"
         }
        ],
        "funding": [
         {
          "country": null,
          "funding_id": null,
          "org": "Universidad de Antioquia"
         },
         {
          "country": null,
          "funding_id": null,
          "org": "Departamento Administrativo de Ciencia, Tecnología e Innovación"
         },
         {
          "country": null,
          "funding_id": null,
          "org": "ICTP Simons associates program"
         }
        ],
        "issue": "3",
        "keywords": [],
        "lens_id": "017-930-819-670-095",
        "mesh_terms": [],
        "patent_citations_count": 0,
        "publication_type": "journal article",
        "references": [
         {
          "lens_id": "003-635-007-802-451"
         },
         {
          "lens_id": "003-989-902-450-892"
         },
         {
          "lens_id": "004-766-632-851-036"
         },
         {
          "lens_id": "005-505-620-748-163"
         },
         {
          "lens_id": "006-447-401-944-491"
         },
         {
          "lens_id": "007-230-345-675-125"
         },
         {
          "lens_id": "007-246-871-130-391"
         },
         {
          "lens_id": "007-587-560-959-325"
         },
         {
          "lens_id": "007-793-761-559-86X"
         },
         {
          "lens_id": "008-496-200-582-520"
         },
         {
          "lens_id": "009-412-354-352-58X"
         },
         {
          "lens_id": "009-739-788-200-537"
         },
         {
          "lens_id": "010-203-461-674-917"
         },
         {
          "lens_id": "011-013-630-697-482"
         },
         {
          "lens_id": "013-593-739-731-628"
         },
         {
          "lens_id": "013-993-352-400-106"
         },
         {
          "lens_id": "014-120-913-431-900"
         },
         {
          "lens_id": "014-310-393-387-412"
         },
         {
          "lens_id": "014-881-799-088-083"
         },
         {
          "lens_id": "015-355-643-241-535"
         },
         {
          "lens_id": "017-436-371-561-515"
         },
         {
          "lens_id": "020-890-348-296-627"
         },
         {
          "lens_id": "021-683-757-386-249"
         },
         {
          "lens_id": "022-276-209-793-28X"
         },
         {
          "lens_id": "024-158-195-880-424"
         },
         {
          "lens_id": "025-221-974-737-526"
         },
         {
          "lens_id": "025-225-739-419-26X"
         },
         {
          "lens_id": "026-855-784-961-931"
         },
         {
          "lens_id": "028-159-180-754-951"
         },
         {
          "lens_id": "028-439-068-198-728"
         },
         {
          "lens_id": "028-887-413-554-324"
         },
         {
          "lens_id": "035-588-386-538-84X"
         },
         {
          "lens_id": "037-133-783-243-983"
         },
         {
          "lens_id": "040-396-147-684-238"
         },
         {
          "lens_id": "040-589-291-441-522"
         },
         {
          "lens_id": "042-283-384-847-258"
         },
         {
          "lens_id": "043-582-617-309-431"
         },
         {
          "lens_id": "044-010-423-105-783"
         },
         {
          "lens_id": "044-473-901-152-746"
         },
         {
          "lens_id": "045-780-339-935-466"
         },
         {
          "lens_id": "046-663-040-299-112"
         },
         {
          "lens_id": "046-993-526-978-678"
         },
         {
          "lens_id": "047-744-024-885-948"
         },
         {
          "lens_id": "050-419-664-794-234"
         },
         {
          "lens_id": "051-107-958-603-521"
         },
         {
          "lens_id": "051-813-729-075-698"
         },
         {
          "lens_id": "056-113-309-955-810"
         },
         {
          "lens_id": "056-206-721-556-929"
         },
         {
          "lens_id": "059-155-096-743-99X"
         },
         {
          "lens_id": "060-435-231-469-965"
         },
         {
          "lens_id": "060-855-460-144-452"
         },
         {
          "lens_id": "061-019-801-987-259"
         },
         {
          "lens_id": "064-142-993-434-597"
         },
         {
          "lens_id": "065-989-521-308-04X"
         },
         {
          "lens_id": "068-115-828-518-318"
         },
         {
          "lens_id": "069-680-214-572-430"
         },
         {
          "lens_id": "073-990-450-536-798"
         },
         {
          "lens_id": "076-460-648-165-68X"
         },
         {
          "lens_id": "077-845-976-945-515"
         },
         {
          "lens_id": "078-409-835-065-181"
         },
         {
          "lens_id": "081-749-111-443-887"
         },
         {
          "lens_id": "086-221-468-914-019"
         },
         {
          "lens_id": "087-556-083-992-48X"
         },
         {
          "lens_id": "087-600-150-976-558"
         },
         {
          "lens_id": "088-325-217-246-801"
         },
         {
          "lens_id": "088-676-200-689-125"
         },
         {
          "lens_id": "088-769-153-288-822"
         },
         {
          "lens_id": "089-245-310-588-925"
         },
         {
          "lens_id": "093-456-322-067-013"
         },
         {
          "lens_id": "097-775-587-884-485"
         },
         {
          "lens_id": "101-889-959-705-029"
         },
         {
          "lens_id": "106-998-100-736-468"
         },
         {
          "lens_id": "107-979-092-521-231"
         },
         {
          "lens_id": "108-591-502-370-831"
         },
         {
          "lens_id": "109-387-783-120-043"
         },
         {
          "lens_id": "109-644-704-159-527"
         },
         {
          "lens_id": "113-668-692-329-402"
         },
         {
          "lens_id": "113-908-139-148-710"
         },
         {
          "lens_id": "116-581-577-250-210"
         },
         {
          "lens_id": "121-618-914-417-753"
         },
         {
          "lens_id": "127-971-946-812-85X"
         },
         {
          "lens_id": "128-252-656-209-732"
         },
         {
          "lens_id": "133-230-199-104-372"
         },
         {
          "lens_id": "133-455-513-461-333"
         },
         {
          "lens_id": "133-456-848-606-762"
         },
         {
          "lens_id": "136-614-375-743-803"
         },
         {
          "lens_id": "143-937-791-659-264"
         },
         {
          "lens_id": "148-033-617-184-910"
         },
         {
          "lens_id": "148-103-731-507-85X"
         },
         {
          "lens_id": "149-608-882-871-675"
         },
         {
          "lens_id": "157-451-019-343-553"
         },
         {
          "lens_id": "166-791-595-733-004"
         },
         {
          "lens_id": "168-968-795-252-25X"
         },
         {
          "lens_id": "178-842-737-150-756"
         }
        ],
        "scholarly_citations_count": 12,
        "source": {
         "country": "United States",
         "issn": [
          {
           "type": "print",
           "value": "24700010"
          },
          {
           "type": "electronic",
           "value": "24700029"
          }
         ],
         "publisher": "American Physical Society (APS)",
         "title_full": "Physical Review D"
        },
        "source_urls": [
         {
          "type": "pdf",
          "url": "https://link.aps.org/pdf/10.1103/PhysRevD.101.035004"
         },
         {
          "type": "html",
          "url": "https://ui.adsabs.harvard.edu/abs/2020PhRvD.101c5004C/abstract"
         },
         {
          "type": "html",
          "url": "https://inspirehep.net/literature/1755250"
         },
         {
          "type": "pdf",
          "url": "https://arxiv.org/pdf/1909.09574.pdf"
         },
         {
          "type": "html",
          "url": "https://arxiv.org/abs/1909.09574"
         },
         {
          "type": "html",
          "url": "https://journals.aps.org/prd/abstract/10.1103/PhysRevD.101.035004"
         },
         {
          "type": "html",
          "url": "https://link.aps.org/doi/10.1103/PhysRevD.101.035004"
         },
         {
          "type": "core_fulltext",
          "url": "http://arxiv.org/abs/1909.09574"
         }
        ],
        "start_page": "035004",
        "title": "Dirac neutrino mass generation from a Majorana messenger",
        "volume": "101",
        "year_published": 2020
       },
       {
        "abstract": "We study a left right (LR) extension of the Standard Model (SM) where the Dark Matter(DM) candidate is composed of a set of fermionic Majorana triplets. The DM is stabilized by a remnant ${Z}_{2}$ symmetry from the breaking of the LR group to the SM. Two simple scenarios where the DM particles plus a certain set of extra fields lead to gauge coupling unification with a low LR scale are explored. The constraints from relic density and predictions for direct detection are discussed for both scenarios. The first scenario with a $SU(2{)}_{R}$ vectorlike fermion triplet contains a DM candidate which is almost unconstrained by current direct detection experiments. The second scenario, with an additional $SU(2{)}_{R}$ triplet, opens up a scalar portal leading to direct detection constraints which are similar to collider limits for right gauge bosons. The DM parameter space consistent with phenomenological requirements can also lead to successful gauge coupling unification in a $SO(10)$ setup.",
        "authors": [
         {
          "affiliations": [
           {
            "addresses": [
             {
              "country_code": "CL"
             }
            ],
            "ids": [
             {
              "type": "magid",
              "value": "75778554"
             },
             {
              "type": "grid",
              "value": "grid.12148.3e"
             },
             {
              "type": "ror",
              "value": "https://ror.org/05510vn56"
             }
            ],
            "name": "Federico Santa María Technical University"
           }
          ],
          "collective_name": null,
          "first_name": "Carolina",
          "initials": "C",
          "last_name": "Arbeláez"
         },
         {
          "affiliations": [
           {
            "addresses": [
             {
              "country_code": "ES"
             }
            ],
            "ids": [
             {
              "type": "magid",
              "value": "134820265"
             },
             {
              "type": "grid",
              "value": "grid.4711.3"
             },
             {
              "type": "ror",
              "value": "https://ror.org/02gfc7t72"
             }
            ],
            "name": "Spanish National Research Council"
           }
          ],
          "collective_name": null,
          "first_name": "Martin",
          "initials": "M",
          "last_name": "Hirsch"
         },
         {
          "affiliations": [
           {
            "addresses": [
             {
              "country_code": "CO"
             }
            ],
            "ids": [
             {
              "type": "magid",
              "value": "35961687"
             },
             {
              "type": "grid",
              "value": "grid.412881.6"
             },
             {
              "type": "ror",
              "value": "https://ror.org/03bp5hc83"
             }
            ],
            "name": "University of Antioquia"
           }
          ],
          "collective_name": null,
          "first_name": "Diego",
          "initials": "D",
          "last_name": "Restrepo"
         }
        ],
        "chemicals": [],
        "date_published": {
         "date": "2017-05-31T00:00:00+00:00"
        },
        "end_page": null,
        "fields_of_study": [
         {
          "name": "Particle physics"
         },
         {
          "name": "Physics"
         },
         {
          "name": "Dark matter"
         },
         {
          "name": "MAJORANA"
         },
         {
          "name": "Gauge boson"
         },
         {
          "name": "Fermion"
         },
         {
          "name": "Scalar (mathematics)"
         },
         {
          "name": "Parameter space"
         }
        ],
        "funding": [
         {
          "country": null,
          "funding_id": null,
          "org": "Comisión Nacional de Investigación Científica y Tecnológica"
         },
         {
          "country": null,
          "funding_id": null,
          "org": "Comisión Nacional de Investigación Científica y Tecnológica"
         },
         {
          "country": null,
          "funding_id": null,
          "org": "Universidad de Antioquia"
         },
         {
          "country": null,
          "funding_id": null,
          "org": "Ministerio de Ciencia e Innovación"
         },
         {
          "country": null,
          "funding_id": null,
          "org": "Ministerio de Ciencia e Innovación"
         },
         {
          "country": null,
          "funding_id": null,
          "org": "Ministerio de Economía y Competitividad"
         },
         {
          "country": null,
          "funding_id": null,
          "org": "Generalitat Valenciana"
         }
        ],
        "issue": "9",
        "keywords": [],
        "lens_id": "020-784-659-224-98X",
        "mesh_terms": [],
        "patent_citations_count": 0,
        "publication_type": "journal article",
        "references": [
         {
          "lens_id": "005-136-998-303-78X"
         },
         {
          "lens_id": "009-410-080-373-850"
         },
         {
          "lens_id": "010-065-299-089-265"
         },
         {
          "lens_id": "013-401-116-737-629"
         },
         {
          "lens_id": "013-583-363-864-369"
         },
         {
          "lens_id": "016-930-865-811-593"
         },
         {
          "lens_id": "017-848-534-544-623"
         },
         {
          "lens_id": "017-981-383-516-598"
         },
         {
          "lens_id": "019-297-321-152-268"
         },
         {
          "lens_id": "020-738-819-018-839"
         },
         {
          "lens_id": "022-472-434-154-423"
         },
         {
          "lens_id": "024-228-014-365-951"
         },
         {
          "lens_id": "025-511-597-329-089"
         },
         {
          "lens_id": "026-182-441-336-612"
         },
         {
          "lens_id": "028-887-413-554-324"
         },
         {
          "lens_id": "029-799-990-541-87X"
         },
         {
          "lens_id": "033-629-925-246-885"
         },
         {
          "lens_id": "036-014-987-375-808"
         },
         {
          "lens_id": "041-284-705-493-517"
         },
         {
          "lens_id": "041-817-191-720-450"
         },
         {
          "lens_id": "047-210-236-633-770"
         },
         {
          "lens_id": "048-097-409-411-629"
         },
         {
          "lens_id": "050-283-040-619-323"
         },
         {
          "lens_id": "058-252-188-965-360"
         },
         {
          "lens_id": "061-816-718-814-156"
         },
         {
          "lens_id": "061-910-936-478-112"
         },
         {
          "lens_id": "064-069-935-446-137"
         },
         {
          "lens_id": "066-585-391-520-792"
         },
         {
          "lens_id": "067-760-498-813-650"
         },
         {
          "lens_id": "071-265-343-524-009"
         },
         {
          "lens_id": "074-551-454-894-543"
         },
         {
          "lens_id": "075-853-466-809-932"
         },
         {
          "lens_id": "087-665-959-259-438"
         },
         {
          "lens_id": "088-243-022-873-769"
         },
         {
          "lens_id": "093-452-919-968-916"
         },
         {
          "lens_id": "094-081-889-586-39X"
         },
         {
          "lens_id": "102-413-230-434-626"
         },
         {
          "lens_id": "114-069-072-319-029"
         },
         {
          "lens_id": "127-276-227-115-105"
         },
         {
          "lens_id": "127-562-808-731-632"
         },
         {
          "lens_id": "130-619-931-138-634"
         },
         {
          "lens_id": "135-096-565-650-591"
         },
         {
          "lens_id": "160-202-315-706-153"
         },
         {
          "lens_id": "168-968-795-252-25X"
         },
         {
          "lens_id": "169-396-818-284-55X"
         },
         {
          "lens_id": "179-081-509-418-602"
         }
        ],
        "scholarly_citations_count": 10,
        "source": {
         "country": "United States",
         "issn": [
          {
           "type": "print",
           "value": "24700010"
          },
          {
           "type": "electronic",
           "value": "24700029"
          }
         ],
         "publisher": "American Physical Society (APS)",
         "title_full": "Physical Review D"
        },
        "source_urls": [
         {
          "type": "html",
          "url": "https://ui.adsabs.harvard.edu/abs/2017PhRvD..95i5034A/abstract"
         },
         {
          "type": "html",
          "url": "https://link.aps.org/doi/10.1103/PhysRevD.95.095034"
         },
         {
          "type": "pdf",
          "url": "https://arxiv.org/pdf/1703.08148.pdf"
         },
         {
          "type": "pdf",
          "url": "http://export.arxiv.org/pdf/1703.08148"
         },
         {
          "type": "html",
          "url": "https://arxiv.org/abs/1703.08148"
         },
         {
          "type": "core_fulltext",
          "url": "http://arxiv.org/abs/1703.08148"
         }
        ],
        "start_page": "095034",
        "title": "Fermionic triplet dark matter in an S O ( 10 ) -inspired left-right model",
        "volume": "95",
        "year_published": 2017
       },
       {
        "abstract": "This chapter of the “Flavor in the era of LHC” workshop report discusses flavor-related issues in the production and decays of heavy states at the LHC at high momentum transfer Q, both from the experimental and the theoretical perspective. We review top quark physics, and discuss the flavor aspects of several extensions of the standard model, such as supersymmetry, little Higgs models or models with extra dimensions. This includes discovery aspects, as well as the measurement of several properties of these heavy states. We also present publicly available computational tools related to this topic.",
        "authors": [
         {
          "affiliations": [
           {
            "addresses": [
             {
              "country_code": "IT"
             }
            ],
            "ids": [
             {
              "type": "magid",
              "value": "189158943"
             },
             {
              "type": "grid",
              "value": "grid.4708.b"
             },
             {
              "type": "ror",
              "value": "https://ror.org/00wjc7c48"
             }
            ],
            "name": "University of Milan"
           }
          ],
          "collective_name": null,
          "first_name": "T.",
          "initials": "T",
          "last_name": "Lari"
         },
         {
          "affiliations": [
           {
            "addresses": [
             {
              "country_code": "CH"
             }
            ],
            "ids": [
             {
              "type": "magid",
              "value": "35440088"
             },
             {
              "type": "grid",
              "value": "grid.5801.c"
             },
             {
              "type": "fundref",
              "value": "501100003006"
             },
             {
              "type": "ror",
              "value": "https://ror.org/05a28rw58"
             }
            ],
            "name": "ETH Zurich"
           }
          ],
          "collective_name": null,
          "first_name": "Luc",
          "initials": "L",
          "last_name": "Pape"
         },
         {
          "affiliations": [
           {
            "addresses": [
             {
              "country_code": "DE"
             }
            ],
            "ids": [
             {
              "type": "magid",
              "value": "25974101"
             },
             {
              "type": "grid",
              "value": "grid.8379.5"
             },
             {
              "type": "ror",
              "value": "https://ror.org/00fbnyb24"
             }
            ],
            "name": "University of Würzburg"
           }
          ],
          "collective_name": null,
          "first_name": "Werner",
          "initials": "W",
          "last_name": "Porod"
         },
         {
          "affiliations": [
           {
            "addresses": [
             {
              "country_code": "ES"
             }
            ],
            "ids": [
             {
              "type": "magid",
              "value": "173304897"
             },
             {
              "type": "grid",
              "value": "grid.4489.1"
             },
             {
              "type": "ror",
              "value": "https://ror.org/04njjy449"
             }
            ],
            "name": "University of Granada"
           }
          ],
          "collective_name": null,
          "first_name": "Juan Antonio",
          "initials": "JA",
          "last_name": "Aguilar-Saavedra"
         },
         {
          "affiliations": [
           {
            "addresses": [
             {
              "country_code": "GB"
             }
            ],
            "ids": [
             {
              "type": "magid",
              "value": "241749"
             },
             {
              "type": "grid",
              "value": "grid.5335.0"
             },
             {
              "type": "fundref",
              "value": "501100000735"
             },
             {
              "type": "wikidata",
              "value": "q35794"
             },
             {
              "type": "ror",
              "value": "https://ror.org/013meh722"
             }
            ],
            "name": "University of Cambridge"
           }
          ],
          "collective_name": null,
          "first_name": "Ben C.",
          "initials": "BC",
          "last_name": "Allanach"
         },
         {
          "affiliations": [
           {
            "addresses": [
             {
              "country_code": "BR"
             }
            ],
            "ids": [
             {
              "type": "magid",
              "value": "17974374"
             },
             {
              "type": "grid",
              "value": "grid.11899.38"
             },
             {
              "type": "fundref",
              "value": "501100005639"
             },
             {
              "type": "wikidata",
              "value": "q835960"
             },
             {
              "type": "ror",
              "value": "https://ror.org/036rp1748"
             }
            ],
            "name": "University of São Paulo"
           }
          ],
          "collective_name": null,
          "first_name": "G.",
          "initials": "G",
          "last_name": "Burdman"
         },
         {
          "affiliations": [
           {
            "addresses": [
             {
              "country_code": "PT"
             }
            ],
            "ids": [
             {
              "type": "magid",
              "value": "76903346"
             },
             {
              "type": "grid",
              "value": "grid.8051.c"
             },
             {
              "type": "ror",
              "value": "https://ror.org/04z8k9a98"
             }
            ],
            "name": "University of Coimbra"
           }
          ],
          "collective_name": null,
          "first_name": "N.",
          "initials": "N",
          "last_name": "Castro"
         },
         {
          "affiliations": [
           {
            "addresses": [
             {
              "country_code": "FR"
             }
            ],
            "ids": [
             {
              "type": "magid",
              "value": "1294671590"
             },
             {
              "type": "grid",
              "value": "grid.4444.0"
             },
             {
              "type": "wikidata",
              "value": "q280413"
             },
             {
              "type": "ror",
              "value": "https://ror.org/02feahw73"
             }
            ],
            "name": "Centre national de la recherche scientifique"
           }
          ],
          "collective_name": null,
          "first_name": "Michael",
          "initials": "M",
          "last_name": "Klasen"
         },
         {
          "affiliations": [],
          "collective_name": null,
          "first_name": "Nikolai",
          "initials": "N",
          "last_name": "Krasnikov"
         },
         {
          "affiliations": [
           {
            "addresses": [
             {
              "country_code": "GB"
             }
            ],
            "ids": [
             {
              "type": "magid",
              "value": "190082696"
             },
             {
              "type": "grid",
              "value": "grid.8250.f"
             },
             {
              "type": "fundref",
              "value": "501100001314"
             },
             {
              "type": "ror",
              "value": "https://ror.org/01v29qb04"
             }
            ],
            "name": "Durham University"
           }
          ],
          "collective_name": null,
          "first_name": "Frank",
          "initials": "F",
          "last_name": "Krauss"
         },
         {
          "affiliations": [
           {
            "addresses": [
             {
              "country_code": "CH"
             }
            ],
            "ids": [
             {
              "type": "magid",
              "value": "35440088"
             },
             {
              "type": "grid",
              "value": "grid.5801.c"
             },
             {
              "type": "fundref",
              "value": "501100003006"
             },
             {
              "type": "ror",
              "value": "https://ror.org/05a28rw58"
             }
            ],
            "name": "ETH Zurich"
           }
          ],
          "collective_name": null,
          "first_name": "Filip",
          "initials": "F",
          "last_name": "Moortgat"
         },
         {
          "affiliations": [],
          "collective_name": null,
          "first_name": "G.",
          "initials": "G",
          "last_name": "Polesello"
         },
         {
          "affiliations": [
           {
            "addresses": [
             {
              "country_code": "IT"
             }
            ],
            "ids": [
             {
              "type": "magid",
              "value": "39063666"
             },
             {
              "type": "grid",
              "value": "grid.8158.4"
             },
             {
              "type": "ror",
              "value": "https://ror.org/03a64bh57"
             }
            ],
            "name": "University of Catania"
           }
          ],
          "collective_name": null,
          "first_name": "Alessia",
          "initials": "A",
          "last_name": "Tricomi"
         },
         {
          "affiliations": [
           {
            "addresses": [
             {
              "country_code": "US"
             }
            ],
            "ids": [
             {
              "type": "magid",
              "value": "204250578"
             },
             {
              "type": "grid",
              "value": "grid.266093.8"
             },
             {
              "type": "fundref",
              "value": "100008476"
             },
             {
              "type": "ror",
              "value": "https://ror.org/04gyf1771"
             }
            ],
            "name": "University of California, Irvine"
           },
           {
            "addresses": [
             {
              "country_code": "CH"
             }
            ],
            "ids": [
             {
              "type": "magid",
              "value": "67311998"
             },
             {
              "type": "grid",
              "value": "grid.9132.9"
             },
             {
              "type": "ror",
              "value": "https://ror.org/01ggx4157"
             }
            ],
            "name": "CERN"
           }
          ],
          "collective_name": null,
          "first_name": "Gokhan",
          "initials": "G",
          "last_name": "Unel"
         },
         {
          "affiliations": [
           {
            "addresses": [
             {
              "country_code": "ES"
             }
            ],
            "ids": [
             {
              "type": "magid",
              "value": "173304897"
             },
             {
              "type": "grid",
              "value": "grid.4489.1"
             },
             {
              "type": "ror",
              "value": "https://ror.org/04njjy449"
             }
            ],
            "name": "University of Granada"
           }
          ],
          "collective_name": null,
          "first_name": "F.",
          "initials": "F",
          "last_name": "del Aguila"
         },
         {
          "affiliations": [
           {
            "addresses": [
             {
              "country_code": "BE"
             }
            ],
            "ids": [
             {
              "type": "magid",
              "value": "95674353"
             },
             {
              "type": "grid",
              "value": "grid.7942.8"
             },
             {
              "type": "ror",
              "value": "https://ror.org/02495e989"
             }
            ],
            "name": "Université catholique de Louvain"
           }
          ],
          "collective_name": null,
          "first_name": "Johan",
          "initials": "J",
          "last_name": "Alwall"
         },
         {
          "affiliations": [],
          "collective_name": null,
          "first_name": "Yu.",
          "initials": "Y",
          "last_name": "Andreev"
         },
         {
          "affiliations": [
           {
            "addresses": [
             {
              "country_code": "ES"
             }
            ],
            "ids": [
             {
              "type": "magid",
              "value": "134820265"
             },
             {
              "type": "grid",
              "value": "grid.4711.3"
             },
             {
              "type": "ror",
              "value": "https://ror.org/02gfc7t72"
             }
            ],
            "name": "Spanish National Research Council"
           }
          ],
          "collective_name": null,
          "first_name": "D. Aristizabal",
          "initials": "DA",
          "last_name": "Sierra"
         },
         {
          "affiliations": [
           {
            "addresses": [
             {
              "country_code": "AT"
             }
            ],
            "ids": [
             {
              "type": "magid",
              "value": "129774422"
             },
             {
              "type": "grid",
              "value": "grid.10420.37"
             },
             {
              "type": "fundref",
              "value": "501100003065"
             },
             {
              "type": "wikidata",
              "value": "q165980"
             },
             {
              "type": "ror",
              "value": "https://ror.org/03prydq77"
             }
            ],
            "name": "University of Vienna"
           }
          ],
          "collective_name": null,
          "first_name": "Alfred",
          "initials": "A",
          "last_name": "Bartl"
         },
         {
          "affiliations": [
           {
            "addresses": [
             {
              "country_code": "IT"
             }
            ],
            "ids": [
             {
              "type": "magid",
              "value": "142910587"
             },
             {
              "type": "grid",
              "value": "grid.9906.6"
             },
             {
              "type": "fundref",
              "value": "501100005728"
             },
             {
              "type": "ror",
              "value": "https://ror.org/03fc1k060"
             }
            ],
            "name": "University of Salento"
           }
          ],
          "collective_name": null,
          "first_name": "Matteo",
          "initials": "M",
          "last_name": "Beccaria"
         },
         {
          "affiliations": [
           {
            "addresses": [
             {
              "country_code": "ES"
             }
            ],
            "ids": [
             {
              "type": "magid",
              "value": "123044942"
             },
             {
              "type": "grid",
              "value": "grid.7080.f"
             },
             {
              "type": "isni",
              "value": "0000000122960625"
             },
             {
              "type": "ror",
              "value": "https://ror.org/052g8jq94"
             }
            ],
            "name": "Autonomous University of Barcelona"
           }
          ],
          "collective_name": null,
          "first_name": "Santi",
          "initials": "S",
          "last_name": "Bejar"
         },
         {
          "affiliations": [
           {
            "addresses": [
             {
              "country_code": "IT"
             }
            ],
            "ids": [
             {
              "type": "magid",
              "value": "108290504"
             },
             {
              "type": "grid",
              "value": "grid.5395.a"
             },
             {
              "type": "ror",
              "value": "https://ror.org/03ad39j10"
             }
            ],
            "name": "University of Pisa"
           }
          ],
          "collective_name": null,
          "first_name": "L.",
          "initials": "L",
          "last_name": "Benucci"
         },
         {
          "affiliations": [],
          "collective_name": null,
          "first_name": "S.",
          "initials": "S",
          "last_name": "Bityukov"
         },
         {
          "affiliations": [],
          "collective_name": null,
          "first_name": "I.",
          "initials": "I",
          "last_name": "Borjanovic"
         },
         {
          "affiliations": [
           {
            "addresses": [
             {
              "country_code": "DE"
             }
            ],
            "ids": [
             {
              "type": "magid",
              "value": "102335020"
             },
             {
              "type": "grid",
              "value": "grid.7892.4"
             },
             {
              "type": "wikidata",
              "value": "q309988"
             },
             {
              "type": "ror",
              "value": "https://ror.org/04t3en479"
             }
            ],
            "name": "Karlsruhe Institute of Technology"
           }
          ],
          "collective_name": null,
          "first_name": "Giuseppe",
          "initials": "G",
          "last_name": "Bozzi"
         },
         {
          "affiliations": [
           {
            "addresses": [
             {
              "country_code": "PT"
             }
            ],
            "ids": [
             {
              "type": "magid",
              "value": "76903346"
             },
             {
              "type": "grid",
              "value": "grid.8051.c"
             },
             {
              "type": "ror",
              "value": "https://ror.org/04z8k9a98"
             }
            ],
            "name": "University of Coimbra"
           }
          ],
          "collective_name": null,
          "first_name": "João",
          "initials": "J",
          "last_name": "Carvalho"
         },
         {
          "affiliations": [
           {
            "addresses": [
             {
              "country_code": "BE"
             }
            ],
            "ids": [
             {
              "type": "magid",
              "value": "132053463"
             },
             {
              "type": "grid",
              "value": "grid.4989.c"
             },
             {
              "type": "fundref",
              "value": "501100008367"
             },
             {
              "type": "ror",
              "value": "https://ror.org/01r9htc13"
             }
            ],
            "name": "Université libre de Bruxelles"
           }
          ],
          "collective_name": null,
          "first_name": "Barbara",
          "initials": "B",
          "last_name": "Clerbaux"
         },
         {
          "affiliations": [
           {
            "addresses": [
             {
              "country_code": "BR"
             }
            ],
            "ids": [
             {
              "type": "magid",
              "value": "879563668"
             },
             {
              "type": "grid",
              "value": "grid.410543.7"
             },
             {
              "type": "wikidata",
              "value": "q1817137"
             },
             {
              "type": "ror",
              "value": "https://ror.org/00987cb86"
             }
            ],
            "name": "Sao Paulo State University"
           }
          ],
          "collective_name": null,
          "first_name": "F.",
          "initials": "F",
          "last_name": "de Campos"
         },
         {
          "affiliations": [
           {
            "addresses": [
             {
              "country_code": "US"
             }
            ],
            "ids": [
             {
              "type": "magid",
              "value": "111979921"
             },
             {
              "type": "grid",
              "value": "grid.16753.36"
             },
             {
              "type": "fundref",
              "value": "100007059"
             },
             {
              "type": "ror",
              "value": "https://ror.org/000e0be47"
             }
            ],
            "name": "Northwestern University"
           }
          ],
          "collective_name": null,
          "first_name": "A.",
          "initials": "A",
          "last_name": "de Gouvea"
         },
         {
          "affiliations": [
           {
            "addresses": [
             {
              "country_code": "GB"
             }
            ],
            "ids": [
             {
              "type": "magid",
              "value": "40120149"
             },
             {
              "type": "grid",
              "value": "grid.4991.5"
             },
             {
              "type": "fundref",
              "value": "501100000769"
             },
             {
              "type": "wikidata",
              "value": "q34433"
             },
             {
              "type": "ror",
              "value": "https://ror.org/052gg0110"
             }
            ],
            "name": "University of Oxford"
           }
          ],
          "collective_name": null,
          "first_name": "C.",
          "initials": "C",
          "last_name": "Dennis"
         },
         {
          "affiliations": [
           {
            "addresses": [],
            "ids": [
             {
              "type": "magid",
              "value": "204730241"
             }
            ],
            "name": "University of Paris"
           }
          ],
          "collective_name": null,
          "first_name": "Abdelhak",
          "initials": "A",
          "last_name": "Djouadi"
         },
         {
          "affiliations": [
           {
            "addresses": [
             {
              "country_code": "BR"
             }
            ],
            "ids": [
             {
              "type": "magid",
              "value": "17974374"
             },
             {
              "type": "grid",
              "value": "grid.11899.38"
             },
             {
              "type": "fundref",
              "value": "501100005639"
             },
             {
              "type": "wikidata",
              "value": "q835960"
             },
             {
              "type": "ror",
              "value": "https://ror.org/036rp1748"
             }
            ],
            "name": "University of São Paulo"
           }
          ],
          "collective_name": null,
          "first_name": "Oscar J.P.",
          "initials": "OJP",
          "last_name": "Eboli"
         },
         {
          "affiliations": [
           {
            "addresses": [],
            "ids": [
             {
              "type": "magid",
              "value": "204730241"
             }
            ],
            "name": "University of Paris"
           }
          ],
          "collective_name": null,
          "first_name": "Ulrich",
          "initials": "U",
          "last_name": "Ellwanger"
         },
         {
          "affiliations": [
           {
            "addresses": [
             {
              "country_code": "GR"
             }
            ],
            "ids": [
             {
              "type": "magid",
              "value": "200777214"
             },
             {
              "type": "grid",
              "value": "grid.5216.0"
             },
             {
              "type": "ror",
              "value": "https://ror.org/04gnjpq42"
             }
            ],
            "name": "National and Kapodistrian University of Athens"
           }
          ],
          "collective_name": null,
          "first_name": "Dimitrios",
          "initials": "D",
          "last_name": "Fassouliotis"
         },
         {
          "affiliations": [
           {
            "addresses": [
             {
              "country_code": "PT"
             }
            ],
            "ids": [
             {
              "type": "magid",
              "value": "141596103"
             },
             {
              "type": "grid",
              "value": "grid.9983.b"
             },
             {
              "type": "fundref",
              "value": "501100005765"
             },
             {
              "type": "wikidata",
              "value": "q1122926"
             },
             {
              "type": "ror",
              "value": "https://ror.org/01c27hj86"
             }
            ],
            "name": "University of Lisbon"
           }
          ],
          "collective_name": null,
          "first_name": "Pedro M.",
          "initials": "PM",
          "last_name": "Ferreira"
         },
         {
          "affiliations": [
           {
            "addresses": [
             {
              "country_code": "BE"
             }
            ],
            "ids": [
             {
              "type": "magid",
              "value": "95674353"
             },
             {
              "type": "grid",
              "value": "grid.7942.8"
             },
             {
              "type": "ror",
              "value": "https://ror.org/02495e989"
             }
            ],
            "name": "Université catholique de Louvain"
           }
          ],
          "collective_name": null,
          "first_name": "Rikkert",
          "initials": "R",
          "last_name": "Frederix"
         },
         {
          "affiliations": [
           {
            "addresses": [
             {
              "country_code": "FR"
             }
            ],
            "ids": [
             {
              "type": "magid",
              "value": "1294671590"
             },
             {
              "type": "grid",
              "value": "grid.4444.0"
             },
             {
              "type": "wikidata",
              "value": "q280413"
             },
             {
              "type": "ror",
              "value": "https://ror.org/02feahw73"
             }
            ],
            "name": "Centre national de la recherche scientifique"
           }
          ],
          "collective_name": null,
          "first_name": "Benjamin",
          "initials": "B",
          "last_name": "Fuks"
         },
         {
          "affiliations": [
           {
            "addresses": [
             {
              "country_code": "BE"
             }
            ],
            "ids": [
             {
              "type": "magid",
              "value": "95674353"
             },
             {
              "type": "grid",
              "value": "grid.7942.8"
             },
             {
              "type": "ror",
              "value": "https://ror.org/02495e989"
             }
            ],
            "name": "Université catholique de Louvain"
           }
          ],
          "collective_name": null,
          "first_name": "Jean-Marc",
          "initials": "J",
          "last_name": "Gérard"
         },
         {
          "affiliations": [
           {
            "addresses": [
             {
              "country_code": "BE"
             }
            ],
            "ids": [
             {
              "type": "magid",
              "value": "95674353"
             },
             {
              "type": "grid",
              "value": "grid.7942.8"
             },
             {
              "type": "ror",
              "value": "https://ror.org/02495e989"
             }
            ],
            "name": "Université catholique de Louvain"
           }
          ],
          "collective_name": null,
          "first_name": "Andrea",
          "initials": "A",
          "last_name": "Giammanco"
         },
         {
          "affiliations": [],
          "collective_name": null,
          "first_name": "Sergei",
          "initials": "S",
          "last_name": "Gninenko"
         },
         {
          "affiliations": [
           {
            "addresses": [
             {
              "country_code": "US"
             }
            ],
            "ids": [
             {
              "type": "magid",
              "value": "111979921"
             },
             {
              "type": "grid",
              "value": "grid.16753.36"
             },
             {
              "type": "fundref",
              "value": "100007059"
             },
             {
              "type": "ror",
              "value": "https://ror.org/000e0be47"
             }
            ],
            "name": "Northwestern University"
           }
          ],
          "collective_name": null,
          "first_name": "Shrihari",
          "initials": "S",
          "last_name": "Gopalakrishna"
         },
         {
          "affiliations": [
           {
            "addresses": [
             {
              "country_code": "JP"
             }
            ],
            "ids": [
             {
              "type": "magid",
              "value": "138728355"
             },
             {
              "type": "grid",
              "value": "grid.410794.f"
             },
             {
              "type": "wikidata",
              "value": "q2165768"
             },
             {
              "type": "ror",
              "value": "https://ror.org/01g5y5k24"
             }
            ],
            "name": "KEK"
           }
          ],
          "collective_name": null,
          "first_name": "T.",
          "initials": "T",
          "last_name": "Goto"
         },
         {
          "affiliations": [
           {
            "addresses": [
             {
              "country_code": "PL"
             }
            ],
            "ids": [
             {
              "type": "magid",
              "value": "4654613"
             },
             {
              "type": "grid",
              "value": "grid.12847.38"
             },
             {
              "type": "fundref",
              "value": "501100006445"
             },
             {
              "type": "ror",
              "value": "https://ror.org/039bjqg32"
             }
            ],
            "name": "University of Warsaw"
           }
          ],
          "collective_name": null,
          "first_name": "Bohdan",
          "initials": "B",
          "last_name": "Grzadkowski"
         },
         {
          "affiliations": [
           {
            "addresses": [
             {
              "country_code": "ES"
             }
            ],
            "ids": [
             {
              "type": "magid",
              "value": "71999127"
             },
             {
              "type": "grid",
              "value": "grid.5841.8"
             },
             {
              "type": "fundref",
              "value": "501100005774"
             },
             {
              "type": "ror",
              "value": "https://ror.org/021018s57"
             }
            ],
            "name": "University of Barcelona"
           }
          ],
          "collective_name": null,
          "first_name": "J.",
          "initials": "J",
          "last_name": "Guasch"
         },
         {
          "affiliations": [
           {
            "addresses": [
             {
              "country_code": "DE"
             }
            ],
            "ids": [
             {
              "type": "magid",
              "value": "149899117"
             },
             {
              "type": "grid",
              "value": "grid.4372.2"
             },
             {
              "type": "ror",
              "value": "https://ror.org/01hhn8329"
             }
            ],
            "name": "Max Planck Society"
           }
          ],
          "collective_name": null,
          "first_name": "Thomas",
          "initials": "T",
          "last_name": "Hahn"
         },
         {
          "affiliations": [
           {
            "addresses": [
             {
              "country_code": "ES"
             }
            ],
            "ids": [
             {
              "type": "magid",
              "value": "134820265"
             },
             {
              "type": "grid",
              "value": "grid.4711.3"
             },
             {
              "type": "ror",
              "value": "https://ror.org/02gfc7t72"
             }
            ],
            "name": "Spanish National Research Council"
           }
          ],
          "collective_name": null,
          "first_name": "Sven",
          "initials": "S",
          "last_name": "Heinemeyer"
         },
         {
          "affiliations": [
           {
            "addresses": [
             {
              "country_code": "EE"
             }
            ],
            "ids": [
             {
              "type": "magid",
              "value": "31528381"
             },
             {
              "type": "grid",
              "value": "grid.177284.f"
             },
             {
              "type": "ror",
              "value": "https://ror.org/03eqd4a41"
             }
            ],
            "name": "National Institute of Chemical Physics and Biophysics"
           }
          ],
          "collective_name": null,
          "first_name": "Andi",
          "initials": "A",
          "last_name": "Hektor"
         },
         {
          "affiliations": [
           {
            "addresses": [
             {
              "country_code": "BE"
             }
            ],
            "ids": [
             {
              "type": "magid",
              "value": "95674353"
             },
             {
              "type": "grid",
              "value": "grid.7942.8"
             },
             {
              "type": "ror",
              "value": "https://ror.org/02495e989"
             }
            ],
            "name": "Université catholique de Louvain"
           }
          ],
          "collective_name": null,
          "first_name": "Michel",
          "initials": "M",
          "last_name": "Herquet"
         },
         {
          "affiliations": [
           {
            "addresses": [
             {
              "country_code": "FR"
             }
            ],
            "ids": [
             {
              "type": "magid",
              "value": "1294671590"
             },
             {
              "type": "grid",
              "value": "grid.4444.0"
             },
             {
              "type": "wikidata",
              "value": "q280413"
             },
             {
              "type": "ror",
              "value": "https://ror.org/02feahw73"
             }
            ],
            "name": "Centre national de la recherche scientifique"
           }
          ],
          "collective_name": null,
          "first_name": "B.",
          "initials": "B",
          "last_name": "Herrmann"
         },
         {
          "affiliations": [
           {
            "addresses": [
             {
              "country_code": "JP"
             }
            ],
            "ids": [
             {
              "type": "magid",
              "value": "161107111"
             },
             {
              "type": "grid",
              "value": "grid.412776.1"
             },
             {
              "type": "ror",
              "value": "https://ror.org/00khh5r84"
             }
            ],
            "name": "Tokyo Gakugei University"
           }
          ],
          "collective_name": null,
          "first_name": "Keisho",
          "initials": "K",
          "last_name": "Hidaka"
         },
         {
          "affiliations": [
           {
            "addresses": [
             {
              "country_code": "ES"
             }
            ],
            "ids": [
             {
              "type": "magid",
              "value": "134820265"
             },
             {
              "type": "grid",
              "value": "grid.4711.3"
             },
             {
              "type": "ror",
              "value": "https://ror.org/02gfc7t72"
             }
            ],
            "name": "Spanish National Research Council"
           }
          ],
          "collective_name": null,
          "first_name": "Martin",
          "initials": "M",
          "last_name": "Hirsch"
         },
         {
          "affiliations": [
           {
            "addresses": [
             {
              "country_code": "AT"
             }
            ],
            "ids": [
             {
              "type": "magid",
              "value": "129774422"
             },
             {
              "type": "grid",
              "value": "grid.10420.37"
             },
             {
              "type": "fundref",
              "value": "501100003065"
             },
             {
              "type": "wikidata",
              "value": "q165980"
             },
             {
              "type": "ror",
              "value": "https://ror.org/03prydq77"
             }
            ],
            "name": "University of Vienna"
           }
          ],
          "collective_name": null,
          "first_name": "K.",
          "initials": "K",
          "last_name": "Hohenwarter-Sodek"
         },
         {
          "affiliations": [
           {
            "addresses": [
             {
              "country_code": "DE"
             }
            ],
            "ids": [
             {
              "type": "magid",
              "value": "149899117"
             },
             {
              "type": "grid",
              "value": "grid.4372.2"
             },
             {
              "type": "ror",
              "value": "https://ror.org/01hhn8329"
             }
            ],
            "name": "Max Planck Society"
           }
          ],
          "collective_name": null,
          "first_name": "Wolfgang",
          "initials": "W",
          "last_name": "Hollik"
         },
         {
          "affiliations": [
           {
            "addresses": [
             {
              "country_code": "TW"
             }
            ],
            "ids": [
             {
              "type": "magid",
              "value": "16733864"
             },
             {
              "type": "grid",
              "value": "grid.19188.39"
             },
             {
              "type": "fundref",
              "value": "501100006477"
             },
             {
              "type": "ror",
              "value": "https://ror.org/05bqach95"
             }
            ],
            "name": "National Taiwan University"
           }
          ],
          "collective_name": null,
          "first_name": "George Wei-Shu",
          "initials": "GW",
          "last_name": "Hou"
         },
         {
          "affiliations": [
           {
            "addresses": [
             {
              "country_code": "CH"
             }
            ],
            "ids": [
             {
              "type": "magid",
              "value": "67311998"
             },
             {
              "type": "grid",
              "value": "grid.9132.9"
             },
             {
              "type": "ror",
              "value": "https://ror.org/01ggx4157"
             }
            ],
            "name": "CERN"
           },
           {
            "addresses": [
             {
              "country_code": "US"
             }
            ],
            "ids": [
             {
              "type": "magid",
              "value": "97018004"
             },
             {
              "type": "grid",
              "value": "grid.168010.e"
             },
             {
              "type": "fundref",
              "value": "100005492"
             },
             {
              "type": "wikidata",
              "value": "q41506"
             },
             {
              "type": "ror",
              "value": "https://ror.org/00f54p054"
             }
            ],
            "name": "Stanford University"
           }
          ],
          "collective_name": null,
          "first_name": "Tobias",
          "initials": "T",
          "last_name": "Hurth"
         },
         {
          "affiliations": [
           {
            "addresses": [
             {
              "country_code": "DE"
             }
            ],
            "ids": [
             {
              "type": "magid",
              "value": "159176309"
             },
             {
              "type": "grid",
              "value": "grid.9026.d"
             },
             {
              "type": "wikidata",
              "value": "q156725"
             },
             {
              "type": "ror",
              "value": "https://ror.org/00g30e956"
             }
            ],
            "name": "University of Hamburg"
           }
          ],
          "collective_name": null,
          "first_name": "A.",
          "initials": "A",
          "last_name": "Ibarra"
         },
         {
          "affiliations": [
           {
            "addresses": [
             {
              "country_code": "ES"
             }
            ],
            "ids": [
             {
              "type": "magid",
              "value": "173304897"
             },
             {
              "type": "grid",
              "value": "grid.4489.1"
             },
             {
              "type": "ror",
              "value": "https://ror.org/04njjy449"
             }
            ],
            "name": "University of Granada"
           }
          ],
          "collective_name": null,
          "first_name": "Jose I.",
          "initials": "JI",
          "last_name": "Illana"
         },
         {
          "affiliations": [
           {
            "addresses": [
             {
              "country_code": "EE"
             }
            ],
            "ids": [
             {
              "type": "magid",
              "value": "31528381"
             },
             {
              "type": "grid",
              "value": "grid.177284.f"
             },
             {
              "type": "ror",
              "value": "https://ror.org/03eqd4a41"
             }
            ],
            "name": "National Institute of Chemical Physics and Biophysics"
           }
          ],
          "collective_name": null,
          "first_name": "Mario",
          "initials": "M",
          "last_name": "Kadastik"
         },
         {
          "affiliations": [
           {
            "addresses": [
             {
              "country_code": "BE"
             }
            ],
            "ids": [
             {
              "type": "magid",
              "value": "95674353"
             },
             {
              "type": "grid",
              "value": "grid.7942.8"
             },
             {
              "type": "ror",
              "value": "https://ror.org/02495e989"
             }
            ],
            "name": "Université catholique de Louvain"
           }
          ],
          "collective_name": null,
          "first_name": "S.",
          "initials": "S",
          "last_name": "Kalinin"
         },
         {
          "affiliations": [],
          "collective_name": null,
          "first_name": "C.",
          "initials": "C",
          "last_name": "Karafasoulis"
         },
         {
          "affiliations": [
           {
            "addresses": [
             {
              "country_code": "GB"
             }
            ],
            "ids": [
             {
              "type": "magid",
              "value": "40120149"
             },
             {
              "type": "grid",
              "value": "grid.4991.5"
             },
             {
              "type": "fundref",
              "value": "501100000769"
             },
             {
              "type": "wikidata",
              "value": "q34433"
             },
             {
              "type": "ror",
              "value": "https://ror.org/052gg0110"
             }
            ],
            "name": "University of Oxford"
           }
          ],
          "collective_name": null,
          "first_name": "M. Karagoz",
          "initials": "MK",
          "last_name": "Unel"
         },
         {
          "affiliations": [
           {
            "addresses": [
             {
              "country_code": "AT"
             }
            ],
            "ids": [
             {
              "type": "magid",
              "value": "129774422"
             },
             {
              "type": "grid",
              "value": "grid.10420.37"
             },
             {
              "type": "fundref",
              "value": "501100003065"
             },
             {
              "type": "wikidata",
              "value": "q165980"
             },
             {
              "type": "ror",
              "value": "https://ror.org/03prydq77"
             }
            ],
            "name": "University of Vienna"
           }
          ],
          "collective_name": null,
          "first_name": "Thomas",
          "initials": "T",
          "last_name": "Kernreiter"
         },
         {
          "affiliations": [],
          "collective_name": null,
          "first_name": "Mikhail",
          "initials": "M",
          "last_name": "Kirsanov"
         },
         {
          "affiliations": [
           {
            "addresses": [
             {
              "country_code": "BE"
             }
            ],
            "ids": [
             {
              "type": "magid",
              "value": "95674353"
             },
             {
              "type": "grid",
              "value": "grid.7942.8"
             },
             {
              "type": "ror",
              "value": "https://ror.org/02495e989"
             }
            ],
            "name": "Université catholique de Louvain"
           }
          ],
          "collective_name": null,
          "first_name": "E.",
          "initials": "E",
          "last_name": "Kou"
         },
         {
          "affiliations": [
           {
            "addresses": [
             {
              "country_code": "GR"
             }
            ],
            "ids": [
             {
              "type": "magid",
              "value": "200777214"
             },
             {
              "type": "grid",
              "value": "grid.5216.0"
             },
             {
              "type": "ror",
              "value": "https://ror.org/04gnjpq42"
             }
            ],
            "name": "National and Kapodistrian University of Athens"
           }
          ],
          "collective_name": null,
          "first_name": "Christine",
          "initials": "C",
          "last_name": "Kourkoumelis"
         },
         {
          "affiliations": [
           {
            "addresses": [
             {
              "country_code": "FR"
             }
            ],
            "ids": [
             {
              "type": "magid",
              "value": "1294671590"
             },
             {
              "type": "grid",
              "value": "grid.4444.0"
             },
             {
              "type": "wikidata",
              "value": "q280413"
             },
             {
              "type": "ror",
              "value": "https://ror.org/02feahw73"
             }
            ],
            "name": "Centre national de la recherche scientifique"
           },
           {
            "addresses": [
             {
              "country_code": "CH"
             }
            ],
            "ids": [
             {
              "type": "magid",
              "value": "67311998"
             },
             {
              "type": "grid",
              "value": "grid.9132.9"
             },
             {
              "type": "ror",
              "value": "https://ror.org/01ggx4157"
             }
            ],
            "name": "CERN"
           }
          ],
          "collective_name": null,
          "first_name": "Sabine",
          "initials": "S",
          "last_name": "Kraml"
         },
         {
          "affiliations": [],
          "collective_name": null,
          "first_name": "Aristotelis",
          "initials": "A",
          "last_name": "Kyriakis"
         },
         {
          "affiliations": [
           {
            "addresses": [
             {
              "country_code": "BE"
             }
            ],
            "ids": [
             {
              "type": "magid",
              "value": "95674353"
             },
             {
              "type": "grid",
              "value": "grid.7942.8"
             },
             {
              "type": "ror",
              "value": "https://ror.org/02495e989"
             }
            ],
            "name": "Université catholique de Louvain"
           }
          ],
          "collective_name": null,
          "first_name": "Vincent",
          "initials": "V",
          "last_name": "Lemaitre"
         },
         {
          "affiliations": [
           {
            "addresses": [
             {
              "country_code": "IT"
             }
            ],
            "ids": [
             {
              "type": "magid",
              "value": "142444530"
             },
             {
              "type": "grid",
              "value": "grid.5133.4"
             },
             {
              "type": "ror",
              "value": "https://ror.org/02n742c10"
             }
            ],
            "name": "University of Trieste"
           }
          ],
          "collective_name": null,
          "first_name": "Guido",
          "initials": "G",
          "last_name": "Macorini"
         },
         {
          "affiliations": [],
          "collective_name": null,
          "first_name": "M. B.",
          "initials": "MB",
          "last_name": "Magro"
         },
         {
          "affiliations": [],
          "collective_name": null,
          "first_name": "W.",
          "initials": "W",
          "last_name": "Majerotto"
         },
         {
          "affiliations": [
           {
            "addresses": [
             {
              "country_code": "BE"
             }
            ],
            "ids": [
             {
              "type": "magid",
              "value": "95674353"
             },
             {
              "type": "grid",
              "value": "grid.7942.8"
             },
             {
              "type": "ror",
              "value": "https://ror.org/02495e989"
             }
            ],
            "name": "Université catholique de Louvain"
           }
          ],
          "collective_name": null,
          "first_name": "Fabio",
          "initials": "F",
          "last_name": "Maltoni"
         },
         {
          "affiliations": [],
          "collective_name": null,
          "first_name": "Viktor",
          "initials": "V",
          "last_name": "Matveev"
         },
         {
          "affiliations": [
           {
            "addresses": [
             {
              "country_code": "AZ"
             }
            ],
            "ids": [
             {
              "type": "magid",
              "value": "126595936"
             },
             {
              "type": "grid",
              "value": "grid.423902.e"
             },
             {
              "type": "ror",
              "value": "https://ror.org/006m4q736"
             }
            ],
            "name": "Azerbaijan National Academy of Sciences"
           },
           {
            "addresses": [],
            "ids": [
             {
              "type": "magid",
              "value": "70931966"
             }
            ],
            "name": "Université de Montréal"
           }
          ],
          "collective_name": null,
          "first_name": "R.",
          "initials": "R",
          "last_name": "Mehdiyev"
         },
         {
          "affiliations": [
           {
            "addresses": [
             {
              "country_code": "PL"
             }
            ],
            "ids": [
             {
              "type": "magid",
              "value": "4654613"
             },
             {
              "type": "grid",
              "value": "grid.12847.38"
             },
             {
              "type": "fundref",
              "value": "501100006445"
             },
             {
              "type": "ror",
              "value": "https://ror.org/039bjqg32"
             }
            ],
            "name": "University of Warsaw"
           },
           {
            "addresses": [
             {
              "country_code": "CH"
             }
            ],
            "ids": [
             {
              "type": "magid",
              "value": "67311998"
             },
             {
              "type": "grid",
              "value": "grid.9132.9"
             },
             {
              "type": "ror",
              "value": "https://ror.org/01ggx4157"
             }
            ],
            "name": "CERN"
           }
          ],
          "collective_name": null,
          "first_name": "M.",
          "initials": "M",
          "last_name": "Misiak"
         },
         {
          "affiliations": [
           {
            "addresses": [],
            "ids": [
             {
              "type": "magid",
              "value": "204730241"
             }
            ],
            "name": "University of Paris"
           }
          ],
          "collective_name": null,
          "first_name": "G.",
          "initials": "G",
          "last_name": "Moreau"
         },
         {
          "affiliations": [
           {
            "addresses": [
             {
              "country_code": "CH"
             }
            ],
            "ids": [
             {
              "type": "magid",
              "value": "67311998"
             },
             {
              "type": "grid",
              "value": "grid.9132.9"
             },
             {
              "type": "ror",
              "value": "https://ror.org/01ggx4157"
             }
            ],
            "name": "CERN"
           }
          ],
          "collective_name": null,
          "first_name": "Margarete",
          "initials": "M",
          "last_name": "Mühlleitner"
         },
         {
          "affiliations": [
           {
            "addresses": [
             {
              "country_code": "EE"
             }
            ],
            "ids": [
             {
              "type": "magid",
              "value": "31528381"
             },
             {
              "type": "grid",
              "value": "grid.177284.f"
             },
             {
              "type": "ror",
              "value": "https://ror.org/03eqd4a41"
             }
            ],
            "name": "National Institute of Chemical Physics and Biophysics"
           }
          ],
          "collective_name": null,
          "first_name": "M.",
          "initials": "M",
          "last_name": "Müntel"
         },
         {
          "affiliations": [
           {
            "addresses": [
             {
              "country_code": "PT"
             }
            ],
            "ids": [
             {
              "type": "magid",
              "value": "76903346"
             },
             {
              "type": "grid",
              "value": "grid.8051.c"
             },
             {
              "type": "ror",
              "value": "https://ror.org/04z8k9a98"
             }
            ],
            "name": "University of Coimbra"
           }
          ],
          "collective_name": null,
          "first_name": "A.",
          "initials": "A",
          "last_name": "Onofre"
         },
         {
          "affiliations": [
           {
            "addresses": [
             {
              "country_code": "GB"
             }
            ],
            "ids": [
             {
              "type": "magid",
              "value": "45129253"
             },
             {
              "type": "grid",
              "value": "grid.83440.3b"
             },
             {
              "type": "fundref",
              "value": "501100000765"
             },
             {
              "type": "ror",
              "value": "https://ror.org/02jx3x895"
             }
            ],
            "name": "University College London"
           }
          ],
          "collective_name": null,
          "first_name": "E.",
          "initials": "E",
          "last_name": "Ozcan"
         },
         {
          "affiliations": [
           {
            "addresses": [
             {
              "country_code": "IT"
             }
            ],
            "ids": [
             {
              "type": "magid",
              "value": "108290504"
             },
             {
              "type": "grid",
              "value": "grid.5395.a"
             },
             {
              "type": "ror",
              "value": "https://ror.org/03ad39j10"
             }
            ],
            "name": "University of Pisa"
           }
          ],
          "collective_name": null,
          "first_name": "Fabrizio",
          "initials": "F",
          "last_name": "Palla"
         },
         {
          "affiliations": [
           {
            "addresses": [
             {
              "country_code": "IT"
             }
            ],
            "ids": [
             {
              "type": "magid",
              "value": "142444530"
             },
             {
              "type": "grid",
              "value": "grid.5133.4"
             },
             {
              "type": "ror",
              "value": "https://ror.org/02n742c10"
             }
            ],
            "name": "University of Trieste"
           }
          ],
          "collective_name": null,
          "first_name": "L.",
          "initials": "L",
          "last_name": "Panizzi"
         },
         {
          "affiliations": [
           {
            "addresses": [
             {
              "country_code": "ES"
             }
            ],
            "ids": [
             {
              "type": "magid",
              "value": "255234318"
             },
             {
              "type": "grid",
              "value": "grid.11205.37"
             },
             {
              "type": "ror",
              "value": "https://ror.org/012a91z28"
             }
            ],
            "name": "University of Zaragoza"
           }
          ],
          "collective_name": null,
          "first_name": "S.",
          "initials": "S",
          "last_name": "Penaranda"
         },
         {
          "affiliations": [
           {
            "addresses": [
             {
              "country_code": "IT"
             }
            ],
            "ids": [
             {
              "type": "magid",
              "value": "55143463"
             },
             {
              "type": "grid",
              "value": "grid.7605.4"
             },
             {
              "type": "fundref",
              "value": "501100006692"
             },
             {
              "type": "ror",
              "value": "https://ror.org/048tbm396"
             }
            ],
            "name": "University of Turin"
           }
          ],
          "collective_name": null,
          "first_name": "Roberto",
          "initials": "R",
          "last_name": "Pittau"
         },
         {
          "affiliations": [
           {
            "addresses": [
             {
              "country_code": "IN"
             }
            ],
            "ids": [
             {
              "type": "magid",
              "value": "16019930"
             },
             {
              "type": "grid",
              "value": "grid.473481.d"
             },
             {
              "type": "ror",
              "value": "https://ror.org/0491yz035"
             }
            ],
            "name": "Saha Institute of Nuclear Physics"
           }
          ],
          "collective_name": null,
          "first_name": "A.",
          "initials": "A",
          "last_name": "Pukhov"
         },
         {
          "affiliations": [
           {
            "addresses": [
             {
              "country_code": "EE"
             }
            ],
            "ids": [
             {
              "type": "magid",
              "value": "31528381"
             },
             {
              "type": "grid",
              "value": "grid.177284.f"
             },
             {
              "type": "ror",
              "value": "https://ror.org/03eqd4a41"
             }
            ],
            "name": "National Institute of Chemical Physics and Biophysics"
           }
          ],
          "collective_name": null,
          "first_name": "Martti",
          "initials": "M",
          "last_name": "Raidal"
         },
         {
          "affiliations": [
           {
            "addresses": [
             {
              "country_code": "GB"
             }
            ],
            "ids": [
             {
              "type": "magid",
              "value": "241749"
             },
             {
              "type": "grid",
              "value": "grid.5335.0"
             },
             {
              "type": "fundref",
              "value": "501100000735"
             },
             {
              "type": "wikidata",
              "value": "q35794"
             },
             {
              "type": "ror",
              "value": "https://ror.org/013meh722"
             }
            ],
            "name": "University of Cambridge"
           }
          ],
          "collective_name": null,
          "first_name": "Are",
          "initials": "A",
          "last_name": "Raklev"
         },
         {
          "affiliations": [
           {
            "addresses": [
             {
              "country_code": "EE"
             }
            ],
            "ids": [
             {
              "type": "magid",
              "value": "31528381"
             },
             {
              "type": "grid",
              "value": "grid.177284.f"
             },
             {
              "type": "ror",
              "value": "https://ror.org/03eqd4a41"
             }
            ],
            "name": "National Institute of Chemical Physics and Biophysics"
           }
          ],
          "collective_name": null,
          "first_name": "L.",
          "initials": "L",
          "last_name": "Rebane"
         },
         {
          "affiliations": [
           {
            "addresses": [
             {
              "country_code": "FR"
             }
            ],
            "ids": [
             {
              "type": "magid",
              "value": "19894307"
             },
             {
              "type": "grid",
              "value": "grid.121334.6"
             },
             {
              "type": "ror",
              "value": "https://ror.org/051escj72"
             }
            ],
            "name": "University of Montpellier"
           }
          ],
          "collective_name": null,
          "first_name": "F. M.",
          "initials": "FM",
          "last_name": "Renard"
         },
         {
          "affiliations": [
           {
            "addresses": [
             {
              "country_code": "CO"
             }
            ],
            "ids": [
             {
              "type": "magid",
              "value": "35961687"
             },
             {
              "type": "grid",
              "value": "grid.412881.6"
             },
             {
              "type": "ror",
              "value": "https://ror.org/03bp5hc83"
             }
            ],
            "name": "University of Antioquia"
           }
          ],
          "collective_name": null,
          "first_name": "Diego",
          "initials": "D",
          "last_name": "Restrepo"
         },
         {
          "affiliations": [
           {
            "addresses": [
             {
              "country_code": "GR"
             }
            ],
            "ids": [
             {
              "type": "magid",
              "value": "200777214"
             },
             {
              "type": "grid",
              "value": "grid.5216.0"
             },
             {
              "type": "ror",
              "value": "https://ror.org/04gnjpq42"
             }
            ],
            "name": "National and Kapodistrian University of Athens"
           }
          ],
          "collective_name": null,
          "first_name": "Zacharias",
          "initials": "Z",
          "last_name": "Roupas"
         },
         {
          "affiliations": [
           {
            "addresses": [
             {
              "country_code": "PT"
             }
            ],
            "ids": [
             {
              "type": "magid",
              "value": "141596103"
             },
             {
              "type": "grid",
              "value": "grid.9983.b"
             },
             {
              "type": "fundref",
              "value": "501100005765"
             },
             {
              "type": "wikidata",
              "value": "q1122926"
             },
             {
              "type": "ror",
              "value": "https://ror.org/01c27hj86"
             }
            ],
            "name": "University of Lisbon"
           }
          ],
          "collective_name": null,
          "first_name": "Rui",
          "initials": "R",
          "last_name": "Santos"
         },
         {
          "affiliations": [
           {
            "addresses": [
             {
              "country_code": "DE"
             }
            ],
            "ids": [
             {
              "type": "magid",
              "value": "78650965"
             },
             {
              "type": "grid",
              "value": "grid.4488.0"
             },
             {
              "type": "fundref",
              "value": "501100002957"
             },
             {
              "type": "wikidata",
              "value": "q158158"
             },
             {
              "type": "ror",
              "value": "https://ror.org/042aqky30"
             }
            ],
            "name": "Dresden University of Technology"
           }
          ],
          "collective_name": null,
          "first_name": "Steffen",
          "initials": "S",
          "last_name": "Schumann"
         },
         {
          "affiliations": [
           {
            "addresses": [
             {
              "country_code": "CH"
             }
            ],
            "ids": [
             {
              "type": "magid",
              "value": "67311998"
             },
             {
              "type": "grid",
              "value": "grid.9132.9"
             },
             {
              "type": "ror",
              "value": "https://ror.org/01ggx4157"
             }
            ],
            "name": "CERN"
           }
          ],
          "collective_name": null,
          "first_name": "G.",
          "initials": "G",
          "last_name": "Servant"
         },
         {
          "affiliations": [
           {
            "addresses": [
             {
              "country_code": "DE"
             }
            ],
            "ids": [
             {
              "type": "magid",
              "value": "78650965"
             },
             {
              "type": "grid",
              "value": "grid.4488.0"
             },
             {
              "type": "fundref",
              "value": "501100002957"
             },
             {
              "type": "wikidata",
              "value": "q158158"
             },
             {
              "type": "ror",
              "value": "https://ror.org/042aqky30"
             }
            ],
            "name": "Dresden University of Technology"
           }
          ],
          "collective_name": null,
          "first_name": "Frank",
          "initials": "F",
          "last_name": "Siegert"
         },
         {
          "affiliations": [
           {
            "addresses": [
             {
              "country_code": "US"
             }
            ],
            "ids": [
             {
              "type": "magid",
              "value": "1314696892"
             },
             {
              "type": "grid",
              "value": "grid.417851.e"
             },
             {
              "type": "ror",
              "value": "https://ror.org/020hgte69"
             }
            ],
            "name": "Fermilab"
           }
          ],
          "collective_name": null,
          "first_name": "Peter",
          "initials": "P",
          "last_name": "Skands"
         },
         {
          "affiliations": [
           {
            "addresses": [
             {
              "country_code": "FR"
             }
            ],
            "ids": [
             {
              "type": "magid",
              "value": "1294671590"
             },
             {
              "type": "grid",
              "value": "grid.4444.0"
             },
             {
              "type": "wikidata",
              "value": "q280413"
             },
             {
              "type": "ror",
              "value": "https://ror.org/02feahw73"
             }
            ],
            "name": "Centre national de la recherche scientifique"
           },
           {
            "addresses": [
             {
              "country_code": "CH"
             }
            ],
            "ids": [
             {
              "type": "magid",
              "value": "67311998"
             },
             {
              "type": "grid",
              "value": "grid.9132.9"
             },
             {
              "type": "ror",
              "value": "https://ror.org/01ggx4157"
             }
            ],
            "name": "CERN"
           }
          ],
          "collective_name": null,
          "first_name": "P.",
          "initials": "P",
          "last_name": "Slavich"
         },
         {
          "affiliations": [
           {
            "addresses": [
             {
              "country_code": "ES"
             }
            ],
            "ids": [
             {
              "type": "magid",
              "value": "123044942"
             },
             {
              "type": "grid",
              "value": "grid.7080.f"
             },
             {
              "type": "isni",
              "value": "0000000122960625"
             },
             {
              "type": "ror",
              "value": "https://ror.org/052g8jq94"
             }
            ],
            "name": "Autonomous University of Barcelona"
           },
           {
            "addresses": [
             {
              "country_code": "ES"
             }
            ],
            "ids": [
             {
              "type": "magid",
              "value": "71999127"
             },
             {
              "type": "grid",
              "value": "grid.5841.8"
             },
             {
              "type": "fundref",
              "value": "501100005774"
             },
             {
              "type": "ror",
              "value": "https://ror.org/021018s57"
             }
            ],
            "name": "University of Barcelona"
           }
          ],
          "collective_name": null,
          "first_name": "Joan",
          "initials": "J",
          "last_name": "Sola"
         },
         {
          "affiliations": [
           {
            "addresses": [
             {
              "country_code": "CH"
             }
            ],
            "ids": [
             {
              "type": "magid",
              "value": "2802229908"
             },
             {
              "type": "grid",
              "value": "grid.5991.4"
             },
             {
              "type": "ror",
              "value": "https://ror.org/03eh3y714"
             }
            ],
            "name": "Paul Scherrer Institute"
           }
          ],
          "collective_name": null,
          "first_name": "Michael",
          "initials": "M",
          "last_name": "Spira"
         },
         {
          "affiliations": [
           {
            "addresses": [
             {
              "country_code": "AZ"
             }
            ],
            "ids": [
             {
              "type": "magid",
              "value": "126595936"
             },
             {
              "type": "grid",
              "value": "grid.423902.e"
             },
             {
              "type": "ror",
              "value": "https://ror.org/006m4q736"
             }
            ],
            "name": "Azerbaijan National Academy of Sciences"
           },
           {
            "addresses": [
             {
              "country_code": "TR"
             }
            ],
            "ids": [
             {
              "type": "magid",
              "value": "13236232"
             },
             {
              "type": "grid",
              "value": "grid.412749.d"
             },
             {
              "type": "ror",
              "value": "https://ror.org/03ewx7v96"
             }
            ],
            "name": "TOBB University of Economics and Technology"
           }
          ],
          "collective_name": null,
          "first_name": "Saleh",
          "initials": "S",
          "last_name": "Sultansoy"
         },
         {
          "affiliations": [],
          "collective_name": null,
          "first_name": "Alexander",
          "initials": "A",
          "last_name": "Toropin"
         },
         {
          "affiliations": [
           {
            "addresses": [
             {
              "country_code": "GB"
             }
            ],
            "ids": [
             {
              "type": "magid",
              "value": "40120149"
             },
             {
              "type": "grid",
              "value": "grid.4991.5"
             },
             {
              "type": "fundref",
              "value": "501100000769"
             },
             {
              "type": "wikidata",
              "value": "q34433"
             },
             {
              "type": "ror",
              "value": "https://ror.org/052gg0110"
             }
            ],
            "name": "University of Oxford"
           }
          ],
          "collective_name": null,
          "first_name": "Jc-L",
          "initials": "J",
          "last_name": "Tseng"
         },
         {
          "affiliations": [
           {
            "addresses": [
             {
              "country_code": "ES"
             }
            ],
            "ids": [
             {
              "type": "magid",
              "value": "134820265"
             },
             {
              "type": "grid",
              "value": "grid.4711.3"
             },
             {
              "type": "ror",
              "value": "https://ror.org/02gfc7t72"
             }
            ],
            "name": "Spanish National Research Council"
           }
          ],
          "collective_name": null,
          "first_name": "José W. F.",
          "initials": "JWF",
          "last_name": "Valle"
         },
         {
          "affiliations": [
           {
            "addresses": [
             {
              "country_code": "PT"
             }
            ],
            "ids": [
             {
              "type": "magid",
              "value": "76903346"
             },
             {
              "type": "grid",
              "value": "grid.8051.c"
             },
             {
              "type": "ror",
              "value": "https://ror.org/04z8k9a98"
             }
            ],
            "name": "University of Coimbra"
           }
          ],
          "collective_name": null,
          "first_name": "Filipe",
          "initials": "F",
          "last_name": "Veloso"
         },
         {
          "affiliations": [
           {
            "addresses": [
             {
              "country_code": "IT"
             }
            ],
            "ids": [
             {
              "type": "magid",
              "value": "142910587"
             },
             {
              "type": "grid",
              "value": "grid.9906.6"
             },
             {
              "type": "fundref",
              "value": "501100005728"
             },
             {
              "type": "ror",
              "value": "https://ror.org/03fc1k060"
             }
            ],
            "name": "University of Salento"
           }
          ],
          "collective_name": null,
          "first_name": "Andrea",
          "initials": "A",
          "last_name": "Ventura"
         },
         {
          "affiliations": [],
          "collective_name": null,
          "first_name": "G.",
          "initials": "G",
          "last_name": "Vermisoglou"
         },
         {
          "affiliations": [
           {
            "addresses": [
             {
              "country_code": "IT"
             }
            ],
            "ids": [
             {
              "type": "magid",
              "value": "142444530"
             },
             {
              "type": "grid",
              "value": "grid.5133.4"
             },
             {
              "type": "ror",
              "value": "https://ror.org/02n742c10"
             }
            ],
            "name": "University of Trieste"
           }
          ],
          "collective_name": null,
          "first_name": "Claudio",
          "initials": "C",
          "last_name": "Verzegnassi"
         },
         {
          "affiliations": [
           {
            "addresses": [
             {
              "country_code": "ES"
             }
            ],
            "ids": [
             {
              "type": "magid",
              "value": "134820265"
             },
             {
              "type": "grid",
              "value": "grid.4711.3"
             },
             {
              "type": "ror",
              "value": "https://ror.org/02gfc7t72"
             }
            ],
            "name": "Spanish National Research Council"
           }
          ],
          "collective_name": null,
          "first_name": "A. Villanova",
          "initials": "AV",
          "last_name": "del Moral"
         },
         {
          "affiliations": [
           {
            "addresses": [
             {
              "country_code": "GB"
             }
            ],
            "ids": [
             {
              "type": "magid",
              "value": "190082696"
             },
             {
              "type": "grid",
              "value": "grid.8250.f"
             },
             {
              "type": "fundref",
              "value": "501100001314"
             },
             {
              "type": "ror",
              "value": "https://ror.org/01v29qb04"
             }
            ],
            "name": "Durham University"
           }
          ],
          "collective_name": null,
          "first_name": "Georg",
          "initials": "G",
          "last_name": "Weiglein"
         },
         {
          "affiliations": [
           {
            "addresses": [
             {
              "country_code": "TR"
             }
            ],
            "ids": [
             {
              "type": "magid",
              "value": "95634034"
             },
             {
              "type": "grid",
              "value": "grid.25769.3f"
             },
             {
              "type": "ror",
              "value": "https://ror.org/054xkpr46"
             }
            ],
            "name": "Gazi University"
           }
          ],
          "collective_name": null,
          "first_name": "Mustafa",
          "initials": "M",
          "last_name": "Yilmaz"
         }
        ],
        "chemicals": [],
        "date_published": {
         "date": "2008-11-12T00:00:00+00:00"
        },
        "end_page": "307",
        "fields_of_study": [
         {
          "name": "Particle physics"
         },
         {
          "name": "Supersymmetry"
         },
         {
          "name": "Physics"
         },
         {
          "name": "Collider"
         },
         {
          "name": "Physics beyond the Standard Model"
         },
         {
          "name": "Top quark"
         },
         {
          "name": "Extra dimensions"
         },
         {
          "name": "Little Higgs"
         },
         {
          "name": "Standard Model"
         },
         {
          "name": "Large Hadron Collider"
         },
         {
          "name": "Flavour"
         }
        ],
        "funding": [],
        "issue": "1",
        "keywords": [],
        "lens_id": "024-146-168-989-258",
        "mesh_terms": [],
        "patent_citations_count": 0,
        "publication_type": "journal article",
        "references": [
         {
          "lens_id": "000-065-002-869-795"
         },
         {
          "lens_id": "000-090-056-631-154"
         },
         {
          "lens_id": "000-192-464-312-977"
         },
         {
          "lens_id": "000-743-674-980-605"
         },
         {
          "lens_id": "000-936-570-455-620"
         },
         {
          "lens_id": "001-377-498-064-139"
         },
         {
          "lens_id": "001-781-691-036-943"
         },
         {
          "lens_id": "001-896-129-673-662"
         },
         {
          "lens_id": "001-924-693-986-534"
         },
         {
          "lens_id": "001-952-445-171-983"
         },
         {
          "lens_id": "002-037-108-095-980"
         },
         {
          "lens_id": "002-146-103-859-315"
         },
         {
          "lens_id": "002-219-524-331-433"
         },
         {
          "lens_id": "002-297-454-626-802"
         },
         {
          "lens_id": "002-463-034-029-818"
         },
         {
          "lens_id": "002-468-332-870-202"
         },
         {
          "lens_id": "002-641-499-706-304"
         },
         {
          "lens_id": "002-817-358-987-671"
         },
         {
          "lens_id": "003-186-365-759-122"
         },
         {
          "lens_id": "003-205-747-487-872"
         },
         {
          "lens_id": "004-173-046-542-544"
         },
         {
          "lens_id": "004-265-890-498-903"
         },
         {
          "lens_id": "004-266-150-406-537"
         },
         {
          "lens_id": "004-272-793-521-740"
         },
         {
          "lens_id": "004-293-844-590-723"
         },
         {
          "lens_id": "004-457-637-538-322"
         },
         {
          "lens_id": "004-492-991-730-417"
         },
         {
          "lens_id": "004-493-380-559-651"
         },
         {
          "lens_id": "004-493-644-347-987"
         },
         {
          "lens_id": "004-524-412-110-840"
         },
         {
          "lens_id": "004-577-800-478-689"
         },
         {
          "lens_id": "005-079-472-294-032"
         },
         {
          "lens_id": "005-177-464-922-296"
         },
         {
          "lens_id": "005-404-375-600-516"
         },
         {
          "lens_id": "005-662-900-439-719"
         },
         {
          "lens_id": "005-732-699-386-221"
         },
         {
          "lens_id": "005-812-790-132-572"
         },
         {
          "lens_id": "005-965-662-910-082"
         },
         {
          "lens_id": "005-969-417-021-917"
         },
         {
          "lens_id": "006-122-400-683-677"
         },
         {
          "lens_id": "006-223-649-201-197"
         },
         {
          "lens_id": "006-431-165-978-270"
         },
         {
          "lens_id": "006-749-824-072-043"
         },
         {
          "lens_id": "006-768-323-137-711"
         },
         {
          "lens_id": "007-043-351-767-225"
         },
         {
          "lens_id": "007-073-333-172-92X"
         },
         {
          "lens_id": "007-230-345-675-125"
         },
         {
          "lens_id": "007-312-979-353-709"
         },
         {
          "lens_id": "007-635-350-178-874"
         },
         {
          "lens_id": "007-654-110-025-32X"
         },
         {
          "lens_id": "007-808-214-410-846"
         },
         {
          "lens_id": "007-895-109-818-231"
         },
         {
          "lens_id": "008-067-806-341-363"
         },
         {
          "lens_id": "008-359-622-982-996"
         },
         {
          "lens_id": "008-428-630-866-123"
         },
         {
          "lens_id": "008-572-474-212-297"
         },
         {
          "lens_id": "008-631-207-228-953"
         },
         {
          "lens_id": "008-792-643-501-87X"
         },
         {
          "lens_id": "008-795-191-711-254"
         },
         {
          "lens_id": "008-950-134-502-306"
         },
         {
          "lens_id": "009-055-197-158-720"
         },
         {
          "lens_id": "009-127-455-650-049"
         },
         {
          "lens_id": "009-519-438-206-918"
         },
         {
          "lens_id": "010-180-775-758-145"
         },
         {
          "lens_id": "010-322-499-664-126"
         },
         {
          "lens_id": "010-565-128-405-236"
         },
         {
          "lens_id": "010-923-905-340-965"
         },
         {
          "lens_id": "010-940-115-776-566"
         },
         {
          "lens_id": "011-427-082-063-904"
         },
         {
          "lens_id": "011-437-045-568-048"
         },
         {
          "lens_id": "011-466-130-112-064"
         },
         {
          "lens_id": "011-470-021-258-496"
         },
         {
          "lens_id": "012-189-645-265-055"
         },
         {
          "lens_id": "012-453-692-292-961"
         },
         {
          "lens_id": "012-985-910-574-308"
         },
         {
          "lens_id": "013-259-596-310-83X"
         },
         {
          "lens_id": "013-755-871-777-382"
         },
         {
          "lens_id": "013-923-164-133-246"
         },
         {
          "lens_id": "014-310-131-093-932"
         },
         {
          "lens_id": "014-776-390-450-601"
         },
         {
          "lens_id": "014-959-004-948-199"
         },
         {
          "lens_id": "015-144-031-122-586"
         },
         {
          "lens_id": "015-627-982-399-413"
         },
         {
          "lens_id": "015-761-858-353-204"
         },
         {
          "lens_id": "016-762-020-138-480"
         },
         {
          "lens_id": "016-773-516-771-152"
         },
         {
          "lens_id": "016-922-557-484-121"
         },
         {
          "lens_id": "017-033-376-002-740"
         },
         {
          "lens_id": "017-125-436-143-202"
         },
         {
          "lens_id": "017-249-392-032-504"
         },
         {
          "lens_id": "017-526-384-733-063"
         },
         {
          "lens_id": "017-543-620-632-534"
         },
         {
          "lens_id": "017-543-777-960-165"
         },
         {
          "lens_id": "017-718-955-235-778"
         },
         {
          "lens_id": "017-972-617-672-91X"
         },
         {
          "lens_id": "017-984-844-622-03X"
         },
         {
          "lens_id": "018-322-126-201-445"
         },
         {
          "lens_id": "018-348-025-759-541"
         },
         {
          "lens_id": "019-220-340-380-922"
         },
         {
          "lens_id": "019-743-173-884-316"
         },
         {
          "lens_id": "019-823-318-792-595"
         },
         {
          "lens_id": "020-073-005-231-231"
         },
         {
          "lens_id": "020-083-362-658-937"
         },
         {
          "lens_id": "020-156-535-903-297"
         },
         {
          "lens_id": "020-655-986-738-151"
         },
         {
          "lens_id": "020-961-422-567-057"
         },
         {
          "lens_id": "021-243-354-900-638"
         },
         {
          "lens_id": "021-284-260-020-892"
         },
         {
          "lens_id": "021-436-465-519-101"
         },
         {
          "lens_id": "021-841-519-211-030"
         },
         {
          "lens_id": "021-943-712-758-73X"
         },
         {
          "lens_id": "022-084-662-625-974"
         },
         {
          "lens_id": "022-185-340-608-736"
         },
         {
          "lens_id": "022-199-680-202-772"
         },
         {
          "lens_id": "023-117-585-416-435"
         },
         {
          "lens_id": "023-382-708-524-573"
         },
         {
          "lens_id": "023-713-484-243-61X"
         },
         {
          "lens_id": "023-894-508-661-628"
         },
         {
          "lens_id": "024-370-456-102-072"
         },
         {
          "lens_id": "024-671-643-592-619"
         },
         {
          "lens_id": "024-772-134-423-297"
         },
         {
          "lens_id": "025-089-161-458-401"
         },
         {
          "lens_id": "025-193-039-973-303"
         },
         {
          "lens_id": "025-225-739-419-26X"
         },
         {
          "lens_id": "026-456-619-330-863"
         },
         {
          "lens_id": "026-623-148-069-245"
         },
         {
          "lens_id": "026-865-750-589-448"
         },
         {
          "lens_id": "026-919-983-049-582"
         },
         {
          "lens_id": "027-363-693-451-624"
         },
         {
          "lens_id": "027-671-586-904-872"
         },
         {
          "lens_id": "027-808-135-165-825"
         },
         {
          "lens_id": "027-893-902-135-694"
         },
         {
          "lens_id": "028-025-557-577-438"
         },
         {
          "lens_id": "028-159-180-754-951"
         },
         {
          "lens_id": "028-320-978-272-044"
         },
         {
          "lens_id": "028-624-540-304-251"
         },
         {
          "lens_id": "028-931-488-210-994"
         },
         {
          "lens_id": "029-398-381-183-619"
         },
         {
          "lens_id": "029-495-774-773-278"
         },
         {
          "lens_id": "029-565-348-911-763"
         },
         {
          "lens_id": "029-756-174-459-149"
         },
         {
          "lens_id": "030-010-313-738-127"
         },
         {
          "lens_id": "030-234-990-326-210"
         },
         {
          "lens_id": "030-742-815-711-93X"
         },
         {
          "lens_id": "030-939-287-348-012"
         },
         {
          "lens_id": "031-448-705-308-882"
         },
         {
          "lens_id": "031-553-024-155-248"
         },
         {
          "lens_id": "032-233-492-740-812"
         },
         {
          "lens_id": "032-351-163-468-552"
         },
         {
          "lens_id": "032-605-095-264-407"
         },
         {
          "lens_id": "032-612-029-743-253"
         },
         {
          "lens_id": "032-626-861-548-533"
         },
         {
          "lens_id": "032-712-067-912-829"
         },
         {
          "lens_id": "032-937-966-027-29X"
         },
         {
          "lens_id": "032-997-366-438-700"
         },
         {
          "lens_id": "033-037-157-321-328"
         },
         {
          "lens_id": "033-094-304-921-413"
         },
         {
          "lens_id": "033-109-497-413-157"
         },
         {
          "lens_id": "033-580-785-497-396"
         },
         {
          "lens_id": "033-719-803-976-74X"
         },
         {
          "lens_id": "033-831-559-129-994"
         },
         {
          "lens_id": "034-653-562-790-641"
         },
         {
          "lens_id": "034-668-187-663-414"
         },
         {
          "lens_id": "035-637-593-383-930"
         },
         {
          "lens_id": "035-698-361-261-474"
         },
         {
          "lens_id": "035-718-297-146-425"
         },
         {
          "lens_id": "036-544-094-674-091"
         },
         {
          "lens_id": "037-134-329-920-168"
         },
         {
          "lens_id": "037-410-785-700-386"
         },
         {
          "lens_id": "038-255-329-999-619"
         },
         {
          "lens_id": "038-745-139-801-028"
         },
         {
          "lens_id": "038-819-753-332-187"
         },
         {
          "lens_id": "038-935-846-675-494"
         },
         {
          "lens_id": "039-175-060-559-886"
         },
         {
          "lens_id": "039-731-817-914-523"
         },
         {
          "lens_id": "039-844-088-057-63X"
         },
         {
          "lens_id": "039-861-158-404-25X"
         },
         {
          "lens_id": "040-043-382-795-209"
         },
         {
          "lens_id": "040-086-824-555-975"
         },
         {
          "lens_id": "040-732-993-604-76X"
         },
         {
          "lens_id": "040-870-533-101-585"
         },
         {
          "lens_id": "041-484-698-280-914"
         },
         {
          "lens_id": "041-636-423-174-493"
         },
         {
          "lens_id": "042-076-620-354-251"
         },
         {
          "lens_id": "042-951-839-004-435"
         },
         {
          "lens_id": "043-016-739-274-090"
         },
         {
          "lens_id": "043-041-757-257-977"
         },
         {
          "lens_id": "043-150-389-327-697"
         },
         {
          "lens_id": "043-451-318-908-098"
         },
         {
          "lens_id": "043-519-626-614-209"
         },
         {
          "lens_id": "043-548-762-972-089"
         },
         {
          "lens_id": "043-607-305-135-75X"
         },
         {
          "lens_id": "043-837-203-178-592"
         },
         {
          "lens_id": "044-123-247-891-287"
         },
         {
          "lens_id": "044-243-648-364-839"
         },
         {
          "lens_id": "044-601-876-979-242"
         },
         {
          "lens_id": "044-648-544-643-062"
         },
         {
          "lens_id": "044-878-057-888-680"
         },
         {
          "lens_id": "045-101-316-454-54X"
         },
         {
          "lens_id": "045-822-173-762-130"
         },
         {
          "lens_id": "045-863-379-675-228"
         },
         {
          "lens_id": "046-459-035-142-489"
         },
         {
          "lens_id": "046-479-776-846-035"
         },
         {
          "lens_id": "046-629-797-098-946"
         },
         {
          "lens_id": "046-687-712-695-668"
         },
         {
          "lens_id": "046-944-331-073-712"
         },
         {
          "lens_id": "047-263-785-897-356"
         },
         {
          "lens_id": "047-703-743-242-358"
         },
         {
          "lens_id": "047-713-588-368-282"
         },
         {
          "lens_id": "047-906-059-637-45X"
         },
         {
          "lens_id": "047-910-642-672-641"
         },
         {
          "lens_id": "048-072-127-530-899"
         },
         {
          "lens_id": "048-196-995-992-051"
         },
         {
          "lens_id": "048-278-888-201-145"
         },
         {
          "lens_id": "048-381-853-457-664"
         },
         {
          "lens_id": "048-504-214-872-957"
         },
         {
          "lens_id": "048-917-463-934-974"
         },
         {
          "lens_id": "048-919-788-198-88X"
         },
         {
          "lens_id": "049-497-873-664-338"
         },
         {
          "lens_id": "049-708-308-545-325"
         },
         {
          "lens_id": "049-788-286-582-506"
         },
         {
          "lens_id": "050-020-178-248-479"
         },
         {
          "lens_id": "050-503-296-251-106"
         },
         {
          "lens_id": "050-506-069-641-175"
         },
         {
          "lens_id": "050-729-337-052-093"
         },
         {
          "lens_id": "051-210-984-196-056"
         },
         {
          "lens_id": "051-849-897-564-356"
         },
         {
          "lens_id": "052-239-122-110-322"
         },
         {
          "lens_id": "052-292-492-856-706"
         },
         {
          "lens_id": "052-381-511-704-172"
         },
         {
          "lens_id": "052-994-918-324-341"
         },
         {
          "lens_id": "053-367-087-181-987"
         },
         {
          "lens_id": "053-395-312-380-009"
         },
         {
          "lens_id": "053-682-902-339-438"
         },
         {
          "lens_id": "053-723-707-933-843"
         },
         {
          "lens_id": "054-042-624-901-822"
         },
         {
          "lens_id": "054-187-646-663-279"
         },
         {
          "lens_id": "054-750-623-305-487"
         },
         {
          "lens_id": "054-904-338-187-441"
         },
         {
          "lens_id": "055-426-058-727-40X"
         },
         {
          "lens_id": "055-592-172-537-961"
         },
         {
          "lens_id": "056-547-446-247-042"
         },
         {
          "lens_id": "056-580-055-086-40X"
         },
         {
          "lens_id": "056-779-330-972-480"
         },
         {
          "lens_id": "056-891-086-742-148"
         },
         {
          "lens_id": "057-174-809-170-417"
         },
         {
          "lens_id": "057-377-962-432-874"
         },
         {
          "lens_id": "057-433-770-353-331"
         },
         {
          "lens_id": "057-654-112-331-025"
         },
         {
          "lens_id": "057-664-909-937-736"
         },
         {
          "lens_id": "058-409-728-707-42X"
         },
         {
          "lens_id": "058-466-745-513-548"
         },
         {
          "lens_id": "058-617-512-606-941"
         },
         {
          "lens_id": "058-969-646-963-134"
         },
         {
          "lens_id": "059-314-595-681-821"
         },
         {
          "lens_id": "059-498-325-210-869"
         },
         {
          "lens_id": "059-696-513-370-664"
         },
         {
          "lens_id": "060-036-009-559-611"
         },
         {
          "lens_id": "060-384-803-719-281"
         },
         {
          "lens_id": "061-535-927-388-009"
         },
         {
          "lens_id": "062-093-787-877-185"
         },
         {
          "lens_id": "062-214-845-837-164"
         },
         {
          "lens_id": "062-417-957-526-782"
         },
         {
          "lens_id": "063-551-452-484-250"
         },
         {
          "lens_id": "063-551-741-436-386"
         },
         {
          "lens_id": "064-068-229-042-173"
         },
         {
          "lens_id": "064-350-652-723-151"
         },
         {
          "lens_id": "064-502-196-928-902"
         },
         {
          "lens_id": "064-741-197-703-455"
         },
         {
          "lens_id": "064-759-849-125-634"
         },
         {
          "lens_id": "065-190-891-981-912"
         },
         {
          "lens_id": "065-864-238-405-443"
         },
         {
          "lens_id": "066-116-055-040-261"
         },
         {
          "lens_id": "066-154-464-514-189"
         },
         {
          "lens_id": "066-474-959-277-966"
         },
         {
          "lens_id": "066-583-142-999-609"
         },
         {
          "lens_id": "066-998-610-491-537"
         },
         {
          "lens_id": "067-069-598-664-414"
         },
         {
          "lens_id": "067-416-093-293-05X"
         },
         {
          "lens_id": "068-122-496-808-663"
         },
         {
          "lens_id": "068-134-199-635-426"
         },
         {
          "lens_id": "068-339-998-888-55X"
         },
         {
          "lens_id": "068-460-876-459-831"
         },
         {
          "lens_id": "068-783-531-748-204"
         },
         {
          "lens_id": "069-054-413-557-681"
         },
         {
          "lens_id": "069-160-904-295-427"
         },
         {
          "lens_id": "069-754-097-448-551"
         },
         {
          "lens_id": "070-053-647-327-695"
         },
         {
          "lens_id": "070-374-268-655-290"
         },
         {
          "lens_id": "070-439-132-565-047"
         },
         {
          "lens_id": "070-514-308-546-008"
         },
         {
          "lens_id": "070-721-529-058-894"
         },
         {
          "lens_id": "070-768-919-913-946"
         },
         {
          "lens_id": "070-866-099-784-825"
         },
         {
          "lens_id": "071-211-191-913-828"
         },
         {
          "lens_id": "071-215-311-759-254"
         },
         {
          "lens_id": "071-265-343-524-009"
         },
         {
          "lens_id": "071-675-224-122-383"
         },
         {
          "lens_id": "072-476-448-466-171"
         },
         {
          "lens_id": "072-687-435-762-73X"
         },
         {
          "lens_id": "072-827-328-148-568"
         },
         {
          "lens_id": "073-424-338-502-495"
         },
         {
          "lens_id": "073-445-875-623-56X"
         },
         {
          "lens_id": "073-836-650-282-766"
         },
         {
          "lens_id": "073-879-357-918-366"
         },
         {
          "lens_id": "074-068-962-747-021"
         },
         {
          "lens_id": "074-111-541-324-734"
         },
         {
          "lens_id": "074-697-051-909-423"
         },
         {
          "lens_id": "074-713-335-933-692"
         },
         {
          "lens_id": "075-001-418-978-459"
         },
         {
          "lens_id": "075-078-991-038-107"
         },
         {
          "lens_id": "075-301-772-624-893"
         },
         {
          "lens_id": "076-125-388-992-831"
         },
         {
          "lens_id": "076-678-201-413-319"
         },
         {
          "lens_id": "076-702-363-358-92X"
         },
         {
          "lens_id": "076-742-023-734-104"
         },
         {
          "lens_id": "076-778-362-312-031"
         },
         {
          "lens_id": "076-978-408-808-97X"
         },
         {
          "lens_id": "077-719-590-325-017"
         },
         {
          "lens_id": "078-963-009-694-099"
         },
         {
          "lens_id": "079-046-314-199-885"
         },
         {
          "lens_id": "079-194-388-304-259"
         },
         {
          "lens_id": "079-984-635-451-798"
         },
         {
          "lens_id": "080-253-022-175-221"
         },
         {
          "lens_id": "080-414-161-382-735"
         },
         {
          "lens_id": "080-535-293-396-857"
         },
         {
          "lens_id": "080-635-102-261-123"
         },
         {
          "lens_id": "080-776-487-836-467"
         },
         {
          "lens_id": "081-594-665-686-297"
         },
         {
          "lens_id": "081-698-724-562-312"
         },
         {
          "lens_id": "081-903-374-477-934"
         },
         {
          "lens_id": "082-553-555-268-663"
         },
         {
          "lens_id": "082-820-981-578-705"
         },
         {
          "lens_id": "083-185-083-210-390"
         },
         {
          "lens_id": "083-236-587-395-525"
         },
         {
          "lens_id": "083-858-900-559-618"
         },
         {
          "lens_id": "083-876-572-754-666"
         },
         {
          "lens_id": "084-465-691-843-83X"
         },
         {
          "lens_id": "084-644-633-620-965"
         },
         {
          "lens_id": "084-859-054-602-058"
         },
         {
          "lens_id": "084-984-810-255-067"
         },
         {
          "lens_id": "085-916-996-057-924"
         },
         {
          "lens_id": "086-107-095-591-755"
         },
         {
          "lens_id": "086-419-462-238-690"
         },
         {
          "lens_id": "086-587-347-055-197"
         },
         {
          "lens_id": "086-678-803-578-21X"
         },
         {
          "lens_id": "086-710-550-139-450"
         },
         {
          "lens_id": "087-653-996-391-843"
         },
         {
          "lens_id": "087-986-882-397-863"
         },
         {
          "lens_id": "088-329-583-650-175"
         },
         {
          "lens_id": "089-055-587-877-247"
         },
         {
          "lens_id": "089-693-351-606-412"
         },
         {
          "lens_id": "090-173-586-512-724"
         },
         {
          "lens_id": "090-313-999-734-327"
         },
         {
          "lens_id": "092-110-586-477-038"
         },
         {
          "lens_id": "092-829-284-065-713"
         },
         {
          "lens_id": "093-405-681-512-668"
         },
         {
          "lens_id": "093-496-229-799-689"
         },
         {
          "lens_id": "093-803-156-830-637"
         },
         {
          "lens_id": "095-442-419-193-193"
         },
         {
          "lens_id": "096-237-088-538-698"
         },
         {
          "lens_id": "096-777-508-677-297"
         },
         {
          "lens_id": "097-202-455-568-757"
         },
         {
          "lens_id": "097-338-072-956-819"
         },
         {
          "lens_id": "097-677-899-568-562"
         },
         {
          "lens_id": "097-775-587-884-485"
         },
         {
          "lens_id": "098-071-003-174-22X"
         },
         {
          "lens_id": "098-227-067-366-19X"
         },
         {
          "lens_id": "098-244-417-150-685"
         },
         {
          "lens_id": "098-971-403-984-268"
         },
         {
          "lens_id": "098-991-951-888-945"
         },
         {
          "lens_id": "100-102-661-721-431"
         },
         {
          "lens_id": "100-253-624-213-997"
         },
         {
          "lens_id": "100-997-342-436-502"
         },
         {
          "lens_id": "101-241-857-082-113"
         },
         {
          "lens_id": "101-526-043-378-213"
         },
         {
          "lens_id": "101-945-595-513-504"
         },
         {
          "lens_id": "102-025-373-355-584"
         },
         {
          "lens_id": "103-465-181-503-576"
         },
         {
          "lens_id": "103-921-537-106-886"
         },
         {
          "lens_id": "103-985-124-585-279"
         },
         {
          "lens_id": "104-768-884-830-412"
         },
         {
          "lens_id": "105-291-237-353-868"
         },
         {
          "lens_id": "105-508-741-246-724"
         },
         {
          "lens_id": "105-716-895-466-304"
         },
         {
          "lens_id": "105-880-450-309-124"
         },
         {
          "lens_id": "106-135-906-383-637"
         },
         {
          "lens_id": "106-235-987-748-340"
         },
         {
          "lens_id": "107-198-224-645-665"
         },
         {
          "lens_id": "107-441-334-702-234"
         },
         {
          "lens_id": "108-336-050-191-083"
         },
         {
          "lens_id": "108-702-589-146-718"
         },
         {
          "lens_id": "108-743-552-837-700"
         },
         {
          "lens_id": "109-667-632-265-372"
         },
         {
          "lens_id": "110-430-321-613-667"
         },
         {
          "lens_id": "111-060-330-653-055"
         },
         {
          "lens_id": "111-265-129-821-538"
         },
         {
          "lens_id": "111-382-569-055-518"
         },
         {
          "lens_id": "112-090-565-586-276"
         },
         {
          "lens_id": "112-335-228-539-252"
         },
         {
          "lens_id": "112-408-926-193-441"
         },
         {
          "lens_id": "112-470-333-324-079"
         },
         {
          "lens_id": "112-982-003-616-297"
         },
         {
          "lens_id": "114-027-692-877-966"
         },
         {
          "lens_id": "114-143-305-216-307"
         },
         {
          "lens_id": "114-518-556-416-002"
         },
         {
          "lens_id": "115-059-175-018-824"
         },
         {
          "lens_id": "116-652-502-132-434"
         },
         {
          "lens_id": "117-119-758-545-858"
         },
         {
          "lens_id": "117-159-230-847-74X"
         },
         {
          "lens_id": "117-548-458-428-823"
         },
         {
          "lens_id": "119-671-944-681-759"
         },
         {
          "lens_id": "119-739-022-113-139"
         },
         {
          "lens_id": "120-377-603-658-479"
         },
         {
          "lens_id": "121-284-746-510-010"
         },
         {
          "lens_id": "122-846-534-402-921"
         },
         {
          "lens_id": "124-131-388-906-446"
         },
         {
          "lens_id": "124-655-381-121-803"
         },
         {
          "lens_id": "124-899-743-076-079"
         },
         {
          "lens_id": "125-072-645-011-918"
         },
         {
          "lens_id": "125-144-618-472-516"
         },
         {
          "lens_id": "128-660-345-922-680"
         },
         {
          "lens_id": "130-619-931-138-634"
         },
         {
          "lens_id": "131-148-069-461-245"
         },
         {
          "lens_id": "131-703-835-126-586"
         },
         {
          "lens_id": "132-740-490-634-452"
         },
         {
          "lens_id": "134-372-069-458-543"
         },
         {
          "lens_id": "134-698-259-134-582"
         },
         {
          "lens_id": "134-864-737-106-377"
         },
         {
          "lens_id": "137-094-172-867-62X"
         },
         {
          "lens_id": "140-177-943-363-510"
         },
         {
          "lens_id": "140-981-085-669-114"
         },
         {
          "lens_id": "141-511-380-001-07X"
         },
         {
          "lens_id": "141-615-874-293-339"
         },
         {
          "lens_id": "142-699-838-110-539"
         },
         {
          "lens_id": "143-372-782-217-397"
         },
         {
          "lens_id": "144-656-608-899-223"
         },
         {
          "lens_id": "144-715-833-506-913"
         },
         {
          "lens_id": "144-828-324-331-239"
         },
         {
          "lens_id": "145-375-560-279-599"
         },
         {
          "lens_id": "147-187-589-163-869"
         },
         {
          "lens_id": "147-608-587-684-444"
         },
         {
          "lens_id": "147-727-308-999-905"
         },
         {
          "lens_id": "149-086-166-629-84X"
         },
         {
          "lens_id": "149-876-104-884-884"
         },
         {
          "lens_id": "151-934-662-430-451"
         },
         {
          "lens_id": "154-626-922-087-296"
         },
         {
          "lens_id": "157-244-549-272-738"
         },
         {
          "lens_id": "158-124-006-571-643"
         },
         {
          "lens_id": "158-842-456-509-333"
         },
         {
          "lens_id": "159-038-905-005-253"
         },
         {
          "lens_id": "161-771-835-663-296"
         },
         {
          "lens_id": "163-563-858-460-842"
         },
         {
          "lens_id": "166-165-271-235-238"
         },
         {
          "lens_id": "169-076-981-675-224"
         },
         {
          "lens_id": "169-657-409-529-088"
         },
         {
          "lens_id": "171-446-474-332-072"
         },
         {
          "lens_id": "171-574-361-628-201"
         },
         {
          "lens_id": "172-205-957-508-916"
         },
         {
          "lens_id": "173-119-028-840-469"
         },
         {
          "lens_id": "174-295-810-414-346"
         },
         {
          "lens_id": "175-668-867-173-358"
         },
         {
          "lens_id": "176-246-865-805-530"
         },
         {
          "lens_id": "179-891-777-410-88X"
         },
         {
          "lens_id": "182-935-495-202-556"
         },
         {
          "lens_id": "196-213-596-040-166"
         },
         {
          "lens_id": "198-531-051-608-58X"
         }
        ],
        "scholarly_citations_count": 78,
        "source": {
         "country": "Germany",
         "issn": [
          {
           "type": "print",
           "value": "14346044"
          },
          {
           "type": "electronic",
           "value": "14346052"
          }
         ],
         "publisher": "Springer Science and Business Media LLC",
         "title_full": "The European Physical Journal C"
        },
        "source_urls": [
         {
          "type": "html",
          "url": "https://bibliotecadigital.udea.edu.co/handle/10495/8303"
         },
         {
          "type": "html",
          "url": "https://hal.archives-ouvertes.fr/in2p3-00204175"
         },
         {
          "type": "html",
          "url": "https://ora.ox.ac.uk/objects/uuid:decb0822-c3fc-44f5-8b48-70787000abc7"
         },
         {
          "type": "html",
          "url": "https://bib-pubdb1.desy.de/record/300913"
         },
         {
          "type": "html",
          "url": "https://gcris.etu.edu.tr/handle/20.500.11851/5141"
         },
         {
          "type": "pdf",
          "url": "https://link.springer.com/content/pdf/10.1140/epjc/s10052-008-0713-4"
         },
         {
          "type": "html",
          "url": "https://lup.lub.lu.se/search/publication/9e9aac84-6518-483f-bdcd-65c4b493f92f"
         },
         {
          "type": "pdf",
          "url": "http://bibliotecadigital.udea.edu.co/bitstream/10495/8303/1/RestrepoDiego_2008_ColliderAspectsFlavor.pdf"
         },
         {
          "type": "pdf",
          "url": "https://digital.library.unt.edu/ark:/67531/metadc899260/m2/1/high_res_d/924755.pdf"
         },
         {
          "type": "html",
          "url": "https://difusion.ulb.ac.be/vufind/Record/ULB-DIPOT:oai:dipot.ulb.ac.be:2013/206180/Details"
         },
         {
          "type": "html",
          "url": "https://research.monash.edu/en/publications/collider-aspects-of-flavor-physics-at-high-q"
         },
         {
          "type": "unknown",
          "url": "https://repositorio.unesp.br/handle/11449/9262"
         },
         {
          "type": "html",
          "url": "http://repositorio.unesp.br/handle/11449/9262"
         },
         {
          "type": "html",
          "url": "https://iris.unica.it/handle/11584/320161.2?mode=full.1225"
         },
         {
          "type": "html",
          "url": "https://orbi.uliege.be/handle/2268/179724"
         },
         {
          "type": "html",
          "url": "http://ui.adsabs.harvard.edu/abs/2008EPJC...57..183L/abstract"
         },
         {
          "type": "html",
          "url": "https://tesis.udea.edu.co/handle/10495/8303"
         },
         {
          "type": "html",
          "url": "https://epjc.epj.org/articles/epjc/abs/2008/17/10052_2008_Article_713/10052_2008_Article_713.html"
         },
         {
          "type": "html",
          "url": "https://paperity.org/p/5333508/collider-aspects-of-flavor-physics-at-high-q"
         },
         {
          "type": null,
          "url": "http://inspirehep.net/record/777268"
         },
         {
          "type": "html",
          "url": "https://www.osti.gov/scitech/biblio/924755-collider-aspects-flavour-physics-high"
         },
         {
          "type": "html",
          "url": "https://dial.uclouvain.be/pr/boreal/object/boreal:72276"
         },
         {
          "type": "html",
          "url": "https://inspirehep.net/record/777268"
         },
         {
          "type": "html",
          "url": "https://www.scholars.northwestern.edu/en/publications/collider-aspects-of-flavor-physics-at-high-q"
         },
         {
          "type": "unknown",
          "url": "https://core.ac.uk/display/157450476"
         },
         {
          "type": "unknown",
          "url": "http://roderic.uv.es/bitstream/10550/37382/1/048298.pdf"
         },
         {
          "type": "html",
          "url": "https://link.springer.com/article/10.1140/epjc/s10052-008-0713-4"
         },
         {
          "type": "html",
          "url": "https://digital.library.unt.edu/ark:/67531/metadc899260/"
         },
         {
          "type": "core_fulltext",
          "url": "https://core.ac.uk/download/71028198.pdf"
         }
        ],
        "start_page": "183",
        "title": "Collider aspects of flavor physics at high Q",
        "volume": "57",
        "year_published": 2008
       },
       {
        "abstract": "In this paper we probe the inert Higgs doublet model at the LHC using vector boson fusion (VBF) search strategy. We optimize the selection cuts and investigate the parameter space of the model and we show that the VBF search has a better reach when compared with the monojet searches. We also investigate the Drell-Yan type cuts and show that they can be important for smaller charged Higgs masses. We determine the $3\\ensuremath{\\sigma}$ reach for the parameter space using these optimized cuts for a luminosity of $3000\\text{ }\\text{ }{\\mathrm{fb}}^{\\ensuremath{-}1}$.",
        "authors": [
         {
          "affiliations": [
           {
            "addresses": [
             {
              "country_code": "US"
             }
            ],
            "ids": [
             {
              "type": "magid",
              "value": "91045830"
             },
             {
              "type": "grid",
              "value": "grid.264756.4"
             },
             {
              "type": "fundref",
              "value": "100007904"
             },
             {
              "type": "ror",
              "value": "https://ror.org/01f5ytq51"
             }
            ],
            "name": "Texas A&M University"
           }
          ],
          "collective_name": null,
          "first_name": "Bhaskar",
          "initials": "B",
          "last_name": "Dutta"
         },
         {
          "affiliations": [
           {
            "addresses": [
             {
              "country_code": "CO"
             }
            ],
            "ids": [
             {
              "type": "magid",
              "value": "35961687"
             },
             {
              "type": "grid",
              "value": "grid.412881.6"
             },
             {
              "type": "ror",
              "value": "https://ror.org/03bp5hc83"
             }
            ],
            "name": "University of Antioquia"
           }
          ],
          "collective_name": null,
          "first_name": "Guillermo",
          "initials": "G",
          "last_name": "Palacio"
         },
         {
          "affiliations": [
           {
            "addresses": [
             {
              "country_code": "CO"
             }
            ],
            "ids": [
             {
              "type": "magid",
              "value": "35961687"
             },
             {
              "type": "grid",
              "value": "grid.412881.6"
             },
             {
              "type": "ror",
              "value": "https://ror.org/03bp5hc83"
             }
            ],
            "name": "University of Antioquia"
           }
          ],
          "collective_name": null,
          "first_name": "Diego",
          "initials": "D",
          "last_name": "Restrepo"
         },
         {
          "affiliations": [
           {
            "addresses": [
             {
              "country_code": "CO"
             }
            ],
            "ids": [
             {
              "type": "magid",
              "value": "162096671"
             },
             {
              "type": "grid",
              "value": "grid.7247.6"
             },
             {
              "type": "fundref",
              "value": "501100006070"
             },
             {
              "type": "ror",
              "value": "https://ror.org/02mhbdp94"
             }
            ],
            "name": "University of Los Andes"
           }
          ],
          "collective_name": null,
          "first_name": "José D.",
          "initials": "JD",
          "last_name": "Ruiz-Álvarez"
         }
        ],
        "chemicals": [],
        "date_published": {
         "date": "2018-03-29T00:00:00+00:00"
        },
        "end_page": null,
        "fields_of_study": [
         {
          "name": "Particle physics"
         },
         {
          "name": "Physics"
         },
         {
          "name": "Luminosity"
         },
         {
          "name": "Type (model theory)"
         },
         {
          "name": "Vector boson"
         },
         {
          "name": "Higgs boson"
         },
         {
          "name": "Fusion"
         },
         {
          "name": "Sigma"
         },
         {
          "name": "Parameter space"
         },
         {
          "name": "Large Hadron Collider"
         }
        ],
        "funding": [
         {
          "country": null,
          "funding_id": null,
          "org": "U.S. Department of Energy"
         },
         {
          "country": null,
          "funding_id": null,
          "org": "Departamento Administrativo de Ciencia, Tecnología e Innovación"
         }
        ],
        "issue": "5",
        "keywords": [],
        "lens_id": "025-036-722-751-984",
        "mesh_terms": [],
        "patent_citations_count": 0,
        "publication_type": "journal article",
        "references": [
         {
          "lens_id": "000-227-430-609-753"
         },
         {
          "lens_id": "008-077-025-309-466"
         },
         {
          "lens_id": "008-465-113-171-756"
         },
         {
          "lens_id": "009-045-314-967-756"
         },
         {
          "lens_id": "014-149-662-201-463"
         },
         {
          "lens_id": "017-193-576-454-314"
         },
         {
          "lens_id": "018-670-570-670-505"
         },
         {
          "lens_id": "021-733-004-437-235"
         },
         {
          "lens_id": "024-491-646-673-723"
         },
         {
          "lens_id": "031-657-347-283-961"
         },
         {
          "lens_id": "033-352-163-106-077"
         },
         {
          "lens_id": "034-664-659-024-39X"
         },
         {
          "lens_id": "035-088-623-709-841"
         },
         {
          "lens_id": "040-396-147-684-238"
         },
         {
          "lens_id": "041-195-144-110-701"
         },
         {
          "lens_id": "042-038-156-530-321"
         },
         {
          "lens_id": "043-103-774-123-63X"
         },
         {
          "lens_id": "044-514-501-831-510"
         },
         {
          "lens_id": "051-547-209-335-530"
         },
         {
          "lens_id": "052-067-003-070-876"
         },
         {
          "lens_id": "060-503-200-667-135"
         },
         {
          "lens_id": "063-657-376-949-823"
         },
         {
          "lens_id": "065-864-549-151-268"
         },
         {
          "lens_id": "073-856-898-132-786"
         },
         {
          "lens_id": "073-885-047-356-258"
         },
         {
          "lens_id": "075-297-742-471-911"
         },
         {
          "lens_id": "075-478-029-881-010"
         },
         {
          "lens_id": "076-940-083-750-20X"
         },
         {
          "lens_id": "080-681-916-882-735"
         },
         {
          "lens_id": "083-503-254-974-549"
         },
         {
          "lens_id": "087-881-110-199-639"
         },
         {
          "lens_id": "088-150-939-459-516"
         },
         {
          "lens_id": "088-772-544-715-681"
         },
         {
          "lens_id": "098-005-629-066-911"
         },
         {
          "lens_id": "100-980-097-194-173"
         },
         {
          "lens_id": "113-908-139-148-710"
         },
         {
          "lens_id": "120-028-112-413-201"
         },
         {
          "lens_id": "120-755-607-272-966"
         },
         {
          "lens_id": "132-440-723-313-138"
         },
         {
          "lens_id": "134-128-562-512-270"
         },
         {
          "lens_id": "136-081-699-794-106"
         },
         {
          "lens_id": "192-708-422-328-53X"
         }
        ],
        "scholarly_citations_count": 20,
        "source": {
         "country": "United States",
         "issn": [
          {
           "type": "print",
           "value": "24700010"
          },
          {
           "type": "electronic",
           "value": "24700029"
          }
         ],
         "publisher": "American Physical Society (APS)",
         "title_full": "Physical Review D"
        },
        "source_urls": [
         {
          "type": "html",
          "url": "https://www.osti.gov/pages/biblio/1430379-vector-boson-fusion-inert-doublet-model"
         },
         {
          "type": "html",
          "url": "https://ui.adsabs.harvard.edu/abs/2018PhRvD..97e5045D/abstract"
         },
         {
          "type": "pdf",
          "url": "https://arxiv.org/pdf/1709.09796.pdf"
         },
         {
          "type": "pdf",
          "url": "https://link.aps.org/pdf/10.1103/PhysRevD.97.055045"
         },
         {
          "type": "html",
          "url": "https://link.aps.org/doi/10.1103/PhysRevD.97.055045"
         },
         {
          "type": "html",
          "url": "https://arxiv.org/abs/1709.09796"
         },
         {
          "type": "core_fulltext",
          "url": "http://arxiv.org/abs/1709.09796"
         }
        ],
        "start_page": "055045",
        "title": "Vector boson fusion in the inert doublet model",
        "volume": "97",
        "year_published": 2018
       },
       {
        "abstract": "We study a realization of the topology of the Zee model for the generation of neutrino masses at one-loop with a minimal set of vector-like fermions. After imposing an exact $Z_2$ symmetry to avoid tree-level Higgs-mediated flavor changing neutral currents, one dark matter candidate is obtained from the subjacent inert doublet model, but with the presence of new co-annihilating particles. We show that the model is consistent with the constraints coming from lepton flavor violation processes, oblique parameters, dark matter and neutrino oscillation data.",
        "authors": [
         {
          "affiliations": [
           {
            "addresses": [
             {
              "country_code": "CO"
             }
            ],
            "ids": [
             {
              "type": "magid",
              "value": "35961687"
             },
             {
              "type": "grid",
              "value": "grid.412881.6"
             },
             {
              "type": "ror",
              "value": "https://ror.org/03bp5hc83"
             }
            ],
            "name": "University of Antioquia"
           }
          ],
          "collective_name": null,
          "first_name": "Robinson",
          "initials": "R",
          "last_name": "Longas"
         },
         {
          "affiliations": [
           {
            "addresses": [
             {
              "country_code": "CO"
             }
            ],
            "ids": [
             {
              "type": "magid",
              "value": "35961687"
             },
             {
              "type": "grid",
              "value": "grid.412881.6"
             },
             {
              "type": "ror",
              "value": "https://ror.org/03bp5hc83"
             }
            ],
            "name": "University of Antioquia"
           }
          ],
          "collective_name": null,
          "first_name": "Dilia",
          "initials": "D",
          "last_name": "Portillo"
         },
         {
          "affiliations": [
           {
            "addresses": [
             {
              "country_code": "CO"
             }
            ],
            "ids": [
             {
              "type": "magid",
              "value": "35961687"
             },
             {
              "type": "grid",
              "value": "grid.412881.6"
             },
             {
              "type": "ror",
              "value": "https://ror.org/03bp5hc83"
             }
            ],
            "name": "University of Antioquia"
           }
          ],
          "collective_name": null,
          "first_name": "Diego",
          "initials": "D",
          "last_name": "Restrepo"
         },
         {
          "affiliations": [
           {
            "addresses": [
             {
              "country_code": "CO"
             }
            ],
            "ids": [
             {
              "type": "magid",
              "value": "35961687"
             },
             {
              "type": "grid",
              "value": "grid.412881.6"
             },
             {
              "type": "ror",
              "value": "https://ror.org/03bp5hc83"
             }
            ],
            "name": "University of Antioquia"
           }
          ],
          "collective_name": null,
          "first_name": "Óscar",
          "initials": "Ó",
          "last_name": "Zapata"
         }
        ],
        "chemicals": [],
        "date_published": {
         "date": "2016-03-23T00:00:00+00:00"
        },
        "end_page": null,
        "fields_of_study": [
         {
          "name": "Neutrino oscillation"
         },
         {
          "name": "Particle physics"
         },
         {
          "name": "Physics"
         },
         {
          "name": "Dark matter"
         },
         {
          "name": "Lepton"
         },
         {
          "name": "Neutrino"
         },
         {
          "name": "Topology (chemistry)"
         },
         {
          "name": "Symmetry (physics)"
         },
         {
          "name": "Fermion"
         },
         {
          "name": "Realization (systems)"
         },
         {
          "name": "Physics beyond the Standard Model"
         }
        ],
        "funding": [],
        "issue": "3",
        "keywords": [],
        "lens_id": "031-160-596-530-51X",
        "mesh_terms": [],
        "patent_citations_count": 0,
        "publication_type": "journal article",
        "references": [
         {
          "lens_id": "001-529-490-837-790"
         },
         {
          "lens_id": "001-719-275-581-70X"
         },
         {
          "lens_id": "002-171-670-217-516"
         },
         {
          "lens_id": "002-704-739-446-35X"
         },
         {
          "lens_id": "003-485-139-902-189"
         },
         {
          "lens_id": "004-239-212-151-629"
         },
         {
          "lens_id": "005-134-328-794-808"
         },
         {
          "lens_id": "005-249-567-689-810"
         },
         {
          "lens_id": "005-923-470-899-67X"
         },
         {
          "lens_id": "008-465-113-171-756"
         },
         {
          "lens_id": "009-765-906-589-424"
         },
         {
          "lens_id": "012-957-570-937-943"
         },
         {
          "lens_id": "013-993-352-400-106"
         },
         {
          "lens_id": "014-149-662-201-463"
         },
         {
          "lens_id": "015-973-366-147-476"
         },
         {
          "lens_id": "016-284-423-543-399"
         },
         {
          "lens_id": "017-483-288-092-465"
         },
         {
          "lens_id": "020-391-634-823-778"
         },
         {
          "lens_id": "022-819-149-446-806"
         },
         {
          "lens_id": "024-232-376-403-769"
         },
         {
          "lens_id": "024-671-013-804-509"
         },
         {
          "lens_id": "027-450-501-765-131"
         },
         {
          "lens_id": "029-642-572-650-066"
         },
         {
          "lens_id": "031-839-177-728-151"
         },
         {
          "lens_id": "032-329-896-544-902"
         },
         {
          "lens_id": "036-000-077-021-544"
         },
         {
          "lens_id": "037-604-617-501-957"
         },
         {
          "lens_id": "039-597-675-665-263"
         },
         {
          "lens_id": "039-788-778-085-108"
         },
         {
          "lens_id": "040-302-353-320-232"
         },
         {
          "lens_id": "040-396-147-684-238"
         },
         {
          "lens_id": "041-195-144-110-701"
         },
         {
          "lens_id": "045-914-510-466-024"
         },
         {
          "lens_id": "045-989-616-762-776"
         },
         {
          "lens_id": "047-368-696-197-949"
         },
         {
          "lens_id": "048-609-495-367-439"
         },
         {
          "lens_id": "049-265-684-302-941"
         },
         {
          "lens_id": "049-312-588-347-962"
         },
         {
          "lens_id": "054-284-881-990-880"
         },
         {
          "lens_id": "055-053-157-386-47X"
         },
         {
          "lens_id": "057-117-383-313-44X"
         },
         {
          "lens_id": "057-855-519-798-744"
         },
         {
          "lens_id": "058-065-928-920-288"
         },
         {
          "lens_id": "060-146-111-826-349"
         },
         {
          "lens_id": "060-503-200-667-135"
         },
         {
          "lens_id": "065-989-521-308-04X"
         },
         {
          "lens_id": "075-552-551-971-070"
         },
         {
          "lens_id": "080-681-916-882-735"
         },
         {
          "lens_id": "083-185-083-210-390"
         },
         {
          "lens_id": "087-948-167-628-100"
         },
         {
          "lens_id": "090-835-244-123-227"
         },
         {
          "lens_id": "093-948-537-941-258"
         },
         {
          "lens_id": "098-698-396-563-654"
         },
         {
          "lens_id": "100-980-097-194-173"
         },
         {
          "lens_id": "113-379-743-338-720"
         },
         {
          "lens_id": "113-908-139-148-710"
         },
         {
          "lens_id": "122-098-047-139-66X"
         },
         {
          "lens_id": "124-245-123-092-040"
         },
         {
          "lens_id": "126-219-398-939-451"
         },
         {
          "lens_id": "136-793-956-698-541"
         },
         {
          "lens_id": "150-793-811-452-011"
         },
         {
          "lens_id": "153-352-872-045-220"
         },
         {
          "lens_id": "156-068-460-465-692"
         },
         {
          "lens_id": "169-506-845-283-258"
         }
        ],
        "scholarly_citations_count": 19,
        "source": {
         "country": "Germany",
         "issn": [
          {
           "type": "electronic",
           "value": "10298479"
          }
         ],
         "publisher": "Springer Science and Business Media LLC",
         "title_full": "Journal of High Energy Physics"
        },
        "source_urls": [
         {
          "type": "pdf",
          "url": "https://arxiv.org/pdf/1511.01873.pdf"
         },
         {
          "type": "html",
          "url": "https://arxiv.org/abs/1511.01873"
         }
        ],
        "start_page": "162",
        "title": "The Inert Zee Model",
        "volume": "2016",
        "year_published": 2016
       },
       {
        "abstract": "The Large Hadron Collider presents an unprecedented opportunity to probe the realm of new physics in the TeV region and shed light on some of the core unresolved issues of particle physics. These include the nature of electroweak symmetry breaking, the origin of mass, the possible constituent of cold dark matter, new sources of CP violation needed to explain the baryon excess in the universe, the possible existence of extra gauge groups and extra matter, and importantly the path Nature chooses to resolve the hierarchy problem - is it supersymmetry or extra dimensions. Many models of new physics beyond the standard model contain a hidden sector which can be probed at the LHC. Additionally, the LHC will be a top factory and accurate measurements of the properties of the top and its rare decays will provide a window to new physics. Further, the LHC could shed light on the origin of neutralino masses if the new physics associated with their generation lies in the TeV region. Finally, the LHC is also a laboratory to test the hypothesis of TeV scale strings and D-brane models. An overview of these possibilities is presented in the spirit that it will serve as a companion to the Technical Design Reports (TDRs) by the particle detector groups ATLAS and CMS to facilitate the test of the new theoretical ideas at the LHC. Which of these ideas stands the test of the LHC data will govern the course of particle physics in the subsequent decades.",
        "authors": [
         {
          "affiliations": [
           {
            "addresses": [
             {
              "country_code": "US"
             }
            ],
            "ids": [
             {
              "type": "magid",
              "value": "12912129"
             },
             {
              "type": "grid",
              "value": "grid.261112.7"
             },
             {
              "type": "ror",
              "value": "https://ror.org/04t5xt781"
             }
            ],
            "name": "Northeastern University"
           }
          ],
          "collective_name": null,
          "first_name": "Pran",
          "initials": "P",
          "last_name": "Nath"
         },
         {
          "affiliations": [
           {
            "addresses": [
             {
              "country_code": "US"
             }
            ],
            "ids": [
             {
              "type": "magid",
              "value": "12912129"
             },
             {
              "type": "grid",
              "value": "grid.261112.7"
             },
             {
              "type": "ror",
              "value": "https://ror.org/04t5xt781"
             }
            ],
            "name": "Northeastern University"
           }
          ],
          "collective_name": null,
          "first_name": "Brent D.",
          "initials": "BD",
          "last_name": "Nelson"
         },
         {
          "affiliations": [
           {
            "addresses": [
             {
              "country_code": "US"
             }
            ],
            "ids": [
             {
              "type": "magid",
              "value": "200870766"
             },
             {
              "type": "grid",
              "value": "grid.202665.5"
             },
             {
              "type": "wikidata",
              "value": "q585777"
             },
             {
              "type": "ror",
              "value": "https://ror.org/02ex6cf31"
             }
            ],
            "name": "Brookhaven National Laboratory"
           }
          ],
          "collective_name": null,
          "first_name": "Hooman",
          "initials": "H",
          "last_name": "Davoudiasl"
         },
         {
          "affiliations": [
           {
            "addresses": [
             {
              "country_code": "US"
             }
            ],
            "ids": [
             {
              "type": "magid",
              "value": "91045830"
             },
             {
              "type": "grid",
              "value": "grid.264756.4"
             },
             {
              "type": "fundref",
              "value": "100007904"
             },
             {
              "type": "ror",
              "value": "https://ror.org/01f5ytq51"
             }
            ],
            "name": "Texas A&M University"
           }
          ],
          "collective_name": null,
          "first_name": "Bhaskar",
          "initials": "B",
          "last_name": "Dutta"
         },
         {
          "affiliations": [
           {
            "addresses": [
             {
              "country_code": "US"
             }
            ],
            "ids": [
             {
              "type": "magid",
              "value": "27837315"
             },
             {
              "type": "grid",
              "value": "grid.214458.e"
             },
             {
              "type": "fundref",
              "value": "100007270"
             },
             {
              "type": "ror",
              "value": "https://ror.org/00jmfr291"
             }
            ],
            "name": "University of Michigan"
           }
          ],
          "collective_name": null,
          "first_name": "Daniel",
          "initials": "D",
          "last_name": "Feldman"
         },
         {
          "affiliations": [
           {
            "addresses": [],
            "ids": [
             {
              "type": "magid",
              "value": "178405674"
             }
            ],
            "name": "C. N. Yang Institute for Theoretical Physics"
           }
          ],
          "collective_name": null,
          "first_name": "Zuowei",
          "initials": "Z",
          "last_name": "Liu"
         },
         {
          "affiliations": [
           {
            "addresses": [
             {
              "country_code": "US"
             }
            ],
            "ids": [
             {
              "type": "magid",
              "value": "135310074"
             },
             {
              "type": "grid",
              "value": "grid.14003.36"
             },
             {
              "type": "fundref",
              "value": "100007015"
             },
             {
              "type": "wikidata",
              "value": "q838330"
             },
             {
              "type": "ror",
              "value": "https://ror.org/01y2jtd41"
             }
            ],
            "name": "University of Wisconsin-Madison"
           }
          ],
          "collective_name": null,
          "first_name": "Tao",
          "initials": "T",
          "last_name": "Han"
         },
         {
          "affiliations": [
           {
            "addresses": [
             {
              "country_code": "US"
             }
            ],
            "ids": [
             {
              "type": "magid",
              "value": "40036882"
             },
             {
              "type": "grid",
              "value": "grid.78989.37"
             },
             {
              "type": "ror",
              "value": "https://ror.org/00f809463"
             }
            ],
            "name": "Institute for Advanced Study"
           }
          ],
          "collective_name": null,
          "first_name": "Paul",
          "initials": "P",
          "last_name": "Langacker"
         },
         {
          "affiliations": [
           {
            "addresses": [],
            "ids": [
             {
              "type": "magid",
              "value": "66946132"
             }
            ],
            "name": "University of Maryland, College Park"
           }
          ],
          "collective_name": null,
          "first_name": "Rabindra N.",
          "initials": "RN",
          "last_name": "Mohapatra"
         },
         {
          "affiliations": [
           {
            "addresses": [
             {
              "country_code": "ES"
             }
            ],
            "ids": [
             {
              "type": "magid",
              "value": "134820265"
             },
             {
              "type": "grid",
              "value": "grid.4711.3"
             },
             {
              "type": "ror",
              "value": "https://ror.org/02gfc7t72"
             }
            ],
            "name": "Spanish National Research Council"
           }
          ],
          "collective_name": null,
          "first_name": "José W. F.",
          "initials": "JWF",
          "last_name": "Valle"
         },
         {
          "affiliations": [
           {
            "addresses": [
             {
              "country_code": "GB"
             }
            ],
            "ids": [
             {
              "type": "magid",
              "value": "28407311"
             },
             {
              "type": "grid",
              "value": "grid.5379.8"
             },
             {
              "type": "fundref",
              "value": "501100000770"
             },
             {
              "type": "ror",
              "value": "https://ror.org/027m9bs27"
             }
            ],
            "name": "University of Manchester"
           }
          ],
          "collective_name": null,
          "first_name": "Apostolos",
          "initials": "A",
          "last_name": "Pilaftsis"
         },
         {
          "affiliations": [
           {
            "addresses": [
             {
              "country_code": "FR"
             }
            ],
            "ids": [
             {
              "type": "magid",
              "value": "102197404"
             },
             {
              "type": "grid",
              "value": "grid.5842.b"
             },
             {
              "type": "wikidata",
              "value": "q1480643"
             },
             {
              "type": "ror",
              "value": "https://ror.org/028rypz17"
             }
            ],
            "name": "University of Paris-Sud"
           }
          ],
          "collective_name": null,
          "first_name": "Dirk",
          "initials": "D",
          "last_name": "Zerwas"
         },
         {
          "affiliations": [
           {
            "addresses": [
             {
              "country_code": "IT"
             }
            ],
            "ids": [
             {
              "type": "magid",
              "value": "12323705"
             },
             {
              "type": "grid",
              "value": "grid.419330.c"
             },
             {
              "type": "ror",
              "value": "https://ror.org/009gyvm78"
             }
            ],
            "name": "International Centre for Theoretical Physics"
           },
           {
            "addresses": [
             {
              "country_code": "GB"
             }
            ],
            "ids": [
             {
              "type": "magid",
              "value": "241749"
             },
             {
              "type": "grid",
              "value": "grid.5335.0"
             },
             {
              "type": "fundref",
              "value": "501100000735"
             },
             {
              "type": "wikidata",
              "value": "q35794"
             },
             {
              "type": "ror",
              "value": "https://ror.org/013meh722"
             }
            ],
            "name": "University of Cambridge"
           }
          ],
          "collective_name": null,
          "first_name": "S.",
          "initials": "S",
          "last_name": "AbdusSalam"
         },
         {
          "affiliations": [
           {
            "addresses": [
             {
              "country_code": "FR"
             }
            ],
            "ids": [
             {
              "type": "magid",
              "value": "102197404"
             },
             {
              "type": "grid",
              "value": "grid.5842.b"
             },
             {
              "type": "wikidata",
              "value": "q1480643"
             },
             {
              "type": "ror",
              "value": "https://ror.org/028rypz17"
             }
            ],
            "name": "University of Paris-Sud"
           }
          ],
          "collective_name": null,
          "first_name": "Claire",
          "initials": "C",
          "last_name": "Adam-Bourdarios"
         },
         {
          "affiliations": [
           {
            "addresses": [
             {
              "country_code": "ES"
             }
            ],
            "ids": [
             {
              "type": "magid",
              "value": "173304897"
             },
             {
              "type": "grid",
              "value": "grid.4489.1"
             },
             {
              "type": "ror",
              "value": "https://ror.org/04njjy449"
             }
            ],
            "name": "University of Granada"
           }
          ],
          "collective_name": null,
          "first_name": "Juan Antonio",
          "initials": "JA",
          "last_name": "Aguilar-Saavedra"
         },
         {
          "affiliations": [
           {
            "addresses": [
             {
              "country_code": "GB"
             }
            ],
            "ids": [
             {
              "type": "magid",
              "value": "241749"
             },
             {
              "type": "grid",
              "value": "grid.5335.0"
             },
             {
              "type": "fundref",
              "value": "501100000735"
             },
             {
              "type": "wikidata",
              "value": "q35794"
             },
             {
              "type": "ror",
              "value": "https://ror.org/013meh722"
             }
            ],
            "name": "University of Cambridge"
           }
          ],
          "collective_name": null,
          "first_name": "Ben C.",
          "initials": "BC",
          "last_name": "Allanach"
         },
         {
          "affiliations": [
           {
            "addresses": [
             {
              "country_code": "US"
             }
            ],
            "ids": [
             {
              "type": "magid",
              "value": "12912129"
             },
             {
              "type": "grid",
              "value": "grid.261112.7"
             },
             {
              "type": "ror",
              "value": "https://ror.org/04t5xt781"
             }
            ],
            "name": "Northeastern University"
           }
          ],
          "collective_name": null,
          "first_name": "Baris",
          "initials": "B",
          "last_name": "Altunkaynak"
         },
         {
          "affiliations": [
           {
            "addresses": [
             {
              "country_code": "US"
             }
            ],
            "ids": [
             {
              "type": "magid",
              "value": "43579087"
             },
             {
              "type": "grid",
              "value": "grid.267468.9"
             },
             {
              "type": "ror",
              "value": "https://ror.org/031q21x57"
             }
            ],
            "name": "University of Wisconsin–Milwaukee"
           }
          ],
          "collective_name": null,
          "first_name": "Luis A.",
          "initials": "LA",
          "last_name": "Anchordoqui"
         },
         {
          "affiliations": [
           {
            "addresses": [
             {
              "country_code": "US"
             }
            ],
            "ids": [
             {
              "type": "magid",
              "value": "8692664"
             },
             {
              "type": "grid",
              "value": "grid.266900.b"
             },
             {
              "type": "fundref",
              "value": "100007926"
             },
             {
              "type": "wikidata",
              "value": "q640652"
             },
             {
              "type": "ror",
              "value": "https://ror.org/02aqsxs83"
             }
            ],
            "name": "University of Oklahoma"
           }
          ],
          "collective_name": null,
          "first_name": "Howard",
          "initials": "H",
          "last_name": "Baer"
         },
         {
          "affiliations": [
           {
            "addresses": [
             {
              "country_code": "SI"
             }
            ],
            "ids": [
             {
              "type": "magid",
              "value": "3006985408"
             },
             {
              "type": "grid",
              "value": "grid.11375.31"
             },
             {
              "type": "ror",
              "value": "https://ror.org/05060sz93"
             }
            ],
            "name": "Jožef Stefan Institute"
           }
          ],
          "collective_name": null,
          "first_name": "Borut",
          "initials": "B",
          "last_name": "Bajc"
         },
         {
          "affiliations": [
           {
            "addresses": [
             {
              "country_code": "CH"
             }
            ],
            "ids": [
             {
              "type": "magid",
              "value": "67311998"
             },
             {
              "type": "grid",
              "value": "grid.9132.9"
             },
             {
              "type": "ror",
              "value": "https://ror.org/01ggx4157"
             }
            ],
            "name": "CERN"
           }
          ],
          "collective_name": null,
          "first_name": "Oliver",
          "initials": "O",
          "last_name": "Buchmueller"
         },
         {
          "affiliations": [
           {
            "addresses": [
             {
              "country_code": "US"
             }
            ],
            "ids": [
             {
              "type": "magid",
              "value": "1314696892"
             },
             {
              "type": "grid",
              "value": "grid.417851.e"
             },
             {
              "type": "ror",
              "value": "https://ror.org/020hgte69"
             }
            ],
            "name": "Fermilab"
           },
           {
            "addresses": [
             {
              "country_code": "US"
             }
            ],
            "ids": [
             {
              "type": "magid",
              "value": "40347166"
             },
             {
              "type": "grid",
              "value": "grid.170205.1"
             },
             {
              "type": "fundref",
              "value": "100007234"
             },
             {
              "type": "wikidata",
              "value": "q131252"
             },
             {
              "type": "ror",
              "value": "https://ror.org/024mw5h28"
             }
            ],
            "name": "University of Chicago"
           }
          ],
          "collective_name": null,
          "first_name": "Marcela",
          "initials": "M",
          "last_name": "Carena"
         },
         {
          "affiliations": [
           {
            "addresses": [
             {
              "country_code": "US"
             }
            ],
            "ids": [
             {
              "type": "magid",
              "value": "1314696892"
             },
             {
              "type": "grid",
              "value": "grid.417851.e"
             },
             {
              "type": "ror",
              "value": "https://ror.org/020hgte69"
             }
            ],
            "name": "Fermilab"
           },
           {
            "addresses": [
             {
              "country_code": "US"
             }
            ],
            "ids": [
             {
              "type": "magid",
              "value": "39422238"
             },
             {
              "type": "grid",
              "value": "grid.185648.6"
             },
             {
              "type": "fundref",
              "value": "100008522"
             },
             {
              "type": "ror",
              "value": "https://ror.org/02mpq6x41"
             }
            ],
            "name": "University of Illinois at Chicago"
           }
          ],
          "collective_name": null,
          "first_name": "Richard",
          "initials": "R",
          "last_name": "Cavanaugh"
         },
         {
          "affiliations": [
           {
            "addresses": [
             {
              "country_code": "US"
             }
            ],
            "ids": [
             {
              "type": "magid",
              "value": "84218800"
             },
             {
              "type": "grid",
              "value": "grid.27860.3b"
             },
             {
              "type": "fundref",
              "value": "100007707"
             },
             {
              "type": "ror",
              "value": "https://ror.org/05rrcem69"
             }
            ],
            "name": "University of California, Davis"
           }
          ],
          "collective_name": null,
          "first_name": "Spencer",
          "initials": "S",
          "last_name": "Chang"
         },
         {
          "affiliations": [
           {
            "addresses": [
             {
              "country_code": "KR"
             }
            ],
            "ids": [
             {
              "type": "magid",
              "value": "157485424"
             },
             {
              "type": "grid",
              "value": "grid.37172.30"
             },
             {
              "type": "fundref",
              "value": "501100007107"
             },
             {
              "type": "wikidata",
              "value": "q39949"
             },
             {
              "type": "ror",
              "value": "https://ror.org/05apxxy63"
             }
            ],
            "name": "KAIST"
           }
          ],
          "collective_name": null,
          "first_name": "Kiwoon",
          "initials": "K",
          "last_name": "Choi"
         },
         {
          "affiliations": [
           {
            "addresses": [
             {
              "country_code": "US"
             }
            ],
            "ids": [
             {
              "type": "magid",
              "value": "205783295"
             },
             {
              "type": "grid",
              "value": "grid.5386.8"
             },
             {
              "type": "fundref",
              "value": "100007231"
             },
             {
              "type": "ror",
              "value": "https://ror.org/05bnh6r87"
             }
            ],
            "name": "Cornell University"
           }
          ],
          "collective_name": null,
          "first_name": "C.",
          "initials": "C",
          "last_name": "Csaki"
         },
         {
          "affiliations": [
           {
            "addresses": [
             {
              "country_code": "US"
             }
            ],
            "ids": [
             {
              "type": "magid",
              "value": "200870766"
             },
             {
              "type": "grid",
              "value": "grid.202665.5"
             },
             {
              "type": "wikidata",
              "value": "q585777"
             },
             {
              "type": "ror",
              "value": "https://ror.org/02ex6cf31"
             }
            ],
            "name": "Brookhaven National Laboratory"
           }
          ],
          "collective_name": null,
          "first_name": "Sally",
          "initials": "S",
          "last_name": "Dawson"
         },
         {
          "affiliations": [
           {
            "addresses": [
             {
              "country_code": "BR"
             }
            ],
            "ids": [
             {
              "type": "magid",
              "value": "879563668"
             },
             {
              "type": "grid",
              "value": "grid.410543.7"
             },
             {
              "type": "wikidata",
              "value": "q1817137"
             },
             {
              "type": "ror",
              "value": "https://ror.org/00987cb86"
             }
            ],
            "name": "Sao Paulo State University"
           }
          ],
          "collective_name": null,
          "first_name": "F.",
          "initials": "F",
          "last_name": "de Campos"
         },
         {
          "affiliations": [
           {
            "addresses": [
             {
              "country_code": "CH"
             }
            ],
            "ids": [
             {
              "type": "magid",
              "value": "67311998"
             },
             {
              "type": "grid",
              "value": "grid.9132.9"
             },
             {
              "type": "ror",
              "value": "https://ror.org/01ggx4157"
             }
            ],
            "name": "CERN"
           }
          ],
          "collective_name": null,
          "first_name": "A.",
          "initials": "A",
          "last_name": "De Roeck"
         },
         {
          "affiliations": [
           {
            "addresses": [
             {
              "country_code": "DE"
             }
            ],
            "ids": [
             {
              "type": "magid",
              "value": "161046081"
             },
             {
              "type": "grid",
              "value": "grid.5963.9"
             },
             {
              "type": "fundref",
              "value": "501100002714"
             },
             {
              "type": "ror",
              "value": "https://ror.org/0245cg223"
             }
            ],
            "name": "University of Freiburg"
           }
          ],
          "collective_name": null,
          "first_name": "Michael",
          "initials": "M",
          "last_name": "Dührssen"
         },
         {
          "affiliations": [
           {
            "addresses": [
             {
              "country_code": "BR"
             }
            ],
            "ids": [
             {
              "type": "magid",
              "value": "17974374"
             },
             {
              "type": "grid",
              "value": "grid.11899.38"
             },
             {
              "type": "fundref",
              "value": "501100005639"
             },
             {
              "type": "wikidata",
              "value": "q835960"
             },
             {
              "type": "ror",
              "value": "https://ror.org/036rp1748"
             }
            ],
            "name": "University of São Paulo"
           }
          ],
          "collective_name": null,
          "first_name": "Oscar J.P.",
          "initials": "OJP",
          "last_name": "Eboli"
         },
         {
          "affiliations": [
           {
            "addresses": [
             {
              "country_code": "CH"
             }
            ],
            "ids": [
             {
              "type": "magid",
              "value": "67311998"
             },
             {
              "type": "grid",
              "value": "grid.9132.9"
             },
             {
              "type": "ror",
              "value": "https://ror.org/01ggx4157"
             }
            ],
            "name": "CERN"
           }
          ],
          "collective_name": null,
          "first_name": "Jonathan Richard",
          "initials": "JR",
          "last_name": "Ellis"
         },
         {
          "affiliations": [
           {
            "addresses": [
             {
              "country_code": "CH"
             }
            ],
            "ids": [
             {
              "type": "magid",
              "value": "67311998"
             },
             {
              "type": "grid",
              "value": "grid.9132.9"
             },
             {
              "type": "ror",
              "value": "https://ror.org/01ggx4157"
             }
            ],
            "name": "CERN"
           }
          ],
          "collective_name": null,
          "first_name": "Henning",
          "initials": "H",
          "last_name": "Flacher"
         },
         {
          "affiliations": [
           {
            "addresses": [
             {
              "country_code": "US"
             }
            ],
            "ids": [
             {
              "type": "magid",
              "value": "12912129"
             },
             {
              "type": "grid",
              "value": "grid.261112.7"
             },
             {
              "type": "ror",
              "value": "https://ror.org/04t5xt781"
             }
            ],
            "name": "Northeastern University"
           }
          ],
          "collective_name": null,
          "first_name": "Haim",
          "initials": "H",
          "last_name": "Goldberg"
         },
         {
          "affiliations": [
           {
            "addresses": [
             {
              "country_code": "AT"
             }
            ],
            "ids": [
             {
              "type": "magid",
              "value": "129774422"
             },
             {
              "type": "grid",
              "value": "grid.10420.37"
             },
             {
              "type": "fundref",
              "value": "501100003065"
             },
             {
              "type": "wikidata",
              "value": "q165980"
             },
             {
              "type": "ror",
              "value": "https://ror.org/03prydq77"
             }
            ],
            "name": "University of Vienna"
           }
          ],
          "collective_name": null,
          "first_name": "Walter",
          "initials": "W",
          "last_name": "Grimus"
         },
         {
          "affiliations": [
           {
            "addresses": [
             {
              "country_code": "DE"
             }
            ],
            "ids": [
             {
              "type": "magid",
              "value": "197323543"
             },
             {
              "type": "grid",
              "value": "grid.5802.f"
             },
             {
              "type": "fundref",
              "value": "501100004033"
             },
             {
              "type": "ror",
              "value": "https://ror.org/023b0x485"
             }
            ],
            "name": "University of Mainz"
           }
          ],
          "collective_name": null,
          "first_name": "Ulrich",
          "initials": "U",
          "last_name": "Haisch"
         },
         {
          "affiliations": [
           {
            "addresses": [
             {
              "country_code": "ES"
             }
            ],
            "ids": [
             {
              "type": "magid",
              "value": "134820265"
             },
             {
              "type": "grid",
              "value": "grid.4711.3"
             },
             {
              "type": "ror",
              "value": "https://ror.org/02gfc7t72"
             }
            ],
            "name": "Spanish National Research Council"
           }
          ],
          "collective_name": null,
          "first_name": "S.",
          "initials": "S",
          "last_name": "Heinemeyer"
         },
         {
          "affiliations": [
           {
            "addresses": [
             {
              "country_code": "ES"
             }
            ],
            "ids": [
             {
              "type": "magid",
              "value": "134820265"
             },
             {
              "type": "grid",
              "value": "grid.4711.3"
             },
             {
              "type": "ror",
              "value": "https://ror.org/02gfc7t72"
             }
            ],
            "name": "Spanish National Research Council"
           }
          ],
          "collective_name": null,
          "first_name": "Martin S.",
          "initials": "MS",
          "last_name": "Hirsch"
         },
         {
          "affiliations": [
           {
            "addresses": [
             {
              "country_code": "US"
             }
            ],
            "ids": [
             {
              "type": "magid",
              "value": "12912129"
             },
             {
              "type": "grid",
              "value": "grid.261112.7"
             },
             {
              "type": "ror",
              "value": "https://ror.org/04t5xt781"
             }
            ],
            "name": "Northeastern University"
           }
          ],
          "collective_name": null,
          "first_name": "Michael",
          "initials": "M",
          "last_name": "Holmes"
         },
         {
          "affiliations": [
           {
            "addresses": [
             {
              "country_code": "EG"
             }
            ],
            "ids": [
             {
              "type": "magid",
              "value": "84524832"
             },
             {
              "type": "grid",
              "value": "grid.7155.6"
             },
             {
              "type": "ror",
              "value": "https://ror.org/00mzz1w90"
             }
            ],
            "name": "Alexandria University"
           }
          ],
          "collective_name": null,
          "first_name": "Tarek",
          "initials": "T",
          "last_name": "Ibrahim"
         },
         {
          "affiliations": [],
          "collective_name": null,
          "first_name": "Gino",
          "initials": "G",
          "last_name": "Isidori"
         },
         {
          "affiliations": [
           {
            "addresses": [
             {
              "country_code": "US"
             }
            ],
            "ids": [
             {
              "type": "magid",
              "value": "27837315"
             },
             {
              "type": "grid",
              "value": "grid.214458.e"
             },
             {
              "type": "fundref",
              "value": "100007270"
             },
             {
              "type": "ror",
              "value": "https://ror.org/00jmfr291"
             }
            ],
            "name": "University of Michigan"
           }
          ],
          "collective_name": null,
          "first_name": "Gordon L.",
          "initials": "GL",
          "last_name": "Kane"
         },
         {
          "affiliations": [
           {
            "addresses": [
             {
              "country_code": "US"
             }
            ],
            "ids": [
             {
              "type": "magid",
              "value": "2801935854"
             },
             {
              "type": "grid",
              "value": "grid.445003.6"
             },
             {
              "type": "ror",
              "value": "https://ror.org/05gzmn429"
             }
            ],
            "name": "SLAC National Accelerator Laboratory"
           }
          ],
          "collective_name": null,
          "first_name": "Kyoungchul",
          "initials": "K",
          "last_name": "Kong"
         },
         {
          "affiliations": [
           {
            "addresses": [
             {
              "country_code": "FR"
             }
            ],
            "ids": [
             {
              "type": "magid",
              "value": "70900168"
             },
             {
              "type": "grid",
              "value": "grid.5388.6"
             },
             {
              "type": "ror",
              "value": "https://ror.org/04gqg1a07"
             }
            ],
            "name": "University of Savoy"
           }
          ],
          "collective_name": null,
          "first_name": "Remi",
          "initials": "R",
          "last_name": "Lafaye"
         },
         {
          "affiliations": [
           {
            "addresses": [
             {
              "country_code": "US"
             }
            ],
            "ids": [
             {
              "type": "magid",
              "value": "27804330"
             },
             {
              "type": "grid",
              "value": "grid.40263.33"
             },
             {
              "type": "fundref",
              "value": "100006418"
             },
             {
              "type": "ror",
              "value": "https://ror.org/05gq02987"
             }
            ],
            "name": "Brown University"
           }
          ],
          "collective_name": null,
          "first_name": "Greg",
          "initials": "G",
          "last_name": "Landsberg"
         },
         {
          "affiliations": [
           {
            "addresses": [],
            "ids": [
             {
              "type": "magid",
              "value": "30135922"
             }
            ],
            "name": "Technical University of Lisbon"
           }
          ],
          "collective_name": null,
          "first_name": "Luís",
          "initials": "L",
          "last_name": "Lavoura"
         },
         {
          "affiliations": [],
          "collective_name": null,
          "first_name": "Jongmin",
          "initials": "J",
          "last_name": "Lee"
         },
         {
          "affiliations": [
           {
            "addresses": [
             {
              "country_code": "IL"
             }
            ],
            "ids": [
             {
              "type": "magid",
              "value": "53964585"
             },
             {
              "type": "grid",
              "value": "grid.13992.30"
             },
             {
              "type": "fundref",
              "value": "501100001735"
             },
             {
              "type": "ror",
              "value": "https://ror.org/0316ej306"
             }
            ],
            "name": "Weizmann Institute of Science"
           }
          ],
          "collective_name": null,
          "first_name": "Seung J.",
          "initials": "SJ",
          "last_name": "Lee"
         },
         {
          "affiliations": [
           {
            "addresses": [
             {
              "country_code": "US"
             }
            ],
            "ids": [
             {
              "type": "magid",
              "value": "2801935854"
             },
             {
              "type": "grid",
              "value": "grid.445003.6"
             },
             {
              "type": "ror",
              "value": "https://ror.org/05gzmn429"
             }
            ],
            "name": "SLAC National Accelerator Laboratory"
           }
          ],
          "collective_name": null,
          "first_name": "Mariangela",
          "initials": "M",
          "last_name": "Lisanti"
         },
         {
          "affiliations": [
           {
            "addresses": [
             {
              "country_code": "DE"
             }
            ],
            "ids": [
             {
              "type": "magid",
              "value": "149899117"
             },
             {
              "type": "grid",
              "value": "grid.4372.2"
             },
             {
              "type": "ror",
              "value": "https://ror.org/01hhn8329"
             }
            ],
            "name": "Max Planck Society"
           },
           {
            "addresses": [
             {
              "country_code": "DE"
             }
            ],
            "ids": [
             {
              "type": "magid",
              "value": "8204097"
             },
             {
              "type": "grid",
              "value": "grid.5252.0"
             },
             {
              "type": "fundref",
              "value": "501100005722"
             },
             {
              "type": "ror",
              "value": "https://ror.org/05591te55"
             }
            ],
            "name": "Ludwig Maximilian University of Munich"
           }
          ],
          "collective_name": null,
          "first_name": "Dieter",
          "initials": "D",
          "last_name": "Lüst"
         },
         {
          "affiliations": [],
          "collective_name": null,
          "first_name": "M. B.",
          "initials": "MB",
          "last_name": "Magro"
         },
         {
          "affiliations": [
           {
            "addresses": [
             {
              "country_code": "US"
             }
            ],
            "ids": [
             {
              "type": "magid",
              "value": "1314696892"
             },
             {
              "type": "grid",
              "value": "grid.417851.e"
             },
             {
              "type": "ror",
              "value": "https://ror.org/020hgte69"
             }
            ],
            "name": "Fermilab"
           }
          ],
          "collective_name": null,
          "first_name": "Rakhi",
          "initials": "R",
          "last_name": "Mahbubani"
         },
         {
          "affiliations": [
           {
            "addresses": [
             {
              "country_code": "SE"
             }
            ],
            "ids": [
             {
              "type": "magid",
              "value": "86987016"
             },
             {
              "type": "grid",
              "value": "grid.5037.1"
             },
             {
              "type": "ror",
              "value": "https://ror.org/026vcq606"
             }
            ],
            "name": "Royal Institute of Technology"
           }
          ],
          "collective_name": null,
          "first_name": "Michal",
          "initials": "M",
          "last_name": "Malinsky"
         },
         {
          "affiliations": [
           {
            "addresses": [
             {
              "country_code": "BE"
             }
            ],
            "ids": [
             {
              "type": "magid",
              "value": "95674353"
             },
             {
              "type": "grid",
              "value": "grid.7942.8"
             },
             {
              "type": "ror",
              "value": "https://ror.org/02495e989"
             }
            ],
            "name": "Université catholique de Louvain"
           }
          ],
          "collective_name": null,
          "first_name": "Fabio",
          "initials": "F",
          "last_name": "Maltoni"
         },
         {
          "affiliations": [
           {
            "addresses": [
             {
              "country_code": "ES"
             }
            ],
            "ids": [
             {
              "type": "magid",
              "value": "134820265"
             },
             {
              "type": "grid",
              "value": "grid.4711.3"
             },
             {
              "type": "ror",
              "value": "https://ror.org/02gfc7t72"
             }
            ],
            "name": "Spanish National Research Council"
           }
          ],
          "collective_name": null,
          "first_name": "Stefano",
          "initials": "S",
          "last_name": "Morisi"
         },
         {
          "affiliations": [],
          "collective_name": null,
          "first_name": "M.",
          "initials": "M",
          "last_name": "Muhlleitner"
         },
         {
          "affiliations": [
           {
            "addresses": [
             {
              "country_code": "IN"
             }
            ],
            "ids": [
             {
              "type": "magid",
              "value": "35409948"
             },
             {
              "type": "grid",
              "value": "grid.450311.2"
             },
             {
              "type": "ror",
              "value": "https://ror.org/0165d9303"
             }
            ],
            "name": "Harish-Chandra Research Institute"
           }
          ],
          "collective_name": null,
          "first_name": "Biswarup",
          "initials": "B",
          "last_name": "Mukhopadhyaya"
         },
         {
          "affiliations": [
           {
            "addresses": [
             {
              "country_code": "DE"
             }
            ],
            "ids": [
             {
              "type": "magid",
              "value": "197323543"
             },
             {
              "type": "grid",
              "value": "grid.5802.f"
             },
             {
              "type": "fundref",
              "value": "501100004033"
             },
             {
              "type": "ror",
              "value": "https://ror.org/023b0x485"
             }
            ],
            "name": "University of Mainz"
           }
          ],
          "collective_name": null,
          "first_name": "Matthias",
          "initials": "M",
          "last_name": "Neubert"
         },
         {
          "affiliations": [
           {
            "addresses": [
             {
              "country_code": "US"
             }
            ],
            "ids": [
             {
              "type": "magid",
              "value": "130238516"
             },
             {
              "type": "grid",
              "value": "grid.17635.36"
             },
             {
              "type": "ror",
              "value": "https://ror.org/017zqws13"
             }
            ],
            "name": "University of Minnesota"
           }
          ],
          "collective_name": null,
          "first_name": "Keith A.",
          "initials": "KA",
          "last_name": "Olive"
         },
         {
          "affiliations": [
           {
            "addresses": [
             {
              "country_code": "IL"
             }
            ],
            "ids": [
             {
              "type": "magid",
              "value": "53964585"
             },
             {
              "type": "grid",
              "value": "grid.13992.30"
             },
             {
              "type": "fundref",
              "value": "501100001735"
             },
             {
              "type": "ror",
              "value": "https://ror.org/0316ej306"
             }
            ],
            "name": "Weizmann Institute of Science"
           }
          ],
          "collective_name": null,
          "first_name": "Gilad",
          "initials": "G",
          "last_name": "Perez"
         },
         {
          "affiliations": [],
          "collective_name": null,
          "first_name": "P. Fileviez",
          "initials": "PF",
          "last_name": "Perez"
         },
         {
          "affiliations": [
           {
            "addresses": [
             {
              "country_code": "DE"
             }
            ],
            "ids": [
             {
              "type": "magid",
              "value": "223822909"
             },
             {
              "type": "grid",
              "value": "grid.7700.0"
             },
             {
              "type": "fundref",
              "value": "501100001661"
             },
             {
              "type": "wikidata",
              "value": "q151510"
             },
             {
              "type": "ror",
              "value": "https://ror.org/038t36y30"
             }
            ],
            "name": "Heidelberg University"
           }
          ],
          "collective_name": null,
          "first_name": "Tilman",
          "initials": "T",
          "last_name": "Plehn"
         },
         {
          "affiliations": [
           {
            "addresses": [
             {
              "country_code": "US"
             }
            ],
            "ids": [
             {
              "type": "magid",
              "value": "78577930"
             },
             {
              "type": "grid",
              "value": "grid.21729.3f"
             },
             {
              "type": "fundref",
              "value": "100006474"
             },
             {
              "type": "wikidata",
              "value": "q49088"
             },
             {
              "type": "ror",
              "value": "https://ror.org/00hj8s172"
             }
            ],
            "name": "Columbia University"
           }
          ],
          "collective_name": null,
          "first_name": "Eduardo",
          "initials": "E",
          "last_name": "Pontón"
         },
         {
          "affiliations": [
           {
            "addresses": [
             {
              "country_code": "DE"
             }
            ],
            "ids": [
             {
              "type": "magid",
              "value": "25974101"
             },
             {
              "type": "grid",
              "value": "grid.8379.5"
             },
             {
              "type": "ror",
              "value": "https://ror.org/00fbnyb24"
             }
            ],
            "name": "University of Würzburg"
           }
          ],
          "collective_name": null,
          "first_name": "Werner",
          "initials": "W",
          "last_name": "Porod"
         },
         {
          "affiliations": [
           {
            "addresses": [
             {
              "country_code": "IT"
             }
            ],
            "ids": [
             {
              "type": "magid",
              "value": "12323705"
             },
             {
              "type": "grid",
              "value": "grid.419330.c"
             },
             {
              "type": "ror",
              "value": "https://ror.org/009gyvm78"
             }
            ],
            "name": "International Centre for Theoretical Physics"
           },
           {
            "addresses": [
             {
              "country_code": "GB"
             }
            ],
            "ids": [
             {
              "type": "magid",
              "value": "241749"
             },
             {
              "type": "grid",
              "value": "grid.5335.0"
             },
             {
              "type": "fundref",
              "value": "501100000735"
             },
             {
              "type": "wikidata",
              "value": "q35794"
             },
             {
              "type": "ror",
              "value": "https://ror.org/013meh722"
             }
            ],
            "name": "University of Cambridge"
           }
          ],
          "collective_name": null,
          "first_name": "Fernando",
          "initials": "F",
          "last_name": "Quevedo"
         },
         {
          "affiliations": [
           {
            "addresses": [
             {
              "country_code": "DE"
             }
            ],
            "ids": [
             {
              "type": "magid",
              "value": "102335020"
             },
             {
              "type": "grid",
              "value": "grid.7892.4"
             },
             {
              "type": "wikidata",
              "value": "q309988"
             },
             {
              "type": "ror",
              "value": "https://ror.org/04t3en479"
             }
            ],
            "name": "Karlsruhe Institute of Technology"
           }
          ],
          "collective_name": null,
          "first_name": "Michael",
          "initials": "M",
          "last_name": "Rauch"
         },
         {
          "affiliations": [
           {
            "addresses": [
             {
              "country_code": "CO"
             }
            ],
            "ids": [
             {
              "type": "magid",
              "value": "35961687"
             },
             {
              "type": "grid",
              "value": "grid.412881.6"
             },
             {
              "type": "ror",
              "value": "https://ror.org/03bp5hc83"
             }
            ],
            "name": "University of Antioquia"
           }
          ],
          "collective_name": null,
          "first_name": "Diego",
          "initials": "D",
          "last_name": "Restrepo"
         },
         {
          "affiliations": [
           {
            "addresses": [
             {
              "country_code": "US"
             }
            ],
            "ids": [
             {
              "type": "magid",
              "value": "2801935854"
             },
             {
              "type": "grid",
              "value": "grid.445003.6"
             },
             {
              "type": "ror",
              "value": "https://ror.org/05gzmn429"
             }
            ],
            "name": "SLAC National Accelerator Laboratory"
           }
          ],
          "collective_name": null,
          "first_name": "Tom",
          "initials": "T",
          "last_name": "Rizzo"
         },
         {
          "affiliations": [
           {
            "addresses": [],
            "ids": [
             {
              "type": "magid",
              "value": "30135922"
             }
            ],
            "name": "Technical University of Lisbon"
           }
          ],
          "collective_name": null,
          "first_name": "Jorge C.",
          "initials": "JC",
          "last_name": "Romão"
         },
         {
          "affiliations": [
           {
            "addresses": [
             {
              "country_code": "CH"
             }
            ],
            "ids": [
             {
              "type": "magid",
              "value": "35440088"
             },
             {
              "type": "grid",
              "value": "grid.5801.c"
             },
             {
              "type": "fundref",
              "value": "501100003006"
             },
             {
              "type": "ror",
              "value": "https://ror.org/05a28rw58"
             }
            ],
            "name": "ETH Zurich"
           }
          ],
          "collective_name": null,
          "first_name": "Frederic Jean",
          "initials": "FJ",
          "last_name": "Ronga"
         },
         {
          "affiliations": [
           {
            "addresses": [
             {
              "country_code": "ES"
             }
            ],
            "ids": [
             {
              "type": "magid",
              "value": "173304897"
             },
             {
              "type": "grid",
              "value": "grid.4489.1"
             },
             {
              "type": "ror",
              "value": "https://ror.org/04njjy449"
             }
            ],
            "name": "University of Granada"
           }
          ],
          "collective_name": null,
          "first_name": "Jose",
          "initials": "J",
          "last_name": "Santiago"
         },
         {
          "affiliations": [
           {
            "addresses": [
             {
              "country_code": "US"
             }
            ],
            "ids": [
             {
              "type": "magid",
              "value": "70983195"
             },
             {
              "type": "grid",
              "value": "grid.264484.8"
             },
             {
              "type": "fundref",
              "value": "100007126"
             },
             {
              "type": "ror",
              "value": "https://ror.org/025r5qe02"
             }
            ],
            "name": "Syracuse University"
           }
          ],
          "collective_name": null,
          "first_name": "Joseph",
          "initials": "J",
          "last_name": "Schechter"
         },
         {
          "affiliations": [],
          "collective_name": null,
          "first_name": "Goran",
          "initials": "G",
          "last_name": "Senjanović"
         },
         {
          "affiliations": [
           {
            "addresses": [
             {
              "country_code": "US"
             }
            ],
            "ids": [
             {
              "type": "magid",
              "value": "70983195"
             },
             {
              "type": "grid",
              "value": "grid.264484.8"
             },
             {
              "type": "fundref",
              "value": "100007126"
             },
             {
              "type": "ror",
              "value": "https://ror.org/025r5qe02"
             }
            ],
            "name": "Syracuse University"
           }
          ],
          "collective_name": null,
          "first_name": "J.",
          "initials": "J",
          "last_name": "Shao"
         },
         {
          "affiliations": [
           {
            "addresses": [
             {
              "country_code": "CH"
             }
            ],
            "ids": [
             {
              "type": "magid",
              "value": "2802229908"
             },
             {
              "type": "grid",
              "value": "grid.5991.4"
             },
             {
              "type": "ror",
              "value": "https://ror.org/03eh3y714"
             }
            ],
            "name": "Paul Scherrer Institute"
           }
          ],
          "collective_name": null,
          "first_name": "Michael",
          "initials": "M",
          "last_name": "Spira"
         },
         {
          "affiliations": [
           {
            "addresses": [
             {
              "country_code": "DE"
             }
            ],
            "ids": [
             {
              "type": "magid",
              "value": "149899117"
             },
             {
              "type": "grid",
              "value": "grid.4372.2"
             },
             {
              "type": "ror",
              "value": "https://ror.org/01hhn8329"
             }
            ],
            "name": "Max Planck Society"
           }
          ],
          "collective_name": null,
          "first_name": "S.",
          "initials": "S",
          "last_name": "Stieberger"
         },
         {
          "affiliations": [
           {
            "addresses": [
             {
              "country_code": "US"
             }
            ],
            "ids": [
             {
              "type": "magid",
              "value": "180949307"
             },
             {
              "type": "grid",
              "value": "grid.62813.3e"
             },
             {
              "type": "ror",
              "value": "https://ror.org/037t3ry66"
             }
            ],
            "name": "Illinois Institute of Technology"
           }
          ],
          "collective_name": null,
          "first_name": "Zack",
          "initials": "Z",
          "last_name": "Sullivan"
         },
         {
          "affiliations": [
           {
            "addresses": [
             {
              "country_code": "US"
             }
            ],
            "ids": [
             {
              "type": "magid",
              "value": "204250578"
             },
             {
              "type": "grid",
              "value": "grid.266093.8"
             },
             {
              "type": "fundref",
              "value": "100008476"
             },
             {
              "type": "ror",
              "value": "https://ror.org/04gyf1771"
             }
            ],
            "name": "University of California, Irvine"
           }
          ],
          "collective_name": null,
          "first_name": "Tim M. P.",
          "initials": "TMP",
          "last_name": "Tait"
         },
         {
          "affiliations": [
           {
            "addresses": [
             {
              "country_code": "US"
             }
            ],
            "ids": [
             {
              "type": "magid",
              "value": "1331384533"
             },
             {
              "type": "grid",
              "value": "grid.162346.4"
             },
             {
              "type": "ror",
              "value": "https://ror.org/03tzaeb71"
             }
            ],
            "name": "University of Hawaii"
           },
           {
            "addresses": [
             {
              "country_code": "US"
             }
            ],
            "ids": [
             {
              "type": "magid",
              "value": "135310074"
             },
             {
              "type": "grid",
              "value": "grid.14003.36"
             },
             {
              "type": "fundref",
              "value": "100007015"
             },
             {
              "type": "wikidata",
              "value": "q838330"
             },
             {
              "type": "ror",
              "value": "https://ror.org/01y2jtd41"
             }
            ],
            "name": "University of Wisconsin-Madison"
           }
          ],
          "collective_name": null,
          "first_name": "Xerxes",
          "initials": "X",
          "last_name": "Tata"
         },
         {
          "affiliations": [
           {
            "addresses": [
             {
              "country_code": "US"
             }
            ],
            "ids": [
             {
              "type": "magid",
              "value": "12912129"
             },
             {
              "type": "grid",
              "value": "grid.261112.7"
             },
             {
              "type": "ror",
              "value": "https://ror.org/04t5xt781"
             }
            ],
            "name": "Northeastern University"
           }
          ],
          "collective_name": null,
          "first_name": "T.R.",
          "initials": "TR",
          "last_name": "Taylor"
         },
         {
          "affiliations": [
           {
            "addresses": [],
            "ids": [
             {
              "type": "magid",
              "value": "66946132"
             }
            ],
            "name": "University of Maryland, College Park"
           }
          ],
          "collective_name": null,
          "first_name": "Manuel",
          "initials": "M",
          "last_name": "Toharia"
         },
         {
          "affiliations": [
           {
            "addresses": [
             {
              "country_code": "US"
             }
            ],
            "ids": [
             {
              "type": "magid",
              "value": "2801935854"
             },
             {
              "type": "grid",
              "value": "grid.445003.6"
             },
             {
              "type": "ror",
              "value": "https://ror.org/05gzmn429"
             }
            ],
            "name": "SLAC National Accelerator Laboratory"
           }
          ],
          "collective_name": null,
          "first_name": "Jay G.",
          "initials": "JG",
          "last_name": "Wacker"
         },
         {
          "affiliations": [
           {
            "addresses": [
             {
              "country_code": "US"
             }
            ],
            "ids": [
             {
              "type": "magid",
              "value": "1282105669"
             },
             {
              "type": "grid",
              "value": "grid.187073.a"
             },
             {
              "type": "ror",
              "value": "https://ror.org/05gvnxz63"
             }
            ],
            "name": "Argonne National Laboratory"
           },
           {
            "addresses": [
             {
              "country_code": "US"
             }
            ],
            "ids": [
             {
              "type": "magid",
              "value": "40347166"
             },
             {
              "type": "grid",
              "value": "grid.170205.1"
             },
             {
              "type": "fundref",
              "value": "100007234"
             },
             {
              "type": "wikidata",
              "value": "q131252"
             },
             {
              "type": "ror",
              "value": "https://ror.org/024mw5h28"
             }
            ],
            "name": "University of Chicago"
           }
          ],
          "collective_name": null,
          "first_name": "Carlos E. M.",
          "initials": "CEM",
          "last_name": "Wagner"
         },
         {
          "affiliations": [
           {
            "addresses": [
             {
              "country_code": "US"
             }
            ],
            "ids": [
             {
              "type": "magid",
              "value": "20089843"
             },
             {
              "type": "grid",
              "value": "grid.16750.35"
             },
             {
              "type": "fundref",
              "value": "100006734"
             },
             {
              "type": "ror",
              "value": "https://ror.org/00hx57361"
             }
            ],
            "name": "Princeton University"
           }
          ],
          "collective_name": null,
          "first_name": "Lian-Tao",
          "initials": "L",
          "last_name": "Wang"
         },
         {
          "affiliations": [
           {
            "addresses": [
             {
              "country_code": "GB"
             }
            ],
            "ids": [
             {
              "type": "magid",
              "value": "190082696"
             },
             {
              "type": "grid",
              "value": "grid.8250.f"
             },
             {
              "type": "fundref",
              "value": "501100001314"
             },
             {
              "type": "ror",
              "value": "https://ror.org/01v29qb04"
             }
            ],
            "name": "Durham University"
           }
          ],
          "collective_name": null,
          "first_name": "Georg",
          "initials": "G",
          "last_name": "Weiglein"
         },
         {
          "affiliations": [
           {
            "addresses": [
             {
              "country_code": "DE"
             }
            ],
            "ids": [
             {
              "type": "magid",
              "value": "102335020"
             },
             {
              "type": "grid",
              "value": "grid.7892.4"
             },
             {
              "type": "wikidata",
              "value": "q309988"
             },
             {
              "type": "ror",
              "value": "https://ror.org/04t3en479"
             }
            ],
            "name": "Karlsruhe Institute of Technology"
           }
          ],
          "collective_name": null,
          "first_name": "D.",
          "initials": "D",
          "last_name": "Zeppenfeld"
         },
         {
          "affiliations": [
           {
            "addresses": [
             {
              "country_code": "US"
             }
            ],
            "ids": [
             {
              "type": "magid",
              "value": "27837315"
             },
             {
              "type": "grid",
              "value": "grid.214458.e"
             },
             {
              "type": "fundref",
              "value": "100007270"
             },
             {
              "type": "ror",
              "value": "https://ror.org/00jmfr291"
             }
            ],
            "name": "University of Michigan"
           }
          ],
          "collective_name": null,
          "first_name": "Kathryn M.",
          "initials": "KM",
          "last_name": "Zurek"
         }
        ],
        "chemicals": [],
        "date_published": {
         "date": null
        },
        "end_page": "417",
        "fields_of_study": [
         {
          "name": "Particle physics"
         },
         {
          "name": "Supersymmetry"
         },
         {
          "name": "Physics"
         },
         {
          "name": "Cold dark matter"
         },
         {
          "name": "Electroweak interaction"
         },
         {
          "name": "Physics beyond the Standard Model"
         },
         {
          "name": "Hidden sector"
         },
         {
          "name": "Extra dimensions"
         },
         {
          "name": "Hierarchy problem"
         },
         {
          "name": "Large Hadron Collider"
         },
         {
          "name": "Higgs boson"
         },
         {
          "name": "Large extra dimension"
         },
         {
          "name": "Phenomenology (particle physics)"
         }
        ],
        "funding": [],
        "issue": null,
        "keywords": [],
        "lens_id": "033-331-534-328-670",
        "mesh_terms": [],
        "patent_citations_count": 0,
        "publication_type": "journal article",
        "references": [
         {
          "lens_id": "000-081-279-706-905"
         },
         {
          "lens_id": "000-090-056-631-154"
         },
         {
          "lens_id": "000-123-080-276-015"
         },
         {
          "lens_id": "000-261-668-351-907"
         },
         {
          "lens_id": "000-324-517-183-171"
         },
         {
          "lens_id": "000-404-788-126-128"
         },
         {
          "lens_id": "000-560-699-259-951"
         },
         {
          "lens_id": "000-664-186-436-146"
         },
         {
          "lens_id": "000-783-063-118-49X"
         },
         {
          "lens_id": "000-871-343-942-846"
         },
         {
          "lens_id": "000-889-920-046-511"
         },
         {
          "lens_id": "000-936-570-455-620"
         },
         {
          "lens_id": "001-049-485-844-07X"
         },
         {
          "lens_id": "001-272-610-541-820"
         },
         {
          "lens_id": "001-550-840-782-889"
         },
         {
          "lens_id": "001-775-565-366-318"
         },
         {
          "lens_id": "001-952-445-171-983"
         },
         {
          "lens_id": "001-985-171-250-609"
         },
         {
          "lens_id": "001-997-532-761-868"
         },
         {
          "lens_id": "002-127-737-559-396"
         },
         {
          "lens_id": "002-129-181-064-695"
         },
         {
          "lens_id": "002-201-831-818-350"
         },
         {
          "lens_id": "002-219-524-331-433"
         },
         {
          "lens_id": "002-222-073-688-106"
         },
         {
          "lens_id": "002-244-143-196-746"
         },
         {
          "lens_id": "002-307-376-458-546"
         },
         {
          "lens_id": "002-364-789-407-887"
         },
         {
          "lens_id": "002-439-036-340-642"
         },
         {
          "lens_id": "002-463-034-029-818"
         },
         {
          "lens_id": "002-604-078-175-047"
         },
         {
          "lens_id": "002-670-899-288-255"
         },
         {
          "lens_id": "002-697-842-027-345"
         },
         {
          "lens_id": "002-775-455-050-757"
         },
         {
          "lens_id": "002-838-213-644-830"
         },
         {
          "lens_id": "002-921-018-356-275"
         },
         {
          "lens_id": "002-923-286-373-759"
         },
         {
          "lens_id": "003-123-918-277-580"
         },
         {
          "lens_id": "003-205-747-487-872"
         },
         {
          "lens_id": "003-400-912-559-168"
         },
         {
          "lens_id": "003-686-964-856-232"
         },
         {
          "lens_id": "003-834-335-328-375"
         },
         {
          "lens_id": "003-843-890-381-612"
         },
         {
          "lens_id": "003-931-135-416-228"
         },
         {
          "lens_id": "003-948-978-835-739"
         },
         {
          "lens_id": "004-018-336-103-136"
         },
         {
          "lens_id": "004-034-623-159-589"
         },
         {
          "lens_id": "004-123-642-876-406"
         },
         {
          "lens_id": "004-187-916-054-323"
         },
         {
          "lens_id": "004-250-084-447-94X"
         },
         {
          "lens_id": "004-327-256-097-097"
         },
         {
          "lens_id": "004-401-470-630-684"
         },
         {
          "lens_id": "004-454-918-798-637"
         },
         {
          "lens_id": "004-493-644-347-987"
         },
         {
          "lens_id": "004-520-075-748-609"
         },
         {
          "lens_id": "004-549-582-098-769"
         },
         {
          "lens_id": "004-563-860-284-109"
         },
         {
          "lens_id": "004-591-893-594-953"
         },
         {
          "lens_id": "004-771-370-335-387"
         },
         {
          "lens_id": "004-773-655-177-65X"
         },
         {
          "lens_id": "004-802-984-997-333"
         },
         {
          "lens_id": "004-858-709-908-327"
         },
         {
          "lens_id": "005-097-108-255-378"
         },
         {
          "lens_id": "005-122-532-454-896"
         },
         {
          "lens_id": "005-129-751-141-509"
         },
         {
          "lens_id": "005-141-646-628-309"
         },
         {
          "lens_id": "005-152-850-359-031"
         },
         {
          "lens_id": "005-177-464-922-296"
         },
         {
          "lens_id": "005-203-429-735-547"
         },
         {
          "lens_id": "005-249-567-689-810"
         },
         {
          "lens_id": "005-385-445-721-233"
         },
         {
          "lens_id": "005-404-375-600-516"
         },
         {
          "lens_id": "005-465-059-038-604"
         },
         {
          "lens_id": "005-557-552-075-474"
         },
         {
          "lens_id": "005-559-962-399-50X"
         },
         {
          "lens_id": "005-565-470-540-07X"
         },
         {
          "lens_id": "005-602-113-926-791"
         },
         {
          "lens_id": "005-634-322-207-095"
         },
         {
          "lens_id": "005-743-247-647-519"
         },
         {
          "lens_id": "005-774-665-912-305"
         },
         {
          "lens_id": "005-859-568-844-358"
         },
         {
          "lens_id": "005-928-248-250-004"
         },
         {
          "lens_id": "006-014-540-986-575"
         },
         {
          "lens_id": "006-122-400-683-677"
         },
         {
          "lens_id": "006-180-916-377-924"
         },
         {
          "lens_id": "006-296-488-816-293"
         },
         {
          "lens_id": "006-322-706-528-57X"
         },
         {
          "lens_id": "006-347-995-522-510"
         },
         {
          "lens_id": "006-649-841-075-23X"
         },
         {
          "lens_id": "006-679-686-370-921"
         },
         {
          "lens_id": "006-729-357-192-258"
         },
         {
          "lens_id": "006-768-323-137-711"
         },
         {
          "lens_id": "006-840-504-965-835"
         },
         {
          "lens_id": "006-884-444-783-072"
         },
         {
          "lens_id": "006-963-608-033-768"
         },
         {
          "lens_id": "007-076-141-912-659"
         },
         {
          "lens_id": "007-092-154-077-736"
         },
         {
          "lens_id": "007-118-023-418-548"
         },
         {
          "lens_id": "007-230-345-675-125"
         },
         {
          "lens_id": "007-342-647-787-989"
         },
         {
          "lens_id": "007-392-012-223-122"
         },
         {
          "lens_id": "007-447-854-617-596"
         },
         {
          "lens_id": "007-762-032-398-566"
         },
         {
          "lens_id": "007-826-611-796-585"
         },
         {
          "lens_id": "007-860-133-982-314"
         },
         {
          "lens_id": "007-915-931-911-057"
         },
         {
          "lens_id": "008-008-120-595-414"
         },
         {
          "lens_id": "008-053-876-193-346"
         },
         {
          "lens_id": "008-067-806-341-363"
         },
         {
          "lens_id": "008-085-912-458-88X"
         },
         {
          "lens_id": "008-117-828-111-115"
         },
         {
          "lens_id": "008-124-804-571-980"
         },
         {
          "lens_id": "008-131-530-817-546"
         },
         {
          "lens_id": "008-186-475-936-283"
         },
         {
          "lens_id": "008-227-029-289-133"
         },
         {
          "lens_id": "008-282-969-822-892"
         },
         {
          "lens_id": "008-285-768-764-378"
         },
         {
          "lens_id": "008-322-544-136-196"
         },
         {
          "lens_id": "008-346-871-067-833"
         },
         {
          "lens_id": "008-354-635-465-581"
         },
         {
          "lens_id": "008-403-072-428-215"
         },
         {
          "lens_id": "008-428-630-866-123"
         },
         {
          "lens_id": "008-505-356-227-797"
         },
         {
          "lens_id": "008-552-374-781-857"
         },
         {
          "lens_id": "008-563-646-124-935"
         },
         {
          "lens_id": "008-628-078-051-030"
         },
         {
          "lens_id": "008-650-235-267-419"
         },
         {
          "lens_id": "008-732-601-062-122"
         },
         {
          "lens_id": "008-741-627-016-890"
         },
         {
          "lens_id": "008-792-643-501-87X"
         },
         {
          "lens_id": "008-841-792-475-546"
         },
         {
          "lens_id": "008-937-503-528-645"
         },
         {
          "lens_id": "008-950-134-502-306"
         },
         {
          "lens_id": "009-035-116-276-568"
         },
         {
          "lens_id": "009-055-197-158-720"
         },
         {
          "lens_id": "009-087-812-791-648"
         },
         {
          "lens_id": "009-243-549-086-731"
         },
         {
          "lens_id": "009-335-138-727-520"
         },
         {
          "lens_id": "009-391-772-156-223"
         },
         {
          "lens_id": "009-558-090-472-36X"
         },
         {
          "lens_id": "009-652-383-375-097"
         },
         {
          "lens_id": "009-710-324-334-992"
         },
         {
          "lens_id": "009-735-305-418-382"
         },
         {
          "lens_id": "009-845-556-130-647"
         },
         {
          "lens_id": "009-917-660-116-132"
         },
         {
          "lens_id": "010-024-908-565-917"
         },
         {
          "lens_id": "010-140-296-190-453"
         },
         {
          "lens_id": "010-184-530-704-411"
         },
         {
          "lens_id": "010-205-354-415-10X"
         },
         {
          "lens_id": "010-294-449-661-933"
         },
         {
          "lens_id": "010-322-499-664-126"
         },
         {
          "lens_id": "010-480-105-710-892"
         },
         {
          "lens_id": "010-536-326-770-506"
         },
         {
          "lens_id": "010-545-124-964-18X"
         },
         {
          "lens_id": "010-555-271-756-38X"
         },
         {
          "lens_id": "010-565-128-405-236"
         },
         {
          "lens_id": "010-707-904-743-176"
         },
         {
          "lens_id": "010-728-535-116-873"
         },
         {
          "lens_id": "010-744-194-551-606"
         },
         {
          "lens_id": "010-820-507-815-388"
         },
         {
          "lens_id": "010-854-485-380-971"
         },
         {
          "lens_id": "010-891-226-069-372"
         },
         {
          "lens_id": "010-964-315-487-319"
         },
         {
          "lens_id": "010-976-469-904-072"
         },
         {
          "lens_id": "011-013-630-697-482"
         },
         {
          "lens_id": "011-086-588-124-29X"
         },
         {
          "lens_id": "011-141-830-577-65X"
         },
         {
          "lens_id": "011-153-156-524-422"
         },
         {
          "lens_id": "011-411-081-442-252"
         },
         {
          "lens_id": "011-522-806-189-509"
         },
         {
          "lens_id": "011-543-449-844-669"
         },
         {
          "lens_id": "011-578-375-317-611"
         },
         {
          "lens_id": "011-777-634-957-683"
         },
         {
          "lens_id": "011-925-697-924-944"
         },
         {
          "lens_id": "011-938-071-303-022"
         },
         {
          "lens_id": "011-965-384-501-63X"
         },
         {
          "lens_id": "012-124-412-461-146"
         },
         {
          "lens_id": "012-580-909-553-74X"
         },
         {
          "lens_id": "012-653-603-508-625"
         },
         {
          "lens_id": "012-708-247-348-113"
         },
         {
          "lens_id": "012-879-374-513-245"
         },
         {
          "lens_id": "012-882-657-520-880"
         },
         {
          "lens_id": "012-925-731-125-027"
         },
         {
          "lens_id": "012-955-776-037-757"
         },
         {
          "lens_id": "012-980-061-536-303"
         },
         {
          "lens_id": "012-985-910-574-308"
         },
         {
          "lens_id": "013-017-025-542-491"
         },
         {
          "lens_id": "013-058-579-907-860"
         },
         {
          "lens_id": "013-099-928-311-637"
         },
         {
          "lens_id": "013-259-596-310-83X"
         },
         {
          "lens_id": "013-319-118-379-578"
         },
         {
          "lens_id": "013-387-840-038-732"
         },
         {
          "lens_id": "013-527-032-216-344"
         },
         {
          "lens_id": "013-585-583-219-926"
         },
         {
          "lens_id": "013-649-850-935-960"
         },
         {
          "lens_id": "013-682-622-685-503"
         },
         {
          "lens_id": "013-806-773-587-670"
         },
         {
          "lens_id": "013-886-596-638-520"
         },
         {
          "lens_id": "013-984-268-670-141"
         },
         {
          "lens_id": "014-011-920-076-879"
         },
         {
          "lens_id": "014-085-742-623-025"
         },
         {
          "lens_id": "014-240-501-708-148"
         },
         {
          "lens_id": "014-252-908-210-868"
         },
         {
          "lens_id": "014-324-525-127-629"
         },
         {
          "lens_id": "014-334-837-120-548"
         },
         {
          "lens_id": "014-406-332-722-586"
         },
         {
          "lens_id": "014-458-968-081-15X"
         },
         {
          "lens_id": "014-484-794-214-870"
         },
         {
          "lens_id": "014-497-992-134-161"
         },
         {
          "lens_id": "014-611-313-420-593"
         },
         {
          "lens_id": "014-694-046-481-995"
         },
         {
          "lens_id": "014-707-673-762-059"
         },
         {
          "lens_id": "014-751-460-308-539"
         },
         {
          "lens_id": "014-776-390-450-601"
         },
         {
          "lens_id": "014-857-205-509-988"
         },
         {
          "lens_id": "014-860-871-394-729"
         },
         {
          "lens_id": "014-886-844-654-13X"
         },
         {
          "lens_id": "014-887-072-985-098"
         },
         {
          "lens_id": "014-953-813-996-257"
         },
         {
          "lens_id": "015-136-591-191-934"
         },
         {
          "lens_id": "015-256-501-090-504"
         },
         {
          "lens_id": "015-351-358-773-024"
         },
         {
          "lens_id": "015-387-931-172-972"
         },
         {
          "lens_id": "015-602-529-626-63X"
         },
         {
          "lens_id": "015-612-839-407-36X"
         },
         {
          "lens_id": "015-687-803-430-839"
         },
         {
          "lens_id": "015-761-858-353-204"
         },
         {
          "lens_id": "015-880-661-173-754"
         },
         {
          "lens_id": "015-891-300-260-776"
         },
         {
          "lens_id": "015-971-186-947-944"
         },
         {
          "lens_id": "016-001-135-227-428"
         },
         {
          "lens_id": "016-125-150-499-485"
         },
         {
          "lens_id": "016-196-102-596-297"
         },
         {
          "lens_id": "016-227-840-669-039"
         },
         {
          "lens_id": "016-239-789-574-074"
         },
         {
          "lens_id": "016-543-726-554-013"
         },
         {
          "lens_id": "016-555-240-229-331"
         },
         {
          "lens_id": "016-659-961-532-441"
         },
         {
          "lens_id": "016-743-545-623-186"
         },
         {
          "lens_id": "016-754-527-149-883"
         },
         {
          "lens_id": "016-773-516-771-152"
         },
         {
          "lens_id": "016-849-874-274-402"
         },
         {
          "lens_id": "016-936-723-910-438"
         },
         {
          "lens_id": "017-033-376-002-740"
         },
         {
          "lens_id": "017-052-826-664-324"
         },
         {
          "lens_id": "017-078-437-041-364"
         },
         {
          "lens_id": "017-154-856-921-288"
         },
         {
          "lens_id": "017-236-539-879-724"
         },
         {
          "lens_id": "017-414-953-236-387"
         },
         {
          "lens_id": "017-480-035-389-400"
         },
         {
          "lens_id": "017-543-620-632-534"
         },
         {
          "lens_id": "017-609-944-428-491"
         },
         {
          "lens_id": "017-718-955-235-778"
         },
         {
          "lens_id": "017-741-231-554-349"
         },
         {
          "lens_id": "017-763-439-778-410"
         },
         {
          "lens_id": "017-940-383-673-875"
         },
         {
          "lens_id": "017-945-358-347-616"
         },
         {
          "lens_id": "017-960-132-206-496"
         },
         {
          "lens_id": "018-013-541-344-882"
         },
         {
          "lens_id": "018-194-847-023-948"
         },
         {
          "lens_id": "018-230-292-539-38X"
         },
         {
          "lens_id": "018-331-448-718-126"
         },
         {
          "lens_id": "018-348-025-759-541"
         },
         {
          "lens_id": "018-397-367-625-202"
         },
         {
          "lens_id": "018-436-096-701-697"
         },
         {
          "lens_id": "018-492-639-622-845"
         },
         {
          "lens_id": "018-551-262-712-353"
         },
         {
          "lens_id": "018-570-830-757-546"
         },
         {
          "lens_id": "018-629-626-045-238"
         },
         {
          "lens_id": "018-696-454-659-726"
         },
         {
          "lens_id": "018-705-133-949-193"
         },
         {
          "lens_id": "018-920-035-058-882"
         },
         {
          "lens_id": "019-143-486-020-640"
         },
         {
          "lens_id": "019-403-403-288-325"
         },
         {
          "lens_id": "019-500-094-686-761"
         },
         {
          "lens_id": "019-536-280-882-998"
         },
         {
          "lens_id": "019-562-912-834-417"
         },
         {
          "lens_id": "019-639-547-871-545"
         },
         {
          "lens_id": "019-652-368-212-049"
         },
         {
          "lens_id": "019-823-318-792-595"
         },
         {
          "lens_id": "019-849-891-044-851"
         },
         {
          "lens_id": "019-859-213-141-811"
         },
         {
          "lens_id": "019-964-046-152-904"
         },
         {
          "lens_id": "019-981-756-226-263"
         },
         {
          "lens_id": "019-984-442-028-540"
         },
         {
          "lens_id": "019-987-781-413-623"
         },
         {
          "lens_id": "020-031-286-922-366"
         },
         {
          "lens_id": "020-034-665-301-539"
         },
         {
          "lens_id": "020-073-005-231-231"
         },
         {
          "lens_id": "020-081-339-989-747"
         },
         {
          "lens_id": "020-156-535-903-297"
         },
         {
          "lens_id": "020-209-044-061-335"
         },
         {
          "lens_id": "020-221-915-074-732"
         },
         {
          "lens_id": "020-258-418-121-074"
         },
         {
          "lens_id": "020-274-940-402-741"
         },
         {
          "lens_id": "020-333-358-593-367"
         },
         {
          "lens_id": "020-337-184-164-295"
         },
         {
          "lens_id": "020-371-989-944-773"
         },
         {
          "lens_id": "020-398-533-552-114"
         },
         {
          "lens_id": "020-415-150-911-206"
         },
         {
          "lens_id": "020-524-301-666-897"
         },
         {
          "lens_id": "020-620-798-931-886"
         },
         {
          "lens_id": "020-757-334-296-789"
         },
         {
          "lens_id": "020-810-060-006-085"
         },
         {
          "lens_id": "020-815-521-144-345"
         },
         {
          "lens_id": "020-853-296-958-736"
         },
         {
          "lens_id": "021-070-787-892-79X"
         },
         {
          "lens_id": "021-071-236-395-791"
         },
         {
          "lens_id": "021-077-611-406-286"
         },
         {
          "lens_id": "021-129-123-352-882"
         },
         {
          "lens_id": "021-153-721-988-32X"
         },
         {
          "lens_id": "021-226-805-620-615"
         },
         {
          "lens_id": "021-243-354-900-638"
         },
         {
          "lens_id": "021-267-170-582-416"
         },
         {
          "lens_id": "021-284-260-020-892"
         },
         {
          "lens_id": "021-398-715-766-814"
         },
         {
          "lens_id": "021-462-205-137-368"
         },
         {
          "lens_id": "021-540-520-396-870"
         },
         {
          "lens_id": "021-541-053-891-833"
         },
         {
          "lens_id": "021-559-816-771-051"
         },
         {
          "lens_id": "021-613-259-008-92X"
         },
         {
          "lens_id": "022-067-924-411-518"
         },
         {
          "lens_id": "022-110-189-283-96X"
         },
         {
          "lens_id": "022-184-279-741-954"
         },
         {
          "lens_id": "022-185-340-608-736"
         },
         {
          "lens_id": "022-234-447-246-446"
         },
         {
          "lens_id": "022-302-330-153-125"
         },
         {
          "lens_id": "022-518-199-356-121"
         },
         {
          "lens_id": "022-655-190-018-370"
         },
         {
          "lens_id": "022-710-434-843-780"
         },
         {
          "lens_id": "022-762-092-869-810"
         },
         {
          "lens_id": "022-820-186-350-529"
         },
         {
          "lens_id": "022-980-977-594-338"
         },
         {
          "lens_id": "023-064-023-404-823"
         },
         {
          "lens_id": "023-331-471-863-592"
         },
         {
          "lens_id": "023-470-636-141-556"
         },
         {
          "lens_id": "023-655-123-724-271"
         },
         {
          "lens_id": "023-679-070-769-05X"
         },
         {
          "lens_id": "023-734-719-728-973"
         },
         {
          "lens_id": "023-819-597-539-80X"
         },
         {
          "lens_id": "023-836-095-501-160"
         },
         {
          "lens_id": "023-947-861-162-316"
         },
         {
          "lens_id": "024-116-489-849-187"
         },
         {
          "lens_id": "024-143-172-500-220"
         },
         {
          "lens_id": "024-146-168-989-258"
         },
         {
          "lens_id": "024-158-195-880-424"
         },
         {
          "lens_id": "024-241-566-616-479"
         },
         {
          "lens_id": "024-258-164-404-087"
         },
         {
          "lens_id": "024-388-301-517-930"
         },
         {
          "lens_id": "024-453-658-596-000"
         },
         {
          "lens_id": "024-567-968-743-366"
         },
         {
          "lens_id": "024-727-974-004-412"
         },
         {
          "lens_id": "024-954-028-345-691"
         },
         {
          "lens_id": "024-955-521-461-834"
         },
         {
          "lens_id": "024-962-269-510-299"
         },
         {
          "lens_id": "025-142-929-913-150"
         },
         {
          "lens_id": "025-247-947-836-698"
         },
         {
          "lens_id": "025-355-432-781-649"
         },
         {
          "lens_id": "025-358-477-448-43X"
         },
         {
          "lens_id": "025-645-618-423-917"
         },
         {
          "lens_id": "025-875-735-315-724"
         },
         {
          "lens_id": "025-967-569-858-093"
         },
         {
          "lens_id": "025-973-892-929-26X"
         },
         {
          "lens_id": "025-991-879-905-318"
         },
         {
          "lens_id": "026-099-854-295-698"
         },
         {
          "lens_id": "026-189-122-229-571"
         },
         {
          "lens_id": "026-250-856-400-286"
         },
         {
          "lens_id": "026-294-774-510-312"
         },
         {
          "lens_id": "026-443-907-665-809"
         },
         {
          "lens_id": "026-461-392-226-24X"
         },
         {
          "lens_id": "026-472-166-522-781"
         },
         {
          "lens_id": "026-500-608-385-522"
         },
         {
          "lens_id": "026-623-148-069-245"
         },
         {
          "lens_id": "026-641-927-699-587"
         },
         {
          "lens_id": "026-681-309-983-069"
         },
         {
          "lens_id": "026-688-630-269-592"
         },
         {
          "lens_id": "026-809-521-575-046"
         },
         {
          "lens_id": "027-025-720-031-827"
         },
         {
          "lens_id": "027-160-064-956-013"
         },
         {
          "lens_id": "027-279-530-051-149"
         },
         {
          "lens_id": "027-363-693-451-624"
         },
         {
          "lens_id": "027-660-803-845-941"
         },
         {
          "lens_id": "027-670-980-794-590"
         },
         {
          "lens_id": "027-690-411-173-020"
         },
         {
          "lens_id": "027-727-605-116-24X"
         },
         {
          "lens_id": "027-772-970-334-723"
         },
         {
          "lens_id": "027-779-997-802-541"
         },
         {
          "lens_id": "027-893-855-290-981"
         },
         {
          "lens_id": "027-968-787-212-554"
         },
         {
          "lens_id": "027-972-085-463-422"
         },
         {
          "lens_id": "028-133-458-278-190"
         },
         {
          "lens_id": "028-198-452-057-706"
         },
         {
          "lens_id": "028-309-290-936-642"
         },
         {
          "lens_id": "028-319-946-899-311"
         },
         {
          "lens_id": "028-355-088-562-496"
         },
         {
          "lens_id": "028-355-684-172-101"
         },
         {
          "lens_id": "028-368-045-318-576"
         },
         {
          "lens_id": "028-458-162-142-361"
         },
         {
          "lens_id": "028-470-051-902-411"
         },
         {
          "lens_id": "028-503-012-176-937"
         },
         {
          "lens_id": "028-512-668-708-945"
         },
         {
          "lens_id": "028-576-053-617-134"
         },
         {
          "lens_id": "028-624-540-304-251"
         },
         {
          "lens_id": "028-634-397-674-557"
         },
         {
          "lens_id": "028-647-014-447-772"
         },
         {
          "lens_id": "028-694-778-789-715"
         },
         {
          "lens_id": "028-749-106-872-300"
         },
         {
          "lens_id": "028-796-563-559-768"
         },
         {
          "lens_id": "028-817-030-545-654"
         },
         {
          "lens_id": "029-088-271-645-962"
         },
         {
          "lens_id": "029-193-967-720-419"
         },
         {
          "lens_id": "029-343-203-101-061"
         },
         {
          "lens_id": "029-343-950-715-374"
         },
         {
          "lens_id": "029-354-794-847-693"
         },
         {
          "lens_id": "029-564-207-498-130"
         },
         {
          "lens_id": "029-642-572-650-066"
         },
         {
          "lens_id": "029-684-353-492-876"
         },
         {
          "lens_id": "029-852-446-718-627"
         },
         {
          "lens_id": "029-908-908-314-548"
         },
         {
          "lens_id": "030-018-786-523-114"
         },
         {
          "lens_id": "030-073-338-637-785"
         },
         {
          "lens_id": "030-158-809-309-271"
         },
         {
          "lens_id": "030-234-990-326-210"
         },
         {
          "lens_id": "030-291-802-174-610"
         },
         {
          "lens_id": "030-403-360-324-311"
         },
         {
          "lens_id": "030-671-923-833-277"
         },
         {
          "lens_id": "030-765-592-564-160"
         },
         {
          "lens_id": "030-881-263-266-849"
         },
         {
          "lens_id": "030-895-895-100-625"
         },
         {
          "lens_id": "030-911-981-684-433"
         },
         {
          "lens_id": "030-967-636-412-43X"
         },
         {
          "lens_id": "031-200-477-609-819"
         },
         {
          "lens_id": "031-203-248-768-182"
         },
         {
          "lens_id": "031-212-141-903-203"
         },
         {
          "lens_id": "031-409-086-906-485"
         },
         {
          "lens_id": "031-448-705-308-882"
         },
         {
          "lens_id": "031-458-712-497-510"
         },
         {
          "lens_id": "031-486-242-828-888"
         },
         {
          "lens_id": "031-593-974-476-973"
         },
         {
          "lens_id": "031-635-391-968-629"
         },
         {
          "lens_id": "031-885-966-818-501"
         },
         {
          "lens_id": "032-014-887-017-610"
         },
         {
          "lens_id": "032-084-172-711-549"
         },
         {
          "lens_id": "032-263-696-633-215"
         },
         {
          "lens_id": "032-394-949-972-494"
         },
         {
          "lens_id": "032-573-532-698-905"
         },
         {
          "lens_id": "032-626-861-548-533"
         },
         {
          "lens_id": "032-656-838-091-587"
         },
         {
          "lens_id": "032-663-951-224-631"
         },
         {
          "lens_id": "032-709-731-897-210"
         },
         {
          "lens_id": "032-767-241-229-59X"
         },
         {
          "lens_id": "032-822-314-291-116"
         },
         {
          "lens_id": "033-037-157-321-328"
         },
         {
          "lens_id": "033-260-824-197-466"
         },
         {
          "lens_id": "033-318-756-177-517"
         },
         {
          "lens_id": "033-391-495-628-981"
         },
         {
          "lens_id": "033-436-493-732-722"
         },
         {
          "lens_id": "033-580-785-497-396"
         },
         {
          "lens_id": "033-589-832-882-555"
         },
         {
          "lens_id": "033-745-632-428-528"
         },
         {
          "lens_id": "033-997-336-972-263"
         },
         {
          "lens_id": "034-107-331-800-170"
         },
         {
          "lens_id": "034-152-165-951-987"
         },
         {
          "lens_id": "034-294-881-549-431"
         },
         {
          "lens_id": "034-334-618-027-496"
         },
         {
          "lens_id": "034-410-408-417-340"
         },
         {
          "lens_id": "034-511-896-592-836"
         },
         {
          "lens_id": "034-668-187-663-414"
         },
         {
          "lens_id": "034-749-381-040-979"
         },
         {
          "lens_id": "034-754-943-277-852"
         },
         {
          "lens_id": "034-771-299-687-328"
         },
         {
          "lens_id": "034-869-379-841-749"
         },
         {
          "lens_id": "035-000-141-352-799"
         },
         {
          "lens_id": "035-459-220-867-407"
         },
         {
          "lens_id": "035-524-186-472-177"
         },
         {
          "lens_id": "035-653-623-735-31X"
         },
         {
          "lens_id": "035-718-297-146-425"
         },
         {
          "lens_id": "035-782-256-619-042"
         },
         {
          "lens_id": "035-791-420-825-214"
         },
         {
          "lens_id": "035-799-031-372-166"
         },
         {
          "lens_id": "036-055-291-729-437"
         },
         {
          "lens_id": "036-117-094-296-100"
         },
         {
          "lens_id": "036-231-188-431-51X"
         },
         {
          "lens_id": "036-239-067-736-663"
         },
         {
          "lens_id": "036-544-094-674-091"
         },
         {
          "lens_id": "036-584-893-234-750"
         },
         {
          "lens_id": "036-659-548-390-035"
         },
         {
          "lens_id": "037-112-707-107-717"
         },
         {
          "lens_id": "037-134-329-920-168"
         },
         {
          "lens_id": "037-143-295-022-662"
         },
         {
          "lens_id": "037-382-507-120-036"
         },
         {
          "lens_id": "037-442-908-844-600"
         },
         {
          "lens_id": "037-524-565-582-862"
         },
         {
          "lens_id": "037-546-633-533-876"
         },
         {
          "lens_id": "037-696-337-690-360"
         },
         {
          "lens_id": "037-718-023-230-497"
         },
         {
          "lens_id": "037-720-679-801-945"
         },
         {
          "lens_id": "037-743-603-335-118"
         },
         {
          "lens_id": "037-850-205-148-337"
         },
         {
          "lens_id": "037-941-189-625-095"
         },
         {
          "lens_id": "037-966-643-345-52X"
         },
         {
          "lens_id": "037-987-765-335-234"
         },
         {
          "lens_id": "037-990-531-005-651"
         },
         {
          "lens_id": "038-061-391-704-556"
         },
         {
          "lens_id": "038-168-391-176-095"
         },
         {
          "lens_id": "038-231-384-169-208"
         },
         {
          "lens_id": "038-304-160-952-185"
         },
         {
          "lens_id": "038-386-026-056-349"
         },
         {
          "lens_id": "038-387-539-324-059"
         },
         {
          "lens_id": "038-749-455-515-726"
         },
         {
          "lens_id": "038-784-892-176-893"
         },
         {
          "lens_id": "038-819-753-332-187"
         },
         {
          "lens_id": "038-867-927-210-734"
         },
         {
          "lens_id": "038-933-621-688-017"
         },
         {
          "lens_id": "039-073-174-712-191"
         },
         {
          "lens_id": "039-145-363-696-653"
         },
         {
          "lens_id": "039-147-528-981-401"
         },
         {
          "lens_id": "039-527-599-976-268"
         },
         {
          "lens_id": "039-623-407-132-344"
         },
         {
          "lens_id": "039-731-817-914-523"
         },
         {
          "lens_id": "039-833-336-304-676"
         },
         {
          "lens_id": "039-860-816-281-139"
         },
         {
          "lens_id": "040-086-824-555-975"
         },
         {
          "lens_id": "040-112-103-231-977"
         },
         {
          "lens_id": "040-141-295-795-752"
         },
         {
          "lens_id": "040-210-646-256-387"
         },
         {
          "lens_id": "040-372-019-981-143"
         },
         {
          "lens_id": "040-394-291-414-401"
         },
         {
          "lens_id": "040-515-144-814-016"
         },
         {
          "lens_id": "040-529-951-861-182"
         },
         {
          "lens_id": "040-582-381-995-594"
         },
         {
          "lens_id": "040-631-155-638-490"
         },
         {
          "lens_id": "040-685-812-539-833"
         },
         {
          "lens_id": "040-917-218-109-582"
         },
         {
          "lens_id": "040-934-076-777-079"
         },
         {
          "lens_id": "041-109-451-598-002"
         },
         {
          "lens_id": "041-279-829-156-938"
         },
         {
          "lens_id": "041-305-322-278-385"
         },
         {
          "lens_id": "041-381-754-680-540"
         },
         {
          "lens_id": "041-429-380-983-829"
         },
         {
          "lens_id": "041-799-653-030-483"
         },
         {
          "lens_id": "041-892-327-207-788"
         },
         {
          "lens_id": "041-918-121-873-075"
         },
         {
          "lens_id": "041-937-072-909-986"
         },
         {
          "lens_id": "041-945-039-359-986"
         },
         {
          "lens_id": "042-204-530-337-291"
         },
         {
          "lens_id": "042-300-432-324-382"
         },
         {
          "lens_id": "042-347-619-290-918"
         },
         {
          "lens_id": "042-438-902-045-786"
         },
         {
          "lens_id": "042-478-680-252-902"
         },
         {
          "lens_id": "042-506-289-638-445"
         },
         {
          "lens_id": "042-867-500-901-143"
         },
         {
          "lens_id": "042-872-472-512-269"
         },
         {
          "lens_id": "042-965-148-269-327"
         },
         {
          "lens_id": "043-016-739-274-090"
         },
         {
          "lens_id": "043-030-351-853-804"
         },
         {
          "lens_id": "043-041-757-257-977"
         },
         {
          "lens_id": "043-187-166-359-498"
         },
         {
          "lens_id": "043-236-024-321-871"
         },
         {
          "lens_id": "043-451-318-908-098"
         },
         {
          "lens_id": "043-498-376-871-981"
         },
         {
          "lens_id": "043-548-762-972-089"
         },
         {
          "lens_id": "043-689-697-097-992"
         },
         {
          "lens_id": "043-733-558-394-079"
         },
         {
          "lens_id": "043-765-137-624-960"
         },
         {
          "lens_id": "043-824-560-742-62X"
         },
         {
          "lens_id": "043-966-781-076-994"
         },
         {
          "lens_id": "044-065-116-390-359"
         },
         {
          "lens_id": "044-149-389-331-58X"
         },
         {
          "lens_id": "044-498-542-119-493"
         },
         {
          "lens_id": "044-536-133-367-650"
         },
         {
          "lens_id": "044-547-160-644-207"
         },
         {
          "lens_id": "044-587-337-079-810"
         },
         {
          "lens_id": "044-756-826-996-69X"
         },
         {
          "lens_id": "044-862-421-757-745"
         },
         {
          "lens_id": "044-878-057-888-680"
         },
         {
          "lens_id": "044-885-738-109-043"
         },
         {
          "lens_id": "044-991-690-300-55X"
         },
         {
          "lens_id": "045-095-894-242-452"
         },
         {
          "lens_id": "045-107-281-557-086"
         },
         {
          "lens_id": "045-268-144-621-069"
         },
         {
          "lens_id": "045-542-642-184-294"
         },
         {
          "lens_id": "045-612-470-628-16X"
         },
         {
          "lens_id": "045-657-188-432-904"
         },
         {
          "lens_id": "045-715-382-200-747"
         },
         {
          "lens_id": "045-801-970-404-376"
         },
         {
          "lens_id": "045-905-627-567-190"
         },
         {
          "lens_id": "046-125-059-515-69X"
         },
         {
          "lens_id": "046-322-775-231-359"
         },
         {
          "lens_id": "046-363-714-139-744"
         },
         {
          "lens_id": "046-459-035-142-489"
         },
         {
          "lens_id": "046-547-333-956-51X"
         },
         {
          "lens_id": "046-729-481-607-60X"
         },
         {
          "lens_id": "046-825-468-633-360"
         },
         {
          "lens_id": "046-880-408-113-189"
         },
         {
          "lens_id": "046-888-027-060-497"
         },
         {
          "lens_id": "046-978-446-952-43X"
         },
         {
          "lens_id": "047-021-864-551-204"
         },
         {
          "lens_id": "047-056-449-842-020"
         },
         {
          "lens_id": "047-164-929-652-267"
         },
         {
          "lens_id": "047-206-605-443-349"
         },
         {
          "lens_id": "047-263-785-897-356"
         },
         {
          "lens_id": "047-324-634-303-57X"
         },
         {
          "lens_id": "047-377-115-855-638"
         },
         {
          "lens_id": "047-434-614-100-182"
         },
         {
          "lens_id": "047-518-420-775-307"
         },
         {
          "lens_id": "047-527-877-761-006"
         },
         {
          "lens_id": "047-528-652-811-935"
         },
         {
          "lens_id": "047-744-024-885-948"
         },
         {
          "lens_id": "047-835-674-361-357"
         },
         {
          "lens_id": "047-842-332-584-089"
         },
         {
          "lens_id": "048-082-180-926-058"
         },
         {
          "lens_id": "048-117-455-601-541"
         },
         {
          "lens_id": "048-233-995-357-971"
         },
         {
          "lens_id": "048-278-888-201-145"
         },
         {
          "lens_id": "048-504-214-872-957"
         },
         {
          "lens_id": "048-507-788-579-876"
         },
         {
          "lens_id": "048-552-703-072-615"
         },
         {
          "lens_id": "048-688-610-664-905"
         },
         {
          "lens_id": "048-740-877-298-030"
         },
         {
          "lens_id": "048-905-347-448-33X"
         },
         {
          "lens_id": "048-919-788-198-88X"
         },
         {
          "lens_id": "049-013-725-538-360"
         },
         {
          "lens_id": "049-101-259-103-609"
         },
         {
          "lens_id": "049-308-300-113-306"
         },
         {
          "lens_id": "049-456-583-348-344"
         },
         {
          "lens_id": "049-562-202-053-200"
         },
         {
          "lens_id": "049-708-308-545-325"
         },
         {
          "lens_id": "049-772-359-949-625"
         },
         {
          "lens_id": "049-785-371-633-239"
         },
         {
          "lens_id": "049-794-632-995-575"
         },
         {
          "lens_id": "049-932-693-666-591"
         },
         {
          "lens_id": "050-087-034-141-644"
         },
         {
          "lens_id": "050-138-571-821-458"
         },
         {
          "lens_id": "050-416-967-832-820"
         },
         {
          "lens_id": "050-506-069-641-175"
         },
         {
          "lens_id": "050-661-276-339-083"
         },
         {
          "lens_id": "051-016-148-184-990"
         },
         {
          "lens_id": "051-073-558-635-134"
         },
         {
          "lens_id": "051-325-027-526-009"
         },
         {
          "lens_id": "051-416-675-714-685"
         },
         {
          "lens_id": "051-458-142-538-901"
         },
         {
          "lens_id": "051-522-194-605-014"
         },
         {
          "lens_id": "051-536-415-327-175"
         },
         {
          "lens_id": "051-634-745-878-016"
         },
         {
          "lens_id": "051-871-484-239-249"
         },
         {
          "lens_id": "052-008-570-453-486"
         },
         {
          "lens_id": "052-198-135-345-94X"
         },
         {
          "lens_id": "052-318-030-023-876"
         },
         {
          "lens_id": "052-353-488-297-709"
         },
         {
          "lens_id": "052-615-869-832-645"
         },
         {
          "lens_id": "052-632-018-210-252"
         },
         {
          "lens_id": "052-665-674-783-543"
         },
         {
          "lens_id": "052-804-799-234-158"
         },
         {
          "lens_id": "052-825-237-695-334"
         },
         {
          "lens_id": "052-947-110-986-738"
         },
         {
          "lens_id": "052-967-268-652-787"
         },
         {
          "lens_id": "053-186-935-732-305"
         },
         {
          "lens_id": "053-284-989-892-282"
         },
         {
          "lens_id": "053-310-115-772-657"
         },
         {
          "lens_id": "053-439-388-285-579"
         },
         {
          "lens_id": "053-651-879-200-806"
         },
         {
          "lens_id": "053-666-191-917-405"
         },
         {
          "lens_id": "053-701-955-533-032"
         },
         {
          "lens_id": "053-716-585-841-864"
         },
         {
          "lens_id": "053-723-707-933-843"
         },
         {
          "lens_id": "053-769-537-160-211"
         },
         {
          "lens_id": "053-783-965-464-888"
         },
         {
          "lens_id": "053-822-935-497-098"
         },
         {
          "lens_id": "054-042-624-901-822"
         },
         {
          "lens_id": "054-668-358-339-324"
         },
         {
          "lens_id": "054-750-623-305-487"
         },
         {
          "lens_id": "054-783-333-300-89X"
         },
         {
          "lens_id": "054-835-321-743-898"
         },
         {
          "lens_id": "054-876-439-591-472"
         },
         {
          "lens_id": "055-426-909-278-703"
         },
         {
          "lens_id": "055-460-396-798-314"
         },
         {
          "lens_id": "055-573-337-937-098"
         },
         {
          "lens_id": "055-622-762-423-862"
         },
         {
          "lens_id": "055-639-369-306-070"
         },
         {
          "lens_id": "055-700-913-026-479"
         },
         {
          "lens_id": "055-798-021-013-726"
         },
         {
          "lens_id": "055-964-948-944-05X"
         },
         {
          "lens_id": "056-171-243-086-741"
         },
         {
          "lens_id": "056-202-371-424-919"
         },
         {
          "lens_id": "056-308-982-537-889"
         },
         {
          "lens_id": "056-565-444-735-842"
         },
         {
          "lens_id": "056-780-603-069-990"
         },
         {
          "lens_id": "056-927-464-245-942"
         },
         {
          "lens_id": "056-990-650-943-551"
         },
         {
          "lens_id": "057-033-612-407-258"
         },
         {
          "lens_id": "057-255-571-046-110"
         },
         {
          "lens_id": "057-360-942-904-693"
         },
         {
          "lens_id": "057-415-131-531-710"
         },
         {
          "lens_id": "057-446-649-988-40X"
         },
         {
          "lens_id": "057-523-208-263-397"
         },
         {
          "lens_id": "057-550-338-200-363"
         },
         {
          "lens_id": "057-736-126-899-542"
         },
         {
          "lens_id": "057-804-923-916-335"
         },
         {
          "lens_id": "058-037-773-636-11X"
         },
         {
          "lens_id": "058-118-377-508-153"
         },
         {
          "lens_id": "058-134-289-528-656"
         },
         {
          "lens_id": "058-222-752-597-523"
         },
         {
          "lens_id": "058-251-514-891-180"
         },
         {
          "lens_id": "058-302-933-328-509"
         },
         {
          "lens_id": "058-401-579-276-649"
         },
         {
          "lens_id": "058-590-143-219-067"
         },
         {
          "lens_id": "059-058-226-134-523"
         },
         {
          "lens_id": "059-102-085-850-117"
         },
         {
          "lens_id": "059-215-164-050-91X"
         },
         {
          "lens_id": "059-366-479-167-416"
         },
         {
          "lens_id": "059-382-678-242-984"
         },
         {
          "lens_id": "059-754-286-806-802"
         },
         {
          "lens_id": "059-794-837-473-036"
         },
         {
          "lens_id": "059-798-142-838-981"
         },
         {
          "lens_id": "059-937-188-564-661"
         },
         {
          "lens_id": "060-029-626-987-077"
         },
         {
          "lens_id": "060-052-051-648-685"
         },
         {
          "lens_id": "060-262-557-020-671"
         },
         {
          "lens_id": "060-349-148-954-205"
         },
         {
          "lens_id": "060-351-480-290-757"
         },
         {
          "lens_id": "060-466-576-795-944"
         },
         {
          "lens_id": "060-496-395-052-233"
         },
         {
          "lens_id": "060-537-268-716-170"
         },
         {
          "lens_id": "060-632-086-335-292"
         },
         {
          "lens_id": "060-642-172-566-635"
         },
         {
          "lens_id": "060-732-955-061-085"
         },
         {
          "lens_id": "060-738-453-547-568"
         },
         {
          "lens_id": "061-046-434-626-550"
         },
         {
          "lens_id": "061-317-993-174-564"
         },
         {
          "lens_id": "061-332-279-981-401"
         },
         {
          "lens_id": "061-545-443-537-126"
         },
         {
          "lens_id": "061-581-545-438-469"
         },
         {
          "lens_id": "061-694-831-523-075"
         },
         {
          "lens_id": "061-796-533-213-463"
         },
         {
          "lens_id": "061-805-061-957-211"
         },
         {
          "lens_id": "062-011-588-883-855"
         },
         {
          "lens_id": "062-268-431-472-760"
         },
         {
          "lens_id": "062-417-957-526-782"
         },
         {
          "lens_id": "062-547-099-553-092"
         },
         {
          "lens_id": "062-804-715-235-106"
         },
         {
          "lens_id": "063-072-430-587-437"
         },
         {
          "lens_id": "063-265-819-954-929"
         },
         {
          "lens_id": "063-500-754-033-877"
         },
         {
          "lens_id": "063-514-504-550-49X"
         },
         {
          "lens_id": "063-811-356-548-080"
         },
         {
          "lens_id": "063-876-677-772-259"
         },
         {
          "lens_id": "064-143-649-534-577"
         },
         {
          "lens_id": "064-182-023-175-623"
         },
         {
          "lens_id": "064-313-003-575-512"
         },
         {
          "lens_id": "064-350-652-723-151"
         },
         {
          "lens_id": "064-373-126-459-33X"
         },
         {
          "lens_id": "064-479-021-871-294"
         },
         {
          "lens_id": "064-493-711-745-755"
         },
         {
          "lens_id": "064-980-619-097-482"
         },
         {
          "lens_id": "065-246-532-554-708"
         },
         {
          "lens_id": "065-285-524-783-844"
         },
         {
          "lens_id": "065-369-791-450-479"
         },
         {
          "lens_id": "065-389-046-727-077"
         },
         {
          "lens_id": "065-497-385-183-99X"
         },
         {
          "lens_id": "065-557-581-091-728"
         },
         {
          "lens_id": "065-605-410-854-579"
         },
         {
          "lens_id": "065-864-549-151-268"
         },
         {
          "lens_id": "065-907-552-885-737"
         },
         {
          "lens_id": "066-088-735-833-112"
         },
         {
          "lens_id": "066-089-745-141-237"
         },
         {
          "lens_id": "066-135-715-081-776"
         },
         {
          "lens_id": "066-144-648-609-706"
         },
         {
          "lens_id": "066-154-464-514-189"
         },
         {
          "lens_id": "066-348-135-355-370"
         },
         {
          "lens_id": "066-373-641-414-606"
         },
         {
          "lens_id": "066-396-990-416-249"
         },
         {
          "lens_id": "066-581-233-817-429"
         },
         {
          "lens_id": "066-583-142-999-609"
         },
         {
          "lens_id": "066-917-295-471-028"
         },
         {
          "lens_id": "066-998-610-491-537"
         },
         {
          "lens_id": "067-098-331-961-092"
         },
         {
          "lens_id": "067-373-019-897-069"
         },
         {
          "lens_id": "067-455-462-975-657"
         },
         {
          "lens_id": "067-505-380-982-303"
         },
         {
          "lens_id": "068-134-199-635-426"
         },
         {
          "lens_id": "068-142-236-829-378"
         },
         {
          "lens_id": "068-204-157-534-783"
         },
         {
          "lens_id": "068-274-631-591-122"
         },
         {
          "lens_id": "068-369-450-998-830"
         },
         {
          "lens_id": "068-783-531-748-204"
         },
         {
          "lens_id": "068-833-133-846-389"
         },
         {
          "lens_id": "068-872-658-565-936"
         },
         {
          "lens_id": "068-907-519-444-525"
         },
         {
          "lens_id": "068-960-012-125-616"
         },
         {
          "lens_id": "069-013-923-399-897"
         },
         {
          "lens_id": "069-014-282-366-650"
         },
         {
          "lens_id": "069-054-413-557-681"
         },
         {
          "lens_id": "069-280-927-207-836"
         },
         {
          "lens_id": "069-412-251-838-33X"
         },
         {
          "lens_id": "069-441-582-881-001"
         },
         {
          "lens_id": "069-492-120-101-349"
         },
         {
          "lens_id": "069-531-056-918-547"
         },
         {
          "lens_id": "069-609-878-877-200"
         },
         {
          "lens_id": "069-859-611-950-909"
         },
         {
          "lens_id": "069-932-458-591-396"
         },
         {
          "lens_id": "070-053-647-327-695"
         },
         {
          "lens_id": "070-329-418-692-589"
         },
         {
          "lens_id": "070-438-322-622-570"
         },
         {
          "lens_id": "070-456-179-795-047"
         },
         {
          "lens_id": "070-524-589-946-057"
         },
         {
          "lens_id": "070-555-144-903-507"
         },
         {
          "lens_id": "070-683-196-652-371"
         },
         {
          "lens_id": "070-687-482-414-081"
         },
         {
          "lens_id": "070-779-204-516-713"
         },
         {
          "lens_id": "071-215-311-759-254"
         },
         {
          "lens_id": "071-234-688-021-683"
         },
         {
          "lens_id": "071-492-217-150-86X"
         },
         {
          "lens_id": "071-592-308-206-96X"
         },
         {
          "lens_id": "071-675-224-122-383"
         },
         {
          "lens_id": "071-785-617-575-524"
         },
         {
          "lens_id": "071-933-870-045-377"
         },
         {
          "lens_id": "072-029-546-238-127"
         },
         {
          "lens_id": "072-120-405-414-307"
         },
         {
          "lens_id": "072-428-817-668-849"
         },
         {
          "lens_id": "072-462-788-938-350"
         },
         {
          "lens_id": "072-514-676-463-110"
         },
         {
          "lens_id": "072-582-769-202-942"
         },
         {
          "lens_id": "072-682-962-833-381"
         },
         {
          "lens_id": "072-838-417-909-879"
         },
         {
          "lens_id": "073-080-704-338-183"
         },
         {
          "lens_id": "073-424-338-502-495"
         },
         {
          "lens_id": "073-445-875-623-56X"
         },
         {
          "lens_id": "073-503-103-806-211"
         },
         {
          "lens_id": "073-994-195-727-463"
         },
         {
          "lens_id": "074-111-541-324-734"
         },
         {
          "lens_id": "074-187-706-010-997"
         },
         {
          "lens_id": "074-697-051-909-423"
         },
         {
          "lens_id": "075-100-648-736-213"
         },
         {
          "lens_id": "075-102-564-534-648"
         },
         {
          "lens_id": "075-141-861-357-547"
         },
         {
          "lens_id": "075-446-059-318-062"
         },
         {
          "lens_id": "075-559-921-358-401"
         },
         {
          "lens_id": "075-683-844-573-746"
         },
         {
          "lens_id": "075-754-282-851-868"
         },
         {
          "lens_id": "075-830-181-493-004"
         },
         {
          "lens_id": "076-218-921-869-616"
         },
         {
          "lens_id": "076-702-363-358-92X"
         },
         {
          "lens_id": "076-733-207-623-332"
         },
         {
          "lens_id": "076-769-101-054-965"
         },
         {
          "lens_id": "076-931-579-027-651"
         },
         {
          "lens_id": "077-000-761-689-29X"
         },
         {
          "lens_id": "077-018-300-840-917"
         },
         {
          "lens_id": "077-244-102-830-721"
         },
         {
          "lens_id": "077-338-393-029-375"
         },
         {
          "lens_id": "077-391-318-048-528"
         },
         {
          "lens_id": "077-394-147-665-09X"
         },
         {
          "lens_id": "077-597-702-559-588"
         },
         {
          "lens_id": "077-906-164-218-52X"
         },
         {
          "lens_id": "077-931-259-853-280"
         },
         {
          "lens_id": "077-972-129-996-882"
         },
         {
          "lens_id": "078-009-689-302-050"
         },
         {
          "lens_id": "078-102-499-578-546"
         },
         {
          "lens_id": "078-392-776-668-485"
         },
         {
          "lens_id": "078-414-950-167-868"
         },
         {
          "lens_id": "079-505-550-645-285"
         },
         {
          "lens_id": "079-571-674-017-403"
         },
         {
          "lens_id": "079-752-700-535-507"
         },
         {
          "lens_id": "079-817-033-015-675"
         },
         {
          "lens_id": "079-952-704-150-520"
         },
         {
          "lens_id": "080-004-651-933-534"
         },
         {
          "lens_id": "080-167-702-515-700"
         },
         {
          "lens_id": "080-269-294-730-264"
         },
         {
          "lens_id": "080-414-161-382-735"
         },
         {
          "lens_id": "080-455-664-177-339"
         },
         {
          "lens_id": "080-524-018-201-898"
         },
         {
          "lens_id": "080-557-405-107-448"
         },
         {
          "lens_id": "080-635-102-261-123"
         },
         {
          "lens_id": "080-722-761-329-190"
         },
         {
          "lens_id": "080-762-250-970-935"
         },
         {
          "lens_id": "080-912-680-214-065"
         },
         {
          "lens_id": "081-124-559-689-033"
         },
         {
          "lens_id": "081-296-335-629-50X"
         },
         {
          "lens_id": "081-317-722-016-463"
         },
         {
          "lens_id": "081-551-924-995-474"
         },
         {
          "lens_id": "081-709-987-115-873"
         },
         {
          "lens_id": "081-757-138-039-833"
         },
         {
          "lens_id": "081-797-455-454-172"
         },
         {
          "lens_id": "081-916-288-951-17X"
         },
         {
          "lens_id": "081-999-363-562-606"
         },
         {
          "lens_id": "082-027-997-675-75X"
         },
         {
          "lens_id": "082-208-598-553-395"
         },
         {
          "lens_id": "082-324-867-917-272"
         },
         {
          "lens_id": "082-779-396-972-670"
         },
         {
          "lens_id": "082-863-133-530-039"
         },
         {
          "lens_id": "083-038-267-968-665"
         },
         {
          "lens_id": "083-236-587-395-525"
         },
         {
          "lens_id": "083-301-208-849-338"
         },
         {
          "lens_id": "083-359-858-222-651"
         },
         {
          "lens_id": "083-410-085-335-056"
         },
         {
          "lens_id": "083-504-192-214-775"
         },
         {
          "lens_id": "083-571-067-233-07X"
         },
         {
          "lens_id": "083-767-543-558-17X"
         },
         {
          "lens_id": "084-050-383-644-551"
         },
         {
          "lens_id": "084-218-790-239-808"
         },
         {
          "lens_id": "084-815-281-817-388"
         },
         {
          "lens_id": "084-859-054-602-058"
         },
         {
          "lens_id": "084-859-934-921-129"
         },
         {
          "lens_id": "084-984-810-255-067"
         },
         {
          "lens_id": "085-198-622-856-63X"
         },
         {
          "lens_id": "085-315-874-844-299"
         },
         {
          "lens_id": "085-467-416-987-340"
         },
         {
          "lens_id": "085-643-008-582-977"
         },
         {
          "lens_id": "085-758-700-909-294"
         },
         {
          "lens_id": "085-832-672-987-342"
         },
         {
          "lens_id": "085-962-510-808-183"
         },
         {
          "lens_id": "086-078-427-686-604"
         },
         {
          "lens_id": "086-107-095-591-755"
         },
         {
          "lens_id": "086-190-585-128-27X"
         },
         {
          "lens_id": "086-377-626-480-334"
         },
         {
          "lens_id": "086-829-321-561-226"
         },
         {
          "lens_id": "086-950-562-878-931"
         },
         {
          "lens_id": "087-083-910-562-452"
         },
         {
          "lens_id": "087-238-578-206-061"
         },
         {
          "lens_id": "087-289-830-258-366"
         },
         {
          "lens_id": "087-366-032-350-13X"
         },
         {
          "lens_id": "087-410-047-119-171"
         },
         {
          "lens_id": "087-505-947-684-960"
         },
         {
          "lens_id": "087-542-537-956-858"
         },
         {
          "lens_id": "087-634-448-737-328"
         },
         {
          "lens_id": "088-221-085-277-65X"
         },
         {
          "lens_id": "088-351-711-488-91X"
         },
         {
          "lens_id": "088-383-747-494-832"
         },
         {
          "lens_id": "088-833-272-077-976"
         },
         {
          "lens_id": "088-994-067-929-604"
         },
         {
          "lens_id": "089-155-423-182-72X"
         },
         {
          "lens_id": "089-409-144-678-367"
         },
         {
          "lens_id": "089-461-644-520-441"
         },
         {
          "lens_id": "089-607-765-309-553"
         },
         {
          "lens_id": "089-715-178-624-872"
         },
         {
          "lens_id": "089-923-605-237-41X"
         },
         {
          "lens_id": "089-961-226-404-078"
         },
         {
          "lens_id": "090-012-443-531-453"
         },
         {
          "lens_id": "090-052-128-115-173"
         },
         {
          "lens_id": "090-313-999-734-327"
         },
         {
          "lens_id": "090-316-320-953-94X"
         },
         {
          "lens_id": "090-445-891-119-634"
         },
         {
          "lens_id": "090-574-387-842-146"
         },
         {
          "lens_id": "090-688-851-703-007"
         },
         {
          "lens_id": "090-857-638-729-851"
         },
         {
          "lens_id": "090-964-803-174-030"
         },
         {
          "lens_id": "091-036-440-578-937"
         },
         {
          "lens_id": "091-048-998-117-716"
         },
         {
          "lens_id": "091-064-058-567-362"
         },
         {
          "lens_id": "091-221-592-950-042"
         },
         {
          "lens_id": "091-401-720-867-445"
         },
         {
          "lens_id": "091-448-164-226-791"
         },
         {
          "lens_id": "091-505-972-687-068"
         },
         {
          "lens_id": "091-530-586-391-933"
         },
         {
          "lens_id": "092-198-492-422-756"
         },
         {
          "lens_id": "092-199-915-595-785"
         },
         {
          "lens_id": "092-350-314-046-982"
         },
         {
          "lens_id": "092-598-915-069-708"
         },
         {
          "lens_id": "092-741-660-874-834"
         },
         {
          "lens_id": "092-830-257-626-608"
         },
         {
          "lens_id": "092-884-711-522-408"
         },
         {
          "lens_id": "093-082-544-549-022"
         },
         {
          "lens_id": "093-185-458-561-588"
         },
         {
          "lens_id": "093-380-107-095-283"
         },
         {
          "lens_id": "093-405-681-512-668"
         },
         {
          "lens_id": "093-502-848-360-892"
         },
         {
          "lens_id": "093-769-153-760-024"
         },
         {
          "lens_id": "093-795-020-212-082"
         },
         {
          "lens_id": "093-985-903-862-318"
         },
         {
          "lens_id": "094-268-087-221-997"
         },
         {
          "lens_id": "094-343-766-175-109"
         },
         {
          "lens_id": "094-480-989-183-107"
         },
         {
          "lens_id": "094-654-820-978-251"
         },
         {
          "lens_id": "094-710-657-998-431"
         },
         {
          "lens_id": "094-760-010-684-015"
         },
         {
          "lens_id": "094-983-146-405-060"
         },
         {
          "lens_id": "095-237-202-632-658"
         },
         {
          "lens_id": "095-241-879-623-173"
         },
         {
          "lens_id": "095-422-769-710-359"
         },
         {
          "lens_id": "095-538-779-787-848"
         },
         {
          "lens_id": "095-566-573-980-851"
         },
         {
          "lens_id": "095-759-760-277-396"
         },
         {
          "lens_id": "095-796-318-367-615"
         },
         {
          "lens_id": "095-948-063-825-935"
         },
         {
          "lens_id": "095-974-631-098-916"
         },
         {
          "lens_id": "096-208-649-227-580"
         },
         {
          "lens_id": "096-367-000-319-710"
         },
         {
          "lens_id": "096-378-145-121-071"
         },
         {
          "lens_id": "096-465-296-614-16X"
         },
         {
          "lens_id": "096-678-799-165-49X"
         },
         {
          "lens_id": "096-777-508-677-297"
         },
         {
          "lens_id": "097-037-393-587-20X"
         },
         {
          "lens_id": "097-354-718-803-011"
         },
         {
          "lens_id": "097-488-058-506-372"
         },
         {
          "lens_id": "097-620-144-157-821"
         },
         {
          "lens_id": "097-627-054-382-592"
         },
         {
          "lens_id": "097-677-899-568-562"
         },
         {
          "lens_id": "097-829-454-265-286"
         },
         {
          "lens_id": "098-193-356-978-042"
         },
         {
          "lens_id": "098-204-832-746-228"
         },
         {
          "lens_id": "098-227-067-366-19X"
         },
         {
          "lens_id": "098-251-994-931-022"
         },
         {
          "lens_id": "098-306-569-504-80X"
         },
         {
          "lens_id": "098-583-700-913-728"
         },
         {
          "lens_id": "098-589-639-927-289"
         },
         {
          "lens_id": "098-696-422-892-816"
         },
         {
          "lens_id": "098-978-380-123-853"
         },
         {
          "lens_id": "099-060-968-561-093"
         },
         {
          "lens_id": "099-236-728-752-33X"
         },
         {
          "lens_id": "099-390-786-505-99X"
         },
         {
          "lens_id": "099-733-488-987-857"
         },
         {
          "lens_id": "099-760-625-777-236"
         },
         {
          "lens_id": "099-830-961-310-695"
         },
         {
          "lens_id": "100-502-773-905-780"
         },
         {
          "lens_id": "100-540-549-893-217"
         },
         {
          "lens_id": "100-586-444-120-289"
         },
         {
          "lens_id": "100-715-371-803-254"
         },
         {
          "lens_id": "100-885-164-984-795"
         },
         {
          "lens_id": "101-112-876-886-837"
         },
         {
          "lens_id": "101-272-406-275-524"
         },
         {
          "lens_id": "101-278-039-161-775"
         },
         {
          "lens_id": "101-320-257-457-853"
         },
         {
          "lens_id": "101-850-690-580-228"
         },
         {
          "lens_id": "102-015-315-065-571"
         },
         {
          "lens_id": "102-025-373-355-584"
         },
         {
          "lens_id": "102-255-218-298-86X"
         },
         {
          "lens_id": "102-440-202-789-765"
         },
         {
          "lens_id": "102-456-943-977-209"
         },
         {
          "lens_id": "102-489-211-272-474"
         },
         {
          "lens_id": "102-674-337-361-303"
         },
         {
          "lens_id": "102-826-127-833-632"
         },
         {
          "lens_id": "102-863-505-194-958"
         },
         {
          "lens_id": "102-983-766-226-870"
         },
         {
          "lens_id": "103-099-772-233-822"
         },
         {
          "lens_id": "103-445-534-592-263"
         },
         {
          "lens_id": "103-679-601-778-861"
         },
         {
          "lens_id": "103-754-874-072-482"
         },
         {
          "lens_id": "103-781-535-628-769"
         },
         {
          "lens_id": "103-921-537-106-886"
         },
         {
          "lens_id": "103-952-801-728-601"
         },
         {
          "lens_id": "103-985-124-585-279"
         },
         {
          "lens_id": "104-479-113-708-645"
         },
         {
          "lens_id": "104-671-090-128-946"
         },
         {
          "lens_id": "104-706-411-310-835"
         },
         {
          "lens_id": "104-716-780-557-824"
         },
         {
          "lens_id": "104-791-812-459-672"
         },
         {
          "lens_id": "104-793-856-277-140"
         },
         {
          "lens_id": "104-935-529-672-718"
         },
         {
          "lens_id": "105-519-133-664-424"
         },
         {
          "lens_id": "105-577-427-614-452"
         },
         {
          "lens_id": "105-857-538-543-796"
         },
         {
          "lens_id": "105-891-614-950-158"
         },
         {
          "lens_id": "106-171-183-106-190"
         },
         {
          "lens_id": "106-633-903-955-646"
         },
         {
          "lens_id": "107-053-529-750-565"
         },
         {
          "lens_id": "107-198-224-645-665"
         },
         {
          "lens_id": "107-443-184-939-12X"
         },
         {
          "lens_id": "107-472-565-813-662"
         },
         {
          "lens_id": "107-616-207-309-933"
         },
         {
          "lens_id": "108-103-379-256-690"
         },
         {
          "lens_id": "108-336-050-191-083"
         },
         {
          "lens_id": "108-436-518-498-960"
         },
         {
          "lens_id": "108-545-837-092-821"
         },
         {
          "lens_id": "109-051-541-045-432"
         },
         {
          "lens_id": "109-223-373-012-778"
         },
         {
          "lens_id": "109-382-276-455-882"
         },
         {
          "lens_id": "109-976-220-457-238"
         },
         {
          "lens_id": "110-508-033-964-638"
         },
         {
          "lens_id": "110-872-696-200-218"
         },
         {
          "lens_id": "110-909-959-571-034"
         },
         {
          "lens_id": "111-002-368-023-299"
         },
         {
          "lens_id": "111-124-849-282-633"
         },
         {
          "lens_id": "111-252-416-958-083"
         },
         {
          "lens_id": "111-265-129-821-538"
         },
         {
          "lens_id": "111-545-052-662-685"
         },
         {
          "lens_id": "111-612-312-518-864"
         },
         {
          "lens_id": "111-653-194-565-133"
         },
         {
          "lens_id": "111-867-888-676-181"
         },
         {
          "lens_id": "111-967-782-276-903"
         },
         {
          "lens_id": "112-212-317-133-166"
         },
         {
          "lens_id": "112-470-333-324-079"
         },
         {
          "lens_id": "112-481-419-643-613"
         },
         {
          "lens_id": "112-735-690-213-765"
         },
         {
          "lens_id": "112-811-411-891-961"
         },
         {
          "lens_id": "113-005-429-723-19X"
         },
         {
          "lens_id": "113-151-725-760-062"
         },
         {
          "lens_id": "113-353-265-637-56X"
         },
         {
          "lens_id": "113-857-715-708-011"
         },
         {
          "lens_id": "114-143-305-216-307"
         },
         {
          "lens_id": "114-393-728-862-038"
         },
         {
          "lens_id": "114-518-556-416-002"
         },
         {
          "lens_id": "114-627-042-760-925"
         },
         {
          "lens_id": "115-107-469-059-799"
         },
         {
          "lens_id": "116-238-495-845-490"
         },
         {
          "lens_id": "116-461-865-289-420"
         },
         {
          "lens_id": "116-534-000-749-138"
         },
         {
          "lens_id": "116-579-490-935-900"
         },
         {
          "lens_id": "116-652-337-595-012"
         },
         {
          "lens_id": "117-013-283-233-707"
         },
         {
          "lens_id": "117-159-230-847-74X"
         },
         {
          "lens_id": "117-421-297-186-721"
         },
         {
          "lens_id": "117-433-916-226-824"
         },
         {
          "lens_id": "117-511-579-852-138"
         },
         {
          "lens_id": "117-533-553-343-594"
         },
         {
          "lens_id": "117-567-755-232-679"
         },
         {
          "lens_id": "117-624-541-062-342"
         },
         {
          "lens_id": "118-311-445-904-342"
         },
         {
          "lens_id": "119-648-445-420-882"
         },
         {
          "lens_id": "119-671-944-681-759"
         },
         {
          "lens_id": "119-898-428-556-616"
         },
         {
          "lens_id": "120-048-129-125-490"
         },
         {
          "lens_id": "120-129-788-116-672"
         },
         {
          "lens_id": "120-167-444-241-928"
         },
         {
          "lens_id": "120-312-631-037-488"
         },
         {
          "lens_id": "120-377-603-658-479"
         },
         {
          "lens_id": "121-011-666-250-817"
         },
         {
          "lens_id": "122-098-047-139-66X"
         },
         {
          "lens_id": "122-797-721-780-882"
         },
         {
          "lens_id": "122-903-924-224-559"
         },
         {
          "lens_id": "123-042-769-465-081"
         },
         {
          "lens_id": "123-104-018-704-265"
         },
         {
          "lens_id": "123-515-864-020-504"
         },
         {
          "lens_id": "123-679-524-096-650"
         },
         {
          "lens_id": "123-878-354-510-119"
         },
         {
          "lens_id": "124-453-264-045-455"
         },
         {
          "lens_id": "124-453-953-225-902"
         },
         {
          "lens_id": "124-523-968-010-69X"
         },
         {
          "lens_id": "125-144-618-472-516"
         },
         {
          "lens_id": "125-186-584-401-693"
         },
         {
          "lens_id": "125-330-662-600-465"
         },
         {
          "lens_id": "125-612-232-128-119"
         },
         {
          "lens_id": "126-576-784-719-698"
         },
         {
          "lens_id": "126-596-225-432-226"
         },
         {
          "lens_id": "126-884-840-511-475"
         },
         {
          "lens_id": "127-464-429-013-455"
         },
         {
          "lens_id": "127-524-557-065-489"
         },
         {
          "lens_id": "127-775-059-603-690"
         },
         {
          "lens_id": "128-164-225-133-887"
         },
         {
          "lens_id": "128-477-437-066-492"
         },
         {
          "lens_id": "128-979-937-726-143"
         },
         {
          "lens_id": "129-791-349-667-142"
         },
         {
          "lens_id": "129-920-148-158-630"
         },
         {
          "lens_id": "129-969-023-850-92X"
         },
         {
          "lens_id": "130-319-127-096-205"
         },
         {
          "lens_id": "130-619-931-138-634"
         },
         {
          "lens_id": "130-699-926-200-379"
         },
         {
          "lens_id": "131-242-154-819-548"
         },
         {
          "lens_id": "131-514-020-767-005"
         },
         {
          "lens_id": "131-742-390-487-830"
         },
         {
          "lens_id": "131-970-277-602-328"
         },
         {
          "lens_id": "132-112-241-990-440"
         },
         {
          "lens_id": "132-178-873-343-964"
         },
         {
          "lens_id": "133-175-658-753-066"
         },
         {
          "lens_id": "133-776-457-701-36X"
         },
         {
          "lens_id": "133-860-970-785-869"
         },
         {
          "lens_id": "133-941-315-217-720"
         },
         {
          "lens_id": "134-036-310-290-837"
         },
         {
          "lens_id": "134-221-990-777-407"
         },
         {
          "lens_id": "134-236-357-974-482"
         },
         {
          "lens_id": "134-791-843-051-627"
         },
         {
          "lens_id": "134-961-040-033-424"
         },
         {
          "lens_id": "135-593-483-567-281"
         },
         {
          "lens_id": "135-638-369-196-305"
         },
         {
          "lens_id": "136-102-922-618-667"
         },
         {
          "lens_id": "136-614-400-342-404"
         },
         {
          "lens_id": "136-735-443-412-477"
         },
         {
          "lens_id": "136-751-288-708-138"
         },
         {
          "lens_id": "137-054-936-160-039"
         },
         {
          "lens_id": "137-439-800-931-655"
         },
         {
          "lens_id": "138-147-308-145-689"
         },
         {
          "lens_id": "138-882-447-130-058"
         },
         {
          "lens_id": "138-953-910-637-05X"
         },
         {
          "lens_id": "139-522-863-895-460"
         },
         {
          "lens_id": "139-598-041-392-275"
         },
         {
          "lens_id": "140-275-211-148-54X"
         },
         {
          "lens_id": "140-460-916-369-101"
         },
         {
          "lens_id": "140-566-119-956-907"
         },
         {
          "lens_id": "140-742-033-967-98X"
         },
         {
          "lens_id": "141-374-750-612-364"
         },
         {
          "lens_id": "142-882-625-000-18X"
         },
         {
          "lens_id": "142-953-627-642-675"
         },
         {
          "lens_id": "143-372-782-217-397"
         },
         {
          "lens_id": "144-181-971-322-262"
         },
         {
          "lens_id": "144-208-004-051-759"
         },
         {
          "lens_id": "144-366-304-834-61X"
         },
         {
          "lens_id": "144-549-507-083-379"
         },
         {
          "lens_id": "144-742-725-443-015"
         },
         {
          "lens_id": "144-805-921-828-196"
         },
         {
          "lens_id": "145-090-291-659-26X"
         },
         {
          "lens_id": "145-522-300-308-485"
         },
         {
          "lens_id": "146-156-504-359-793"
         },
         {
          "lens_id": "147-473-251-675-522"
         },
         {
          "lens_id": "147-727-308-999-905"
         },
         {
          "lens_id": "148-473-240-978-751"
         },
         {
          "lens_id": "148-531-787-137-318"
         },
         {
          "lens_id": "148-967-357-025-997"
         },
         {
          "lens_id": "148-982-120-573-616"
         },
         {
          "lens_id": "149-349-324-051-96X"
         },
         {
          "lens_id": "149-881-555-461-633"
         },
         {
          "lens_id": "149-949-755-183-197"
         },
         {
          "lens_id": "151-654-608-040-413"
         },
         {
          "lens_id": "151-772-114-288-184"
         },
         {
          "lens_id": "152-256-646-135-053"
         },
         {
          "lens_id": "152-449-500-577-28X"
         },
         {
          "lens_id": "152-606-011-331-445"
         },
         {
          "lens_id": "152-766-283-597-418"
         },
         {
          "lens_id": "152-898-336-067-168"
         },
         {
          "lens_id": "153-490-614-162-876"
         },
         {
          "lens_id": "153-794-855-800-691"
         },
         {
          "lens_id": "154-072-253-451-203"
         },
         {
          "lens_id": "154-617-687-202-279"
         },
         {
          "lens_id": "155-047-494-398-329"
         },
         {
          "lens_id": "156-677-539-532-601"
         },
         {
          "lens_id": "157-244-549-272-738"
         },
         {
          "lens_id": "157-575-318-736-044"
         },
         {
          "lens_id": "159-462-327-974-118"
         },
         {
          "lens_id": "159-753-480-313-703"
         },
         {
          "lens_id": "160-329-400-722-463"
         },
         {
          "lens_id": "160-762-884-907-647"
         },
         {
          "lens_id": "161-799-054-269-522"
         },
         {
          "lens_id": "163-019-828-564-887"
         },
         {
          "lens_id": "164-986-988-144-89X"
         },
         {
          "lens_id": "165-629-284-666-850"
         },
         {
          "lens_id": "165-992-650-653-15X"
         },
         {
          "lens_id": "166-040-712-552-601"
         },
         {
          "lens_id": "166-818-980-250-444"
         },
         {
          "lens_id": "167-524-736-683-259"
         },
         {
          "lens_id": "167-691-344-929-721"
         },
         {
          "lens_id": "168-865-077-857-981"
         },
         {
          "lens_id": "169-657-409-529-088"
         },
         {
          "lens_id": "171-423-004-300-082"
         },
         {
          "lens_id": "172-140-905-417-137"
         },
         {
          "lens_id": "172-236-244-095-148"
         },
         {
          "lens_id": "172-687-903-817-478"
         },
         {
          "lens_id": "175-452-093-404-50X"
         },
         {
          "lens_id": "177-288-081-150-961"
         },
         {
          "lens_id": "178-951-625-768-773"
         },
         {
          "lens_id": "179-293-811-762-337"
         },
         {
          "lens_id": "179-381-010-560-241"
         },
         {
          "lens_id": "179-891-777-410-88X"
         },
         {
          "lens_id": "181-775-214-100-603"
         },
         {
          "lens_id": "182-574-818-267-303"
         },
         {
          "lens_id": "182-869-017-810-394"
         },
         {
          "lens_id": "182-935-495-202-556"
         },
         {
          "lens_id": "183-067-129-745-517"
         },
         {
          "lens_id": "185-243-716-148-656"
         },
         {
          "lens_id": "186-206-660-045-511"
         },
         {
          "lens_id": "188-013-351-415-912"
         },
         {
          "lens_id": "188-021-622-724-160"
         },
         {
          "lens_id": "192-190-233-581-882"
         },
         {
          "lens_id": "192-725-779-924-849"
         },
         {
          "lens_id": "193-791-978-372-807"
         }
        ],
        "scholarly_citations_count": 128,
        "source": {
         "country": "Netherlands",
         "issn": [
          {
           "type": "print",
           "value": "09205632"
          }
         ],
         "publisher": "Elsevier BV",
         "title_full": "Nuclear Physics B - Proceedings Supplements"
        },
        "source_urls": [
         {
          "type": "pdf",
          "url": "https://arxiv.org/pdf/1001.2693.pdf"
         },
         {
          "type": "html",
          "url": "https://arxiv.org/abs/1001.2693"
         },
         {
          "type": "core_fulltext",
          "url": "https://core.ac.uk/download/71047954.pdf"
         }
        ],
        "start_page": "185",
        "title": "The Hunt for New Physics at the Large Hadron Collider",
        "volume": "200",
        "year_published": 2010
       },
       {
        "abstract": "The ATLAS Collaboration (and also CMS) has recently reported an excess over Standard Model expectations for gauge boson pair production in the invariant mass region 1.8-2.2 TeV. In light of these r ...",
        "authors": [
         {
          "affiliations": [
           {
            "addresses": [
             {
              "country_code": "BE"
             }
            ],
            "ids": [
             {
              "type": "magid",
              "value": "157674565"
             },
             {
              "type": "grid",
              "value": "grid.4861.b"
             },
             {
              "type": "fundref",
              "value": "501100005627"
             },
             {
              "type": "ror",
              "value": "https://ror.org/00afp2z80"
             }
            ],
            "name": "University of Liège"
           }
          ],
          "collective_name": null,
          "first_name": "D. Aristizabal",
          "initials": "DA",
          "last_name": "Sierra"
         },
         {
          "affiliations": [
           {
            "addresses": [
             {
              "country_code": "SE"
             }
            ],
            "ids": [
             {
              "type": "magid",
              "value": "86987016"
             },
             {
              "type": "grid",
              "value": "grid.5037.1"
             },
             {
              "type": "ror",
              "value": "https://ror.org/026vcq606"
             }
            ],
            "name": "Royal Institute of Technology"
           }
          ],
          "collective_name": null,
          "first_name": "Juan",
          "initials": "J",
          "last_name": "Herrero-Garcia"
         },
         {
          "affiliations": [
           {
            "addresses": [
             {
              "country_code": "CO"
             }
            ],
            "ids": [
             {
              "type": "magid",
              "value": "35961687"
             },
             {
              "type": "grid",
              "value": "grid.412881.6"
             },
             {
              "type": "ror",
              "value": "https://ror.org/03bp5hc83"
             }
            ],
            "name": "University of Antioquia"
           }
          ],
          "collective_name": null,
          "first_name": "Diego",
          "initials": "D",
          "last_name": "Restrepo"
         },
         {
          "affiliations": [
           {
            "addresses": [
             {
              "country_code": "ES"
             }
            ],
            "ids": [
             {
              "type": "magid",
              "value": "134820265"
             },
             {
              "type": "grid",
              "value": "grid.4711.3"
             },
             {
              "type": "ror",
              "value": "https://ror.org/02gfc7t72"
             }
            ],
            "name": "Spanish National Research Council"
           }
          ],
          "collective_name": null,
          "first_name": "Avelino",
          "initials": "A",
          "last_name": "Vicente"
         }
        ],
        "chemicals": [],
        "date_published": {
         "date": "2016-01-21T00:00:00+00:00"
        },
        "end_page": null,
        "fields_of_study": [
         {
          "name": "Particle physics"
         },
         {
          "name": "Quantum chromodynamics"
         },
         {
          "name": "Physics"
         },
         {
          "name": "Invariant mass"
         },
         {
          "name": "Higgs boson"
         },
         {
          "name": "Physics beyond the Standard Model"
         },
         {
          "name": "Nuclear physics"
         },
         {
          "name": "Collider phenomenology"
         },
         {
          "name": "Gauge boson"
         },
         {
          "name": "Pair production"
         },
         {
          "name": "Large Hadron Collider"
         }
        ],
        "funding": [
         {
          "country": null,
          "funding_id": null,
          "org": "Fonds De La Recherche Scientifique - FNRS"
         },
         {
          "country": null,
          "funding_id": null,
          "org": "Ministerio de Economía y Competitividad"
         },
         {
          "country": null,
          "funding_id": null,
          "org": "Ministerio de Economía y Competitividad"
         },
         {
          "country": null,
          "funding_id": null,
          "org": "Ministerio de Economía y Competitividad"
         },
         {
          "country": null,
          "funding_id": null,
          "org": "Generalitat Valenciana"
         },
         {
          "country": null,
          "funding_id": null,
          "org": "Generalitat Valenciana"
         }
        ],
        "issue": "1",
        "keywords": [],
        "lens_id": "034-341-431-911-594",
        "mesh_terms": [],
        "patent_citations_count": 0,
        "publication_type": "journal article",
        "references": [
         {
          "lens_id": "001-226-282-252-845"
         },
         {
          "lens_id": "001-572-434-610-173"
         },
         {
          "lens_id": "005-119-083-561-970"
         },
         {
          "lens_id": "005-547-658-899-050"
         },
         {
          "lens_id": "006-564-237-645-475"
         },
         {
          "lens_id": "010-341-407-274-272"
         },
         {
          "lens_id": "013-263-193-771-369"
         },
         {
          "lens_id": "015-148-440-715-495"
         },
         {
          "lens_id": "024-938-727-798-227"
         },
         {
          "lens_id": "024-940-923-390-66X"
         },
         {
          "lens_id": "025-661-236-368-545"
         },
         {
          "lens_id": "028-259-153-497-716"
         },
         {
          "lens_id": "032-773-974-508-191"
         },
         {
          "lens_id": "034-917-174-076-071"
         },
         {
          "lens_id": "034-987-313-327-867"
         },
         {
          "lens_id": "035-965-856-243-829"
         },
         {
          "lens_id": "036-104-082-842-60X"
         },
         {
          "lens_id": "037-594-929-790-114"
         },
         {
          "lens_id": "040-810-615-876-697"
         },
         {
          "lens_id": "041-311-863-656-538"
         },
         {
          "lens_id": "042-310-011-487-30X"
         },
         {
          "lens_id": "048-077-702-466-647"
         },
         {
          "lens_id": "048-281-674-326-732"
         },
         {
          "lens_id": "048-364-822-965-610"
         },
         {
          "lens_id": "050-074-597-146-120"
         },
         {
          "lens_id": "051-416-675-714-685"
         },
         {
          "lens_id": "055-686-546-872-383"
         },
         {
          "lens_id": "057-235-781-870-142"
         },
         {
          "lens_id": "057-361-019-785-066"
         },
         {
          "lens_id": "057-768-409-227-240"
         },
         {
          "lens_id": "061-910-936-478-112"
         },
         {
          "lens_id": "064-008-589-846-242"
         },
         {
          "lens_id": "066-028-274-903-127"
         },
         {
          "lens_id": "066-920-741-672-901"
         },
         {
          "lens_id": "069-183-078-289-00X"
         },
         {
          "lens_id": "070-069-108-985-804"
         },
         {
          "lens_id": "072-066-394-407-712"
         },
         {
          "lens_id": "074-365-400-728-401"
         },
         {
          "lens_id": "075-017-718-520-964"
         },
         {
          "lens_id": "075-552-551-971-070"
         },
         {
          "lens_id": "078-913-853-664-076"
         },
         {
          "lens_id": "080-167-702-515-700"
         },
         {
          "lens_id": "084-539-765-536-998"
         },
         {
          "lens_id": "085-963-816-538-301"
         },
         {
          "lens_id": "087-438-800-863-203"
         },
         {
          "lens_id": "088-544-742-491-864"
         },
         {
          "lens_id": "090-822-020-592-945"
         },
         {
          "lens_id": "093-496-229-799-689"
         },
         {
          "lens_id": "104-051-658-394-124"
         },
         {
          "lens_id": "111-595-534-253-791"
         },
         {
          "lens_id": "118-141-382-265-686"
         },
         {
          "lens_id": "119-671-944-681-759"
         },
         {
          "lens_id": "125-970-701-556-483"
         },
         {
          "lens_id": "132-457-807-647-451"
         },
         {
          "lens_id": "148-027-149-578-677"
         },
         {
          "lens_id": "148-846-272-882-809"
         },
         {
          "lens_id": "150-664-421-618-492"
         },
         {
          "lens_id": "150-793-811-452-011"
         },
         {
          "lens_id": "160-030-252-869-829"
         },
         {
          "lens_id": "160-233-388-476-303"
         },
         {
          "lens_id": "176-790-940-748-37X"
         }
        ],
        "scholarly_citations_count": 14,
        "source": {
         "country": "United States",
         "issn": [
          {
           "type": "print",
           "value": "24700010"
          },
          {
           "type": "electronic",
           "value": "24700029"
          }
         ],
         "publisher": "American Physical Society (APS)",
         "title_full": "Physical Review D"
        },
        "source_urls": [
         {
          "type": "html",
          "url": "https://arxiv.org/abs/1510.03437"
         },
         {
          "type": "html",
          "url": "http://www.diva-portal.org/smash/record.jsf?pid=diva2:904966"
         },
         {
          "type": "html",
          "url": "http://kth.diva-portal.org/smash/record.jsf?pid=diva2:904966"
         },
         {
          "type": "html",
          "url": "https://link.aps.org/doi/10.1103/PhysRevD.93.015012"
         },
         {
          "type": "pdf",
          "url": "https://arxiv.org/pdf/1510.03437.pdf"
         },
         {
          "type": "html",
          "url": "http://digital.csic.es/handle/10261/131047"
         },
         {
          "type": "html",
          "url": "https://ui.adsabs.harvard.edu/abs/2016PhRvD..93a5012A/abstract"
         },
         {
          "type": "pdf",
          "url": "http://digital.csic.es/bitstream/10261/131047/1/FPA2014-58183-P-Diboson.pdf"
         },
         {
          "type": "html",
          "url": "https://www.arxiv-vanity.com/papers/1510.03437/"
         },
         {
          "type": "html",
          "url": "https://digital.library.adelaide.edu.au/dspace/handle/2440/118517"
         },
         {
          "type": "html",
          "url": "https://orbi.uliege.be/handle/2268/191581"
         },
         {
          "type": "core_fulltext",
          "url": "https://core.ac.uk/download/45448247.pdf"
         }
        ],
        "start_page": "015012",
        "title": "Diboson anomaly : Heavy Higgs resonance and QCD vectorlike exotics",
        "volume": "93",
        "year_published": 2016
       },
       {
        "abstract": "We analyze the present bounds of a scotogenic model, the radiative type III seesaw, in which an additional scalar doublet and at least two fermion triplets of $SU(2{)}_{L}$ are added to the Standard Model. In the radiative type III seesaw, the new physics (NP) sector is odd under an exact global ${\\mathbf{Z}}_{2}$ symmetry. This symmetry guaranties that the lightest NP neutral particle is stable, providing a natural dark matter candidate, and leads to naturally suppressed neutrino masses generated by a one-loop realization of an effective Weinberg operator. We focus on the region with the highest sensitivity in present and future LHC searches, with light scalar dark matter and at least one NP fermion triplet at the sub-TeV scale. This region allows for significant production cross sections of NP fermion pairs at the LHC. We reinterpret a set of searches for supersymmetric particles at the LHC obtained using the package CheckMATE, to set limits on our model as a function of the masses of the NP particles and their Yukawa interactions. The most sensitive search channel is found to be dileptons plus missing transverse energy. In order to target the case of tau enhanced decays and the case of compressed spectra, we reinterpret the recent slepton and chargino search bounds by ATLAS. For a lightest NP fermion triplet with a maximal branching ratio to either electrons or muons, we exclude NP fermion masses of up to 650 GeV, while this bound is reduced to approximately 400 GeV in the tau-philic case. Allowing for a general flavor structure, we set limits on the Yukawa couplings, which are directly related to the neutrino flavor structure.",
        "authors": [
         {
          "affiliations": [
           {
            "addresses": [
             {
              "country_code": "CO"
             }
            ],
            "ids": [
             {
              "type": "magid",
              "value": "35961687"
             },
             {
              "type": "grid",
              "value": "grid.412881.6"
             },
             {
              "type": "ror",
              "value": "https://ror.org/03bp5hc83"
             }
            ],
            "name": "University of Antioquia"
           }
          ],
          "collective_name": null,
          "first_name": "Federico",
          "initials": "F",
          "last_name": "von der Pahlen"
         },
         {
          "affiliations": [
           {
            "addresses": [
             {
              "country_code": "CO"
             }
            ],
            "ids": [
             {
              "type": "magid",
              "value": "35961687"
             },
             {
              "type": "grid",
              "value": "grid.412881.6"
             },
             {
              "type": "ror",
              "value": "https://ror.org/03bp5hc83"
             }
            ],
            "name": "University of Antioquia"
           }
          ],
          "collective_name": null,
          "first_name": "Guillermo",
          "initials": "G",
          "last_name": "Palacio"
         },
         {
          "affiliations": [
           {
            "addresses": [
             {
              "country_code": "IT"
             }
            ],
            "ids": [
             {
              "type": "magid",
              "value": "12323705"
             },
             {
              "type": "grid",
              "value": "grid.419330.c"
             },
             {
              "type": "ror",
              "value": "https://ror.org/009gyvm78"
             }
            ],
            "name": "International Centre for Theoretical Physics"
           },
           {
            "addresses": [
             {
              "country_code": "CO"
             }
            ],
            "ids": [
             {
              "type": "magid",
              "value": "35961687"
             },
             {
              "type": "grid",
              "value": "grid.412881.6"
             },
             {
              "type": "ror",
              "value": "https://ror.org/03bp5hc83"
             }
            ],
            "name": "University of Antioquia"
           }
          ],
          "collective_name": null,
          "first_name": "Diego",
          "initials": "D",
          "last_name": "Restrepo"
         },
         {
          "affiliations": [
           {
            "addresses": [
             {
              "country_code": "CO"
             }
            ],
            "ids": [
             {
              "type": "magid",
              "value": "35961687"
             },
             {
              "type": "grid",
              "value": "grid.412881.6"
             },
             {
              "type": "ror",
              "value": "https://ror.org/03bp5hc83"
             }
            ],
            "name": "University of Antioquia"
           }
          ],
          "collective_name": null,
          "first_name": "Óscar",
          "initials": "Ó",
          "last_name": "Zapata"
         }
        ],
        "chemicals": [],
        "date_published": {
         "date": "2016-08-17T00:00:00+00:00"
        },
        "end_page": null,
        "fields_of_study": [
         {
          "name": "Particle physics"
         },
         {
          "name": "Supersymmetry"
         },
         {
          "name": "Physics"
         },
         {
          "name": "Yukawa potential"
         },
         {
          "name": "Dark matter"
         },
         {
          "name": "Seesaw molecular geometry"
         },
         {
          "name": "Physics beyond the Standard Model"
         },
         {
          "name": "Nuclear physics"
         },
         {
          "name": "Neutrino"
         },
         {
          "name": "Chargino"
         },
         {
          "name": "Fermion"
         }
        ],
        "funding": [
         {
          "country": null,
          "funding_id": null,
          "org": "Departamento Administrativo de Ciencia, Tecnología e Innovación"
         },
         {
          "country": null,
          "funding_id": null,
          "org": "Departamento Administrativo de Ciencia, Tecnología e Innovación"
         }
        ],
        "issue": "3",
        "keywords": [],
        "lens_id": "041-195-144-110-701",
        "mesh_terms": [],
        "patent_citations_count": 0,
        "publication_type": "journal article",
        "references": [
         {
          "lens_id": "001-028-113-988-299"
         },
         {
          "lens_id": "002-171-670-217-516"
         },
         {
          "lens_id": "003-485-139-902-189"
         },
         {
          "lens_id": "003-510-486-876-829"
         },
         {
          "lens_id": "003-667-101-119-030"
         },
         {
          "lens_id": "006-700-411-137-171"
         },
         {
          "lens_id": "007-354-603-572-941"
         },
         {
          "lens_id": "007-630-881-370-504"
         },
         {
          "lens_id": "008-322-544-136-196"
         },
         {
          "lens_id": "008-465-113-171-756"
         },
         {
          "lens_id": "008-572-435-381-549"
         },
         {
          "lens_id": "009-040-969-061-178"
         },
         {
          "lens_id": "009-070-434-078-106"
         },
         {
          "lens_id": "010-853-789-421-440"
         },
         {
          "lens_id": "011-903-906-645-347"
         },
         {
          "lens_id": "012-957-570-937-943"
         },
         {
          "lens_id": "013-993-352-400-106"
         },
         {
          "lens_id": "015-584-147-655-703"
         },
         {
          "lens_id": "015-973-366-147-476"
         },
         {
          "lens_id": "016-629-002-408-253"
         },
         {
          "lens_id": "017-193-576-454-314"
         },
         {
          "lens_id": "017-412-061-117-340"
         },
         {
          "lens_id": "017-483-288-092-465"
         },
         {
          "lens_id": "018-670-570-670-505"
         },
         {
          "lens_id": "018-925-644-290-380"
         },
         {
          "lens_id": "021-994-802-451-037"
         },
         {
          "lens_id": "023-534-955-374-592"
         },
         {
          "lens_id": "024-491-646-673-723"
         },
         {
          "lens_id": "027-450-501-765-131"
         },
         {
          "lens_id": "028-016-412-891-587"
         },
         {
          "lens_id": "028-912-913-471-340"
         },
         {
          "lens_id": "031-160-596-530-51X"
         },
         {
          "lens_id": "031-412-842-520-981"
         },
         {
          "lens_id": "032-329-896-544-902"
         },
         {
          "lens_id": "036-000-077-021-544"
         },
         {
          "lens_id": "037-604-617-501-957"
         },
         {
          "lens_id": "039-788-778-085-108"
         },
         {
          "lens_id": "040-396-147-684-238"
         },
         {
          "lens_id": "040-453-473-115-039"
         },
         {
          "lens_id": "042-438-902-045-786"
         },
         {
          "lens_id": "042-695-166-924-21X"
         },
         {
          "lens_id": "043-634-135-830-947"
         },
         {
          "lens_id": "045-989-616-762-776"
         },
         {
          "lens_id": "047-185-345-833-585"
         },
         {
          "lens_id": "047-368-696-197-949"
         },
         {
          "lens_id": "047-578-495-717-827"
         },
         {
          "lens_id": "049-785-371-633-239"
         },
         {
          "lens_id": "051-547-209-335-530"
         },
         {
          "lens_id": "054-284-881-990-880"
         },
         {
          "lens_id": "054-624-937-154-901"
         },
         {
          "lens_id": "055-053-157-386-47X"
         },
         {
          "lens_id": "057-737-777-287-552"
         },
         {
          "lens_id": "058-522-182-908-901"
         },
         {
          "lens_id": "060-146-111-826-349"
         },
         {
          "lens_id": "060-503-200-667-135"
         },
         {
          "lens_id": "060-579-748-018-22X"
         },
         {
          "lens_id": "065-246-532-554-708"
         },
         {
          "lens_id": "065-989-521-308-04X"
         },
         {
          "lens_id": "066-334-711-901-003"
         },
         {
          "lens_id": "068-274-631-591-122"
         },
         {
          "lens_id": "068-381-489-295-413"
         },
         {
          "lens_id": "073-732-365-004-699"
         },
         {
          "lens_id": "073-885-047-356-258"
         },
         {
          "lens_id": "080-681-916-882-735"
         },
         {
          "lens_id": "080-842-893-165-884"
         },
         {
          "lens_id": "081-553-194-760-970"
         },
         {
          "lens_id": "087-831-819-123-900"
         },
         {
          "lens_id": "090-221-775-457-916"
         },
         {
          "lens_id": "090-835-244-123-227"
         },
         {
          "lens_id": "091-240-254-494-316"
         },
         {
          "lens_id": "098-698-319-700-344"
         },
         {
          "lens_id": "098-698-396-563-654"
         },
         {
          "lens_id": "099-060-968-561-093"
         },
         {
          "lens_id": "100-980-097-194-173"
         },
         {
          "lens_id": "103-153-916-311-688"
         },
         {
          "lens_id": "104-979-188-843-965"
         },
         {
          "lens_id": "107-053-529-750-565"
         },
         {
          "lens_id": "109-546-917-963-851"
         },
         {
          "lens_id": "109-644-704-159-527"
         },
         {
          "lens_id": "110-218-124-167-137"
         },
         {
          "lens_id": "113-379-743-338-720"
         },
         {
          "lens_id": "113-908-139-148-710"
         },
         {
          "lens_id": "116-586-396-617-514"
         },
         {
          "lens_id": "126-219-398-939-451"
         },
         {
          "lens_id": "134-128-562-512-270"
         },
         {
          "lens_id": "134-158-846-319-242"
         },
         {
          "lens_id": "134-439-680-718-147"
         },
         {
          "lens_id": "140-088-654-343-228"
         },
         {
          "lens_id": "141-004-158-415-179"
         },
         {
          "lens_id": "142-811-161-873-565"
         },
         {
          "lens_id": "143-372-782-217-397"
         },
         {
          "lens_id": "146-450-551-695-623"
         },
         {
          "lens_id": "150-793-811-452-011"
         },
         {
          "lens_id": "156-068-460-465-692"
         },
         {
          "lens_id": "171-415-494-111-662"
         },
         {
          "lens_id": "173-845-623-943-645"
         },
         {
          "lens_id": "174-080-581-757-59X"
         },
         {
          "lens_id": "177-486-778-375-973"
         },
         {
          "lens_id": "182-530-337-472-408"
         },
         {
          "lens_id": "191-043-741-799-443"
         }
        ],
        "scholarly_citations_count": 21,
        "source": {
         "country": "United States",
         "issn": [
          {
           "type": "print",
           "value": "24700010"
          },
          {
           "type": "electronic",
           "value": "24700029"
          }
         ],
         "publisher": "American Physical Society (APS)",
         "title_full": "Physical Review D"
        },
        "source_urls": [
         {
          "type": "html",
          "url": "https://arxiv.org/abs/1605.01129"
         },
         {
          "type": "html",
          "url": "https://ui.adsabs.harvard.edu/abs/2016PhRvD..94c3005V/abstract"
         },
         {
          "type": "pdf",
          "url": "https://arxiv.org/pdf/1605.01129.pdf"
         },
         {
          "type": "html",
          "url": "http://inspirehep.net/record/1455793"
         },
         {
          "type": "html",
          "url": "https://www.arxiv-vanity.com/papers/1605.01129/"
         },
         {
          "type": "html",
          "url": "https://link.aps.org/doi/10.1103/PhysRevD.94.033005"
         },
         {
          "type": "core_fulltext",
          "url": "http://arxiv.org/abs/1605.01129"
         }
        ],
        "start_page": "033005",
        "title": "Radiative Type III Seesaw Model and its collider phenomenology",
        "volume": "94",
        "year_published": 2016
       },
       {
        "abstract": "The Zee model for Dirac neutrinos is one of the simplest models featuring one-loop Dirac neutrino masses. The interactions between the new scalars (two singly charged fields) and neutrinos induce general neutrino interactions (GNI) which, as a generalization of the nonstandard neutrino interactions, constitute an additional tool to probe models beyond the Standard Model like this. In this work, we consider a $U(1{)}_{B\\ensuremath{-}L}$ gauge symmetry as being responsible for the Diracness of the neutrinos and the radiative character of the neutrino masses. We determine the viable parameter space consistent with neutrino oscillation data, leptonic rare decays, and collider constraints, and establish the most relevant experimental prospects regarding lepton flavor violation searches and GNI in future solar neutrino experiments.",
        "authors": [
         {
          "affiliations": [
           {
            "addresses": [
             {
              "country_code": "CO"
             }
            ],
            "ids": [
             {
              "type": "magid",
              "value": "35961687"
             },
             {
              "type": "grid",
              "value": "grid.412881.6"
             },
             {
              "type": "ror",
              "value": "https://ror.org/03bp5hc83"
             }
            ],
            "name": "University of Antioquia"
           }
          ],
          "collective_name": null,
          "first_name": "Julián",
          "initials": "J",
          "last_name": "Calle"
         },
         {
          "affiliations": [
           {
            "addresses": [
             {
              "country_code": "CO"
             }
            ],
            "ids": [
             {
              "type": "magid",
              "value": "35961687"
             },
             {
              "type": "grid",
              "value": "grid.412881.6"
             },
             {
              "type": "ror",
              "value": "https://ror.org/03bp5hc83"
             }
            ],
            "name": "University of Antioquia"
           }
          ],
          "collective_name": null,
          "first_name": "Diego",
          "initials": "D",
          "last_name": "Restrepo"
         },
         {
          "affiliations": [
           {
            "addresses": [
             {
              "country_code": "CO"
             }
            ],
            "ids": [
             {
              "type": "magid",
              "value": "35961687"
             },
             {
              "type": "grid",
              "value": "grid.412881.6"
             },
             {
              "type": "ror",
              "value": "https://ror.org/03bp5hc83"
             }
            ],
            "name": "University of Antioquia"
           }
          ],
          "collective_name": null,
          "first_name": "Óscar",
          "initials": "Ó",
          "last_name": "Zapata"
         }
        ],
        "chemicals": [],
        "date_published": {
         "date": "2021-07-28T00:00:00+00:00"
        },
        "end_page": null,
        "fields_of_study": [
         {
          "name": "Neutrino oscillation"
         },
         {
          "name": "Particle physics"
         },
         {
          "name": "Physics"
         },
         {
          "name": "Gauge symmetry"
         },
         {
          "name": "Lepton"
         },
         {
          "name": "Physics beyond the Standard Model"
         },
         {
          "name": "Neutrino"
         },
         {
          "name": "Solar neutrino"
         },
         {
          "name": "Dirac (video compression format)"
         },
         {
          "name": "Phenomenology (particle physics)"
         }
        ],
        "funding": [
         {
          "country": null,
          "funding_id": null,
          "org": "Universidad de Antioquia"
         },
         {
          "country": null,
          "funding_id": null,
          "org": "Universidad de Antioquia"
         }
        ],
        "issue": "1",
        "keywords": [],
        "lens_id": "045-398-198-298-274",
        "mesh_terms": [],
        "patent_citations_count": 0,
        "publication_type": "journal article",
        "references": [
         {
          "lens_id": "000-513-400-999-25X"
         },
         {
          "lens_id": "001-264-835-505-61X"
         },
         {
          "lens_id": "001-740-521-380-003"
         },
         {
          "lens_id": "003-833-178-734-841"
         },
         {
          "lens_id": "004-766-632-851-036"
         },
         {
          "lens_id": "004-796-185-342-308"
         },
         {
          "lens_id": "006-046-364-694-800"
         },
         {
          "lens_id": "006-337-065-639-449"
         },
         {
          "lens_id": "007-230-345-675-125"
         },
         {
          "lens_id": "008-496-200-582-520"
         },
         {
          "lens_id": "012-025-995-289-224"
         },
         {
          "lens_id": "013-401-116-737-629"
         },
         {
          "lens_id": "015-138-164-836-987"
         },
         {
          "lens_id": "016-396-932-332-051"
         },
         {
          "lens_id": "017-659-275-970-421"
         },
         {
          "lens_id": "019-504-462-388-505"
         },
         {
          "lens_id": "020-899-521-156-670"
         },
         {
          "lens_id": "022-029-701-759-560"
         },
         {
          "lens_id": "023-882-698-125-982"
         },
         {
          "lens_id": "025-105-321-143-263"
         },
         {
          "lens_id": "025-202-424-782-185"
         },
         {
          "lens_id": "025-225-739-419-26X"
         },
         {
          "lens_id": "025-361-009-537-471"
         },
         {
          "lens_id": "028-041-954-966-701"
         },
         {
          "lens_id": "028-159-180-754-951"
         },
         {
          "lens_id": "029-642-572-650-066"
         },
         {
          "lens_id": "030-067-717-557-231"
         },
         {
          "lens_id": "031-715-315-625-683"
         },
         {
          "lens_id": "037-594-855-756-887"
         },
         {
          "lens_id": "040-876-865-240-271"
         },
         {
          "lens_id": "041-649-827-754-729"
         },
         {
          "lens_id": "042-888-330-722-187"
         },
         {
          "lens_id": "044-290-715-232-134"
         },
         {
          "lens_id": "045-027-015-615-378"
         },
         {
          "lens_id": "045-780-339-935-466"
         },
         {
          "lens_id": "050-237-119-882-290"
         },
         {
          "lens_id": "054-598-631-681-649"
         },
         {
          "lens_id": "055-893-797-514-283"
         },
         {
          "lens_id": "056-681-271-285-190"
         },
         {
          "lens_id": "061-019-801-987-259"
         },
         {
          "lens_id": "061-834-221-573-835"
         },
         {
          "lens_id": "065-757-511-823-838"
         },
         {
          "lens_id": "071-208-870-451-613"
         },
         {
          "lens_id": "071-265-343-524-009"
         },
         {
          "lens_id": "074-021-991-588-148"
         },
         {
          "lens_id": "076-460-648-165-68X"
         },
         {
          "lens_id": "077-845-976-945-515"
         },
         {
          "lens_id": "081-067-523-514-110"
         },
         {
          "lens_id": "087-606-528-317-536"
         },
         {
          "lens_id": "089-245-310-588-925"
         },
         {
          "lens_id": "094-902-574-925-129"
         },
         {
          "lens_id": "097-775-587-884-485"
         },
         {
          "lens_id": "105-957-240-663-099"
         },
         {
          "lens_id": "108-379-103-802-395"
         },
         {
          "lens_id": "108-910-417-954-846"
         },
         {
          "lens_id": "111-192-377-743-036"
         },
         {
          "lens_id": "112-107-339-237-834"
         },
         {
          "lens_id": "129-684-762-484-442"
         },
         {
          "lens_id": "133-565-171-182-058"
         },
         {
          "lens_id": "135-568-336-699-44X"
         },
         {
          "lens_id": "138-328-712-444-253"
         },
         {
          "lens_id": "140-205-097-659-085"
         },
         {
          "lens_id": "143-937-137-354-669"
         },
         {
          "lens_id": "145-232-530-346-609"
         },
         {
          "lens_id": "146-785-389-734-763"
         },
         {
          "lens_id": "148-992-505-486-766"
         },
         {
          "lens_id": "152-839-392-457-283"
         },
         {
          "lens_id": "160-270-008-641-809"
         },
         {
          "lens_id": "177-576-669-800-036"
         },
         {
          "lens_id": "178-842-737-150-756"
         },
         {
          "lens_id": "180-152-645-149-399"
         }
        ],
        "scholarly_citations_count": 1,
        "source": {
         "country": "United States",
         "issn": [
          {
           "type": "print",
           "value": "24700010"
          },
          {
           "type": "electronic",
           "value": "24700029"
          }
         ],
         "publisher": "American Physical Society (APS)",
         "title_full": "Physical Review D"
        },
        "source_urls": [
         {
          "type": "html",
          "url": "https://ui.adsabs.harvard.edu/abs/2021arXiv210315328C/abstract"
         },
         {
          "type": "pdf",
          "url": "http://export.arxiv.org/pdf/2103.15328"
         },
         {
          "type": "html",
          "url": "https://link.aps.org/doi/10.1103/PhysRevD.104.015032"
         },
         {
          "type": "html",
          "url": "https://arxiv.org/pdf/2103.15328.pdf"
         },
         {
          "type": "html",
          "url": "https://inspirehep.net/literature/1854224"
         },
         {
          "type": "pdf",
          "url": "https://arxiv.org/pdf/2103.15328"
         }
        ],
        "start_page": "015032",
        "title": "Phenomenology of the Zee model for Dirac neutrinos and general neutrino interactions",
        "volume": "104",
        "year_published": 2021
       },
       {
        "abstract": "<jats:title>Abstract</jats:title><jats:p>We perform a <jats:italic>systematic</jats:italic> analysis of Standard Model extensions with an additional anomaly-free gauge <jats:italic>U</jats:italic>(1) symmetry, to generate tree-level Dirac neutrino masses. An anomaly-free symmetry demands nontrivial conditions on the charges of the unavoidable new states. An intensive scan was performed, looking for solutions generating neutrino masses by the type-I and type-II tree-level Dirac seesaw mechanism, via operators with dimension 5 and 6, that correspond to active or dark symmetries. Special attention was paid to the cases featuring no extra massless chiral fermions or multicomponent dark matter with unconditional stability.</jats:p>",
        "authors": [
         {
          "affiliations": [
           {
            "addresses": [],
            "ids": [
             {
              "type": "openalex",
              "value": "I4210101155"
             },
             {
              "type": "ror",
              "value": "014hpw227"
             }
            ],
            "name": "Universidad Antonio Nariño"
           }
          ],
          "collective_name": null,
          "first_name": "Nicolás",
          "initials": "N",
          "last_name": "Bernal"
         },
         {
          "affiliations": [
           {
            "addresses": [],
            "ids": [
             {
              "type": "openalex",
              "value": "I35961687"
             },
             {
              "type": "ror",
              "value": "03bp5hc83"
             }
            ],
            "name": "University of Antioquia"
           }
          ],
          "collective_name": null,
          "first_name": "Diego",
          "initials": "D",
          "last_name": "Restrepo"
         }
        ],
        "chemicals": [],
        "date_published": {
         "date": "2021-12-15T00:00:00+00:00"
        },
        "end_page": null,
        "fields_of_study": [
         {
          "name": "Physics"
         },
         {
          "name": "Anomaly (physics)"
         },
         {
          "name": "Particle physics"
         },
         {
          "name": "Seesaw mechanism"
         },
         {
          "name": "Theoretical physics"
         },
         {
          "name": "Standard Model (mathematical formulation)"
         },
         {
          "name": "Homogeneous space"
         },
         {
          "name": "Gauge symmetry"
         },
         {
          "name": "Massless particle"
         },
         {
          "name": "Neutrino"
         },
         {
          "name": "Symmetry (geometry)"
         },
         {
          "name": "Dirac (video compression format)"
         },
         {
          "name": "Gauge anomaly"
         },
         {
          "name": "Mathematical physics"
         }
        ],
        "funding": [],
        "issue": "12",
        "keywords": [],
        "lens_id": "046-836-277-058-23X",
        "mesh_terms": [],
        "patent_citations_count": 0,
        "publication_type": "journal article",
        "references": [
         {
          "lens_id": "002-122-391-536-484"
         },
         {
          "lens_id": "004-766-632-851-036"
         },
         {
          "lens_id": "004-796-185-342-308"
         },
         {
          "lens_id": "008-030-098-746-271"
         },
         {
          "lens_id": "009-737-615-895-562"
         },
         {
          "lens_id": "010-203-461-674-917"
         },
         {
          "lens_id": "010-915-835-788-755"
         },
         {
          "lens_id": "017-930-819-670-095"
         },
         {
          "lens_id": "021-815-698-693-557"
         },
         {
          "lens_id": "022-276-209-793-28X"
         },
         {
          "lens_id": "024-599-000-693-842"
         },
         {
          "lens_id": "025-673-012-266-564"
         },
         {
          "lens_id": "026-855-784-961-931"
         },
         {
          "lens_id": "030-396-043-787-328"
         },
         {
          "lens_id": "032-175-397-329-141"
         },
         {
          "lens_id": "039-656-229-723-969"
         },
         {
          "lens_id": "040-876-865-240-271"
         },
         {
          "lens_id": "042-283-384-847-258"
         },
         {
          "lens_id": "043-615-531-486-523"
         },
         {
          "lens_id": "052-482-282-449-27X"
         },
         {
          "lens_id": "056-113-309-955-810"
         },
         {
          "lens_id": "056-811-740-903-207"
         },
         {
          "lens_id": "059-906-358-691-064"
         },
         {
          "lens_id": "061-019-801-987-259"
         },
         {
          "lens_id": "064-091-235-413-482"
         },
         {
          "lens_id": "065-715-855-665-68X"
         },
         {
          "lens_id": "067-494-247-746-474"
         },
         {
          "lens_id": "074-529-342-891-160"
         },
         {
          "lens_id": "076-460-648-165-68X"
         },
         {
          "lens_id": "077-845-976-945-515"
         },
         {
          "lens_id": "089-245-310-588-925"
         },
         {
          "lens_id": "098-600-563-772-755"
         },
         {
          "lens_id": "099-913-751-331-686"
         },
         {
          "lens_id": "108-941-043-938-180"
         },
         {
          "lens_id": "119-648-445-420-882"
         },
         {
          "lens_id": "122-903-924-224-559"
         },
         {
          "lens_id": "133-455-513-461-333"
         },
         {
          "lens_id": "135-568-336-699-44X"
         },
         {
          "lens_id": "143-937-791-659-264"
         },
         {
          "lens_id": "154-540-499-514-352"
         },
         {
          "lens_id": "166-791-595-733-004"
         }
        ],
        "scholarly_citations_count": 1,
        "source": {
         "country": "Germany",
         "issn": [
          {
           "type": "print",
           "value": "14346044"
          },
          {
           "type": "electronic",
           "value": "14346052"
          }
         ],
         "publisher": "Springer Science and Business Media LLC",
         "title_full": "The European Physical Journal C"
        },
        "source_urls": [],
        "start_page": null,
        "title": "Anomaly-free Abelian gauge symmetries with Dirac seesaws",
        "volume": "81",
        "year_published": 2021
       },
       {
        "abstract": "In bilinear R-parity violation (BRpV), in which the superpotential includes a bilinear term between the lepton doublet and the up-type Higgs superfields, a sneutrino LSP can decay into pairs of heavy standard model states (Ws, Zs, tops or Higgs bosons), neutrinos or different-flavor charged lepton modes (l\n i\n l\n j\n ). These finals states can dominate over the traditionally considered bottom pair final state and would lead to unique and novel supersymmetric signals: multileptons events or pairs of heavy standard model fields. We investigate this possibility and find that the branching ratio into these states dominates when the bilinear term is much smaller than the sneutrino vacuum expectation value for a given sneutrino flavor. When BRpV is the only source of neutrino masses these decays can only dominate for one of the sneutrino generations. Relaxing this constraint opens these channels for all three generations.",
        "authors": [
         {
          "affiliations": [
           {
            "addresses": [
             {
              "country_code": "BE"
             }
            ],
            "ids": [
             {
              "type": "magid",
              "value": "157674565"
             },
             {
              "type": "grid",
              "value": "grid.4861.b"
             },
             {
              "type": "fundref",
              "value": "501100005627"
             },
             {
              "type": "ror",
              "value": "https://ror.org/00afp2z80"
             }
            ],
            "name": "University of Liège"
           }
          ],
          "collective_name": null,
          "first_name": "D. Aristizabal",
          "initials": "DA",
          "last_name": "Sierra"
         },
         {
          "affiliations": [
           {
            "addresses": [
             {
              "country_code": "CO"
             }
            ],
            "ids": [
             {
              "type": "magid",
              "value": "35961687"
             },
             {
              "type": "grid",
              "value": "grid.412881.6"
             },
             {
              "type": "ror",
              "value": "https://ror.org/03bp5hc83"
             }
            ],
            "name": "University of Antioquia"
           }
          ],
          "collective_name": null,
          "first_name": "Diego",
          "initials": "D",
          "last_name": "Restrepo"
         },
         {
          "affiliations": [
           {
            "addresses": [
             {
              "country_code": "IT"
             }
            ],
            "ids": [
             {
              "type": "magid",
              "value": "138549579"
             },
             {
              "type": "grid",
              "value": "grid.5970.b"
             },
             {
              "type": "ror",
              "value": "https://ror.org/004fze387"
             }
            ],
            "name": "International School for Advanced Studies"
           }
          ],
          "collective_name": null,
          "first_name": "Sogee",
          "initials": "S",
          "last_name": "Spinner"
         }
        ],
        "chemicals": [],
        "date_published": {
         "date": "2013-05-09T00:00:00+00:00"
        },
        "end_page": null,
        "fields_of_study": [
         {
          "name": "Particle physics"
         },
         {
          "name": "Supersymmetry"
         },
         {
          "name": "Physics"
         },
         {
          "name": "Higgs boson"
         },
         {
          "name": "Superpotential"
         },
         {
          "name": "Lepton"
         },
         {
          "name": "Neutrino"
         },
         {
          "name": "Standard Model"
         },
         {
          "name": "Vacuum expectation value"
         },
         {
          "name": "Boson"
         },
         {
          "name": "Branching fraction"
         }
        ],
        "funding": [],
        "issue": "5",
        "keywords": [],
        "lens_id": "047-159-921-133-28X",
        "mesh_terms": [],
        "patent_citations_count": 0,
        "publication_type": "journal article",
        "references": [
         {
          "lens_id": "000-404-788-126-128"
         },
         {
          "lens_id": "001-289-989-740-816"
         },
         {
          "lens_id": "003-205-747-487-872"
         },
         {
          "lens_id": "004-577-800-478-689"
         },
         {
          "lens_id": "005-727-846-947-599"
         },
         {
          "lens_id": "012-453-692-292-961"
         },
         {
          "lens_id": "012-734-084-531-309"
         },
         {
          "lens_id": "013-259-596-310-83X"
         },
         {
          "lens_id": "013-401-116-737-629"
         },
         {
          "lens_id": "014-948-032-257-762"
         },
         {
          "lens_id": "015-489-773-876-284"
         },
         {
          "lens_id": "017-772-720-442-921"
         },
         {
          "lens_id": "019-280-305-936-141"
         },
         {
          "lens_id": "021-858-749-459-366"
         },
         {
          "lens_id": "024-707-674-799-892"
         },
         {
          "lens_id": "025-709-604-431-158"
         },
         {
          "lens_id": "026-623-148-069-245"
         },
         {
          "lens_id": "026-809-521-575-046"
         },
         {
          "lens_id": "028-016-412-891-587"
         },
         {
          "lens_id": "028-931-488-210-994"
         },
         {
          "lens_id": "029-139-962-101-849"
         },
         {
          "lens_id": "029-657-199-412-079"
         },
         {
          "lens_id": "032-773-974-508-191"
         },
         {
          "lens_id": "037-190-882-797-907"
         },
         {
          "lens_id": "038-174-141-074-070"
         },
         {
          "lens_id": "038-819-753-332-187"
         },
         {
          "lens_id": "044-837-254-721-344"
         },
         {
          "lens_id": "048-790-229-135-001"
         },
         {
          "lens_id": "048-829-673-199-074"
         },
         {
          "lens_id": "051-416-675-714-685"
         },
         {
          "lens_id": "053-908-152-767-845"
         },
         {
          "lens_id": "054-042-624-901-822"
         },
         {
          "lens_id": "063-591-240-851-393"
         },
         {
          "lens_id": "066-101-417-155-006"
         },
         {
          "lens_id": "066-812-914-783-688"
         },
         {
          "lens_id": "069-189-266-020-179"
         },
         {
          "lens_id": "070-846-369-244-581"
         },
         {
          "lens_id": "071-265-343-524-009"
         },
         {
          "lens_id": "072-710-101-206-867"
         },
         {
          "lens_id": "074-697-051-909-423"
         },
         {
          "lens_id": "076-065-567-142-515"
         },
         {
          "lens_id": "076-978-408-808-97X"
         },
         {
          "lens_id": "078-891-822-990-085"
         },
         {
          "lens_id": "079-652-087-388-028"
         },
         {
          "lens_id": "085-131-118-369-705"
         },
         {
          "lens_id": "086-587-347-055-197"
         },
         {
          "lens_id": "096-777-508-677-297"
         },
         {
          "lens_id": "097-492-159-092-350"
         },
         {
          "lens_id": "102-690-401-523-355"
         },
         {
          "lens_id": "106-235-987-748-340"
         },
         {
          "lens_id": "115-573-477-438-842"
         },
         {
          "lens_id": "132-457-807-647-451"
         },
         {
          "lens_id": "156-992-878-209-243"
         },
         {
          "lens_id": "173-025-176-802-467"
         },
         {
          "lens_id": "188-021-622-724-160"
         }
        ],
        "scholarly_citations_count": 5,
        "source": {
         "country": "Germany",
         "issn": [
          {
           "type": "electronic",
           "value": "10298479"
          }
         ],
         "publisher": "Springer Science and Business Media LLC",
         "title_full": "Journal of High Energy Physics"
        },
        "source_urls": [
         {
          "type": "html",
          "url": "https://link.springer.com/article/10.1007%2FJHEP05%282013%29046"
         },
         {
          "type": "html",
          "url": "https://orbi.uliege.be/handle/2268/138468"
         },
         {
          "type": "html",
          "url": "http://ui.adsabs.harvard.edu/abs/2013JHEP...05..046S/abstract"
         },
         {
          "type": "html",
          "url": "https://www.arxiv-vanity.com/papers/1212.3310/"
         },
         {
          "type": "core_fulltext",
          "url": "http://arxiv.org/abs/1212.3310"
         }
        ],
        "start_page": "46",
        "title": "LSP sneutrino novel decays",
        "volume": "2013",
        "year_published": 2013
       },
       {
        "abstract": "We present a SU(5)×U(1)F supersymmetric model for neutrino masses and mixings that implements the seesaw mechanism by means of the heavy SU(2) singlets and triplets states contained in three adjoints of SU(5). We discuss how Abelian U(1)F symmetries can naturally yield non-hierarchical light neutrinos even when the heavy states are strongly hierarchical, and how it can also ensure that R-parity arises as an exact accidental symmetry. By assigning two flavons that break U(1)F to the adjoint representation of SU(5) and assuming universality for all the fundamental couplings, the coefficients of the effective Yukawa and Majorana mass operators become calculable in terms of group theoretical quantities. There is a single free parameter in the model, however, at leading order the structure of the light neutrinos mass matrix is determined in a parameter independent way.",
        "authors": [
         {
          "affiliations": [
           {
            "addresses": [
             {
              "country_code": "ES"
             }
            ],
            "ids": [
             {
              "type": "magid",
              "value": "134820265"
             },
             {
              "type": "grid",
              "value": "grid.4711.3"
             },
             {
              "type": "ror",
              "value": "https://ror.org/02gfc7t72"
             }
            ],
            "name": "Spanish National Research Council"
           },
           {
            "addresses": [
             {
              "country_code": "ES"
             }
            ],
            "ids": [
             {
              "type": "magid",
              "value": "63634437"
             },
             {
              "type": "grid",
              "value": "grid.5515.4"
             },
             {
              "type": "ror",
              "value": "https://ror.org/01cby8j38"
             }
            ],
            "name": "Autonomous University of Madrid"
           }
          ],
          "collective_name": null,
          "first_name": "Enrico",
          "initials": "E",
          "last_name": "Nardi"
         },
         {
          "affiliations": [
           {
            "addresses": [
             {
              "country_code": "CO"
             }
            ],
            "ids": [
             {
              "type": "magid",
              "value": "35961687"
             },
             {
              "type": "grid",
              "value": "grid.412881.6"
             },
             {
              "type": "ror",
              "value": "https://ror.org/03bp5hc83"
             }
            ],
            "name": "University of Antioquia"
           }
          ],
          "collective_name": null,
          "first_name": "Diego",
          "initials": "D",
          "last_name": "Restrepo"
         },
         {
          "affiliations": [
           {
            "addresses": [
             {
              "country_code": "CO"
             }
            ],
            "ids": [
             {
              "type": "magid",
              "value": "35961687"
             },
             {
              "type": "grid",
              "value": "grid.412881.6"
             },
             {
              "type": "ror",
              "value": "https://ror.org/03bp5hc83"
             }
            ],
            "name": "University of Antioquia"
           }
          ],
          "collective_name": null,
          "first_name": "Mauricio",
          "initials": "M",
          "last_name": "Velasquez"
         }
        ],
        "chemicals": [],
        "date_published": {
         "date": "2012-03-28T00:00:00+00:00"
        },
        "end_page": null,
        "fields_of_study": [
         {
          "name": "Particle physics"
         },
         {
          "name": "Supersymmetry"
         },
         {
          "name": "Physics"
         },
         {
          "name": "Yukawa potential"
         },
         {
          "name": "Neutrino"
         },
         {
          "name": "R-parity"
         },
         {
          "name": "MAJORANA"
         },
         {
          "name": "Accidental symmetry"
         },
         {
          "name": "Seesaw mechanism"
         },
         {
          "name": "Adjoint representation"
         },
         {
          "name": "Free parameter"
         },
         {
          "name": "U-1"
         }
        ],
        "funding": [],
        "issue": "3",
        "keywords": [],
        "lens_id": "051-649-016-775-158",
        "mesh_terms": [],
        "patent_citations_count": 0,
        "publication_type": "journal article",
        "references": [
         {
          "lens_id": "002-173-017-983-612"
         },
         {
          "lens_id": "007-230-345-675-125"
         },
         {
          "lens_id": "009-127-455-650-049"
         },
         {
          "lens_id": "009-337-156-831-718"
         },
         {
          "lens_id": "010-143-973-378-458"
         },
         {
          "lens_id": "010-448-619-798-051"
         },
         {
          "lens_id": "013-876-964-039-232"
         },
         {
          "lens_id": "038-255-516-578-158"
         },
         {
          "lens_id": "043-451-318-908-098"
         },
         {
          "lens_id": "049-556-607-399-41X"
         },
         {
          "lens_id": "051-831-690-886-459"
         },
         {
          "lens_id": "067-821-616-475-119"
         },
         {
          "lens_id": "069-492-120-101-349"
         },
         {
          "lens_id": "075-885-330-942-837"
         },
         {
          "lens_id": "085-131-118-369-705"
         },
         {
          "lens_id": "110-147-005-140-710"
         },
         {
          "lens_id": "115-591-631-802-622"
         },
         {
          "lens_id": "140-460-916-369-101"
         },
         {
          "lens_id": "150-116-096-311-712"
         },
         {
          "lens_id": "160-329-400-722-463"
         }
        ],
        "scholarly_citations_count": 6,
        "source": {
         "country": "Germany",
         "issn": [
          {
           "type": "print",
           "value": "14346044"
          },
          {
           "type": "electronic",
           "value": "14346052"
          }
         ],
         "publisher": "Springer Science and Business Media LLC",
         "title_full": "The European Physical Journal C"
        },
        "source_urls": [
         {
          "type": null,
          "url": "https://link.springer.com/content/pdf/10.1140%2Fepjc%2Fs10052-012-1941-1.pdf"
         },
         {
          "type": "html",
          "url": "https://link.springer.com/article/10.1140/epjc/s10052-012-1941-1"
         },
         {
          "type": "html",
          "url": "http://ui.adsabs.harvard.edu/abs/2012EPJC...72.1941N/abstract"
         },
         {
          "type": "pdf",
          "url": "https://bibliotecadigital.udea.edu.co/bitstream/10495/8628/1/RestrepoDiego_2011_NeutrinoMassesAdjoint.pdf"
         },
         {
          "type": "html",
          "url": "https://bibliotecadigital.udea.edu.co/handle/10495/8628"
         },
         {
          "type": "html",
          "url": "https://epjc.epj.org/articles/epjc/abs/2012/03/10052_2012_Article_1941/10052_2012_Article_1941.html"
         }
        ],
        "start_page": "1941",
        "title": "Neutrino masses in SU(5)×U(1)F with adjoint flavons",
        "volume": "72",
        "year_published": 2012
       },
       {
        "abstract": "The lightest supersymmetric particle may decay with branching ratios that correlate with neutrino oscillation parameters. In this case the CERN Large Hadron Collider (LHC) has the potential to probe the atmospheric neutrino mixing angle with sensitivity competitive to its low-energy determination by underground experiments. Under realistic detection assumptions, we identify the necessary conditions for the experiments at CERN's LHC to probe the simplest scenario for neutrino masses induced by minimal supergravity with bilinear R parity violation.",
        "authors": [
         {
          "affiliations": [
           {
            "addresses": [
             {
              "country_code": "BR"
             }
            ],
            "ids": [
             {
              "type": "magid",
              "value": "879563668"
             },
             {
              "type": "grid",
              "value": "grid.410543.7"
             },
             {
              "type": "wikidata",
              "value": "q1817137"
             },
             {
              "type": "ror",
              "value": "https://ror.org/00987cb86"
             }
            ],
            "name": "Sao Paulo State University"
           }
          ],
          "collective_name": null,
          "first_name": "F.",
          "initials": "F",
          "last_name": "de Campos"
         },
         {
          "affiliations": [
           {
            "addresses": [
             {
              "country_code": "BR"
             }
            ],
            "ids": [
             {
              "type": "magid",
              "value": "17974374"
             },
             {
              "type": "grid",
              "value": "grid.11899.38"
             },
             {
              "type": "fundref",
              "value": "501100005639"
             },
             {
              "type": "wikidata",
              "value": "q835960"
             },
             {
              "type": "ror",
              "value": "https://ror.org/036rp1748"
             }
            ],
            "name": "University of São Paulo"
           }
          ],
          "collective_name": null,
          "first_name": "Ojp",
          "initials": "O",
          "last_name": "Eboli"
         },
         {
          "affiliations": [
           {
            "addresses": [
             {
              "country_code": "ES"
             }
            ],
            "ids": [
             {
              "type": "magid",
              "value": "134820265"
             },
             {
              "type": "grid",
              "value": "grid.4711.3"
             },
             {
              "type": "ror",
              "value": "https://ror.org/02gfc7t72"
             }
            ],
            "name": "Spanish National Research Council"
           }
          ],
          "collective_name": null,
          "first_name": "Martin",
          "initials": "M",
          "last_name": "Hirsch"
         },
         {
          "affiliations": [
           {
            "addresses": [
             {
              "country_code": "BR"
             }
            ],
            "ids": [
             {
              "type": "magid",
              "value": "17974374"
             },
             {
              "type": "grid",
              "value": "grid.11899.38"
             },
             {
              "type": "fundref",
              "value": "501100005639"
             },
             {
              "type": "wikidata",
              "value": "q835960"
             },
             {
              "type": "ror",
              "value": "https://ror.org/036rp1748"
             }
            ],
            "name": "University of São Paulo"
           }
          ],
          "collective_name": null,
          "first_name": "M. B.",
          "initials": "MB",
          "last_name": "Magro"
         },
         {
          "affiliations": [
           {
            "addresses": [
             {
              "country_code": "ES"
             }
            ],
            "ids": [
             {
              "type": "magid",
              "value": "134820265"
             },
             {
              "type": "grid",
              "value": "grid.4711.3"
             },
             {
              "type": "ror",
              "value": "https://ror.org/02gfc7t72"
             }
            ],
            "name": "Spanish National Research Council"
           },
           {
            "addresses": [
             {
              "country_code": "DE"
             }
            ],
            "ids": [
             {
              "type": "magid",
              "value": "25974101"
             },
             {
              "type": "grid",
              "value": "grid.8379.5"
             },
             {
              "type": "ror",
              "value": "https://ror.org/00fbnyb24"
             }
            ],
            "name": "University of Würzburg"
           }
          ],
          "collective_name": null,
          "first_name": "Werner",
          "initials": "W",
          "last_name": "Porod"
         },
         {
          "affiliations": [
           {
            "addresses": [
             {
              "country_code": "CO"
             }
            ],
            "ids": [
             {
              "type": "magid",
              "value": "35961687"
             },
             {
              "type": "grid",
              "value": "grid.412881.6"
             },
             {
              "type": "ror",
              "value": "https://ror.org/03bp5hc83"
             }
            ],
            "name": "University of Antioquia"
           }
          ],
          "collective_name": null,
          "first_name": "Diego",
          "initials": "D",
          "last_name": "Restrepo"
         },
         {
          "affiliations": [
           {
            "addresses": [
             {
              "country_code": "ES"
             }
            ],
            "ids": [
             {
              "type": "magid",
              "value": "134820265"
             },
             {
              "type": "grid",
              "value": "grid.4711.3"
             },
             {
              "type": "ror",
              "value": "https://ror.org/02gfc7t72"
             }
            ],
            "name": "Spanish National Research Council"
           }
          ],
          "collective_name": null,
          "first_name": "José W. F.",
          "initials": "JWF",
          "last_name": "Valle"
         }
        ],
        "chemicals": [],
        "date_published": {
         "date": "2010-10-06T00:00:00+00:00"
        },
        "end_page": null,
        "fields_of_study": [
         {
          "name": "Neutrino oscillation"
         },
         {
          "name": "Particle physics"
         },
         {
          "name": "Superpartner"
         },
         {
          "name": "Supersymmetry"
         },
         {
          "name": "Physics"
         },
         {
          "name": "Lightest Supersymmetric Particle"
         },
         {
          "name": "Lepton"
         },
         {
          "name": "Measurements of neutrino speed"
         },
         {
          "name": "Nuclear physics"
         },
         {
          "name": "Neutrino"
         },
         {
          "name": "Large Hadron Collider"
         }
        ],
        "funding": [],
        "issue": "7",
        "keywords": [],
        "lens_id": "052-352-688-780-389",
        "mesh_terms": [],
        "patent_citations_count": 0,
        "publication_type": "journal article",
        "references": [
         {
          "lens_id": "000-065-002-869-795"
         },
         {
          "lens_id": "003-277-718-796-61X"
         },
         {
          "lens_id": "003-843-890-381-612"
         },
         {
          "lens_id": "005-904-164-081-358"
         },
         {
          "lens_id": "006-729-357-192-258"
         },
         {
          "lens_id": "006-768-323-137-711"
         },
         {
          "lens_id": "008-067-806-341-363"
         },
         {
          "lens_id": "008-403-072-428-215"
         },
         {
          "lens_id": "013-259-596-310-83X"
         },
         {
          "lens_id": "015-797-849-593-905"
         },
         {
          "lens_id": "016-773-516-771-152"
         },
         {
          "lens_id": "021-436-465-519-101"
         },
         {
          "lens_id": "026-623-148-069-245"
         },
         {
          "lens_id": "028-931-488-210-994"
         },
         {
          "lens_id": "033-037-157-321-328"
         },
         {
          "lens_id": "033-331-534-328-670"
         },
         {
          "lens_id": "034-152-165-951-987"
         },
         {
          "lens_id": "036-544-094-674-091"
         },
         {
          "lens_id": "038-819-753-332-187"
         },
         {
          "lens_id": "045-268-144-621-069"
         },
         {
          "lens_id": "046-613-018-546-070"
         },
         {
          "lens_id": "047-263-785-897-356"
         },
         {
          "lens_id": "051-512-456-367-329"
         },
         {
          "lens_id": "052-381-511-704-172"
         },
         {
          "lens_id": "054-042-624-901-822"
         },
         {
          "lens_id": "057-175-166-620-836"
         },
         {
          "lens_id": "057-947-504-365-311"
         },
         {
          "lens_id": "062-452-428-662-440"
         },
         {
          "lens_id": "062-739-037-344-873"
         },
         {
          "lens_id": "068-783-531-748-204"
         },
         {
          "lens_id": "068-833-133-846-389"
         },
         {
          "lens_id": "071-265-343-524-009"
         },
         {
          "lens_id": "074-697-051-909-423"
         },
         {
          "lens_id": "079-652-087-388-028"
         },
         {
          "lens_id": "088-794-033-269-525"
         },
         {
          "lens_id": "096-777-508-677-297"
         },
         {
          "lens_id": "100-253-624-213-997"
         },
         {
          "lens_id": "111-265-129-821-538"
         },
         {
          "lens_id": "143-372-782-217-397"
         },
         {
          "lens_id": "148-531-787-137-318"
         },
         {
          "lens_id": "172-687-903-817-478"
         }
        ],
        "scholarly_citations_count": 21,
        "source": {
         "country": "United States",
         "issn": [
          {
           "type": "print",
           "value": "15507998"
          },
          {
           "type": "electronic",
           "value": "15502368"
          }
         ],
         "publisher": "American Physical Society (APS)",
         "title_full": "Physical Review D"
        },
        "source_urls": [
         {
          "type": "pdf",
          "url": "https://arxiv.org/pdf/1006.5075"
         },
         {
          "type": "html",
          "url": "https://www.bv.fapesp.br/pt/publicacao/31437/probing-neutrino-oscillations-in-supersymmetric-models-at-th/"
         },
         {
          "type": "html",
          "url": "https://bibliotecadigital.udea.edu.co/handle/10495/8294"
         },
         {
          "type": "html",
          "url": "https://digital.csic.es/handle/10261/29129"
         },
         {
          "type": "html",
          "url": "https://arxiv.org/abs/1006.5075"
         },
         {
          "type": "pdf",
          "url": "http://bibliotecadigital.udea.edu.co/bitstream/10495/8294/1/RestrepoDiego_2010_ProbingNeutrinoOscillations.pdf"
         },
         {
          "type": "html",
          "url": "http://ui.adsabs.harvard.edu/abs/2010PhRvD..82g5002D/abstract"
         },
         {
          "type": "pdf",
          "url": "http://export.arxiv.org/pdf/1006.5075"
         },
         {
          "type": "html",
          "url": "https://tesis.udea.edu.co/handle/10495/8294"
         },
         {
          "type": "unknown",
          "url": "https://repositorio.unesp.br/handle/11449/9232"
         },
         {
          "type": "pdf",
          "url": "https://digital.csic.es/bitstream/10261/29129/1/probing.pdf"
         },
         {
          "type": "html",
          "url": "http://www.osti.gov/scitech/biblio/21432313-probing-neutrino-oscillations-supersymmetric-models-large-hadron-collider"
         },
         {
          "type": "html",
          "url": "https://link.aps.org/doi/10.1103/PhysRevD.82.075002"
         },
         {
          "type": "core_fulltext",
          "url": "https://core.ac.uk/download/71028222.pdf"
         }
        ],
        "start_page": "075002",
        "title": "Probing neutrino oscillations in supersymmetric models at the Large Hadron Collider",
        "volume": "82",
        "year_published": 2010
       },
       {
        "abstract": "Abstract We study extensions of supersymmetric models without R-parity which include an anomalous U (1) H horizontal symmetry. Bilinear R-parity violating terms induce a neutrino mass at tree level m ν tree ≈( θ 2 ) δ  eV where θ ≃0.22 is the U (1) H breaking parameter and δ is an integer number that depends on the horizontal charges of the leptons. For δ =1 a unique self-consistent model arises in which (i) all the superpotential trilinear R-parity violating couplings are forbidden by holomorphy; (ii) m ν tree falls in the range suggested by the atmospheric neutrino problem; (iii) radiative contributions to neutrino masses are strongly suppressed resulting in Δm 2 solar ≈ few 10 −8  eV 2 which only allows for the LOW (or quasi-vacuum) solution to the solar neutrino problem; (iv) the neutrino mixing angles are not suppressed by powers of θ and can naturally be large.",
        "authors": [
         {
          "affiliations": [
           {
            "addresses": [
             {
              "country_code": "CO"
             }
            ],
            "ids": [
             {
              "type": "magid",
              "value": "35961687"
             },
             {
              "type": "grid",
              "value": "grid.412881.6"
             },
             {
              "type": "ror",
              "value": "https://ror.org/03bp5hc83"
             }
            ],
            "name": "University of Antioquia"
           }
          ],
          "collective_name": null,
          "first_name": "Jesus M.",
          "initials": "JM",
          "last_name": "Mira"
         },
         {
          "affiliations": [
           {
            "addresses": [
             {
              "country_code": "CO"
             }
            ],
            "ids": [
             {
              "type": "magid",
              "value": "35961687"
             },
             {
              "type": "grid",
              "value": "grid.412881.6"
             },
             {
              "type": "ror",
              "value": "https://ror.org/03bp5hc83"
             }
            ],
            "name": "University of Antioquia"
           },
           {
            "addresses": [
             {
              "country_code": "CH"
             }
            ],
            "ids": [
             {
              "type": "magid",
              "value": "67311998"
             },
             {
              "type": "grid",
              "value": "grid.9132.9"
             },
             {
              "type": "ror",
              "value": "https://ror.org/01ggx4157"
             }
            ],
            "name": "CERN"
           }
          ],
          "collective_name": null,
          "first_name": "Enrico",
          "initials": "E",
          "last_name": "Nardi"
         },
         {
          "affiliations": [
           {
            "addresses": [
             {
              "country_code": "ES"
             }
            ],
            "ids": [
             {
              "type": "magid",
              "value": "134820265"
             },
             {
              "type": "grid",
              "value": "grid.4711.3"
             },
             {
              "type": "ror",
              "value": "https://ror.org/02gfc7t72"
             }
            ],
            "name": "Spanish National Research Council"
           }
          ],
          "collective_name": null,
          "first_name": "Diego",
          "initials": "D",
          "last_name": "Restrepo"
         },
         {
          "affiliations": [
           {
            "addresses": [
             {
              "country_code": "ES"
             }
            ],
            "ids": [
             {
              "type": "magid",
              "value": "134820265"
             },
             {
              "type": "grid",
              "value": "grid.4711.3"
             },
             {
              "type": "ror",
              "value": "https://ror.org/02gfc7t72"
             }
            ],
            "name": "Spanish National Research Council"
           }
          ],
          "collective_name": null,
          "first_name": "José W. F.",
          "initials": "JWF",
          "last_name": "Valle"
         }
        ],
        "chemicals": [],
        "date_published": {
         "date": null
        },
        "end_page": "90",
        "fields_of_study": [
         {
          "name": "Neutrino oscillation"
         },
         {
          "name": "Particle physics"
         },
         {
          "name": "Supersymmetry"
         },
         {
          "name": "Physics"
         },
         {
          "name": "Superpotential"
         },
         {
          "name": "Lepton"
         },
         {
          "name": "Neutrino"
         },
         {
          "name": "R-parity"
         },
         {
          "name": "Symmetry (physics)"
         },
         {
          "name": "Solar neutrino problem"
         },
         {
          "name": "Solar mass"
         },
         {
          "name": "Radiative transfer"
         }
        ],
        "funding": [],
        "issue": "1",
        "keywords": [],
        "lens_id": "053-908-152-767-845",
        "mesh_terms": [],
        "patent_citations_count": 0,
        "publication_type": "journal article",
        "references": [
         {
          "lens_id": "002-571-151-249-463"
         },
         {
          "lens_id": "002-738-008-183-889"
         },
         {
          "lens_id": "003-461-601-958-11X"
         },
         {
          "lens_id": "003-674-875-788-225"
         },
         {
          "lens_id": "004-857-805-028-819"
         },
         {
          "lens_id": "011-704-919-348-753"
         },
         {
          "lens_id": "016-724-587-575-975"
         },
         {
          "lens_id": "018-039-126-180-636"
         },
         {
          "lens_id": "020-923-831-365-133"
         },
         {
          "lens_id": "023-051-751-495-628"
         },
         {
          "lens_id": "023-336-739-976-938"
         },
         {
          "lens_id": "032-909-695-520-331"
         },
         {
          "lens_id": "036-544-094-674-091"
         },
         {
          "lens_id": "038-993-196-837-919"
         },
         {
          "lens_id": "039-900-897-678-640"
         },
         {
          "lens_id": "043-739-874-512-521"
         },
         {
          "lens_id": "044-016-844-045-94X"
         },
         {
          "lens_id": "044-598-220-808-593"
         },
         {
          "lens_id": "050-138-571-821-458"
         },
         {
          "lens_id": "050-758-790-914-90X"
         },
         {
          "lens_id": "053-280-100-207-212"
         },
         {
          "lens_id": "061-535-927-388-009"
         },
         {
          "lens_id": "062-739-037-344-873"
         },
         {
          "lens_id": "063-879-163-279-444"
         },
         {
          "lens_id": "065-575-312-608-417"
         },
         {
          "lens_id": "068-783-531-748-204"
         },
         {
          "lens_id": "069-492-120-101-349"
         },
         {
          "lens_id": "070-890-612-586-257"
         },
         {
          "lens_id": "083-313-805-993-264"
         },
         {
          "lens_id": "091-982-534-293-538"
         },
         {
          "lens_id": "095-400-675-568-702"
         },
         {
          "lens_id": "097-775-587-884-485"
         },
         {
          "lens_id": "100-253-624-213-997"
         },
         {
          "lens_id": "101-276-933-621-423"
         },
         {
          "lens_id": "111-265-129-821-538"
         },
         {
          "lens_id": "115-035-216-865-258"
         },
         {
          "lens_id": "115-591-631-802-622"
         },
         {
          "lens_id": "118-450-724-930-375"
         },
         {
          "lens_id": "127-307-015-286-665"
         },
         {
          "lens_id": "127-524-557-065-489"
         },
         {
          "lens_id": "132-740-490-634-452"
         },
         {
          "lens_id": "140-460-916-369-101"
         },
         {
          "lens_id": "154-676-488-741-915"
         },
         {
          "lens_id": "160-762-884-907-647"
         }
        ],
        "scholarly_citations_count": 53,
        "source": {
         "country": "Netherlands",
         "issn": [
          {
           "type": "print",
           "value": "03702693"
          }
         ],
         "publisher": "Elsevier BV",
         "title_full": "Physics Letters B"
        },
        "source_urls": [
         {
          "type": "html",
          "url": "https://www.sciencedirect.com/science/article/pii/S0370269300010674"
         },
         {
          "type": "html",
          "url": "https://ui.adsabs.harvard.edu/abs/2000PhLB..492...81M/abstract"
         },
         {
          "type": "pdf",
          "url": "https://cds.cern.ch/record/448613/files/0007266.pdf"
         },
         {
          "type": "html",
          "url": "https://tesis.udea.edu.co/handle/10495/8393"
         },
         {
          "type": "html",
          "url": "https://bibliotecadigital.udea.edu.co/handle/10495/8393"
         },
         {
          "type": null,
          "url": "https://www.sciencedirect.com/science/article/pii/S0370269300010674#!"
         },
         {
          "type": "pdf",
          "url": "https://bibliotecadigital.udea.edu.co/bitstream/10495/8393/1/RestrepoDiego_2000_BilinearRparityViolation.pdf"
         },
         {
          "type": "unknown",
          "url": "http://roderic.uv.es/handle/10550/47869"
         },
         {
          "type": "html",
          "url": "https://www.arxiv-vanity.com/papers/hep-ph/0007266/"
         },
         {
          "type": "core_fulltext",
          "url": "https://core.ac.uk/download/71048150.pdf"
         }
        ],
        "start_page": "81",
        "title": "Bilinear R-parity violation and small neutrino masses: a self-consistent framework",
        "volume": "492",
        "year_published": 2000
       },
       {
        "abstract": "Abstract We propose a simple scenario in which dark matter (DM) emerges as a stable neutral hadronic thermal relics, its stability following from an exact U ( 1 ) D symmetry. Neutrinos pick up radiatively induced Majorana masses from the exchange of colored DM constituents. There is a common origin for both dark matter and neutrino mass, with a lower bound for neutrinoless double beta decay. Direct DM searches at nuclear recoil experiments will test the proposal, which may also lead to other phenomenological signals at future hadron collider and lepton flavor violation experiments.",
        "authors": [
         {
          "affiliations": [
           {
            "addresses": [
             {
              "country_code": "ES"
             }
            ],
            "ids": [
             {
              "type": "magid",
              "value": "16097986"
             },
             {
              "type": "grid",
              "value": "grid.5338.d"
             },
             {
              "type": "ror",
              "value": "https://ror.org/043nxc105"
             }
            ],
            "name": "University of Valencia"
           }
          ],
          "collective_name": null,
          "first_name": "Mario",
          "initials": "M",
          "last_name": "Reig"
         },
         {
          "affiliations": [
           {
            "addresses": [
             {
              "country_code": "IT"
             }
            ],
            "ids": [
             {
              "type": "magid",
              "value": "12323705"
             },
             {
              "type": "grid",
              "value": "grid.419330.c"
             },
             {
              "type": "ror",
              "value": "https://ror.org/009gyvm78"
             }
            ],
            "name": "International Centre for Theoretical Physics"
           },
           {
            "addresses": [
             {
              "country_code": "CO"
             }
            ],
            "ids": [
             {
              "type": "magid",
              "value": "35961687"
             },
             {
              "type": "grid",
              "value": "grid.412881.6"
             },
             {
              "type": "ror",
              "value": "https://ror.org/03bp5hc83"
             }
            ],
            "name": "University of Antioquia"
           }
          ],
          "collective_name": null,
          "first_name": "Diego",
          "initials": "D",
          "last_name": "Restrepo"
         },
         {
          "affiliations": [
           {
            "addresses": [
             {
              "country_code": "ES"
             }
            ],
            "ids": [
             {
              "type": "magid",
              "value": "16097986"
             },
             {
              "type": "grid",
              "value": "grid.5338.d"
             },
             {
              "type": "ror",
              "value": "https://ror.org/043nxc105"
             }
            ],
            "name": "University of Valencia"
           }
          ],
          "collective_name": null,
          "first_name": "José W. F.",
          "initials": "JWF",
          "last_name": "Valle"
         },
         {
          "affiliations": [
           {
            "addresses": [
             {
              "country_code": "CO"
             }
            ],
            "ids": [
             {
              "type": "magid",
              "value": "35961687"
             },
             {
              "type": "grid",
              "value": "grid.412881.6"
             },
             {
              "type": "ror",
              "value": "https://ror.org/03bp5hc83"
             }
            ],
            "name": "University of Antioquia"
           }
          ],
          "collective_name": null,
          "first_name": "Óscar",
          "initials": "Ó",
          "last_name": "Zapata"
         }
        ],
        "chemicals": [],
        "date_published": {
         "date": null
        },
        "end_page": "307",
        "fields_of_study": [
         {
          "name": "Particle physics"
         },
         {
          "name": "Physics"
         },
         {
          "name": "Dark matter"
         },
         {
          "name": "Bound state"
         },
         {
          "name": "Lepton"
         },
         {
          "name": "Neutrino"
         },
         {
          "name": "Hadron"
         },
         {
          "name": "MAJORANA"
         },
         {
          "name": "Double beta decay"
         },
         {
          "name": "Large Hadron Collider"
         }
        ],
        "funding": [
         {
          "country": null,
          "funding_id": null,
          "org": "AEI/FEDER"
         },
         {
          "country": null,
          "funding_id": null,
          "org": "AEI/FEDER"
         },
         {
          "country": null,
          "funding_id": null,
          "org": "Generalitat Valenciana"
         },
         {
          "country": null,
          "funding_id": null,
          "org": "Sostenibilidad-UdeA"
         },
         {
          "country": null,
          "funding_id": null,
          "org": "COLCIENCIAS"
         },
         {
          "country": null,
          "funding_id": null,
          "org": "COLCIENCIAS"
         }
        ],
        "issue": null,
        "keywords": [],
        "lens_id": "056-057-972-418-946",
        "mesh_terms": [],
        "patent_citations_count": 0,
        "publication_type": "journal article",
        "references": [
         {
          "lens_id": "003-294-311-473-514"
         },
         {
          "lens_id": "005-322-793-426-072"
         },
         {
          "lens_id": "008-894-407-170-711"
         },
         {
          "lens_id": "010-530-589-517-214"
         },
         {
          "lens_id": "012-156-272-156-153"
         },
         {
          "lens_id": "012-652-918-884-372"
         },
         {
          "lens_id": "024-441-177-583-294"
         },
         {
          "lens_id": "028-039-368-291-446"
         },
         {
          "lens_id": "028-400-815-033-743"
         },
         {
          "lens_id": "029-297-955-431-819"
         },
         {
          "lens_id": "031-160-596-530-51X"
         },
         {
          "lens_id": "032-320-801-219-234"
         },
         {
          "lens_id": "035-588-386-538-84X"
         },
         {
          "lens_id": "040-282-359-963-639"
         },
         {
          "lens_id": "040-589-291-441-522"
         },
         {
          "lens_id": "042-000-821-236-760"
         },
         {
          "lens_id": "043-582-617-309-431"
         },
         {
          "lens_id": "045-593-275-077-250"
         },
         {
          "lens_id": "050-141-298-667-505"
         },
         {
          "lens_id": "056-113-309-955-810"
         },
         {
          "lens_id": "062-250-210-633-860"
         },
         {
          "lens_id": "065-989-521-308-04X"
         },
         {
          "lens_id": "066-125-154-541-357"
         },
         {
          "lens_id": "066-139-538-341-52X"
         },
         {
          "lens_id": "067-874-448-633-956"
         },
         {
          "lens_id": "068-381-489-295-413"
         },
         {
          "lens_id": "073-990-450-536-798"
         },
         {
          "lens_id": "075-209-380-112-678"
         },
         {
          "lens_id": "075-552-551-971-070"
         },
         {
          "lens_id": "077-567-659-751-146"
         },
         {
          "lens_id": "080-681-916-882-735"
         },
         {
          "lens_id": "083-378-886-099-455"
         },
         {
          "lens_id": "086-221-468-914-019"
         },
         {
          "lens_id": "088-167-340-564-089"
         },
         {
          "lens_id": "088-325-217-246-801"
         },
         {
          "lens_id": "099-956-239-582-654"
         },
         {
          "lens_id": "104-302-054-528-914"
         },
         {
          "lens_id": "127-365-734-634-246"
         },
         {
          "lens_id": "130-619-931-138-634"
         },
         {
          "lens_id": "133-456-848-606-762"
         },
         {
          "lens_id": "148-103-731-507-85X"
         }
        ],
        "scholarly_citations_count": 16,
        "source": {
         "country": "Netherlands",
         "issn": [
          {
           "type": "print",
           "value": "03702693"
          }
         ],
         "publisher": "Elsevier BV",
         "title_full": "Physics Letters B"
        },
        "source_urls": [
         {
          "type": "html",
          "url": "https://www.sciencedirect.com/science/article/pii/S0370269319300395"
         },
         {
          "type": "unknown",
          "url": "https://www.sciencedirect.com/science/article/abs/pii/S0370269319300395"
         },
         {
          "type": "pdf",
          "url": "https://digital.csic.es/bitstream/10261/196336/1/139_Valle_Bound.pdf"
         },
         {
          "type": "html",
          "url": "https://digital.csic.es/handle/10261/196336"
         },
         {
          "type": "html",
          "url": "http://ui.adsabs.harvard.edu/abs/2019PhLB..790..303R/abstract"
         },
         {
          "type": "xml",
          "url": "https://api.elsevier.com/content/article/PII:S0370269319300395?httpAccept=text/xml"
         }
        ],
        "start_page": "303",
        "title": "Bound-state dark matter with Majorana neutrinos",
        "volume": "790",
        "year_published": 2019
       },
       {
        "abstract": "We consider the version of the Zee model where both Higgs doublets couple to leptons. Within this framework we study charged Higgs decays. We focus on a model with minimal number of parameters consistent with experimental neutrino data. Using constraints from neutrino physics we (i) discuss the reconstruction of the parameter space of the model using the leptonic decay patterns of both of the two charged Higgses, $h_{1,2}^{+}\\to \\ell_{j}^{+}\\nu_{i}$, and the decay of the heavier charged Higgs, $h_{2}^{+}\\to h^{+}_{1}h^{0}$; (ii) show that the decay rate $\\Gamma(h_{1}^{+}\\to \\mu^{+}\\nu_{i})$ in general is enhanced in comparision to the standard two Higgs doublet model while in some regions of parameter space $\\Gamma(h_{1}^{+}\\to \\mu^{+}\\nu_{i})$ even dominates over $\\Gamma(h_{1}^{+}\\to \\tau^{+}\\nu_{i})$.",
        "authors": [
         {
          "affiliations": [
           {
            "addresses": [
             {
              "country_code": "ES"
             }
            ],
            "ids": [
             {
              "type": "magid",
              "value": "134820265"
             },
             {
              "type": "grid",
              "value": "grid.4711.3"
             },
             {
              "type": "ror",
              "value": "https://ror.org/02gfc7t72"
             }
            ],
            "name": "Spanish National Research Council"
           }
          ],
          "collective_name": null,
          "first_name": "D. Aristizabal",
          "initials": "DA",
          "last_name": "Sierra"
         },
         {
          "affiliations": [
           {
            "addresses": [
             {
              "country_code": "CO"
             }
            ],
            "ids": [
             {
              "type": "magid",
              "value": "35961687"
             },
             {
              "type": "grid",
              "value": "grid.412881.6"
             },
             {
              "type": "ror",
              "value": "https://ror.org/03bp5hc83"
             }
            ],
            "name": "University of Antioquia"
           }
          ],
          "collective_name": null,
          "first_name": "Diego",
          "initials": "D",
          "last_name": "Restrepo"
         }
        ],
        "chemicals": [],
        "date_published": {
         "date": "2006-08-17T00:00:00+00:00"
        },
        "end_page": "036",
        "fields_of_study": [
         {
          "name": "Particle physics"
         },
         {
          "name": "Physics"
         },
         {
          "name": "Higgs boson"
         },
         {
          "name": "Lepton"
         },
         {
          "name": "Neutrino"
         },
         {
          "name": "Two-Higgs-doublet model"
         },
         {
          "name": "Parameter space"
         },
         {
          "name": "Nuclear physics"
         },
         {
          "name": "Electron–positron annihilation"
         }
        ],
        "funding": [],
        "issue": "08",
        "keywords": [],
        "lens_id": "057-117-383-313-44X",
        "mesh_terms": [],
        "patent_citations_count": 0,
        "publication_type": "journal article",
        "references": [
         {
          "lens_id": "002-687-956-469-37X"
         },
         {
          "lens_id": "005-484-973-770-024"
         },
         {
          "lens_id": "006-756-990-526-122"
         },
         {
          "lens_id": "006-768-323-137-711"
         },
         {
          "lens_id": "007-230-345-675-125"
         },
         {
          "lens_id": "008-084-086-007-029"
         },
         {
          "lens_id": "008-211-607-203-500"
         },
         {
          "lens_id": "008-631-207-228-953"
         },
         {
          "lens_id": "009-765-906-589-424"
         },
         {
          "lens_id": "012-823-226-492-443"
         },
         {
          "lens_id": "012-882-657-520-880"
         },
         {
          "lens_id": "024-387-119-883-286"
         },
         {
          "lens_id": "024-774-615-672-429"
         },
         {
          "lens_id": "025-193-039-973-303"
         },
         {
          "lens_id": "025-225-739-419-26X"
         },
         {
          "lens_id": "025-428-221-988-249"
         },
         {
          "lens_id": "026-206-521-063-208"
         },
         {
          "lens_id": "026-250-856-400-286"
         },
         {
          "lens_id": "029-642-572-650-066"
         },
         {
          "lens_id": "035-615-568-593-875"
         },
         {
          "lens_id": "036-544-094-674-091"
         },
         {
          "lens_id": "038-819-753-332-187"
         },
         {
          "lens_id": "039-366-228-178-14X"
         },
         {
          "lens_id": "039-769-419-179-010"
         },
         {
          "lens_id": "040-302-353-320-232"
         },
         {
          "lens_id": "041-131-023-325-818"
         },
         {
          "lens_id": "042-345-702-015-520"
         },
         {
          "lens_id": "045-914-510-466-024"
         },
         {
          "lens_id": "048-919-788-198-88X"
         },
         {
          "lens_id": "052-027-856-184-510"
         },
         {
          "lens_id": "053-908-152-767-845"
         },
         {
          "lens_id": "054-592-442-338-115"
         },
         {
          "lens_id": "057-642-752-983-824"
         },
         {
          "lens_id": "064-994-887-092-394"
         },
         {
          "lens_id": "068-025-667-109-812"
         },
         {
          "lens_id": "068-783-531-748-204"
         },
         {
          "lens_id": "069-001-612-005-784"
         },
         {
          "lens_id": "076-702-363-358-92X"
         },
         {
          "lens_id": "084-845-324-692-501"
         },
         {
          "lens_id": "089-756-474-302-385"
         },
         {
          "lens_id": "094-973-168-689-122"
         },
         {
          "lens_id": "106-064-644-300-727"
         },
         {
          "lens_id": "106-235-987-748-340"
         },
         {
          "lens_id": "111-265-129-821-538"
         },
         {
          "lens_id": "120-162-727-977-545"
         },
         {
          "lens_id": "124-101-667-661-544"
         },
         {
          "lens_id": "130-619-931-138-634"
         },
         {
          "lens_id": "155-508-351-528-586"
         },
         {
          "lens_id": "174-810-216-921-795"
         },
         {
          "lens_id": "178-842-737-150-756"
         }
        ],
        "scholarly_citations_count": 38,
        "source": {
         "country": "Germany",
         "issn": [
          {
           "type": "electronic",
           "value": "10298479"
          }
         ],
         "publisher": "Springer Science and Business Media LLC",
         "title_full": "Journal of High Energy Physics"
        },
        "source_urls": [
         {
          "type": "html",
          "url": "https://arxiv.org/abs/hep-ph/0604012"
         },
         {
          "type": "pdf",
          "url": "https://arxiv.org/pdf/hep-ph/0604012"
         },
         {
          "type": "pdf",
          "url": "http://export.arxiv.org/pdf/hep-ph/0604012"
         },
         {
          "type": "core_fulltext",
          "url": "http://arxiv.org/abs/hep-ph/0604012"
         }
        ],
        "start_page": "036",
        "title": "Leptonic Charged Higgs Decays in the Zee Model",
        "volume": "0608",
        "year_published": 2006
       },
       {
        "abstract": "Since the 1990s, the open access movement has promoted democratization and global access to research based on practices and tools that seek to break down the barriers to access and use of scientific publications. This has led to changes in the forms of scientific communication of researchers, so institutions require measurement strategies that allow them to dimension these changes. Therefore, the objective of this article is to propose a methodology to measure and characterize open access practices in Latin American universities, taking the University of Antioquia as a case study. For this, an automatic bibliographic data collection strategy was designed from three sources (Web of Science, SciELO and Scopus), and open access indicators were calculated for 7,990 articles with DOI of the Institution. It was identified that the open production of the University has increased in recent years, especially in the case of the golden route, with an impact on the payment of APC made by academic documents.",
        "authors": [
         {
          "affiliations": [
           {
            "addresses": [
             {
              "country_code": "CO"
             }
            ],
            "ids": [
             {
              "type": "magid",
              "value": "35961687"
             },
             {
              "type": "grid",
              "value": "grid.412881.6"
             },
             {
              "type": "ror",
              "value": "https://ror.org/03bp5hc83"
             }
            ],
            "name": "University of Antioquia"
           }
          ],
          "collective_name": null,
          "first_name": "Alejandro",
          "initials": "A",
          "last_name": "Uribe-Tirado"
         },
         {
          "affiliations": [
           {
            "addresses": [
             {
              "country_code": "CO"
             }
            ],
            "ids": [
             {
              "type": "magid",
              "value": "35961687"
             },
             {
              "type": "grid",
              "value": "grid.412881.6"
             },
             {
              "type": "ror",
              "value": "https://ror.org/03bp5hc83"
             }
            ],
            "name": "University of Antioquia"
           }
          ],
          "collective_name": null,
          "first_name": "Jaider",
          "initials": "J",
          "last_name": "Ochoa-Gutiérrez"
         },
         {
          "affiliations": [
           {
            "addresses": [
             {
              "country_code": "CO"
             }
            ],
            "ids": [
             {
              "type": "magid",
              "value": "35961687"
             },
             {
              "type": "grid",
              "value": "grid.412881.6"
             },
             {
              "type": "ror",
              "value": "https://ror.org/03bp5hc83"
             }
            ],
            "name": "University of Antioquia"
           }
          ],
          "collective_name": null,
          "first_name": "Cesar",
          "initials": "C",
          "last_name": "Pallares"
         },
         {
          "affiliations": [
           {
            "addresses": [
             {
              "country_code": "CO"
             }
            ],
            "ids": [
             {
              "type": "magid",
              "value": "35961687"
             },
             {
              "type": "grid",
              "value": "grid.412881.6"
             },
             {
              "type": "ror",
              "value": "https://ror.org/03bp5hc83"
             }
            ],
            "name": "University of Antioquia"
           }
          ],
          "collective_name": null,
          "first_name": "Diego",
          "initials": "D",
          "last_name": "Restrepo-Quintero"
         },
         {
          "affiliations": [
           {
            "addresses": [
             {
              "country_code": "CO"
             }
            ],
            "ids": [
             {
              "type": "magid",
              "value": "35961687"
             },
             {
              "type": "grid",
              "value": "grid.412881.6"
             },
             {
              "type": "ror",
              "value": "https://ror.org/03bp5hc83"
             }
            ],
            "name": "University of Antioquia"
           }
          ],
          "collective_name": null,
          "first_name": "Gabriel",
          "initials": "G",
          "last_name": "Vélez-Cuartas"
         },
         {
          "affiliations": [
           {
            "addresses": [
             {
              "country_code": "CO"
             }
            ],
            "ids": [
             {
              "type": "magid",
              "value": "36243813"
             },
             {
              "type": "grid",
              "value": "grid.10689.36"
             },
             {
              "type": "fundref",
              "value": "501100002753"
             },
             {
              "type": "wikidata",
              "value": "q1150419"
             },
             {
              "type": "ror",
              "value": "https://ror.org/059yx9a68"
             }
            ],
            "name": "National University of Colombia"
           }
          ],
          "collective_name": null,
          "first_name": "Jorge",
          "initials": "J",
          "last_name": "Robledo-Velásquez"
         },
         {
          "affiliations": [
           {
            "addresses": [
             {
              "country_code": "CO"
             }
            ],
            "ids": [
             {
              "type": "magid",
              "value": "35961687"
             },
             {
              "type": "grid",
              "value": "grid.412881.6"
             },
             {
              "type": "ror",
              "value": "https://ror.org/03bp5hc83"
             }
            ],
            "name": "University of Antioquia"
           }
          ],
          "collective_name": null,
          "first_name": "Huber Fernando",
          "initials": "HF",
          "last_name": "Gómez-Molina"
         },
         {
          "affiliations": [
           {
            "addresses": [
             {
              "country_code": "CO"
             }
            ],
            "ids": [
             {
              "type": "magid",
              "value": "35961687"
             },
             {
              "type": "grid",
              "value": "grid.412881.6"
             },
             {
              "type": "ror",
              "value": "https://ror.org/03bp5hc83"
             }
            ],
            "name": "University of Antioquia"
           }
          ],
          "collective_name": null,
          "first_name": "María Coral",
          "initials": "MC",
          "last_name": "Correa-Tabares"
         },
         {
          "affiliations": [
           {
            "addresses": [
             {
              "country_code": "CO"
             }
            ],
            "ids": [
             {
              "type": "magid",
              "value": "35961687"
             },
             {
              "type": "grid",
              "value": "grid.412881.6"
             },
             {
              "type": "ror",
              "value": "https://ror.org/03bp5hc83"
             }
            ],
            "name": "University of Antioquia"
           }
          ],
          "collective_name": null,
          "first_name": "Julián",
          "initials": "J",
          "last_name": "Calle-Mosquera"
         },
         {
          "affiliations": [
           {
            "addresses": [
             {
              "country_code": "CO"
             }
            ],
            "ids": [
             {
              "type": "magid",
              "value": "35961687"
             },
             {
              "type": "grid",
              "value": "grid.412881.6"
             },
             {
              "type": "ror",
              "value": "https://ror.org/03bp5hc83"
             }
            ],
            "name": "University of Antioquia"
           }
          ],
          "collective_name": null,
          "first_name": "Ana María",
          "initials": "AM",
          "last_name": "Osorio-López"
         }
        ],
        "chemicals": [],
        "date_published": {
         "date": "2019-10-28T00:00:00+00:00"
        },
        "end_page": null,
        "fields_of_study": [
         {
          "name": "Payment"
         },
         {
          "name": "Latin Americans"
         },
         {
          "name": "Library science"
         },
         {
          "name": "Democratization"
         },
         {
          "name": "Political science"
         },
         {
          "name": "Scientific communication"
         },
         {
          "name": "SciELO"
         },
         {
          "name": "Research based"
         },
         {
          "name": "Web of science"
         },
         {
          "name": "Scopus"
         }
        ],
        "funding": [],
        "issue": "1",
        "keywords": [],
        "lens_id": "060-789-476-333-298",
        "mesh_terms": [],
        "patent_citations_count": 0,
        "publication_type": "journal article",
        "references": [
         {
          "lens_id": "007-504-421-222-685"
         },
         {
          "lens_id": "012-393-670-757-578"
         },
         {
          "lens_id": "017-568-935-322-793"
         },
         {
          "lens_id": "027-717-777-712-532"
         },
         {
          "lens_id": "027-845-295-187-970"
         },
         {
          "lens_id": "034-658-158-500-326"
         },
         {
          "lens_id": "036-377-816-692-860"
         },
         {
          "lens_id": "049-015-762-077-830"
         },
         {
          "lens_id": "080-770-422-273-504"
         },
         {
          "lens_id": "084-953-099-686-049"
         },
         {
          "lens_id": "103-905-058-312-770"
         },
         {
          "lens_id": "132-896-744-527-915"
         }
        ],
        "scholarly_citations_count": 0,
        "source": {
         "country": null,
         "issn": [
          {
           "type": "electronic",
           "value": "18539912"
          }
         ],
         "publisher": "Universidad Nacional de La Plata",
         "title_full": "Palabra Clave (La Plata)"
        },
        "source_urls": [
         {
          "type": "html",
          "url": "https://bibliotecadigital.udea.edu.co/dspace/handle/10495/20359"
         },
         {
          "type": "pdf",
          "url": "https://bibliotecadigital.udea.edu.co/bitstream/10495/20359/1/UribeAlejandro_2019_AccesoAbiertoUniversidades.pdf"
         },
         {
          "type": "html",
          "url": "https://dialnet.unirioja.es/servlet/articulo?codigo=7298806"
         },
         {
          "type": "html",
          "url": "https://www.palabraclave.fahce.unlp.edu.ar/article/view/PCe078"
         },
         {
          "type": "html",
          "url": "http://sedici.unlp.edu.ar/handle/10915/96587"
         },
         {
          "type": "html",
          "url": "http://eprints.rclis.org/40142/"
         },
         {
          "type": "pdf",
          "url": "https://www.palabraclave.fahce.unlp.edu.ar/article/download/PCe078/11586"
         }
        ],
        "start_page": "8",
        "title": "Situación del acceso abierto en las universidades. Caso y modelo de análisis Universidad de Antioquia",
        "volume": "9",
        "year_published": 2019
       },
       {
        "abstract": "We perform a systematic analysis of standard model extensions with an additional anomaly-free gauge $U(1)$ symmetry, to generate Dirac neutrino masses at one loop. Under such symmetry, standard model fields could either transform or be invariant, corresponding to an active $U(1{)}_{X}$ or a dark $U(1{)}_{D}$ symmetry, respectively. Having an anomaly-free symmetry imposes nontrivial conditions to the number and charges of the unavoidable new states. We perform an intensive scan, looking for nonanomalous solutions for a given number of extra chiral fermions. In particular, we concentrate on solutions giving rise to scotogenic neutrino masses via the effective Dirac mass operator. We study the cases where the Dirac mass operator with dimension 5 or 6 is mediated by Dirac or Majorana states and corresponds to an active $U(1{)}_{X}$ or a dark $U(1{)}_{D}$ symmetry. Finally, we comment on the solutions featuring no massless chiral fermions.",
        "authors": [
         {
          "affiliations": [
           {
            "addresses": [],
            "ids": [],
            "name": "Centro de Investigaciones, Universidad Antonio Nariño, Carrera 3 Este No. 47A-15, Bogotá, Colombia"
           }
          ],
          "collective_name": null,
          "first_name": "Nicolás",
          "initials": "N",
          "last_name": "Bernal"
         },
         {
          "affiliations": [
           {
            "addresses": [
             {
              "country_code": "CO"
             }
            ],
            "ids": [
             {
              "type": "magid",
              "value": "35961687"
             },
             {
              "type": "grid",
              "value": "grid.412881.6"
             },
             {
              "type": "ror",
              "value": "https://ror.org/03bp5hc83"
             }
            ],
            "name": "University of Antioquia"
           }
          ],
          "collective_name": null,
          "first_name": "Julián",
          "initials": "J",
          "last_name": "Calle"
         },
         {
          "affiliations": [
           {
            "addresses": [
             {
              "country_code": "CO"
             }
            ],
            "ids": [
             {
              "type": "magid",
              "value": "35961687"
             },
             {
              "type": "grid",
              "value": "grid.412881.6"
             },
             {
              "type": "ror",
              "value": "https://ror.org/03bp5hc83"
             }
            ],
            "name": "University of Antioquia"
           }
          ],
          "collective_name": null,
          "first_name": "Diego",
          "initials": "D",
          "last_name": "Restrepo"
         }
        ],
        "chemicals": [],
        "date_published": {
         "date": "2021-05-27T00:00:00+00:00"
        },
        "end_page": null,
        "fields_of_study": [
         {
          "name": "Standard Model (mathematical formulation)"
         },
         {
          "name": "Physics"
         },
         {
          "name": "Anomaly (physics)"
         },
         {
          "name": "Operator (physics)"
         },
         {
          "name": "Neutrino"
         },
         {
          "name": "Dirac (software)"
         },
         {
          "name": "MAJORANA"
         },
         {
          "name": "Mathematical physics"
         },
         {
          "name": "Symmetry (physics)"
         },
         {
          "name": "Massless particle"
         }
        ],
        "funding": [
         {
          "country": null,
          "funding_id": null,
          "org": "Federación Española de Enfermedades Raras"
         },
         {
          "country": null,
          "funding_id": null,
          "org": "Universidad de Antioquia"
         },
         {
          "country": null,
          "funding_id": null,
          "org": "Departamento Administrativo de Ciencia, Tecnología e Innovación"
         },
         {
          "country": null,
          "funding_id": null,
          "org": "Horizon 2020 Framework Programme"
         },
         {
          "country": null,
          "funding_id": null,
          "org": "H2020 Marie Skłodowska-Curie Actions"
         },
         {
          "country": null,
          "funding_id": null,
          "org": "Universidad Antonio Nariño"
         },
         {
          "country": null,
          "funding_id": null,
          "org": "Universidad Antonio Nariño"
         },
         {
          "country": null,
          "funding_id": null,
          "org": "Universidad Antonio Nariño"
         },
         {
          "country": null,
          "funding_id": null,
          "org": "Fondo Nacional de Financiamiento para la Ciencia, la Tecnología y la Innovación Francisco José de Caldas"
         }
        ],
        "issue": "9",
        "keywords": [],
        "lens_id": "065-715-855-665-68X",
        "mesh_terms": [],
        "patent_citations_count": 0,
        "publication_type": "journal article",
        "references": [
         {
          "lens_id": "004-253-608-579-470"
         },
         {
          "lens_id": "004-766-632-851-036"
         },
         {
          "lens_id": "004-796-185-342-308"
         },
         {
          "lens_id": "006-179-982-667-139"
         },
         {
          "lens_id": "006-334-935-804-206"
         },
         {
          "lens_id": "007-604-254-651-404"
         },
         {
          "lens_id": "008-030-098-746-271"
         },
         {
          "lens_id": "009-737-615-895-562"
         },
         {
          "lens_id": "009-739-788-200-537"
         },
         {
          "lens_id": "010-203-461-674-917"
         },
         {
          "lens_id": "010-915-835-788-755"
         },
         {
          "lens_id": "013-993-352-400-106"
         },
         {
          "lens_id": "015-492-912-161-21X"
         },
         {
          "lens_id": "017-930-819-670-095"
         },
         {
          "lens_id": "021-815-698-693-557"
         },
         {
          "lens_id": "024-599-000-693-842"
         },
         {
          "lens_id": "025-673-012-266-564"
         },
         {
          "lens_id": "026-855-784-961-931"
         },
         {
          "lens_id": "028-439-068-198-728"
         },
         {
          "lens_id": "028-591-779-685-81X"
         },
         {
          "lens_id": "030-358-124-320-757"
         },
         {
          "lens_id": "030-396-043-787-328"
         },
         {
          "lens_id": "030-456-034-336-973"
         },
         {
          "lens_id": "031-811-475-736-083"
         },
         {
          "lens_id": "033-718-463-255-668"
         },
         {
          "lens_id": "038-981-250-917-605"
         },
         {
          "lens_id": "039-299-125-527-127"
         },
         {
          "lens_id": "039-656-229-723-969"
         },
         {
          "lens_id": "040-044-077-995-890"
         },
         {
          "lens_id": "040-181-154-062-199"
         },
         {
          "lens_id": "040-876-865-240-271"
         },
         {
          "lens_id": "042-283-384-847-258"
         },
         {
          "lens_id": "043-615-531-486-523"
         },
         {
          "lens_id": "056-113-309-955-810"
         },
         {
          "lens_id": "056-811-740-903-207"
         },
         {
          "lens_id": "061-019-801-987-259"
         },
         {
          "lens_id": "064-819-254-730-546"
         },
         {
          "lens_id": "067-494-247-746-474"
         },
         {
          "lens_id": "069-010-256-060-908"
         },
         {
          "lens_id": "074-520-156-678-488"
         },
         {
          "lens_id": "076-460-648-165-68X"
         },
         {
          "lens_id": "077-845-976-945-515"
         },
         {
          "lens_id": "078-595-979-180-869"
         },
         {
          "lens_id": "087-872-124-551-053"
         },
         {
          "lens_id": "089-245-310-588-925"
         },
         {
          "lens_id": "090-129-857-584-124"
         },
         {
          "lens_id": "092-646-415-595-414"
         },
         {
          "lens_id": "092-676-390-575-667"
         },
         {
          "lens_id": "092-743-785-800-619"
         },
         {
          "lens_id": "093-494-297-575-127"
         },
         {
          "lens_id": "094-408-620-045-971"
         },
         {
          "lens_id": "098-600-563-772-755"
         },
         {
          "lens_id": "099-913-751-331-686"
         },
         {
          "lens_id": "101-889-959-705-029"
         },
         {
          "lens_id": "105-058-961-167-117"
         },
         {
          "lens_id": "106-998-100-736-468"
         },
         {
          "lens_id": "110-290-657-153-578"
         },
         {
          "lens_id": "118-378-334-464-467"
         },
         {
          "lens_id": "119-648-445-420-882"
         },
         {
          "lens_id": "122-903-924-224-559"
         },
         {
          "lens_id": "126-713-588-566-266"
         },
         {
          "lens_id": "133-456-848-606-762"
         },
         {
          "lens_id": "135-568-336-699-44X"
         },
         {
          "lens_id": "139-042-170-509-966"
         },
         {
          "lens_id": "140-001-521-042-654"
         },
         {
          "lens_id": "148-103-731-507-85X"
         },
         {
          "lens_id": "154-540-499-514-352"
         },
         {
          "lens_id": "163-980-335-136-602"
         },
         {
          "lens_id": "166-791-595-733-004"
         },
         {
          "lens_id": "173-700-895-211-328"
         },
         {
          "lens_id": "195-289-317-502-263"
         }
        ],
        "scholarly_citations_count": 6,
        "source": {
         "country": "United States",
         "issn": [
          {
           "type": "print",
           "value": "24700010"
          },
          {
           "type": "electronic",
           "value": "24700029"
          }
         ],
         "publisher": "American Physical Society (APS)",
         "title_full": "Physical Review D"
        },
        "source_urls": [
         {
          "type": "html",
          "url": "https://arxiv.org/abs/2102.06211"
         },
         {
          "type": "html",
          "url": "https://link.aps.org/doi/10.1103/PhysRevD.103.095032"
         },
         {
          "type": "pdf",
          "url": "https://arxiv.org/pdf/2102.06211"
         },
         {
          "type": "html",
          "url": "https://ui.adsabs.harvard.edu/abs/2021PhRvD.103i5032B/abstract"
         }
        ],
        "start_page": "095032",
        "title": "Anomaly-free Abelian gauge symmetries with Dirac scotogenic models",
        "volume": "103",
        "year_published": 2021
       },
       {
        "abstract": "Abstract By extending the SM with two scalar singlets, a vector-like fermion doublet and a fermion singlet, all odd under a Z 2 symmetry, it is possible to explain the correct dark matter relic density and also fulfill the main constraints for neutrino physics. In this work, we only consider the case of fermionic dark matter. We study the parameter space, first of all taking into account the relic density constraint, which gives us a set of parameters that can be used as inputs for the Casas-Ibarra parametrization in order to get the remaining parameters that also match neutrino physics. We also analyze possible constraints from lepton flavor violation processes such as μ → e γ .",
        "authors": [
         {
          "affiliations": [
           {
            "addresses": [
             {
              "country_code": "CO"
             }
            ],
            "ids": [
             {
              "type": "magid",
              "value": "35961687"
             },
             {
              "type": "grid",
              "value": "grid.412881.6"
             },
             {
              "type": "ror",
              "value": "https://ror.org/03bp5hc83"
             }
            ],
            "name": "University of Antioquia"
           }
          ],
          "collective_name": null,
          "first_name": "Diego",
          "initials": "D",
          "last_name": "Restrepo"
         },
         {
          "affiliations": [
           {
            "addresses": [
             {
              "country_code": "CO"
             }
            ],
            "ids": [
             {
              "type": "magid",
              "value": "35961687"
             },
             {
              "type": "grid",
              "value": "grid.412881.6"
             },
             {
              "type": "ror",
              "value": "https://ror.org/03bp5hc83"
             }
            ],
            "name": "University of Antioquia"
           }
          ],
          "collective_name": null,
          "first_name": "Andrés",
          "initials": "A",
          "last_name": "Rivera"
         },
         {
          "affiliations": [
           {
            "addresses": [
             {
              "country_code": "CO"
             }
            ],
            "ids": [
             {
              "type": "magid",
              "value": "35961687"
             },
             {
              "type": "grid",
              "value": "grid.412881.6"
             },
             {
              "type": "ror",
              "value": "https://ror.org/03bp5hc83"
             }
            ],
            "name": "University of Antioquia"
           }
          ],
          "collective_name": null,
          "first_name": "M.",
          "initials": "M",
          "last_name": "Sánchez"
         },
         {
          "affiliations": [
           {
            "addresses": [
             {
              "country_code": "CO"
             }
            ],
            "ids": [
             {
              "type": "magid",
              "value": "35961687"
             },
             {
              "type": "grid",
              "value": "grid.412881.6"
             },
             {
              "type": "ror",
              "value": "https://ror.org/03bp5hc83"
             }
            ],
            "name": "University of Antioquia"
           }
          ],
          "collective_name": null,
          "first_name": "Óscar",
          "initials": "Ó",
          "last_name": "Zapata"
         }
        ],
        "chemicals": [],
        "date_published": {
         "date": null
        },
        "end_page": "369",
        "fields_of_study": [
         {
          "name": "Particle physics"
         },
         {
          "name": "Warm dark matter"
         },
         {
          "name": "Physics"
         },
         {
          "name": "Dark matter"
         },
         {
          "name": "Lepton"
         },
         {
          "name": "Neutrino"
         },
         {
          "name": "Light dark matter"
         },
         {
          "name": "Dark fluid"
         },
         {
          "name": "Fermion"
         },
         {
          "name": "Scalar field dark matter"
         }
        ],
        "funding": [],
        "issue": null,
        "keywords": [],
        "lens_id": "072-249-864-066-150",
        "mesh_terms": [],
        "patent_citations_count": 0,
        "publication_type": "journal article",
        "references": [
         {
          "lens_id": "046-202-403-326-991"
         },
         {
          "lens_id": "081-067-523-514-110"
         },
         {
          "lens_id": "087-831-819-123-900"
         },
         {
          "lens_id": "122-714-238-181-138"
         }
        ],
        "scholarly_citations_count": 2,
        "source": {
         "country": "Netherlands",
         "issn": [
          {
           "type": "print",
           "value": "24056014"
          }
         ],
         "publisher": "Elsevier BV",
         "title_full": "Nuclear and Particle Physics Proceedings"
        },
        "source_urls": [
         {
          "type": "unknown",
          "url": "https://core.ac.uk/display/82707134"
         },
         {
          "type": "html",
          "url": "https://ui.adsabs.harvard.edu/abs/2015NPPP..267..367R/abstract"
         },
         {
          "type": "html",
          "url": "https://www.sciencedirect.com/science/article/pii/S2405601415010913"
         },
         {
          "type": "html",
          "url": "https://facminas-unalmed.demo.elsevierpure.com/en/publications/a-model-with-a-viable-dark-matter-candidate-and-massive-neutrinos"
         }
        ],
        "start_page": "367",
        "title": "A model with a viable dark matter candidate and massive neutrinos",
        "volume": "267-269",
        "year_published": 2015
       },
       {
        "abstract": "Supersymmetric models with bilinear $R$-parity violation can account for the observed neutrino masses and mixing parameters indicated by neutrino oscillation data. We consider minimal supergravity versions of bilinear $R$-parity violation where the lightest supersymmetric particle is a neutralino. This is unstable, with a large enough decay length to be detected at the CERN Large Hadron Collider. We analyze the Large Hadron Collider potential to determine the lightest supersymmetric particle properties, such as mass, lifetime and branching ratios, and discuss their relation to neutrino properties.",
        "authors": [
         {
          "affiliations": [
           {
            "addresses": [
             {
              "country_code": "BR"
             }
            ],
            "ids": [
             {
              "type": "magid",
              "value": "879563668"
             },
             {
              "type": "grid",
              "value": "grid.410543.7"
             },
             {
              "type": "wikidata",
              "value": "q1817137"
             },
             {
              "type": "ror",
              "value": "https://ror.org/00987cb86"
             }
            ],
            "name": "Sao Paulo State University"
           }
          ],
          "collective_name": null,
          "first_name": "F.",
          "initials": "F",
          "last_name": "de Campos"
         },
         {
          "affiliations": [
           {
            "addresses": [
             {
              "country_code": "BR"
             }
            ],
            "ids": [
             {
              "type": "magid",
              "value": "17974374"
             },
             {
              "type": "grid",
              "value": "grid.11899.38"
             },
             {
              "type": "fundref",
              "value": "501100005639"
             },
             {
              "type": "wikidata",
              "value": "q835960"
             },
             {
              "type": "ror",
              "value": "https://ror.org/036rp1748"
             }
            ],
            "name": "University of São Paulo"
           }
          ],
          "collective_name": null,
          "first_name": "Oscar J.P.",
          "initials": "OJP",
          "last_name": "Eboli"
         },
         {
          "affiliations": [
           {
            "addresses": [
             {
              "country_code": "BR"
             }
            ],
            "ids": [
             {
              "type": "magid",
              "value": "17974374"
             },
             {
              "type": "grid",
              "value": "grid.11899.38"
             },
             {
              "type": "fundref",
              "value": "501100005639"
             },
             {
              "type": "wikidata",
              "value": "q835960"
             },
             {
              "type": "ror",
              "value": "https://ror.org/036rp1748"
             }
            ],
            "name": "University of São Paulo"
           }
          ],
          "collective_name": null,
          "first_name": "M. B.",
          "initials": "MB",
          "last_name": "Magro"
         },
         {
          "affiliations": [
           {
            "addresses": [
             {
              "country_code": "DE"
             }
            ],
            "ids": [
             {
              "type": "magid",
              "value": "25974101"
             },
             {
              "type": "grid",
              "value": "grid.8379.5"
             },
             {
              "type": "ror",
              "value": "https://ror.org/00fbnyb24"
             }
            ],
            "name": "University of Würzburg"
           }
          ],
          "collective_name": null,
          "first_name": "Werner",
          "initials": "W",
          "last_name": "Porod"
         },
         {
          "affiliations": [
           {
            "addresses": [
             {
              "country_code": "CO"
             }
            ],
            "ids": [
             {
              "type": "magid",
              "value": "35961687"
             },
             {
              "type": "grid",
              "value": "grid.412881.6"
             },
             {
              "type": "ror",
              "value": "https://ror.org/03bp5hc83"
             }
            ],
            "name": "University of Antioquia"
           }
          ],
          "collective_name": null,
          "first_name": "Diego",
          "initials": "D",
          "last_name": "Restrepo"
         },
         {
          "affiliations": [
           {
            "addresses": [
             {
              "country_code": "ES"
             }
            ],
            "ids": [
             {
              "type": "magid",
              "value": "134820265"
             },
             {
              "type": "grid",
              "value": "grid.4711.3"
             },
             {
              "type": "ror",
              "value": "https://ror.org/02gfc7t72"
             }
            ],
            "name": "Spanish National Research Council"
           }
          ],
          "collective_name": null,
          "first_name": "S. P.",
          "initials": "SP",
          "last_name": "Das"
         },
         {
          "affiliations": [
           {
            "addresses": [
             {
              "country_code": "ES"
             }
            ],
            "ids": [
             {
              "type": "magid",
              "value": "134820265"
             },
             {
              "type": "grid",
              "value": "grid.4711.3"
             },
             {
              "type": "ror",
              "value": "https://ror.org/02gfc7t72"
             }
            ],
            "name": "Spanish National Research Council"
           }
          ],
          "collective_name": null,
          "first_name": "Martin",
          "initials": "M",
          "last_name": "Hirsch"
         },
         {
          "affiliations": [
           {
            "addresses": [
             {
              "country_code": "ES"
             }
            ],
            "ids": [
             {
              "type": "magid",
              "value": "134820265"
             },
             {
              "type": "grid",
              "value": "grid.4711.3"
             },
             {
              "type": "ror",
              "value": "https://ror.org/02gfc7t72"
             }
            ],
            "name": "Spanish National Research Council"
           }
          ],
          "collective_name": null,
          "first_name": "José W. F.",
          "initials": "JWF",
          "last_name": "Valle"
         }
        ],
        "chemicals": [],
        "date_published": {
         "date": "2012-10-01T00:00:00+00:00"
        },
        "end_page": null,
        "fields_of_study": [
         {
          "name": "Neutrino oscillation"
         },
         {
          "name": "Particle physics"
         },
         {
          "name": "Physics"
         },
         {
          "name": "Lightest Supersymmetric Particle"
         },
         {
          "name": "Neutrino"
         },
         {
          "name": "Bilinear interpolation"
         },
         {
          "name": "R-parity"
         },
         {
          "name": "Neutralino"
         },
         {
          "name": "Supergravity"
         },
         {
          "name": "Large Hadron Collider"
         }
        ],
        "funding": [],
        "issue": "7",
        "keywords": [],
        "lens_id": "079-263-421-378-564",
        "mesh_terms": [],
        "patent_citations_count": 0,
        "publication_type": "journal article",
        "references": [
         {
          "lens_id": "002-244-143-196-746"
         },
         {
          "lens_id": "003-205-747-487-872"
         },
         {
          "lens_id": "003-843-890-381-612"
         },
         {
          "lens_id": "005-838-410-013-391"
         },
         {
          "lens_id": "005-904-164-081-358"
         },
         {
          "lens_id": "006-729-357-192-258"
         },
         {
          "lens_id": "006-768-323-137-711"
         },
         {
          "lens_id": "008-067-806-341-363"
         },
         {
          "lens_id": "008-403-072-428-215"
         },
         {
          "lens_id": "009-880-163-662-03X"
         },
         {
          "lens_id": "009-988-330-659-765"
         },
         {
          "lens_id": "013-259-596-310-83X"
         },
         {
          "lens_id": "013-401-116-737-629"
         },
         {
          "lens_id": "015-497-630-418-411"
         },
         {
          "lens_id": "016-773-516-771-152"
         },
         {
          "lens_id": "021-429-797-622-054"
         },
         {
          "lens_id": "021-436-465-519-101"
         },
         {
          "lens_id": "030-073-338-637-785"
         },
         {
          "lens_id": "030-301-610-624-302"
         },
         {
          "lens_id": "034-418-179-500-023"
         },
         {
          "lens_id": "036-544-094-674-091"
         },
         {
          "lens_id": "038-819-753-332-187"
         },
         {
          "lens_id": "042-951-839-004-435"
         },
         {
          "lens_id": "044-131-244-331-030"
         },
         {
          "lens_id": "047-263-785-897-356"
         },
         {
          "lens_id": "047-910-642-672-641"
         },
         {
          "lens_id": "048-278-888-201-145"
         },
         {
          "lens_id": "052-352-688-780-389"
         },
         {
          "lens_id": "054-042-624-901-822"
         },
         {
          "lens_id": "057-183-908-592-708"
         },
         {
          "lens_id": "058-401-579-276-649"
         },
         {
          "lens_id": "063-591-240-851-393"
         },
         {
          "lens_id": "063-631-767-620-747"
         },
         {
          "lens_id": "068-783-531-748-204"
         },
         {
          "lens_id": "071-265-343-524-009"
         },
         {
          "lens_id": "072-244-060-262-081"
         },
         {
          "lens_id": "074-697-051-909-423"
         },
         {
          "lens_id": "083-575-090-646-639"
         },
         {
          "lens_id": "096-777-508-677-297"
         },
         {
          "lens_id": "107-198-224-645-665"
         },
         {
          "lens_id": "111-265-129-821-538"
         },
         {
          "lens_id": "112-265-959-822-579"
         },
         {
          "lens_id": "117-228-978-928-765"
         },
         {
          "lens_id": "119-315-171-186-746"
         },
         {
          "lens_id": "120-505-548-046-851"
         },
         {
          "lens_id": "127-524-557-065-489"
         },
         {
          "lens_id": "166-165-271-235-238"
         },
         {
          "lens_id": "172-687-903-817-478"
         }
        ],
        "scholarly_citations_count": 14,
        "source": {
         "country": "United States",
         "issn": [
          {
           "type": "print",
           "value": "15507998"
          },
          {
           "type": "electronic",
           "value": "15502368"
          }
         ],
         "publisher": "American Physical Society (APS)",
         "title_full": "Physical Review D"
        },
        "source_urls": [
         {
          "type": "unknown",
          "url": "https://repositorio.unesp.br/handle/11449/42465"
         },
         {
          "type": "html",
          "url": "https://link.aps.org/doi/10.1103/PhysRevD.86.075001"
         },
         {
          "type": "pdf",
          "url": "http://www.ictp-saifr.org/silafae/files/tu/Tu8.pdf"
         },
         {
          "type": "html",
          "url": "http://repositorio.unesp.br/handle/11449/42465"
         },
         {
          "type": "pdf",
          "url": "https://arxiv.org/pdf/1206.3605"
         },
         {
          "type": "pdf",
          "url": "http://bibliotecadigital.udea.edu.co/bitstream/10495/9800/1/RestrepoDiego_2012_ProbingNeutralinoProperties.pdf"
         },
         {
          "type": "html",
          "url": "https://bibliotecadigital.udea.edu.co/handle/10495/9800"
         },
         {
          "type": "html",
          "url": "http://ui.adsabs.harvard.edu/abs/2012PhRvD..86g5001D/abstract"
         },
         {
          "type": "html",
          "url": "https://arxiv.org/abs/1206.3605"
         },
         {
          "type": "core_fulltext",
          "url": "https://core.ac.uk/download/71028240.pdf"
         }
        ],
        "start_page": "075001",
        "title": "Probing neutralino properties in minimal supergravity with bilinear R-parity violation",
        "volume": "86",
        "year_published": 2012
       },
       {
        "abstract": null,
        "authors": [
         {
          "affiliations": [
           {
            "addresses": [
             {
              "country_code": "CO"
             }
            ],
            "ids": [
             {
              "type": "magid",
              "value": "35961687"
             },
             {
              "type": "grid",
              "value": "grid.412881.6"
             },
             {
              "type": "ror",
              "value": "https://ror.org/03bp5hc83"
             }
            ],
            "name": "University of Antioquia"
           }
          ],
          "collective_name": null,
          "first_name": "Gabriel Jaime Vélez",
          "initials": "GJV",
          "last_name": "Cuartas"
         },
         {
          "affiliations": [
           {
            "addresses": [
             {
              "country_code": "CO"
             }
            ],
            "ids": [
             {
              "type": "magid",
              "value": "35961687"
             },
             {
              "type": "grid",
              "value": "grid.412881.6"
             },
             {
              "type": "ror",
              "value": "https://ror.org/03bp5hc83"
             }
            ],
            "name": "University of Antioquia"
           }
          ],
          "collective_name": null,
          "first_name": "Diego",
          "initials": "D",
          "last_name": "Restrepo"
         },
         {
          "affiliations": [
           {
            "addresses": [
             {
              "country_code": "CO"
             }
            ],
            "ids": [
             {
              "type": "magid",
              "value": "35961687"
             },
             {
              "type": "grid",
              "value": "grid.412881.6"
             },
             {
              "type": "ror",
              "value": "https://ror.org/03bp5hc83"
             }
            ],
            "name": "University of Antioquia"
           }
          ],
          "collective_name": null,
          "first_name": "Alejandro",
          "initials": "A",
          "last_name": "Uribe-Tirado"
         },
         {
          "affiliations": [
           {
            "addresses": [
             {
              "country_code": "CO"
             }
            ],
            "ids": [
             {
              "type": "magid",
              "value": "35961687"
             },
             {
              "type": "grid",
              "value": "grid.412881.6"
             },
             {
              "type": "ror",
              "value": "https://ror.org/03bp5hc83"
             }
            ],
            "name": "University of Antioquia"
           }
          ],
          "collective_name": null,
          "first_name": "Jaider",
          "initials": "J",
          "last_name": "Ochoa-Gutiérrez"
         },
         {
          "affiliations": [
           {
            "addresses": [
             {
              "country_code": "ES"
             }
            ],
            "ids": [
             {
              "type": "magid",
              "value": "184999862"
             },
             {
              "type": "grid",
              "value": "grid.11762.33"
             },
             {
              "type": "ror",
              "value": "https://ror.org/02f40zc51"
             }
            ],
            "name": "University of Salamanca"
           },
           {
            "addresses": [
             {
              "country_code": "CO"
             }
            ],
            "ids": [
             {
              "type": "magid",
              "value": "35961687"
             },
             {
              "type": "grid",
              "value": "grid.412881.6"
             },
             {
              "type": "ror",
              "value": "https://ror.org/03bp5hc83"
             }
            ],
            "name": "University of Antioquia"
           }
          ],
          "collective_name": null,
          "first_name": "César O.",
          "initials": "CO",
          "last_name": "Pallares"
         },
         {
          "affiliations": [
           {
            "addresses": [
             {
              "country_code": "CO"
             }
            ],
            "ids": [
             {
              "type": "magid",
              "value": "35961687"
             },
             {
              "type": "grid",
              "value": "grid.412881.6"
             },
             {
              "type": "ror",
              "value": "https://ror.org/03bp5hc83"
             }
            ],
            "name": "University of Antioquia"
           }
          ],
          "collective_name": null,
          "first_name": "Huber",
          "initials": "H",
          "last_name": "Gómez"
         },
         {
          "affiliations": [
           {
            "addresses": [
             {
              "country_code": "CO"
             }
            ],
            "ids": [
             {
              "type": "magid",
              "value": "35961687"
             },
             {
              "type": "grid",
              "value": "grid.412881.6"
             },
             {
              "type": "ror",
              "value": "https://ror.org/03bp5hc83"
             }
            ],
            "name": "University of Antioquia"
           }
          ],
          "collective_name": null,
          "first_name": "Marcela Alzate",
          "initials": "MA",
          "last_name": "Suárez"
         },
         {
          "affiliations": [
           {
            "addresses": [
             {
              "country_code": "CO"
             }
            ],
            "ids": [
             {
              "type": "magid",
              "value": "35961687"
             },
             {
              "type": "grid",
              "value": "grid.412881.6"
             },
             {
              "type": "ror",
              "value": "https://ror.org/03bp5hc83"
             }
            ],
            "name": "University of Antioquia"
           }
          ],
          "collective_name": null,
          "first_name": "María Coral",
          "initials": "MC",
          "last_name": "Correa"
         },
         {
          "affiliations": [],
          "collective_name": null,
          "first_name": "Luisa Fernanda Aguirre",
          "initials": "LFA",
          "last_name": "Vargas"
         },
         {
          "affiliations": [
           {
            "addresses": [
             {
              "country_code": "CO"
             }
            ],
            "ids": [
             {
              "type": "magid",
              "value": "35961687"
             },
             {
              "type": "grid",
              "value": "grid.412881.6"
             },
             {
              "type": "ror",
              "value": "https://ror.org/03bp5hc83"
             }
            ],
            "name": "University of Antioquia"
           }
          ],
          "collective_name": null,
          "first_name": "Julián",
          "initials": "J",
          "last_name": "Calle"
         },
         {
          "affiliations": [
           {
            "addresses": [
             {
              "country_code": "CO"
             }
            ],
            "ids": [
             {
              "type": "magid",
              "value": "35961687"
             },
             {
              "type": "grid",
              "value": "grid.412881.6"
             },
             {
              "type": "ror",
              "value": "https://ror.org/03bp5hc83"
             }
            ],
            "name": "University of Antioquia"
           }
          ],
          "collective_name": null,
          "first_name": "Ana María Osorio",
          "initials": "AMO",
          "last_name": "López"
         },
         {
          "affiliations": [
           {
            "addresses": [
             {
              "country_code": "CO"
             }
            ],
            "ids": [
             {
              "type": "magid",
              "value": "35961687"
             },
             {
              "type": "grid",
              "value": "grid.412881.6"
             },
             {
              "type": "ror",
              "value": "https://ror.org/03bp5hc83"
             }
            ],
            "name": "University of Antioquia"
           }
          ],
          "collective_name": null,
          "first_name": "Angie",
          "initials": "A",
          "last_name": "Alvarez"
         },
         {
          "affiliations": [],
          "collective_name": null,
          "first_name": "David Medina",
          "initials": "DM",
          "last_name": "Alfonso"
         },
         {
          "affiliations": [
           {
            "addresses": [
             {
              "country_code": "CO"
             }
            ],
            "ids": [
             {
              "type": "magid",
              "value": "36243813"
             },
             {
              "type": "grid",
              "value": "grid.10689.36"
             },
             {
              "type": "fundref",
              "value": "501100002753"
             },
             {
              "type": "wikidata",
              "value": "q1150419"
             },
             {
              "type": "ror",
              "value": "https://ror.org/059yx9a68"
             }
            ],
            "name": "National University of Colombia"
           }
          ],
          "collective_name": null,
          "first_name": "Jorge",
          "initials": "J",
          "last_name": "Robledo-Velásquez"
         }
        ],
        "chemicals": [],
        "date_published": {
         "date": null
        },
        "end_page": null,
        "fields_of_study": [
         {
          "name": "Sociology"
         },
         {
          "name": "Humanities"
         },
         {
          "name": "Social impact"
         }
        ],
        "funding": [],
        "issue": null,
        "keywords": [],
        "lens_id": "094-035-419-475-049",
        "mesh_terms": [],
        "patent_citations_count": 0,
        "publication_type": "journal article",
        "references": [],
        "scholarly_citations_count": 0,
        "source": {
         "country": null,
         "issn": [
          {
           "type": "electronic",
           "value": "15565068"
          }
         ],
         "publisher": "Elsevier BV",
         "title_full": "SSRN Electronic Journal"
        },
        "source_urls": [
         {
          "type": "html",
          "url": "https://papers.ssrn.com/sol3/papers.cfm?abstract_id=3481925"
         }
        ],
        "start_page": null,
        "title": "Métricas de Vinculación Universidad-Entorno: Universidad de Antioquia (Metrics for University Linkage with the Environment: Universidad De Antioquia)",
        "volume": null,
        "year_published": 2019
       },
       {
        "abstract": "We examine an extension of the Standard Model that addresses the dark matter puzzle and generates Dirac neutrino masses through the radiative seesaw mechanism. The new field content includes a scalar field that plays an important role in setting the relic abundance of dark matter. We analyze the phenomenology in the light of direct, indirect, and collider searches of dark matter. In this framework, the dark matter candidate is a Dirac particle that is a mixture of new singlet-doublet fields with mass ${m}_{{\\ensuremath{\\chi}}_{1}^{0}}\\ensuremath{\\lesssim}1.1\\text{ }\\text{ }\\mathrm{TeV}$. We find that the allowed parameter space of this model is broader than the well-known Majorana dark matter scenario.",
        "authors": [
         {
          "affiliations": [
           {
            "addresses": [
             {
              "country_code": "CO"
             }
            ],
            "ids": [
             {
              "type": "magid",
              "value": "35961687"
             },
             {
              "type": "grid",
              "value": "grid.412881.6"
             },
             {
              "type": "ror",
              "value": "https://ror.org/03bp5hc83"
             }
            ],
            "name": "University of Antioquia"
           }
          ],
          "collective_name": null,
          "first_name": "Diego",
          "initials": "D",
          "last_name": "Restrepo"
         },
         {
          "affiliations": [
           {
            "addresses": [
             {
              "country_code": "CO"
             }
            ],
            "ids": [
             {
              "type": "magid",
              "value": "35961687"
             },
             {
              "type": "grid",
              "value": "grid.412881.6"
             },
             {
              "type": "ror",
              "value": "https://ror.org/03bp5hc83"
             }
            ],
            "name": "University of Antioquia"
           }
          ],
          "collective_name": null,
          "first_name": "Andrés",
          "initials": "A",
          "last_name": "Rivera"
         },
         {
          "affiliations": [
           {
            "addresses": [
             {
              "country_code": "US"
             }
            ],
            "ids": [
             {
              "type": "magid",
              "value": "1925986"
             },
             {
              "type": "grid",
              "value": "grid.164971.c"
             },
             {
              "type": "fundref",
              "value": "100007656"
             },
             {
              "type": "ror",
              "value": "https://ror.org/04b6x2g63"
             }
            ],
            "name": "Loyola University Chicago"
           }
          ],
          "collective_name": null,
          "first_name": "Walter",
          "initials": "W",
          "last_name": "Tangarife"
         }
        ],
        "chemicals": [],
        "date_published": {
         "date": "2019-08-26T00:00:00+00:00"
        },
        "end_page": null,
        "fields_of_study": [
         {
          "name": "Particle physics"
         },
         {
          "name": "Scalar field"
         },
         {
          "name": "Physics"
         },
         {
          "name": "Dark matter"
         },
         {
          "name": "Neutrino"
         },
         {
          "name": "MAJORANA"
         },
         {
          "name": "Seesaw mechanism"
         },
         {
          "name": "Parameter space"
         },
         {
          "name": "Radiative transfer"
         },
         {
          "name": "Phenomenology (particle physics)"
         }
        ],
        "funding": [
         {
          "country": null,
          "funding_id": null,
          "org": "Departamento Administrativo de Ciencia, Tecnología e Innovación"
         },
         {
          "country": null,
          "funding_id": null,
          "org": "Loyola University Chicago"
         },
         {
          "country": null,
          "funding_id": null,
          "org": "Sostenibilidad-UdeA"
         }
        ],
        "issue": "3",
        "keywords": [],
        "lens_id": "094-408-620-045-971",
        "mesh_terms": [],
        "patent_citations_count": 0,
        "publication_type": "journal article",
        "references": [
         {
          "lens_id": "000-203-092-275-626"
         },
         {
          "lens_id": "000-714-799-357-523"
         },
         {
          "lens_id": "001-740-521-380-003"
         },
         {
          "lens_id": "002-171-670-217-516"
         },
         {
          "lens_id": "003-290-261-547-811"
         },
         {
          "lens_id": "004-766-632-851-036"
         },
         {
          "lens_id": "005-249-567-689-810"
         },
         {
          "lens_id": "008-385-643-817-016"
         },
         {
          "lens_id": "008-427-919-349-245"
         },
         {
          "lens_id": "009-887-515-684-980"
         },
         {
          "lens_id": "012-139-148-707-216"
         },
         {
          "lens_id": "012-830-589-738-559"
         },
         {
          "lens_id": "013-401-116-737-629"
         },
         {
          "lens_id": "014-881-799-088-083"
         },
         {
          "lens_id": "014-893-567-939-596"
         },
         {
          "lens_id": "015-101-395-873-575"
         },
         {
          "lens_id": "015-973-366-147-476"
         },
         {
          "lens_id": "021-855-534-719-868"
         },
         {
          "lens_id": "033-629-925-246-885"
         },
         {
          "lens_id": "035-588-386-538-84X"
         },
         {
          "lens_id": "036-851-240-465-854"
         },
         {
          "lens_id": "038-114-695-747-324"
         },
         {
          "lens_id": "038-981-250-917-605"
         },
         {
          "lens_id": "039-827-622-080-940"
         },
         {
          "lens_id": "040-003-630-739-294"
         },
         {
          "lens_id": "040-876-865-240-271"
         },
         {
          "lens_id": "041-284-705-493-517"
         },
         {
          "lens_id": "043-151-137-599-834"
         },
         {
          "lens_id": "044-773-721-558-655"
         },
         {
          "lens_id": "046-174-949-425-734"
         },
         {
          "lens_id": "051-617-257-239-755"
         },
         {
          "lens_id": "056-113-309-955-810"
         },
         {
          "lens_id": "056-366-479-890-12X"
         },
         {
          "lens_id": "059-867-942-981-90X"
         },
         {
          "lens_id": "061-816-718-814-156"
         },
         {
          "lens_id": "065-989-521-308-04X"
         },
         {
          "lens_id": "068-229-443-934-084"
         },
         {
          "lens_id": "068-587-433-450-262"
         },
         {
          "lens_id": "071-265-343-524-009"
         },
         {
          "lens_id": "072-769-367-944-660"
         },
         {
          "lens_id": "073-015-929-713-588"
         },
         {
          "lens_id": "074-238-890-887-322"
         },
         {
          "lens_id": "074-520-156-678-488"
         },
         {
          "lens_id": "074-666-465-246-314"
         },
         {
          "lens_id": "076-166-306-099-654"
         },
         {
          "lens_id": "078-371-210-015-626"
         },
         {
          "lens_id": "081-067-523-514-110"
         },
         {
          "lens_id": "081-245-615-595-850"
         },
         {
          "lens_id": "085-871-784-930-625"
         },
         {
          "lens_id": "086-382-673-887-192"
         },
         {
          "lens_id": "088-167-340-564-089"
         },
         {
          "lens_id": "091-894-905-055-054"
         },
         {
          "lens_id": "098-511-692-666-946"
         },
         {
          "lens_id": "099-956-239-582-654"
         },
         {
          "lens_id": "113-379-743-338-720"
         },
         {
          "lens_id": "121-618-914-417-753"
         },
         {
          "lens_id": "124-245-123-092-040"
         },
         {
          "lens_id": "126-568-918-153-897"
         },
         {
          "lens_id": "137-967-741-634-560"
         },
         {
          "lens_id": "138-288-349-846-94X"
         },
         {
          "lens_id": "145-564-289-696-696"
         },
         {
          "lens_id": "145-620-074-768-465"
         },
         {
          "lens_id": "160-059-384-393-200"
         }
        ],
        "scholarly_citations_count": 13,
        "source": {
         "country": "United States",
         "issn": [
          {
           "type": "print",
           "value": "24700010"
          },
          {
           "type": "electronic",
           "value": "24700029"
          }
         ],
         "publisher": "American Physical Society (APS)",
         "title_full": "Physical Review D"
        },
        "source_urls": [
         {
          "type": null,
          "url": "http://journals.aps.org/prd/abstract/10.1103/PhysRevD.100.035029"
         },
         {
          "type": "pdf",
          "url": "https://arxiv.org/pdf/1906.09685.pdf"
         },
         {
          "type": "html",
          "url": "https://link.aps.org/doi/10.1103/PhysRevD.100.035029"
         },
         {
          "type": "html",
          "url": "https://journals.aps.org/prd/abstract/10.1103/PhysRevD.100.035029"
         },
         {
          "type": "html",
          "url": "https://arxiv.org/abs/1906.09685"
         },
         {
          "type": "html",
          "url": "https://ecommons.luc.edu/physics_facpubs/52/"
         },
         {
          "type": "pdf",
          "url": "https://ecommons.luc.edu/cgi/viewcontent.cgi?article=1053&context=physics_facpubs"
         },
         {
          "type": "html",
          "url": "http://ui.adsabs.harvard.edu/abs/2019PhRvD.100c5029R/abstract"
         },
         {
          "type": "core_fulltext",
          "url": "http://arxiv.org/abs/1906.09685"
         }
        ],
        "start_page": "035029",
        "title": "Singlet-doublet Dirac dark matter and neutrino masses",
        "volume": "100",
        "year_published": 2019
       },
       {
        "abstract": "We perform a complete analysis of the consistency of the singlet-triplet scotogenic model, where both dark matter and neutrino masses can be explained. We determine the parameter space that yields the proper thermal relic density been in agreement with neutrino physics, lepton flavor violation, direct and indirect dark matter searches. In particular, we calculate the dark matter annihilation into two photons, finding that the corresponding cross-section is below the present bounds reported by the Fermi-LAT and H.E.S.S. collaborations. We also determine the spin-dependent cross-section for dark matter elastic scattering with nucleons at one-loop level, finding that the next generation of experiments as LZ and DARWIN could test a small region of the parameter space of the model.",
        "authors": [
         {
          "affiliations": [
           {
            "addresses": [
             {
              "country_code": "CO"
             }
            ],
            "ids": [
             {
              "type": "magid",
              "value": "35961687"
             },
             {
              "type": "grid",
              "value": "grid.412881.6"
             },
             {
              "type": "ror",
              "value": "https://ror.org/03bp5hc83"
             }
            ],
            "name": "University of Antioquia"
           }
          ],
          "collective_name": null,
          "first_name": "Diego",
          "initials": "D",
          "last_name": "Restrepo"
         },
         {
          "affiliations": [
           {
            "addresses": [
             {
              "country_code": "CO"
             }
            ],
            "ids": [
             {
              "type": "magid",
              "value": "35961687"
             },
             {
              "type": "grid",
              "value": "grid.412881.6"
             },
             {
              "type": "ror",
              "value": "https://ror.org/03bp5hc83"
             }
            ],
            "name": "University of Antioquia"
           }
          ],
          "collective_name": null,
          "first_name": "Andrés",
          "initials": "A",
          "last_name": "Rivera"
         }
        ],
        "chemicals": [],
        "date_published": {
         "date": "2020-04-21T00:00:00+00:00"
        },
        "end_page": "26",
        "fields_of_study": [
         {
          "name": "Particle physics"
         },
         {
          "name": "Physics"
         },
         {
          "name": "Dark matter"
         },
         {
          "name": "Photon"
         },
         {
          "name": "Nucleon"
         },
         {
          "name": "Lepton"
         },
         {
          "name": "Neutrino"
         },
         {
          "name": "Elastic scattering"
         },
         {
          "name": "Annihilation"
         },
         {
          "name": "Parameter space"
         }
        ],
        "funding": [],
        "issue": "4",
        "keywords": [],
        "lens_id": "097-020-762-516-28X",
        "mesh_terms": [],
        "patent_citations_count": 0,
        "publication_type": "journal article",
        "references": [
         {
          "lens_id": "000-714-799-357-523"
         },
         {
          "lens_id": "005-249-567-689-810"
         },
         {
          "lens_id": "005-764-526-871-145"
         },
         {
          "lens_id": "007-781-631-086-592"
         },
         {
          "lens_id": "008-322-544-136-196"
         },
         {
          "lens_id": "009-830-452-264-833"
         },
         {
          "lens_id": "011-013-630-697-482"
         },
         {
          "lens_id": "013-401-116-737-629"
         },
         {
          "lens_id": "013-993-352-400-106"
         },
         {
          "lens_id": "014-149-662-201-463"
         },
         {
          "lens_id": "014-528-245-484-052"
         },
         {
          "lens_id": "014-881-799-088-083"
         },
         {
          "lens_id": "015-578-083-244-014"
         },
         {
          "lens_id": "015-584-147-655-703"
         },
         {
          "lens_id": "016-065-652-256-545"
         },
         {
          "lens_id": "017-692-138-882-331"
         },
         {
          "lens_id": "018-072-143-346-284"
         },
         {
          "lens_id": "019-504-462-388-505"
         },
         {
          "lens_id": "024-491-646-673-723"
         },
         {
          "lens_id": "027-450-501-765-131"
         },
         {
          "lens_id": "033-629-925-246-885"
         },
         {
          "lens_id": "034-257-892-556-132"
         },
         {
          "lens_id": "035-588-386-538-84X"
         },
         {
          "lens_id": "036-851-240-465-854"
         },
         {
          "lens_id": "039-827-622-080-940"
         },
         {
          "lens_id": "040-003-630-739-294"
         },
         {
          "lens_id": "040-396-147-684-238"
         },
         {
          "lens_id": "040-959-709-016-255"
         },
         {
          "lens_id": "041-284-705-493-517"
         },
         {
          "lens_id": "045-989-616-762-776"
         },
         {
          "lens_id": "046-544-524-848-980"
         },
         {
          "lens_id": "049-785-371-633-239"
         },
         {
          "lens_id": "051-547-209-335-530"
         },
         {
          "lens_id": "051-617-257-239-755"
         },
         {
          "lens_id": "057-711-774-669-314"
         },
         {
          "lens_id": "065-989-521-308-04X"
         },
         {
          "lens_id": "066-422-200-637-327"
         },
         {
          "lens_id": "068-229-443-934-084"
         },
         {
          "lens_id": "071-265-343-524-009"
         },
         {
          "lens_id": "076-166-306-099-654"
         },
         {
          "lens_id": "078-047-780-286-335"
         },
         {
          "lens_id": "078-371-210-015-626"
         },
         {
          "lens_id": "081-067-523-514-110"
         },
         {
          "lens_id": "084-465-691-843-83X"
         },
         {
          "lens_id": "085-871-784-930-625"
         },
         {
          "lens_id": "086-382-673-887-192"
         },
         {
          "lens_id": "087-476-919-001-27X"
         },
         {
          "lens_id": "087-831-819-123-900"
         },
         {
          "lens_id": "088-167-340-564-089"
         },
         {
          "lens_id": "088-676-200-689-125"
         },
         {
          "lens_id": "090-034-008-446-606"
         },
         {
          "lens_id": "097-492-159-092-350"
         },
         {
          "lens_id": "098-511-692-666-946"
         },
         {
          "lens_id": "098-698-396-563-654"
         },
         {
          "lens_id": "099-956-239-582-654"
         },
         {
          "lens_id": "106-905-580-084-343"
         },
         {
          "lens_id": "110-535-275-843-576"
         },
         {
          "lens_id": "113-908-139-148-710"
         },
         {
          "lens_id": "114-068-668-253-089"
         },
         {
          "lens_id": "124-783-850-069-654"
         },
         {
          "lens_id": "125-861-956-431-356"
         },
         {
          "lens_id": "129-684-762-484-442"
         },
         {
          "lens_id": "131-822-745-011-867"
         },
         {
          "lens_id": "135-908-894-768-073"
         },
         {
          "lens_id": "145-232-530-346-609"
         },
         {
          "lens_id": "145-564-289-696-696"
         },
         {
          "lens_id": "145-620-074-768-465"
         },
         {
          "lens_id": "146-450-551-695-623"
         },
         {
          "lens_id": "160-059-384-393-200"
         },
         {
          "lens_id": "165-311-413-200-804"
         },
         {
          "lens_id": "190-192-372-753-046"
         }
        ],
        "scholarly_citations_count": 10,
        "source": {
         "country": "Germany",
         "issn": [
          {
           "type": "electronic",
           "value": "10298479"
          }
         ],
         "publisher": "Springer Science and Business Media LLC",
         "title_full": "Journal of High Energy Physics"
        },
        "source_urls": [
         {
          "type": "html",
          "url": "https://ui.adsabs.harvard.edu/abs/2020JHEP...04..134R/abstract"
         },
         {
          "type": null,
          "url": "https://link.springer.com/10.1007/JHEP04(2020)134"
         },
         {
          "type": "pdf",
          "url": "https://link.springer.com/content/pdf/10.1007/JHEP04(2020)134.pdf"
         },
         {
          "type": "html",
          "url": "https://link.springer.com/article/10.1007/JHEP04(2020)134"
         },
         {
          "type": "core_fulltext",
          "url": "http://arxiv.org/abs/1907.11938"
         }
        ],
        "start_page": "1",
        "title": "Phenomenological consistency of the singlet-triplet scotogenic model",
        "volume": "2020",
        "year_published": 2020
       },
       {
        "abstract": "We study the LHC sensitivity to a ${W}^{\\ensuremath{'}}$ produced via bottom and charm quarks and decaying to $\\ensuremath{\\tau}$ flavor leptons in the mass range 200--1000 GeV. We show that the extra $b$ quarks necessitated by the production mechanism can improve the background rejection compared to an inclusive analysis relying solely on $\\ensuremath{\\tau}$ tagging and ${E}_{T}^{\\mathrm{miss}}$. We present prospective limits on the couplings and compare them to the best fit to the $R({D}^{(*)})$ anomalies in $B$-meson decays.",
        "authors": [
         {
          "affiliations": [
           {
            "addresses": [
             {
              "country_code": "US"
             }
            ],
            "ids": [
             {
              "type": "magid",
              "value": "91045830"
             },
             {
              "type": "grid",
              "value": "grid.264756.4"
             },
             {
              "type": "fundref",
              "value": "100007904"
             },
             {
              "type": "ror",
              "value": "https://ror.org/01f5ytq51"
             }
            ],
            "name": "Texas A&M University"
           }
          ],
          "collective_name": null,
          "first_name": "Mohammad",
          "initials": "M",
          "last_name": "Abdullah"
         },
         {
          "affiliations": [
           {
            "addresses": [
             {
              "country_code": "CO"
             }
            ],
            "ids": [
             {
              "type": "magid",
              "value": "35961687"
             },
             {
              "type": "grid",
              "value": "grid.412881.6"
             },
             {
              "type": "ror",
              "value": "https://ror.org/03bp5hc83"
             }
            ],
            "name": "University of Antioquia"
           }
          ],
          "collective_name": null,
          "first_name": "Julián",
          "initials": "J",
          "last_name": "Calle"
         },
         {
          "affiliations": [
           {
            "addresses": [
             {
              "country_code": "US"
             }
            ],
            "ids": [
             {
              "type": "magid",
              "value": "91045830"
             },
             {
              "type": "grid",
              "value": "grid.264756.4"
             },
             {
              "type": "fundref",
              "value": "100007904"
             },
             {
              "type": "ror",
              "value": "https://ror.org/01f5ytq51"
             }
            ],
            "name": "Texas A&M University"
           }
          ],
          "collective_name": null,
          "first_name": "Bhaskar",
          "initials": "B",
          "last_name": "Dutta"
         },
         {
          "affiliations": [
           {
            "addresses": [
             {
              "country_code": "CO"
             }
            ],
            "ids": [
             {
              "type": "magid",
              "value": "162096671"
             },
             {
              "type": "grid",
              "value": "grid.7247.6"
             },
             {
              "type": "fundref",
              "value": "501100006070"
             },
             {
              "type": "ror",
              "value": "https://ror.org/02mhbdp94"
             }
            ],
            "name": "University of Los Andes"
           }
          ],
          "collective_name": null,
          "first_name": "Andrés",
          "initials": "A",
          "last_name": "Flórez"
         },
         {
          "affiliations": [
           {
            "addresses": [
             {
              "country_code": "CO"
             }
            ],
            "ids": [
             {
              "type": "magid",
              "value": "35961687"
             },
             {
              "type": "grid",
              "value": "grid.412881.6"
             },
             {
              "type": "ror",
              "value": "https://ror.org/03bp5hc83"
             }
            ],
            "name": "University of Antioquia"
           }
          ],
          "collective_name": null,
          "first_name": "Diego",
          "initials": "D",
          "last_name": "Restrepo"
         }
        ],
        "chemicals": [],
        "date_published": {
         "date": "2018-09-13T00:00:00+00:00"
        },
        "end_page": null,
        "fields_of_study": [
         {
          "name": "Particle physics"
         },
         {
          "name": "Physics"
         },
         {
          "name": "Lepton"
         },
         {
          "name": "Sensitivity (control systems)"
         },
         {
          "name": "Production (computer science)"
         },
         {
          "name": "Missing energy"
         },
         {
          "name": "Charm (quantum number)"
         },
         {
          "name": "Quark"
         },
         {
          "name": "Charm quark"
         },
         {
          "name": "Large Hadron Collider"
         }
        ],
        "funding": [
         {
          "country": null,
          "funding_id": null,
          "org": "U.S. Department of Energy"
         },
         {
          "country": null,
          "funding_id": null,
          "org": "Universidad de los Andes"
         },
         {
          "country": null,
          "funding_id": null,
          "org": "Departamento Administrativo de Ciencia, Tecnología e Innovación"
         }
        ],
        "issue": "5",
        "keywords": [],
        "lens_id": "098-181-428-790-009",
        "mesh_terms": [],
        "patent_citations_count": 0,
        "publication_type": "journal article",
        "references": [
         {
          "lens_id": "000-201-834-588-949"
         },
         {
          "lens_id": "000-561-205-784-524"
         },
         {
          "lens_id": "002-009-426-376-19X"
         },
         {
          "lens_id": "003-696-654-440-839"
         },
         {
          "lens_id": "004-027-089-090-749"
         },
         {
          "lens_id": "004-354-491-274-480"
         },
         {
          "lens_id": "007-946-226-046-725"
         },
         {
          "lens_id": "010-962-886-921-503"
         },
         {
          "lens_id": "012-548-980-369-670"
         },
         {
          "lens_id": "012-794-648-434-892"
         },
         {
          "lens_id": "012-991-078-138-508"
         },
         {
          "lens_id": "014-871-931-977-365"
         },
         {
          "lens_id": "017-633-297-867-593"
         },
         {
          "lens_id": "018-670-570-670-505"
         },
         {
          "lens_id": "019-417-786-214-581"
         },
         {
          "lens_id": "020-942-032-244-46X"
         },
         {
          "lens_id": "021-420-055-099-283"
         },
         {
          "lens_id": "021-979-877-423-887"
         },
         {
          "lens_id": "024-491-646-673-723"
         },
         {
          "lens_id": "026-755-052-411-696"
         },
         {
          "lens_id": "029-858-928-605-526"
         },
         {
          "lens_id": "030-945-890-662-832"
         },
         {
          "lens_id": "032-986-301-650-125"
         },
         {
          "lens_id": "033-155-473-329-089"
         },
         {
          "lens_id": "033-233-795-901-122"
         },
         {
          "lens_id": "033-444-002-661-326"
         },
         {
          "lens_id": "034-242-966-799-355"
         },
         {
          "lens_id": "035-340-600-447-131"
         },
         {
          "lens_id": "035-683-302-398-428"
         },
         {
          "lens_id": "036-535-766-954-308"
         },
         {
          "lens_id": "036-888-629-673-191"
         },
         {
          "lens_id": "037-606-395-283-008"
         },
         {
          "lens_id": "037-657-616-286-780"
         },
         {
          "lens_id": "040-059-985-666-795"
         },
         {
          "lens_id": "040-836-748-188-201"
         },
         {
          "lens_id": "044-845-588-132-97X"
         },
         {
          "lens_id": "045-476-810-634-440"
         },
         {
          "lens_id": "052-130-114-737-185"
         },
         {
          "lens_id": "054-428-781-466-432"
         },
         {
          "lens_id": "054-739-892-635-137"
         },
         {
          "lens_id": "057-173-665-223-510"
         },
         {
          "lens_id": "059-941-052-481-244"
         },
         {
          "lens_id": "060-987-742-113-333"
         },
         {
          "lens_id": "063-540-382-889-645"
         },
         {
          "lens_id": "064-562-612-815-46X"
         },
         {
          "lens_id": "066-646-793-651-003"
         },
         {
          "lens_id": "067-643-048-358-053"
         },
         {
          "lens_id": "067-982-514-074-522"
         },
         {
          "lens_id": "068-614-321-215-146"
         },
         {
          "lens_id": "069-147-473-682-33X"
         },
         {
          "lens_id": "071-181-610-779-498"
         },
         {
          "lens_id": "072-029-546-238-127"
         },
         {
          "lens_id": "076-058-566-182-958"
         },
         {
          "lens_id": "079-101-158-363-020"
         },
         {
          "lens_id": "079-533-928-610-120"
         },
         {
          "lens_id": "079-784-171-605-51X"
         },
         {
          "lens_id": "080-681-916-882-735"
         },
         {
          "lens_id": "080-870-405-051-30X"
         },
         {
          "lens_id": "082-762-397-836-581"
         },
         {
          "lens_id": "084-085-498-085-569"
         },
         {
          "lens_id": "088-059-745-747-23X"
         },
         {
          "lens_id": "088-150-939-459-516"
         },
         {
          "lens_id": "093-968-444-092-03X"
         },
         {
          "lens_id": "098-277-442-649-147"
         },
         {
          "lens_id": "102-172-957-955-946"
         },
         {
          "lens_id": "102-725-786-991-340"
         },
         {
          "lens_id": "104-127-255-276-201"
         },
         {
          "lens_id": "106-892-213-620-829"
         },
         {
          "lens_id": "107-218-028-901-284"
         },
         {
          "lens_id": "108-037-112-872-037"
         },
         {
          "lens_id": "109-675-261-227-130"
         },
         {
          "lens_id": "116-106-070-666-599"
         },
         {
          "lens_id": "119-689-241-665-58X"
         },
         {
          "lens_id": "121-134-007-962-60X"
         },
         {
          "lens_id": "128-395-237-759-869"
         },
         {
          "lens_id": "144-233-616-068-927"
         },
         {
          "lens_id": "145-073-282-337-555"
         },
         {
          "lens_id": "146-989-377-529-302"
         },
         {
          "lens_id": "151-746-557-622-787"
         },
         {
          "lens_id": "161-286-066-601-760"
         },
         {
          "lens_id": "170-353-847-699-573"
         }
        ],
        "scholarly_citations_count": 28,
        "source": {
         "country": "United States",
         "issn": [
          {
           "type": "print",
           "value": "24700010"
          },
          {
           "type": "electronic",
           "value": "24700029"
          }
         ],
         "publisher": "American Physical Society (APS)",
         "title_full": "Physical Review D"
        },
        "source_urls": [
         {
          "type": "html",
          "url": "https://arxiv.org/abs/1805.01869"
         },
         {
          "type": "pdf",
          "url": "https://arxiv.org/pdf/1805.01869.pdf"
         },
         {
          "type": "pdf",
          "url": "https://link.aps.org/pdf/10.1103/PhysRevD.98.055016"
         },
         {
          "type": "html",
          "url": "http://ui.adsabs.harvard.edu/abs/2018PhRvD..98e5016A/abstract"
         },
         {
          "type": "html",
          "url": "https://link.aps.org/doi/10.1103/PhysRevD.98.055016"
         },
         {
          "type": "html",
          "url": "https://journals.aps.org/prd/abstract/10.1103/PhysRevD.98.055016"
         },
         {
          "type": "core_fulltext",
          "url": "http://arxiv.org/abs/1805.01869"
         }
        ],
        "start_page": "055016",
        "title": "Probing a simplified W ′ model of R ( D ( * ) ) anomalies using b tags, τ leptons, and missing energy",
        "volume": "98",
        "year_published": 2018
       },
       {
        "abstract": "Abstract The observation of neutrino oscillations establishes that neutrinos have non-zero mass and provides one of the more compelling arguments for physics beyond the standard model (SM) of particle physics. We present a feasibility study to search for hypothetical Majorana neutrinos (N) with TeV scale masses, predicted by extensions of the SM to explain the small but non-zero SM neutrino mass, using vector boson fusion (VBF) processes at the 13 TeV LHC. In the context of the minimal Type-I seesaw mechanism (mTISM), the VBF production cross-section of a lepton (l) and associated heavy Majorana neutrino ( N l ) surpasses that of the Drell–Yan process at approximately m N l = 1.4 TeV . We consider second and third-generation heavy neutrino ( N μ or N τ , where l= muon (μ) or tau (τ) leptons) production through VBF processes, with subsequent N μ and N τ decays to a lepton and two jets, as benchmark cases to show the effectiveness of the VBF topology for N l searches at the 13 TeV LHC. The requirement of a dilepton pair combined with four jets, two of which are identified as VBF jets with large separation in pseudorapidity and a TeV scale dijet mass, is effective at reducing the SM background. These criteria may provide expected exclusion bounds, at 95% confidence level, of m N l 1.7 (2.4) TeV, assuming 100 (1000) fb − 1 of 13 TeV data from the LHC and mixing | V l N l | 2 = 1 . The use of the VBF topology to search for m N l increases the discovery reach at the LHC, with expected significances greater than 5σ (3σ) for N l masses up to 1.7 (2.05) TeV using 1000 fb − 1 of 13 TeV data from the LHC.",
        "authors": [
         {
          "affiliations": [
           {
            "addresses": [
             {
              "country_code": "CO"
             }
            ],
            "ids": [
             {
              "type": "magid",
              "value": "162096671"
             },
             {
              "type": "grid",
              "value": "grid.7247.6"
             },
             {
              "type": "fundref",
              "value": "501100006070"
             },
             {
              "type": "ror",
              "value": "https://ror.org/02mhbdp94"
             }
            ],
            "name": "University of Los Andes"
           }
          ],
          "collective_name": null,
          "first_name": "Andrés",
          "initials": "A",
          "last_name": "Flórez"
         },
         {
          "affiliations": [
           {
            "addresses": [
             {
              "country_code": "US"
             }
            ],
            "ids": [
             {
              "type": "magid",
              "value": "200719446"
             },
             {
              "type": "grid",
              "value": "grid.152326.1"
             },
             {
              "type": "fundref",
              "value": "100006537"
             },
             {
              "type": "ror",
              "value": "https://ror.org/02vm5rt34"
             }
            ],
            "name": "Vanderbilt University"
           }
          ],
          "collective_name": null,
          "first_name": "Kaiwen",
          "initials": "K",
          "last_name": "Gui"
         },
         {
          "affiliations": [
           {
            "addresses": [
             {
              "country_code": "US"
             }
            ],
            "ids": [
             {
              "type": "magid",
              "value": "200719446"
             },
             {
              "type": "grid",
              "value": "grid.152326.1"
             },
             {
              "type": "fundref",
              "value": "100006537"
             },
             {
              "type": "ror",
              "value": "https://ror.org/02vm5rt34"
             }
            ],
            "name": "Vanderbilt University"
           }
          ],
          "collective_name": null,
          "first_name": "Alfredo",
          "initials": "A",
          "last_name": "Gurrola"
         },
         {
          "affiliations": [
           {
            "addresses": [
             {
              "country_code": "CO"
             }
            ],
            "ids": [
             {
              "type": "magid",
              "value": "162096671"
             },
             {
              "type": "grid",
              "value": "grid.7247.6"
             },
             {
              "type": "fundref",
              "value": "501100006070"
             },
             {
              "type": "ror",
              "value": "https://ror.org/02mhbdp94"
             }
            ],
            "name": "University of Los Andes"
           }
          ],
          "collective_name": null,
          "first_name": "Carlos",
          "initials": "C",
          "last_name": "Patiño"
         },
         {
          "affiliations": [
           {
            "addresses": [
             {
              "country_code": "CO"
             }
            ],
            "ids": [
             {
              "type": "magid",
              "value": "35961687"
             },
             {
              "type": "grid",
              "value": "grid.412881.6"
             },
             {
              "type": "ror",
              "value": "https://ror.org/03bp5hc83"
             }
            ],
            "name": "University of Antioquia"
           }
          ],
          "collective_name": null,
          "first_name": "Diego",
          "initials": "D",
          "last_name": "Restrepo"
         }
        ],
        "chemicals": [],
        "date_published": {
         "date": null
        },
        "end_page": "100",
        "fields_of_study": [
         {
          "name": "Neutrino oscillation"
         },
         {
          "name": "Particle physics"
         },
         {
          "name": "Physics"
         },
         {
          "name": "Lepton"
         },
         {
          "name": "Physics beyond the Standard Model"
         },
         {
          "name": "Nuclear physics"
         },
         {
          "name": "Neutrino"
         },
         {
          "name": "Muon"
         },
         {
          "name": "Drell–Yan process"
         },
         {
          "name": "Seesaw mechanism"
         },
         {
          "name": "Large Hadron Collider"
         }
        ],
        "funding": [
         {
          "country": null,
          "funding_id": null,
          "org": "Universidad de los Andes"
         },
         {
          "country": null,
          "funding_id": null,
          "org": "Universidad de Antioquia"
         },
         {
          "country": null,
          "funding_id": null,
          "org": "Administrative Department of Science, Technology and Innovation of Colombia"
         },
         {
          "country": null,
          "funding_id": null,
          "org": "Vanderbilt University"
         },
         {
          "country": null,
          "funding_id": null,
          "org": "US National Science Foundation"
         },
         {
          "country": null,
          "funding_id": null,
          "org": "NSF"
         }
        ],
        "issue": null,
        "keywords": [],
        "lens_id": "098-987-006-649-171",
        "mesh_terms": [],
        "patent_citations_count": 0,
        "publication_type": "journal article",
        "references": [
         {
          "lens_id": "007-230-345-675-125"
         },
         {
          "lens_id": "008-168-398-421-083"
         },
         {
          "lens_id": "009-078-265-530-013"
         },
         {
          "lens_id": "018-670-570-670-505"
         },
         {
          "lens_id": "019-258-182-288-576"
         },
         {
          "lens_id": "020-882-763-057-527"
         },
         {
          "lens_id": "024-232-376-403-769"
         },
         {
          "lens_id": "024-491-646-673-723"
         },
         {
          "lens_id": "025-225-739-419-26X"
         },
         {
          "lens_id": "026-764-090-826-870"
         },
         {
          "lens_id": "028-159-180-754-951"
         },
         {
          "lens_id": "032-773-974-508-191"
         },
         {
          "lens_id": "033-780-604-706-811"
         },
         {
          "lens_id": "039-795-989-432-46X"
         },
         {
          "lens_id": "040-397-334-444-349"
         },
         {
          "lens_id": "041-435-766-214-206"
         },
         {
          "lens_id": "043-313-271-239-871"
         },
         {
          "lens_id": "047-210-236-633-770"
         },
         {
          "lens_id": "072-029-546-238-127"
         },
         {
          "lens_id": "072-379-922-214-12X"
         },
         {
          "lens_id": "075-297-742-471-911"
         },
         {
          "lens_id": "075-824-147-563-83X"
         },
         {
          "lens_id": "081-941-526-571-645"
         },
         {
          "lens_id": "089-310-418-119-897"
         },
         {
          "lens_id": "091-535-186-948-109"
         },
         {
          "lens_id": "097-775-587-884-485"
         },
         {
          "lens_id": "098-005-629-066-911"
         },
         {
          "lens_id": "105-103-639-526-177"
         },
         {
          "lens_id": "120-678-247-569-785"
         },
         {
          "lens_id": "121-963-503-450-310"
         },
         {
          "lens_id": "124-377-846-867-166"
         },
         {
          "lens_id": "132-457-807-647-451"
         },
         {
          "lens_id": "166-782-833-552-109"
         }
        ],
        "scholarly_citations_count": 14,
        "source": {
         "country": "Netherlands",
         "issn": [
          {
           "type": "print",
           "value": "03702693"
          }
         ],
         "publisher": "Elsevier BV",
         "title_full": "Physics Letters B"
        },
        "source_urls": [
         {
          "type": "html",
          "url": "http://ui.adsabs.harvard.edu/abs/2018PhLB..778...94F/abstract"
         },
         {
          "type": "pdf",
          "url": "https://arxiv.org/pdf/1708.03007"
         },
         {
          "type": "unknown",
          "url": "https://www.sciencedirect.com/science/article/abs/pii/S0370269318300169"
         },
         {
          "type": "html",
          "url": "https://core.ac.uk/display/153665016"
         },
         {
          "type": "html",
          "url": "https://www.sciencedirect.com/science/article/pii/S0370269318300169"
         },
         {
          "type": "html",
          "url": "https://www.arxiv-vanity.com/papers/1708.03007/"
         },
         {
          "type": "html",
          "url": "https://arxiv.org/abs/1708.03007"
         }
        ],
        "start_page": "94",
        "title": "Expanding the Reach of Heavy Neutrino Searches at the LHC",
        "volume": "778",
        "year_published": 2018
       },
       {
        "abstract": "INTRODUCTION: Solar [1], atmospheric [2], and reactor [3] neutrino experiments\r\nhave demonstrated that neutrinos have mass and\r\nnonzero mixing angles among the different generations.\r\nOn the other hand, observations of the cosmic microwave\r\nbackground, primordial abundances of light elements, and\r\nlarge scale structure formation have firmly established that\r\nmost of the mass of the Universe consists of dark matter\r\n(DM) [4]. These experimental results are at present the\r\nmost important evidences for physics beyond the standard\r\nmodel.\r\nThere are several ways in which neutrino masses can be\r\ngenerated. Certainly the best-known mechanism to generate\r\nsmall Majorana neutrino masses is the seesaw [5].\r\nHowever, a large variety of models exists in which lepton\r\nnumber is broken near or at the electroweak scale.\r\nExamples are supersymmetric models with explicit or\r\nspontaneous breaking of R parity [6,7], models with\r\nHiggs triplets [8], pure radiative models at one-loop [9]\r\nor at two-loop [10] order, and models in which neutrino\r\nmasses are induced by leptoquark interactions [11].",
        "authors": [
         {
          "affiliations": [
           {
            "addresses": [],
            "ids": [],
            "name": "INFN, Laboratori Nazionali di Frascati, C.P. 13, I00044 Frascati, Italy"
           }
          ],
          "collective_name": null,
          "first_name": "D. Aristizabal",
          "initials": "DA",
          "last_name": "Sierra"
         },
         {
          "affiliations": [
           {
            "addresses": [
             {
              "country_code": "JP"
             }
            ],
            "ids": [
             {
              "type": "magid",
              "value": "10091056"
             },
             {
              "type": "grid",
              "value": "grid.9707.9"
             },
             {
              "type": "ror",
              "value": "https://ror.org/02hwp6a56"
             }
            ],
            "name": "Kanazawa University"
           }
          ],
          "collective_name": null,
          "first_name": "Jisuke",
          "initials": "J",
          "last_name": "Kubo"
         },
         {
          "affiliations": [
           {
            "addresses": [
             {
              "country_code": "JP"
             }
            ],
            "ids": [
             {
              "type": "magid",
              "value": "10091056"
             },
             {
              "type": "grid",
              "value": "grid.9707.9"
             },
             {
              "type": "ror",
              "value": "https://ror.org/02hwp6a56"
             }
            ],
            "name": "Kanazawa University"
           }
          ],
          "collective_name": null,
          "first_name": "Daijiro",
          "initials": "D",
          "last_name": "Suematsu"
         },
         {
          "affiliations": [
           {
            "addresses": [
             {
              "country_code": "CO"
             }
            ],
            "ids": [
             {
              "type": "magid",
              "value": "35961687"
             },
             {
              "type": "grid",
              "value": "grid.412881.6"
             },
             {
              "type": "ror",
              "value": "https://ror.org/03bp5hc83"
             }
            ],
            "name": "University of Antioquia"
           }
          ],
          "collective_name": null,
          "first_name": "Diego",
          "initials": "D",
          "last_name": "Restrepo"
         },
         {
          "affiliations": [
           {
            "addresses": [
             {
              "country_code": "CO"
             }
            ],
            "ids": [
             {
              "type": "magid",
              "value": "35961687"
             },
             {
              "type": "grid",
              "value": "grid.412881.6"
             },
             {
              "type": "ror",
              "value": "https://ror.org/03bp5hc83"
             }
            ],
            "name": "University of Antioquia"
           }
          ],
          "collective_name": null,
          "first_name": "Óscar",
          "initials": "Ó",
          "last_name": "Zapata"
         }
        ],
        "chemicals": [],
        "date_published": {
         "date": "2009-01-28T00:00:00+00:00"
        },
        "end_page": null,
        "fields_of_study": [
         {
          "name": "Sterile neutrino"
         },
         {
          "name": "Lepton number"
         },
         {
          "name": "Particle physics"
         },
         {
          "name": "Warm dark matter"
         },
         {
          "name": "Physics"
         },
         {
          "name": "Dark matter"
         },
         {
          "name": "Lepton"
         },
         {
          "name": "Physics beyond the Standard Model"
         },
         {
          "name": "Nuclear physics"
         },
         {
          "name": "Neutrino"
         },
         {
          "name": "R-parity"
         }
        ],
        "funding": [],
        "issue": "1",
        "keywords": [],
        "lens_id": "109-644-704-159-527",
        "mesh_terms": [],
        "patent_citations_count": 0,
        "publication_type": "journal article",
        "references": [
         {
          "lens_id": "000-090-787-660-274"
         },
         {
          "lens_id": "002-244-143-196-746"
         },
         {
          "lens_id": "002-575-606-835-695"
         },
         {
          "lens_id": "002-775-455-050-757"
         },
         {
          "lens_id": "003-422-093-829-714"
         },
         {
          "lens_id": "004-272-793-521-740"
         },
         {
          "lens_id": "005-904-164-081-358"
         },
         {
          "lens_id": "006-768-323-137-711"
         },
         {
          "lens_id": "007-101-358-346-75X"
         },
         {
          "lens_id": "007-230-345-675-125"
         },
         {
          "lens_id": "008-077-025-309-466"
         },
         {
          "lens_id": "008-403-072-428-215"
         },
         {
          "lens_id": "009-699-922-256-264"
         },
         {
          "lens_id": "011-470-021-258-496"
         },
         {
          "lens_id": "012-287-154-149-26X"
         },
         {
          "lens_id": "012-623-029-421-017"
         },
         {
          "lens_id": "013-010-274-263-387"
         },
         {
          "lens_id": "015-040-689-014-892"
         },
         {
          "lens_id": "022-489-772-921-788"
         },
         {
          "lens_id": "024-892-336-344-665"
         },
         {
          "lens_id": "025-193-039-973-303"
         },
         {
          "lens_id": "025-225-739-419-26X"
         },
         {
          "lens_id": "026-513-675-017-765"
         },
         {
          "lens_id": "028-159-180-754-951"
         },
         {
          "lens_id": "029-642-572-650-066"
         },
         {
          "lens_id": "030-155-115-162-646"
         },
         {
          "lens_id": "031-253-463-638-693"
         },
         {
          "lens_id": "032-623-365-480-871"
         },
         {
          "lens_id": "033-937-074-685-269"
         },
         {
          "lens_id": "038-819-753-332-187"
         },
         {
          "lens_id": "041-660-664-318-793"
         },
         {
          "lens_id": "044-748-343-467-419"
         },
         {
          "lens_id": "053-716-585-841-864"
         },
         {
          "lens_id": "057-117-383-313-44X"
         },
         {
          "lens_id": "059-923-739-329-071"
         },
         {
          "lens_id": "061-566-591-508-880"
         },
         {
          "lens_id": "062-136-490-861-964"
         },
         {
          "lens_id": "062-526-121-396-087"
         },
         {
          "lens_id": "064-011-660-540-666"
         },
         {
          "lens_id": "064-812-984-147-174"
         },
         {
          "lens_id": "065-989-521-308-04X"
         },
         {
          "lens_id": "066-583-142-999-609"
         },
         {
          "lens_id": "068-115-828-518-318"
         },
         {
          "lens_id": "071-091-866-739-677"
         },
         {
          "lens_id": "073-666-446-118-871"
         },
         {
          "lens_id": "075-064-918-781-255"
         },
         {
          "lens_id": "076-702-363-358-92X"
         },
         {
          "lens_id": "076-737-890-080-747"
         },
         {
          "lens_id": "091-672-362-890-905"
         },
         {
          "lens_id": "093-780-518-339-943"
         },
         {
          "lens_id": "094-971-209-672-003"
         },
         {
          "lens_id": "097-492-159-092-350"
         },
         {
          "lens_id": "097-775-587-884-485"
         },
         {
          "lens_id": "103-854-047-085-712"
         },
         {
          "lens_id": "104-768-884-830-412"
         },
         {
          "lens_id": "117-360-052-413-467"
         },
         {
          "lens_id": "117-565-310-797-328"
         },
         {
          "lens_id": "125-995-698-066-395"
         },
         {
          "lens_id": "130-619-931-138-634"
         },
         {
          "lens_id": "134-372-069-458-543"
         },
         {
          "lens_id": "134-961-040-033-424"
         },
         {
          "lens_id": "149-086-166-629-84X"
         },
         {
          "lens_id": "154-072-253-451-203"
         },
         {
          "lens_id": "172-687-903-817-478"
         }
        ],
        "scholarly_citations_count": 110,
        "source": {
         "country": "United States",
         "issn": [
          {
           "type": "print",
           "value": "15507998"
          },
          {
           "type": "electronic",
           "value": "15502368"
          }
         ],
         "publisher": "American Physical Society (APS)",
         "title_full": "Physical Review D"
        },
        "source_urls": [
         {
          "type": "html",
          "url": "https://link.aps.org/doi/10.1103/PhysRevD.79.013011"
         },
         {
          "type": "pdf",
          "url": "https://bibliotecadigital.udea.edu.co/bitstream/10495/8371/1/RestrepoDiego_2009_RadiativeSeesawModel.pdf"
         },
         {
          "type": "pdf",
          "url": "https://arxiv.org/pdf/0808.3340.pdf"
         },
         {
          "type": "html",
          "url": "http://inspirehep.net/record/793723"
         },
         {
          "type": "html",
          "url": "http://orbi.ulg.ac.be/bitstream/2268/161587/1/radiative-seesaw-pheno.pdf"
         },
         {
          "type": "html",
          "url": "https://www.academia.edu/7599506/Radiative_seesaw_model_Warm_dark_matter_collider_signatures_and_lepton_flavor_violating_signals"
         },
         {
          "type": "html",
          "url": "https://orbi.uliege.be/handle/2268/161587"
         },
         {
          "type": "html",
          "url": "https://bibliotecadigital.udea.edu.co/handle/10495/8371"
         },
         {
          "type": "html",
          "url": "https://arxiv.org/abs/0808.3340"
         },
         {
          "type": "html",
          "url": "https://ui.adsabs.harvard.edu/abs/2009PhRvD..79a3011A/abstract"
         }
        ],
        "start_page": "013011",
        "title": "Radiative seesaw model : warm dark matter, collider signatures, and lepton flavor violating signals",
        "volume": "79",
        "year_published": 2009
       },
       {
        "abstract": "We analyze the production of multileptons in the simplest supergravity model with bilinear violation of R parity at the Fermilab Tevatron. Despite the small R-parity violating couplings needed to generate the neutrino masses indicated by current atmospheric neutrino data, the lightest supersymmetric particle is unstable and can decay inside the detector. This leads to a phenomenology quite distinct from that of the R-parity conserving scenario. We quantify by how much the supersymmetric multilepton signals differ from the R-parity conserving expectations, displaying our results in the $m_0 \\otimes m_{1/2}$ plane. We show that the presence of bilinear R-parity violating interactions enhances the supersymmetric multilepton signals over most of the parameter space, specially at moderate and large $m_0$.",
        "authors": [
         {
          "affiliations": [
           {
            "addresses": [
             {
              "country_code": "BR"
             }
            ],
            "ids": [
             {
              "type": "magid",
              "value": "17974374"
             },
             {
              "type": "grid",
              "value": "grid.11899.38"
             },
             {
              "type": "fundref",
              "value": "501100005639"
             },
             {
              "type": "wikidata",
              "value": "q835960"
             },
             {
              "type": "ror",
              "value": "https://ror.org/036rp1748"
             }
            ],
            "name": "University of São Paulo"
           }
          ],
          "collective_name": null,
          "first_name": "M. B.",
          "initials": "MB",
          "last_name": "Magro"
         },
         {
          "affiliations": [
           {
            "addresses": [
             {
              "country_code": "BR"
             }
            ],
            "ids": [
             {
              "type": "magid",
              "value": "879563668"
             },
             {
              "type": "grid",
              "value": "grid.410543.7"
             },
             {
              "type": "wikidata",
              "value": "q1817137"
             },
             {
              "type": "ror",
              "value": "https://ror.org/00987cb86"
             }
            ],
            "name": "Sao Paulo State University"
           }
          ],
          "collective_name": null,
          "first_name": "F.",
          "initials": "F",
          "last_name": "de Campos"
         },
         {
          "affiliations": [
           {
            "addresses": [
             {
              "country_code": "BR"
             }
            ],
            "ids": [
             {
              "type": "magid",
              "value": "17974374"
             },
             {
              "type": "grid",
              "value": "grid.11899.38"
             },
             {
              "type": "fundref",
              "value": "501100005639"
             },
             {
              "type": "wikidata",
              "value": "q835960"
             },
             {
              "type": "ror",
              "value": "https://ror.org/036rp1748"
             }
            ],
            "name": "University of São Paulo"
           }
          ],
          "collective_name": null,
          "first_name": "Ojp",
          "initials": "O",
          "last_name": "Eboli"
         },
         {
          "affiliations": [
           {
            "addresses": [
             {
              "country_code": "CH"
             }
            ],
            "ids": [
             {
              "type": "magid",
              "value": "202697423"
             },
             {
              "type": "grid",
              "value": "grid.7400.3"
             },
             {
              "type": "fundref",
              "value": "501100006447"
             },
             {
              "type": "ror",
              "value": "https://ror.org/02crff812"
             }
            ],
            "name": "University of Zurich"
           }
          ],
          "collective_name": null,
          "first_name": "Werner",
          "initials": "W",
          "last_name": "Porod"
         },
         {
          "affiliations": [
           {
            "addresses": [
             {
              "country_code": "CO"
             }
            ],
            "ids": [
             {
              "type": "magid",
              "value": "35961687"
             },
             {
              "type": "grid",
              "value": "grid.412881.6"
             },
             {
              "type": "ror",
              "value": "https://ror.org/03bp5hc83"
             }
            ],
            "name": "University of Antioquia"
           }
          ],
          "collective_name": null,
          "first_name": "Diego",
          "initials": "D",
          "last_name": "Restrepo"
         },
         {
          "affiliations": [
           {
            "addresses": [
             {
              "country_code": "ES"
             }
            ],
            "ids": [
             {
              "type": "magid",
              "value": "134820265"
             },
             {
              "type": "grid",
              "value": "grid.4711.3"
             },
             {
              "type": "ror",
              "value": "https://ror.org/02gfc7t72"
             }
            ],
            "name": "Spanish National Research Council"
           }
          ],
          "collective_name": null,
          "first_name": "José W. F.",
          "initials": "JWF",
          "last_name": "Valle"
         }
        ],
        "chemicals": [],
        "date_published": {
         "date": "2003-09-29T00:00:00+00:00"
        },
        "end_page": "071",
        "fields_of_study": [
         {
          "name": "Particle physics"
         },
         {
          "name": "Physics"
         },
         {
          "name": "Lightest Supersymmetric Particle"
         },
         {
          "name": "Neutrino"
         },
         {
          "name": "R-parity"
         },
         {
          "name": "Fermilab"
         },
         {
          "name": "Tevatron"
         },
         {
          "name": "Parameter space"
         },
         {
          "name": "Supergravity"
         },
         {
          "name": "Phenomenology (particle physics)"
         }
        ],
        "funding": [],
        "issue": "09",
        "keywords": [],
        "lens_id": "115-922-552-993-161",
        "mesh_terms": [],
        "patent_citations_count": 0,
        "publication_type": "journal article",
        "references": [
         {
          "lens_id": "001-258-885-486-09X"
         },
         {
          "lens_id": "003-205-747-487-872"
         },
         {
          "lens_id": "005-079-472-294-032"
         },
         {
          "lens_id": "006-729-357-192-258"
         },
         {
          "lens_id": "011-835-564-798-324"
         },
         {
          "lens_id": "012-821-028-606-682"
         },
         {
          "lens_id": "013-259-596-310-83X"
         },
         {
          "lens_id": "014-565-814-129-513"
         },
         {
          "lens_id": "015-797-849-593-905"
         },
         {
          "lens_id": "016-126-441-818-137"
         },
         {
          "lens_id": "016-688-385-933-142"
         },
         {
          "lens_id": "016-997-880-110-628"
         },
         {
          "lens_id": "017-697-858-986-49X"
         },
         {
          "lens_id": "017-772-720-442-921"
         },
         {
          "lens_id": "019-008-050-191-615"
         },
         {
          "lens_id": "019-515-226-965-781"
         },
         {
          "lens_id": "020-485-900-610-669"
         },
         {
          "lens_id": "021-858-749-459-366"
         },
         {
          "lens_id": "023-697-634-630-643"
         },
         {
          "lens_id": "024-323-835-978-865"
         },
         {
          "lens_id": "027-696-399-578-304"
         },
         {
          "lens_id": "028-468-803-440-879"
         },
         {
          "lens_id": "033-037-157-321-328"
         },
         {
          "lens_id": "034-334-618-027-496"
         },
         {
          "lens_id": "036-544-094-674-091"
         },
         {
          "lens_id": "038-819-753-332-187"
         },
         {
          "lens_id": "041-331-793-840-732"
         },
         {
          "lens_id": "042-302-297-134-939"
         },
         {
          "lens_id": "042-773-951-724-994"
         },
         {
          "lens_id": "047-263-785-897-356"
         },
         {
          "lens_id": "048-694-966-483-372"
         },
         {
          "lens_id": "051-512-456-367-329"
         },
         {
          "lens_id": "053-908-152-767-845"
         },
         {
          "lens_id": "054-042-624-901-822"
         },
         {
          "lens_id": "057-175-166-620-836"
         },
         {
          "lens_id": "062-739-037-344-873"
         },
         {
          "lens_id": "063-631-767-620-747"
         },
         {
          "lens_id": "063-962-348-491-035"
         },
         {
          "lens_id": "066-101-417-155-006"
         },
         {
          "lens_id": "068-783-531-748-204"
         },
         {
          "lens_id": "068-833-133-846-389"
         },
         {
          "lens_id": "069-857-747-985-685"
         },
         {
          "lens_id": "072-244-060-262-081"
         },
         {
          "lens_id": "072-421-501-928-358"
         },
         {
          "lens_id": "074-697-051-909-423"
         },
         {
          "lens_id": "075-590-957-317-084"
         },
         {
          "lens_id": "078-785-341-657-610"
         },
         {
          "lens_id": "080-038-415-029-338"
         },
         {
          "lens_id": "082-487-672-313-029"
         },
         {
          "lens_id": "082-830-868-359-585"
         },
         {
          "lens_id": "086-235-042-397-154"
         },
         {
          "lens_id": "087-529-028-356-508"
         },
         {
          "lens_id": "091-036-440-578-937"
         },
         {
          "lens_id": "096-777-508-677-297"
         },
         {
          "lens_id": "097-775-587-884-485"
         },
         {
          "lens_id": "100-253-624-213-997"
         },
         {
          "lens_id": "101-235-692-569-896"
         },
         {
          "lens_id": "104-514-226-608-916"
         },
         {
          "lens_id": "107-198-224-645-665"
         },
         {
          "lens_id": "110-842-157-296-137"
         },
         {
          "lens_id": "111-265-129-821-538"
         },
         {
          "lens_id": "117-713-719-183-593"
         },
         {
          "lens_id": "118-400-871-350-308"
         },
         {
          "lens_id": "119-255-405-141-144"
         },
         {
          "lens_id": "119-275-104-752-193"
         },
         {
          "lens_id": "126-839-242-690-722"
         },
         {
          "lens_id": "150-953-191-144-674"
         },
         {
          "lens_id": "150-964-608-717-145"
         },
         {
          "lens_id": "153-482-570-732-16X"
         },
         {
          "lens_id": "154-331-807-489-902"
         },
         {
          "lens_id": "162-401-296-175-311"
         },
         {
          "lens_id": "166-165-271-235-238"
         },
         {
          "lens_id": "167-415-985-955-531"
         }
        ],
        "scholarly_citations_count": 13,
        "source": {
         "country": "Germany",
         "issn": [
          {
           "type": "electronic",
           "value": "10298479"
          }
         ],
         "publisher": "Springer Science and Business Media LLC",
         "title_full": "Journal of High Energy Physics"
        },
        "source_urls": [
         {
          "type": "html",
          "url": "https://arxiv.org/abs/hep-ph/0304232"
         },
         {
          "type": "pdf",
          "url": "https://arxiv.org/pdf/hep-ph/0304232.pdf"
         },
         {
          "type": "core_fulltext",
          "url": "https://core.ac.uk/download/71047962.pdf"
         }
        ],
        "start_page": "071",
        "title": "Probing neutrino mass with multilepton production at the Tevatron in the simplest R-parity violation model",
        "volume": "2003",
        "year_published": 2003
       },
       {
        "abstract": "Bilinear $R$-parity violation provides an attractive origin for neutrino masses and mixings. In such schemes the gravitino is a viable decaying dark matter particle whose $R$-parity violating decays lead to monochromatic photons with rates accessible to astrophysical observations. We determine the parameter region allowed by gamma-ray line searches, dark matter relic abundance, and neutrino oscillation data, obtaining a limit on the gravitino mass ${m}_{\\stackrel{\\texttildelow{}}{G}}\\ensuremath{\\lesssim}1--10\\text{ }\\text{ }\\mathrm{GeV}$ corresponding to a relatively low reheat temperature ${T}_{R}\\ensuremath{\\lesssim}\\mathrm{\\text{few}}\\ifmmode\\times\\else\\texttimes\\fi{}{10}^{7}--{10}^{8}\\text{ }\\text{ }\\mathrm{GeV}$. Neutrino mass and mixing parameters may be reconstructed at accelerator experiments like the Large Hadron Collider.",
        "authors": [
         {
          "affiliations": [
           {
            "addresses": [
             {
              "country_code": "CO"
             }
            ],
            "ids": [
             {
              "type": "magid",
              "value": "35961687"
             },
             {
              "type": "grid",
              "value": "grid.412881.6"
             },
             {
              "type": "ror",
              "value": "https://ror.org/03bp5hc83"
             }
            ],
            "name": "University of Antioquia"
           }
          ],
          "collective_name": null,
          "first_name": "Diego",
          "initials": "D",
          "last_name": "Restrepo"
         },
         {
          "affiliations": [
           {
            "addresses": [
             {
              "country_code": "ES"
             }
            ],
            "ids": [
             {
              "type": "magid",
              "value": "16097986"
             },
             {
              "type": "grid",
              "value": "grid.5338.d"
             },
             {
              "type": "ror",
              "value": "https://ror.org/043nxc105"
             }
            ],
            "name": "University of Valencia"
           }
          ],
          "collective_name": null,
          "first_name": "Marco",
          "initials": "M",
          "last_name": "Taoso"
         },
         {
          "affiliations": [
           {
            "addresses": [
             {
              "country_code": "ES"
             }
            ],
            "ids": [
             {
              "type": "magid",
              "value": "16097986"
             },
             {
              "type": "grid",
              "value": "grid.5338.d"
             },
             {
              "type": "ror",
              "value": "https://ror.org/043nxc105"
             }
            ],
            "name": "University of Valencia"
           }
          ],
          "collective_name": null,
          "first_name": "José W. F.",
          "initials": "JWF",
          "last_name": "Valle"
         },
         {
          "affiliations": [
           {
            "addresses": [],
            "ids": [],
            "name": "Escuela de Ingeniería de Antioquia, A.A. 7516, Medellín, Colombia"
           }
          ],
          "collective_name": null,
          "first_name": "Óscar",
          "initials": "Ó",
          "last_name": "Zapata"
         }
        ],
        "chemicals": [],
        "date_published": {
         "date": "2012-01-23T00:00:00+00:00"
        },
        "end_page": null,
        "fields_of_study": [
         {
          "name": "Neutrino oscillation"
         },
         {
          "name": "Particle physics"
         },
         {
          "name": "Physics"
         },
         {
          "name": "Dark matter"
         },
         {
          "name": "Photon"
         },
         {
          "name": "Line (formation)"
         },
         {
          "name": "Nuclear physics"
         },
         {
          "name": "Neutrino"
         },
         {
          "name": "R-parity"
         },
         {
          "name": "Gravitino"
         },
         {
          "name": "Large Hadron Collider"
         }
        ],
        "funding": [],
        "issue": "2",
        "keywords": [],
        "lens_id": "119-315-171-186-746",
        "mesh_terms": [],
        "patent_citations_count": 0,
        "publication_type": "journal article",
        "references": [
         {
          "lens_id": "002-222-073-688-106"
         },
         {
          "lens_id": "003-785-287-760-164"
         },
         {
          "lens_id": "004-932-984-710-73X"
         },
         {
          "lens_id": "005-590-945-441-302"
         },
         {
          "lens_id": "005-904-164-081-358"
         },
         {
          "lens_id": "006-729-357-192-258"
         },
         {
          "lens_id": "006-768-323-137-711"
         },
         {
          "lens_id": "008-067-806-341-363"
         },
         {
          "lens_id": "008-403-072-428-215"
         },
         {
          "lens_id": "010-623-888-941-296"
         },
         {
          "lens_id": "011-483-485-625-736"
         },
         {
          "lens_id": "012-453-692-292-961"
         },
         {
          "lens_id": "013-259-596-310-83X"
         },
         {
          "lens_id": "015-497-630-418-411"
         },
         {
          "lens_id": "016-593-174-446-422"
         },
         {
          "lens_id": "019-121-986-224-714"
         },
         {
          "lens_id": "020-265-416-768-478"
         },
         {
          "lens_id": "021-436-465-519-101"
         },
         {
          "lens_id": "023-389-258-170-051"
         },
         {
          "lens_id": "023-543-932-311-980"
         },
         {
          "lens_id": "028-931-488-210-994"
         },
         {
          "lens_id": "030-193-330-194-162"
         },
         {
          "lens_id": "034-107-331-800-170"
         },
         {
          "lens_id": "034-910-045-512-701"
         },
         {
          "lens_id": "034-978-351-959-14X"
         },
         {
          "lens_id": "036-167-171-069-207"
         },
         {
          "lens_id": "036-584-893-234-750"
         },
         {
          "lens_id": "037-143-295-022-662"
         },
         {
          "lens_id": "037-604-617-501-957"
         },
         {
          "lens_id": "037-850-205-148-337"
         },
         {
          "lens_id": "038-819-753-332-187"
         },
         {
          "lens_id": "039-379-887-191-770"
         },
         {
          "lens_id": "041-851-187-701-651"
         },
         {
          "lens_id": "044-748-343-467-419"
         },
         {
          "lens_id": "045-268-144-621-069"
         },
         {
          "lens_id": "051-512-456-367-329"
         },
         {
          "lens_id": "052-352-688-780-389"
         },
         {
          "lens_id": "054-042-624-901-822"
         },
         {
          "lens_id": "058-475-832-568-867"
         },
         {
          "lens_id": "058-641-266-796-486"
         },
         {
          "lens_id": "062-368-837-990-478"
         },
         {
          "lens_id": "068-758-523-761-287"
         },
         {
          "lens_id": "069-917-951-191-331"
         },
         {
          "lens_id": "071-265-343-524-009"
         },
         {
          "lens_id": "073-674-636-399-336"
         },
         {
          "lens_id": "074-697-051-909-423"
         },
         {
          "lens_id": "082-588-875-435-15X"
         },
         {
          "lens_id": "085-643-008-582-977"
         },
         {
          "lens_id": "088-383-747-494-832"
         },
         {
          "lens_id": "090-398-864-138-03X"
         },
         {
          "lens_id": "090-662-724-620-609"
         },
         {
          "lens_id": "091-672-362-890-905"
         },
         {
          "lens_id": "096-777-508-677-297"
         },
         {
          "lens_id": "097-959-701-260-331"
         },
         {
          "lens_id": "106-579-416-831-713"
         },
         {
          "lens_id": "111-286-262-154-159"
         },
         {
          "lens_id": "111-766-622-117-494"
         },
         {
          "lens_id": "118-260-247-807-237"
         },
         {
          "lens_id": "118-368-858-703-79X"
         },
         {
          "lens_id": "119-667-323-187-027"
         },
         {
          "lens_id": "120-505-548-046-851"
         },
         {
          "lens_id": "138-809-685-433-467"
         },
         {
          "lens_id": "143-039-713-973-026"
         },
         {
          "lens_id": "143-225-315-440-055"
         },
         {
          "lens_id": "150-214-033-676-166"
         },
         {
          "lens_id": "155-751-629-523-49X"
         },
         {
          "lens_id": "172-687-903-817-478"
         }
        ],
        "scholarly_citations_count": 41,
        "source": {
         "country": "United States",
         "issn": [
          {
           "type": "print",
           "value": "15507998"
          },
          {
           "type": "electronic",
           "value": "15502368"
          }
         ],
         "publisher": "American Physical Society (APS)",
         "title_full": "Physical Review D"
        },
        "source_urls": [
         {
          "type": "pdf",
          "url": "https://arxiv.org/pdf/1109.0512.pdf"
         },
         {
          "type": "html",
          "url": "https://link.aps.org/doi/10.1103/PhysRevD.85.023523"
         },
         {
          "type": "html",
          "url": "https://arxiv.org/abs/1109.0512"
         },
         {
          "type": "pdf",
          "url": "http://bibliotecadigital.udea.edu.co/bitstream/10495/8364/1/RestrepoDiego_2012_GravitinoDarkMatter.pdf"
         },
         {
          "type": "html",
          "url": "http://bibliotecadigital.udea.edu.co/handle/10495/8364"
         },
         {
          "type": "html",
          "url": "https://128.84.21.199/abs/1109.0512"
         },
         {
          "type": "html",
          "url": "http://ui.adsabs.harvard.edu/abs/2012PhRvD..85b3523R/abstract"
         },
         {
          "type": "core_fulltext",
          "url": "https://core.ac.uk/download/71046988.pdf"
         }
        ],
        "start_page": "023523",
        "title": "Gravitino dark matter and neutrino masses with bilinear R-parity violation",
        "volume": "85",
        "year_published": 2012
       },
       {
        "abstract": "When the singlet-doublet fermion dark matter model is extended with additional ${Z}_{2}$-odd real singlet scalars, neutrino masses and mixings can be generated at the one-loop level. In this work, we discuss the salient features arising from the combination of the two resulting simplified dark matter models. When the lightest ${Z}_{2}$-odd particle is a scalar singlet, $\\mathrm{Br}(\\ensuremath{\\mu}\\ensuremath{\\rightarrow}e\\ensuremath{\\gamma})$ could be measurable provided that the singlet-doublet fermion mixing is small enough. In this scenario, the new decay channels of vector-like fermions into scalars can also generate interesting leptonic plus missing transverse energy signals at the LHC. On the other hand, in the case of doublet-like fermion dark matter, scalar coannihilations lead to an increase in the relic density which allows one to lower the bound of doublet-like fermion dark matter.",
        "authors": [
         {
          "affiliations": [
           {
            "addresses": [
             {
              "country_code": "CO"
             }
            ],
            "ids": [
             {
              "type": "magid",
              "value": "35961687"
             },
             {
              "type": "grid",
              "value": "grid.412881.6"
             },
             {
              "type": "ror",
              "value": "https://ror.org/03bp5hc83"
             }
            ],
            "name": "University of Antioquia"
           }
          ],
          "collective_name": null,
          "first_name": "Diego",
          "initials": "D",
          "last_name": "Restrepo"
         },
         {
          "affiliations": [
           {
            "addresses": [
             {
              "country_code": "CO"
             }
            ],
            "ids": [
             {
              "type": "magid",
              "value": "35961687"
             },
             {
              "type": "grid",
              "value": "grid.412881.6"
             },
             {
              "type": "ror",
              "value": "https://ror.org/03bp5hc83"
             }
            ],
            "name": "University of Antioquia"
           }
          ],
          "collective_name": null,
          "first_name": "Andrés",
          "initials": "A",
          "last_name": "Rivera"
         },
         {
          "affiliations": [
           {
            "addresses": [
             {
              "country_code": "CO"
             }
            ],
            "ids": [
             {
              "type": "magid",
              "value": "35961687"
             },
             {
              "type": "grid",
              "value": "grid.412881.6"
             },
             {
              "type": "ror",
              "value": "https://ror.org/03bp5hc83"
             }
            ],
            "name": "University of Antioquia"
           }
          ],
          "collective_name": null,
          "first_name": "Marta",
          "initials": "M",
          "last_name": "Sánchez-Peláez"
         },
         {
          "affiliations": [
           {
            "addresses": [
             {
              "country_code": "CO"
             }
            ],
            "ids": [
             {
              "type": "magid",
              "value": "35961687"
             },
             {
              "type": "grid",
              "value": "grid.412881.6"
             },
             {
              "type": "ror",
              "value": "https://ror.org/03bp5hc83"
             }
            ],
            "name": "University of Antioquia"
           }
          ],
          "collective_name": null,
          "first_name": "Óscar",
          "initials": "Ó",
          "last_name": "Zapata"
         },
         {
          "affiliations": [
           {
            "addresses": [
             {
              "country_code": "IL"
             }
            ],
            "ids": [
             {
              "type": "magid",
              "value": "16391192"
             },
             {
              "type": "grid",
              "value": "grid.12136.37"
             },
             {
              "type": "fundref",
              "value": "501100004375"
             },
             {
              "type": "wikidata",
              "value": "q319239"
             },
             {
              "type": "ror",
              "value": "https://ror.org/04mhzgx49"
             }
            ],
            "name": "Tel Aviv University"
           }
          ],
          "collective_name": null,
          "first_name": "Walter",
          "initials": "W",
          "last_name": "Tangarife"
         }
        ],
        "chemicals": [],
        "date_published": {
         "date": "2015-07-09T00:00:00+00:00"
        },
        "end_page": null,
        "fields_of_study": [
         {
          "name": "Particle physics"
         },
         {
          "name": "Physics"
         },
         {
          "name": "Dark matter"
         },
         {
          "name": "Physics beyond the Standard Model"
         },
         {
          "name": "Nuclear physics"
         },
         {
          "name": "Neutrino"
         },
         {
          "name": "Light dark matter"
         },
         {
          "name": "Singlet state"
         },
         {
          "name": "Fermion"
         },
         {
          "name": "Scalar (mathematics)"
         },
         {
          "name": "Scalar field dark matter"
         }
        ],
        "funding": [
         {
          "country": null,
          "funding_id": null,
          "org": "Departamento Administrativo de Ciencia, Tecnologia e Innovacion"
         },
         {
          "country": null,
          "funding_id": null,
          "org": "Departamento Administrativo de Ciencia, Tecnologia e Innovacion"
         },
         {
          "country": null,
          "funding_id": null,
          "org": "Israel Science Foundation"
         },
         {
          "country": null,
          "funding_id": null,
          "org": "United States-Israel Binational Science Foundation"
         }
        ],
        "issue": "1",
        "keywords": [],
        "lens_id": "124-245-123-092-040",
        "mesh_terms": [],
        "patent_citations_count": 0,
        "publication_type": "journal article",
        "references": [
         {
          "lens_id": "000-203-092-275-626"
         },
         {
          "lens_id": "000-873-284-160-965"
         },
         {
          "lens_id": "002-171-670-217-516"
         },
         {
          "lens_id": "002-704-739-446-35X"
         },
         {
          "lens_id": "003-485-139-902-189"
         },
         {
          "lens_id": "003-546-365-409-364"
         },
         {
          "lens_id": "008-322-544-136-196"
         },
         {
          "lens_id": "011-568-424-265-514"
         },
         {
          "lens_id": "012-830-589-738-559"
         },
         {
          "lens_id": "013-162-005-909-517"
         },
         {
          "lens_id": "013-401-116-737-629"
         },
         {
          "lens_id": "013-583-363-864-369"
         },
         {
          "lens_id": "013-993-352-400-106"
         },
         {
          "lens_id": "015-973-366-147-476"
         },
         {
          "lens_id": "016-065-652-256-545"
         },
         {
          "lens_id": "017-436-371-561-515"
         },
         {
          "lens_id": "019-547-177-349-830"
         },
         {
          "lens_id": "023-340-102-426-009"
         },
         {
          "lens_id": "030-958-475-590-627"
         },
         {
          "lens_id": "031-839-177-728-151"
         },
         {
          "lens_id": "034-696-824-255-789"
         },
         {
          "lens_id": "037-133-783-243-983"
         },
         {
          "lens_id": "040-396-147-684-238"
         },
         {
          "lens_id": "044-773-721-558-655"
         },
         {
          "lens_id": "046-544-524-848-980"
         },
         {
          "lens_id": "048-609-495-367-439"
         },
         {
          "lens_id": "049-009-026-523-088"
         },
         {
          "lens_id": "053-794-075-728-531"
         },
         {
          "lens_id": "056-366-479-890-12X"
         },
         {
          "lens_id": "060-146-111-826-349"
         },
         {
          "lens_id": "061-816-718-814-156"
         },
         {
          "lens_id": "065-989-521-308-04X"
         },
         {
          "lens_id": "068-587-433-450-262"
         },
         {
          "lens_id": "074-666-465-246-314"
         },
         {
          "lens_id": "080-842-893-165-884"
         },
         {
          "lens_id": "081-067-523-514-110"
         },
         {
          "lens_id": "084-657-391-917-661"
         },
         {
          "lens_id": "087-831-819-123-900"
         },
         {
          "lens_id": "097-492-159-092-350"
         },
         {
          "lens_id": "098-511-692-666-946"
         },
         {
          "lens_id": "101-247-381-387-647"
         },
         {
          "lens_id": "113-379-743-338-720"
         },
         {
          "lens_id": "113-908-139-148-710"
         },
         {
          "lens_id": "122-098-047-139-66X"
         },
         {
          "lens_id": "127-562-808-731-632"
         },
         {
          "lens_id": "129-684-762-484-442"
         },
         {
          "lens_id": "131-498-027-439-605"
         },
         {
          "lens_id": "136-793-956-698-541"
         },
         {
          "lens_id": "152-837-802-747-170"
         },
         {
          "lens_id": "153-352-872-045-220"
         },
         {
          "lens_id": "169-506-845-283-258"
         },
         {
          "lens_id": "177-486-778-375-973"
         }
        ],
        "scholarly_citations_count": 52,
        "source": {
         "country": "United States",
         "issn": [
          {
           "type": "print",
           "value": "15507998"
          },
          {
           "type": "electronic",
           "value": "15502368"
          }
         ],
         "publisher": "American Physical Society (APS)",
         "title_full": "Physical Review D"
        },
        "source_urls": [
         {
          "type": "pdf",
          "url": "http://bibliotecadigital.udea.edu.co/bitstream/10495/8298/1/RestrepoDiego_2015_RadiativeNeutrinoMasses.pdf"
         },
         {
          "type": "html",
          "url": "https://tesis.udea.edu.co/handle/10495/8298"
         },
         {
          "type": "html",
          "url": "https://ui.adsabs.harvard.edu/abs/2015PhRvD..92a3005R/abstract"
         },
         {
          "type": "pdf",
          "url": "https://arxiv.org/pdf/1504.07892.pdf"
         },
         {
          "type": "html",
          "url": "https://arxiv.org/abs/1504.07892"
         },
         {
          "type": "html",
          "url": "https://link.aps.org/doi/10.1103/PhysRevD.92.013005"
         },
         {
          "type": "html",
          "url": "https://bibliotecadigital.udea.edu.co/handle/10495/8298"
         },
         {
          "type": "html",
          "url": "https://www.arxiv-vanity.com/papers/1504.07892/"
         }
        ],
        "start_page": "013005",
        "title": "Radiative neutrino masses in the singlet-doublet fermion dark matter model with scalar singlets",
        "volume": "92",
        "year_published": 2015
       },
       {
        "abstract": "A discussion on the new metrics for the measurement of science and the direction that the system must take in terms of evaluation of scientific production is presented. The differentiation between some of the proposals presented to the European Commission and the AmeliCA developments is proposed. We observe the importance to recognize concepts that describe the development of science, not only from the visibility perspective, including those means derived from open science, but also the recovery of aspects such as the creation of communities, training, communicability, among other issues. The role of the metrics is highlighted especially as a tool for decision making and a form of accountability to society.",
        "authors": [
         {
          "affiliations": [
           {
            "addresses": [
             {
              "country_code": "CO"
             }
            ],
            "ids": [
             {
              "type": "magid",
              "value": "35961687"
             },
             {
              "type": "grid",
              "value": "grid.412881.6"
             },
             {
              "type": "ror",
              "value": "https://ror.org/03bp5hc83"
             }
            ],
            "name": "University of Antioquia"
           }
          ],
          "collective_name": null,
          "first_name": "Gabriel Jaime Vélez",
          "initials": "GJV",
          "last_name": "Cuartas"
         },
         {
          "affiliations": [
           {
            "addresses": [
             {
              "country_code": "CO"
             }
            ],
            "ids": [
             {
              "type": "magid",
              "value": "35961687"
             },
             {
              "type": "grid",
              "value": "grid.412881.6"
             },
             {
              "type": "ror",
              "value": "https://ror.org/03bp5hc83"
             }
            ],
            "name": "University of Antioquia"
           }
          ],
          "collective_name": null,
          "first_name": "Alejandro",
          "initials": "A",
          "last_name": "Uribe-Tirado"
         },
         {
          "affiliations": [
           {
            "addresses": [],
            "ids": [
             {
              "type": "magid",
              "value": "53241121"
             }
            ],
            "name": "Facultad de Ciencias Exactas y Naturales"
           }
          ],
          "collective_name": null,
          "first_name": "Diego",
          "initials": "D",
          "last_name": "Restrepo-Quintero"
         },
         {
          "affiliations": [
           {
            "addresses": [
             {
              "country_code": "CO"
             }
            ],
            "ids": [
             {
              "type": "magid",
              "value": "35961687"
             },
             {
              "type": "grid",
              "value": "grid.412881.6"
             },
             {
              "type": "ror",
              "value": "https://ror.org/03bp5hc83"
             }
            ],
            "name": "University of Antioquia"
           }
          ],
          "collective_name": null,
          "first_name": "Jaider",
          "initials": "J",
          "last_name": "Ochoa-Gutiérrez"
         },
         {
          "affiliations": [
           {
            "addresses": [
             {
              "country_code": "CO"
             }
            ],
            "ids": [
             {
              "type": "magid",
              "value": "35961687"
             },
             {
              "type": "grid",
              "value": "grid.412881.6"
             },
             {
              "type": "ror",
              "value": "https://ror.org/03bp5hc83"
             }
            ],
            "name": "University of Antioquia"
           }
          ],
          "collective_name": null,
          "first_name": "Cesar",
          "initials": "C",
          "last_name": "Pallares"
         },
         {
          "affiliations": [
           {
            "addresses": [
             {
              "country_code": "CO"
             }
            ],
            "ids": [
             {
              "type": "magid",
              "value": "35961687"
             },
             {
              "type": "grid",
              "value": "grid.412881.6"
             },
             {
              "type": "ror",
              "value": "https://ror.org/03bp5hc83"
             }
            ],
            "name": "University of Antioquia"
           }
          ],
          "collective_name": null,
          "first_name": "Huber Fernando",
          "initials": "HF",
          "last_name": "Gómez-Molina"
         },
         {
          "affiliations": [
           {
            "addresses": [
             {
              "country_code": "CO"
             }
            ],
            "ids": [
             {
              "type": "magid",
              "value": "35961687"
             },
             {
              "type": "grid",
              "value": "grid.412881.6"
             },
             {
              "type": "ror",
              "value": "https://ror.org/03bp5hc83"
             }
            ],
            "name": "University of Antioquia"
           }
          ],
          "collective_name": null,
          "first_name": "Marcela",
          "initials": "M",
          "last_name": "Suárez-Tamayo"
         },
         {
          "affiliations": [
           {
            "addresses": [],
            "ids": [
             {
              "type": "magid",
              "value": "53241121"
             }
            ],
            "name": "Facultad de Ciencias Exactas y Naturales"
           }
          ],
          "collective_name": null,
          "first_name": "Julián",
          "initials": "J",
          "last_name": "Calle"
         }
        ],
        "chemicals": [],
        "date_published": {
         "date": "2019-04-30T00:00:00+00:00"
        },
        "end_page": null,
        "fields_of_study": [
         {
          "name": "Political science"
         },
         {
          "name": "Global South"
         },
         {
          "name": "Accountability"
         },
         {
          "name": "Open science"
         },
         {
          "name": "Visibility (geometry)"
         },
         {
          "name": "Scientific production"
         },
         {
          "name": "European commission"
         },
         {
          "name": "Scientometrics"
         },
         {
          "name": "Welfare economics"
         }
        ],
        "funding": [],
        "issue": "2",
        "keywords": [],
        "lens_id": "128-960-999-644-952",
        "mesh_terms": [],
        "patent_citations_count": 0,
        "publication_type": "journal article",
        "references": [
         {
          "lens_id": "002-257-308-877-076"
         },
         {
          "lens_id": "006-592-287-616-873"
         },
         {
          "lens_id": "017-724-291-761-10X"
         },
         {
          "lens_id": "022-559-885-915-369"
         },
         {
          "lens_id": "044-123-784-174-590"
         },
         {
          "lens_id": "050-355-625-780-50X"
         },
         {
          "lens_id": "069-634-175-511-514"
         },
         {
          "lens_id": "070-171-702-651-736"
         },
         {
          "lens_id": "070-665-150-453-490"
         },
         {
          "lens_id": "071-509-414-614-019"
         },
         {
          "lens_id": "090-898-798-502-753"
         },
         {
          "lens_id": "094-568-608-170-967"
         },
         {
          "lens_id": "096-834-780-730-104"
         },
         {
          "lens_id": "097-080-805-610-351"
         },
         {
          "lens_id": "098-761-314-823-07X"
         },
         {
          "lens_id": "101-752-490-869-458"
         },
         {
          "lens_id": "103-905-058-312-770"
         },
         {
          "lens_id": "111-531-383-476-599"
         },
         {
          "lens_id": "124-754-355-268-178"
         },
         {
          "lens_id": "141-842-483-902-539"
         },
         {
          "lens_id": "152-858-495-864-977"
         },
         {
          "lens_id": "182-432-846-176-608"
         }
        ],
        "scholarly_citations_count": 2,
        "source": {
         "country": null,
         "issn": [
          {
           "type": "electronic",
           "value": "18539912"
          }
         ],
         "publisher": "Universidad Nacional de La Plata",
         "title_full": "Palabra Clave (La Plata)"
        },
        "source_urls": [
         {
          "type": "html",
          "url": "http://eprints.rclis.org/39341/"
         },
         {
          "type": "html",
          "url": "http://sedici.unlp.edu.ar/handle/10915/75130"
         },
         {
          "type": "html",
          "url": "https://bibliotecadigital.udea.edu.co/handle/10495/23554"
         },
         {
          "type": "pdf",
          "url": "https://www.palabraclave.fahce.unlp.edu.ar/article/download/PCe068/10595"
         },
         {
          "type": "html",
          "url": "https://doaj.org/article/7ac49a7433e34a3986e54e443b22db83"
         },
         {
          "type": "html",
          "url": "https://www.palabraclave.fahce.unlp.edu.ar/article/view/PCe068"
         },
         {
          "type": "pdf",
          "url": "http://www.scielo.org.ar/pdf/pacla/v8n2/1853-9912-pacla-8-02-11-12.pdf"
         },
         {
          "type": "html",
          "url": "https://dialnet.unirioja.es/servlet/articulo?codigo=6922630"
         },
         {
          "type": "html",
          "url": "https://www.redalyc.org/articulo.oa?id=350558917008"
         },
         {
          "type": "html",
          "url": "https://biblat.unam.mx/es/revista/palabra-clave-la-plata/articulo/hacia-un-modelo-de-medicion-de-la-ciencia-desde-el-sur-global-metricas-responsables"
         }
        ],
        "start_page": "6",
        "title": "Hacia un modelo de medición de la ciencia desde el Sur Global: métricas responsables",
        "volume": "8",
        "year_published": 2019
       },
       {
        "abstract": "We propose a simple scenario in which dark matter (DM) emerges as a stable neutral hadronic thermal relics, its stability following from an exact $\\operatorname{U}(1)_D$ symmetry. Neutrinos pick up radiatively induced Majorana masses from the exchange of colored DM constituents. There is a common origin for both dark matter and neutrino mass, with a lower bound for neutrinoless double beta decay. Direct DM searches at nuclear recoil experiments will test the proposal, which may also lead to other phenomenological signals at future hadron collider and lepton flavour violation experiments.",
        "authors": [
         {
          "affiliations": [
           {
            "addresses": [
             {
              "country_code": "ES"
             }
            ],
            "ids": [
             {
              "type": "magid",
              "value": "16097986"
             },
             {
              "type": "grid",
              "value": "grid.5338.d"
             },
             {
              "type": "ror",
              "value": "https://ror.org/043nxc105"
             }
            ],
            "name": "University of Valencia"
           }
          ],
          "collective_name": null,
          "first_name": "Mario",
          "initials": "M",
          "last_name": "Reig"
         },
         {
          "affiliations": [
           {
            "addresses": [
             {
              "country_code": "IT"
             }
            ],
            "ids": [
             {
              "type": "magid",
              "value": "12323705"
             },
             {
              "type": "grid",
              "value": "grid.419330.c"
             },
             {
              "type": "ror",
              "value": "https://ror.org/009gyvm78"
             }
            ],
            "name": "International Centre for Theoretical Physics"
           },
           {
            "addresses": [
             {
              "country_code": "CO"
             }
            ],
            "ids": [
             {
              "type": "magid",
              "value": "35961687"
             },
             {
              "type": "grid",
              "value": "grid.412881.6"
             },
             {
              "type": "ror",
              "value": "https://ror.org/03bp5hc83"
             }
            ],
            "name": "University of Antioquia"
           }
          ],
          "collective_name": null,
          "first_name": "Diego",
          "initials": "D",
          "last_name": "Restrepo"
         },
         {
          "affiliations": [
           {
            "addresses": [
             {
              "country_code": "ES"
             }
            ],
            "ids": [
             {
              "type": "magid",
              "value": "16097986"
             },
             {
              "type": "grid",
              "value": "grid.5338.d"
             },
             {
              "type": "ror",
              "value": "https://ror.org/043nxc105"
             }
            ],
            "name": "University of Valencia"
           }
          ],
          "collective_name": null,
          "first_name": "José W. F.",
          "initials": "JWF",
          "last_name": "Valle"
         },
         {
          "affiliations": [
           {
            "addresses": [
             {
              "country_code": "CO"
             }
            ],
            "ids": [
             {
              "type": "magid",
              "value": "35961687"
             },
             {
              "type": "grid",
              "value": "grid.412881.6"
             },
             {
              "type": "ror",
              "value": "https://ror.org/03bp5hc83"
             }
            ],
            "name": "University of Antioquia"
           }
          ],
          "collective_name": null,
          "first_name": "Óscar",
          "initials": "Ó",
          "last_name": "Zapata"
         }
        ],
        "chemicals": [],
        "date_published": {
         "date": "2018-06-23T00:00:00+00:00"
        },
        "end_page": null,
        "fields_of_study": [
         {
          "name": "Particle physics"
         },
         {
          "name": "Physics"
         },
         {
          "name": "Dark matter"
         },
         {
          "name": "Bound state"
         },
         {
          "name": "Lepton"
         },
         {
          "name": "Neutrino"
         },
         {
          "name": "Hadron"
         },
         {
          "name": "MAJORANA"
         },
         {
          "name": "Double beta decay"
         },
         {
          "name": "Large Hadron Collider"
         }
        ],
        "funding": [],
        "issue": null,
        "keywords": [],
        "lens_id": "131-470-788-540-922",
        "mesh_terms": [],
        "patent_citations_count": 0,
        "publication_type": null,
        "references": [
         {
          "lens_id": "003-294-311-473-514"
         },
         {
          "lens_id": "005-322-793-426-072"
         },
         {
          "lens_id": "008-894-407-170-711"
         },
         {
          "lens_id": "010-530-589-517-214"
         },
         {
          "lens_id": "012-156-272-156-153"
         },
         {
          "lens_id": "012-652-918-884-372"
         },
         {
          "lens_id": "024-441-177-583-294"
         },
         {
          "lens_id": "028-039-368-291-446"
         },
         {
          "lens_id": "028-400-815-033-743"
         },
         {
          "lens_id": "029-297-955-431-819"
         },
         {
          "lens_id": "031-160-596-530-51X"
         },
         {
          "lens_id": "035-588-386-538-84X"
         },
         {
          "lens_id": "040-282-359-963-639"
         },
         {
          "lens_id": "040-589-291-441-522"
         },
         {
          "lens_id": "042-000-821-236-760"
         },
         {
          "lens_id": "045-593-275-077-250"
         },
         {
          "lens_id": "050-141-298-667-505"
         },
         {
          "lens_id": "056-113-309-955-810"
         },
         {
          "lens_id": "062-250-210-633-860"
         },
         {
          "lens_id": "065-989-521-308-04X"
         },
         {
          "lens_id": "066-125-154-541-357"
         },
         {
          "lens_id": "066-139-538-341-52X"
         },
         {
          "lens_id": "067-874-448-633-956"
         },
         {
          "lens_id": "068-381-489-295-413"
         },
         {
          "lens_id": "073-990-450-536-798"
         },
         {
          "lens_id": "075-209-380-112-678"
         },
         {
          "lens_id": "077-567-659-751-146"
         },
         {
          "lens_id": "080-681-916-882-735"
         },
         {
          "lens_id": "083-378-886-099-455"
         },
         {
          "lens_id": "086-221-468-914-019"
         },
         {
          "lens_id": "088-167-340-564-089"
         },
         {
          "lens_id": "088-325-217-246-801"
         },
         {
          "lens_id": "099-956-239-582-654"
         },
         {
          "lens_id": "104-302-054-528-914"
         },
         {
          "lens_id": "127-365-734-634-246"
         },
         {
          "lens_id": "130-619-931-138-634"
         },
         {
          "lens_id": "133-456-848-606-762"
         },
         {
          "lens_id": "148-103-731-507-85X"
         }
        ],
        "scholarly_citations_count": 3,
        "source": {
         "country": null,
         "issn": [],
         "publisher": null,
         "title_full": "arXiv: High Energy Physics - Phenomenology"
        },
        "source_urls": [
         {
          "type": "html",
          "url": "https://arxiv.org/abs/1806.09977"
         }
        ],
        "start_page": null,
        "title": "Bound-state dark matter with Majorana neutrinos",
        "volume": null,
        "year_published": 2018
       },
       {
        "abstract": "The well-known leptonic U(1) symmetry of the standard model of quarks and leptons is extended to include a number of new fermions and scalars. The resulting theory has an invisible QCD axion (thereby solving the strong CP problem), a candidate for weak-scale dark matter, as well as radiative neutrino masses. A possible key connection is a color-triplet scalar, which may be produced and detected at the Large Hadron Collider.",
        "authors": [
         {
          "affiliations": [
           {
            "addresses": [
             {
              "country_code": "US"
             }
            ],
            "ids": [
             {
              "type": "magid",
              "value": "103635307"
             },
             {
              "type": "grid",
              "value": "grid.266097.c"
             },
             {
              "type": "fundref",
              "value": "100007602"
             },
             {
              "type": "ror",
              "value": "https://ror.org/03nawhv43"
             }
            ],
            "name": "University of California, Riverside"
           }
          ],
          "collective_name": null,
          "first_name": "Ernest",
          "initials": "E",
          "last_name": "Ma"
         },
         {
          "affiliations": [
           {
            "addresses": [
             {
              "country_code": "CO"
             }
            ],
            "ids": [
             {
              "type": "magid",
              "value": "35961687"
             },
             {
              "type": "grid",
              "value": "grid.412881.6"
             },
             {
              "type": "ror",
              "value": "https://ror.org/03bp5hc83"
             }
            ],
            "name": "University of Antioquia"
           }
          ],
          "collective_name": null,
          "first_name": "Diego",
          "initials": "D",
          "last_name": "Restrepo"
         },
         {
          "affiliations": [
           {
            "addresses": [
             {
              "country_code": "CO"
             }
            ],
            "ids": [
             {
              "type": "magid",
              "value": "35961687"
             },
             {
              "type": "grid",
              "value": "grid.412881.6"
             },
             {
              "type": "ror",
              "value": "https://ror.org/03bp5hc83"
             }
            ],
            "name": "University of Antioquia"
           }
          ],
          "collective_name": null,
          "first_name": "Óscar",
          "initials": "Ó",
          "last_name": "Zapata"
         }
        ],
        "chemicals": [],
        "date_published": {
         "date": "2018-01-29T00:00:00+00:00"
        },
        "end_page": null,
        "fields_of_study": [
         {
          "name": "Particle physics"
         },
         {
          "name": "Axion"
         },
         {
          "name": "Quantum chromodynamics"
         },
         {
          "name": "Physics"
         },
         {
          "name": "Strong CP problem"
         },
         {
          "name": "Dark matter"
         },
         {
          "name": "Lepton"
         },
         {
          "name": "Neutrino"
         },
         {
          "name": "Fermion"
         },
         {
          "name": "Quark"
         }
        ],
        "funding": [],
        "issue": "03",
        "keywords": [],
        "lens_id": "133-289-338-086-378",
        "mesh_terms": [],
        "patent_citations_count": 0,
        "publication_type": "journal article",
        "references": [
         {
          "lens_id": "000-134-805-432-016"
         },
         {
          "lens_id": "005-514-400-215-482"
         },
         {
          "lens_id": "017-436-371-561-515"
         },
         {
          "lens_id": "036-780-108-044-694"
         },
         {
          "lens_id": "041-254-749-339-661"
         },
         {
          "lens_id": "043-111-669-809-63X"
         },
         {
          "lens_id": "048-556-505-741-150"
         },
         {
          "lens_id": "048-609-495-367-439"
         },
         {
          "lens_id": "049-009-026-523-088"
         },
         {
          "lens_id": "056-366-479-890-12X"
         },
         {
          "lens_id": "065-989-521-308-04X"
         },
         {
          "lens_id": "066-890-948-080-327"
         },
         {
          "lens_id": "068-587-433-450-262"
         },
         {
          "lens_id": "074-666-465-246-314"
         },
         {
          "lens_id": "075-497-136-699-816"
         },
         {
          "lens_id": "080-502-834-196-014"
         },
         {
          "lens_id": "086-021-292-599-126"
         },
         {
          "lens_id": "090-354-333-561-221"
         },
         {
          "lens_id": "092-414-581-218-70X"
         },
         {
          "lens_id": "093-958-193-820-557"
         },
         {
          "lens_id": "099-280-609-438-880"
         },
         {
          "lens_id": "106-856-427-129-025"
         },
         {
          "lens_id": "112-705-926-010-60X"
         },
         {
          "lens_id": "122-098-047-139-66X"
         },
         {
          "lens_id": "124-245-123-092-040"
         },
         {
          "lens_id": "152-837-802-747-170"
         },
         {
          "lens_id": "152-932-497-810-510"
         }
        ],
        "scholarly_citations_count": 16,
        "source": {
         "country": "Singapore",
         "issn": [
          {
           "type": "print",
           "value": "02177323"
          },
          {
           "type": "electronic",
           "value": "17936632"
          }
         ],
         "publisher": "World Scientific Pub Co Pte Lt",
         "title_full": "Modern Physics Letters A"
        },
        "source_urls": [
         {
          "type": "html",
          "url": "https://arxiv.org/abs/1706.08240"
         },
         {
          "type": "pdf",
          "url": "https://arxiv.org/pdf/1706.08240.pdf"
         },
         {
          "type": "core_fulltext",
          "url": "http://arxiv.org/abs/1706.08240"
         }
        ],
        "start_page": "1850024",
        "title": "Anomalous leptonic U(1) symmetry: Syndetic origin of the QCD axion, weak-scale dark matter, and radiative neutrino mass",
        "volume": "33",
        "year_published": 2018
       },
       {
        "abstract": "We construct and analyze nonsupersymmetric SO(10) standard model extensions which explain dark matter (DM) through the fermionic Higgs portal. In these SO(10)-based models the DM particle is naturally stable since a ${Z}_{2}$ discrete symmetry, the matter parity, is left at the end of the symmetry breaking chain to the standard model. Potentially realistic models contain the $\\mathbf{10}$ and $\\mathbf{45}$ fermionic representations from which a neutralino-like mass matrix with arbitrary mixings can be obtained. Two different SO(10) breaking chains will be analyzed in light of gauge coupling unification: the standard path $\\mathrm{SU}(5)\\ifmmode\\times\\else\\texttimes\\fi{}U(1{)}_{X}$ and the left-right symmetry intermediate chain. The former opens the possibility of a split supersymmetric-like spectrum with an additional (inert) scalar doublet, while the later requires additional exotic scalar representations associated to the breaking of the left-right symmetry.",
        "authors": [
         {
          "affiliations": [
           {
            "addresses": [
             {
              "country_code": "CL"
             }
            ],
            "ids": [
             {
              "type": "magid",
              "value": "75778554"
             },
             {
              "type": "grid",
              "value": "grid.12148.3e"
             },
             {
              "type": "ror",
              "value": "https://ror.org/05510vn56"
             }
            ],
            "name": "Federico Santa María Technical University"
           }
          ],
          "collective_name": null,
          "first_name": "Carolina",
          "initials": "C",
          "last_name": "Arbeláez"
         },
         {
          "affiliations": [
           {
            "addresses": [
             {
              "country_code": "CO"
             }
            ],
            "ids": [
             {
              "type": "magid",
              "value": "35961687"
             },
             {
              "type": "grid",
              "value": "grid.412881.6"
             },
             {
              "type": "ror",
              "value": "https://ror.org/03bp5hc83"
             }
            ],
            "name": "University of Antioquia"
           }
          ],
          "collective_name": null,
          "first_name": "Robinson",
          "initials": "R",
          "last_name": "Longas"
         },
         {
          "affiliations": [
           {
            "addresses": [
             {
              "country_code": "CO"
             }
            ],
            "ids": [
             {
              "type": "magid",
              "value": "35961687"
             },
             {
              "type": "grid",
              "value": "grid.412881.6"
             },
             {
              "type": "ror",
              "value": "https://ror.org/03bp5hc83"
             }
            ],
            "name": "University of Antioquia"
           }
          ],
          "collective_name": null,
          "first_name": "Diego",
          "initials": "D",
          "last_name": "Restrepo"
         },
         {
          "affiliations": [
           {
            "addresses": [
             {
              "country_code": "CO"
             }
            ],
            "ids": [
             {
              "type": "magid",
              "value": "35961687"
             },
             {
              "type": "grid",
              "value": "grid.412881.6"
             },
             {
              "type": "ror",
              "value": "https://ror.org/03bp5hc83"
             }
            ],
            "name": "University of Antioquia"
           }
          ],
          "collective_name": null,
          "first_name": "Óscar",
          "initials": "Ó",
          "last_name": "Zapata"
         }
        ],
        "chemicals": [],
        "date_published": {
         "date": "2016-01-13T00:00:00+00:00"
        },
        "end_page": null,
        "fields_of_study": [
         {
          "name": "Particle physics"
         },
         {
          "name": "Physics"
         },
         {
          "name": "Spontaneous symmetry breaking"
         },
         {
          "name": "Mass matrix"
         },
         {
          "name": "Higgs boson"
         },
         {
          "name": "Symmetry breaking"
         },
         {
          "name": "Discrete symmetry"
         },
         {
          "name": "Parity (physics)"
         },
         {
          "name": "SO(10)"
         },
         {
          "name": "Fermion"
         }
        ],
        "funding": [
         {
          "country": null,
          "funding_id": null,
          "org": "Fondo Nacional de Desarrollo Científico y Tecnológico"
         },
         {
          "country": null,
          "funding_id": null,
          "org": "Universidad de Antioquia"
         },
         {
          "country": null,
          "funding_id": null,
          "org": "Universidad de Antioquia"
         },
         {
          "country": null,
          "funding_id": null,
          "org": "Departamento Administrativo de Ciencia, Tecnología e Innovación"
         },
         {
          "country": null,
          "funding_id": null,
          "org": "Departamento Administrativo de Ciencia, Tecnología e Innovación"
         }
        ],
        "issue": "1",
        "keywords": [],
        "lens_id": "135-096-565-650-591",
        "mesh_terms": [],
        "patent_citations_count": 0,
        "publication_type": "journal article",
        "references": [
         {
          "lens_id": "001-262-159-128-943"
         },
         {
          "lens_id": "002-171-670-217-516"
         },
         {
          "lens_id": "003-290-261-547-811"
         },
         {
          "lens_id": "006-040-638-848-647"
         },
         {
          "lens_id": "006-558-571-463-115"
         },
         {
          "lens_id": "008-202-015-380-023"
         },
         {
          "lens_id": "008-821-106-259-897"
         },
         {
          "lens_id": "012-830-589-738-559"
         },
         {
          "lens_id": "013-196-894-044-183"
         },
         {
          "lens_id": "016-930-865-811-593"
         },
         {
          "lens_id": "018-526-062-855-574"
         },
         {
          "lens_id": "018-849-483-267-267"
         },
         {
          "lens_id": "018-864-001-254-195"
         },
         {
          "lens_id": "019-297-321-152-268"
         },
         {
          "lens_id": "020-738-819-018-839"
         },
         {
          "lens_id": "021-388-173-784-241"
         },
         {
          "lens_id": "021-994-802-451-037"
         },
         {
          "lens_id": "024-441-177-583-294"
         },
         {
          "lens_id": "024-938-727-798-227"
         },
         {
          "lens_id": "025-511-597-329-089"
         },
         {
          "lens_id": "026-182-441-336-612"
         },
         {
          "lens_id": "027-338-364-448-999"
         },
         {
          "lens_id": "027-450-501-765-131"
         },
         {
          "lens_id": "029-625-742-476-343"
         },
         {
          "lens_id": "030-903-822-210-994"
         },
         {
          "lens_id": "034-127-158-293-651"
         },
         {
          "lens_id": "036-014-987-375-808"
         },
         {
          "lens_id": "038-051-728-431-428"
         },
         {
          "lens_id": "039-915-073-211-775"
         },
         {
          "lens_id": "040-396-147-684-238"
         },
         {
          "lens_id": "043-164-481-734-655"
         },
         {
          "lens_id": "044-773-721-558-655"
         },
         {
          "lens_id": "045-989-616-762-776"
         },
         {
          "lens_id": "048-196-995-992-051"
         },
         {
          "lens_id": "049-065-984-601-082"
         },
         {
          "lens_id": "049-785-371-633-239"
         },
         {
          "lens_id": "050-506-069-641-175"
         },
         {
          "lens_id": "052-071-674-491-315"
         },
         {
          "lens_id": "052-947-110-986-738"
         },
         {
          "lens_id": "053-329-448-549-859"
         },
         {
          "lens_id": "053-794-075-728-531"
         },
         {
          "lens_id": "054-522-069-183-659"
         },
         {
          "lens_id": "056-366-479-890-12X"
         },
         {
          "lens_id": "056-742-258-299-922"
         },
         {
          "lens_id": "057-360-942-904-693"
         },
         {
          "lens_id": "057-984-091-509-657"
         },
         {
          "lens_id": "059-042-525-433-113"
         },
         {
          "lens_id": "060-458-237-329-033"
         },
         {
          "lens_id": "060-851-022-827-503"
         },
         {
          "lens_id": "065-989-521-308-04X"
         },
         {
          "lens_id": "068-587-433-450-262"
         },
         {
          "lens_id": "074-666-465-246-314"
         },
         {
          "lens_id": "079-813-978-197-772"
         },
         {
          "lens_id": "084-844-997-185-972"
         },
         {
          "lens_id": "085-131-118-369-705"
         },
         {
          "lens_id": "089-389-618-874-023"
         },
         {
          "lens_id": "090-909-957-266-577"
         },
         {
          "lens_id": "095-944-591-465-656"
         },
         {
          "lens_id": "098-698-319-700-344"
         },
         {
          "lens_id": "102-413-230-434-626"
         },
         {
          "lens_id": "108-468-600-141-502"
         },
         {
          "lens_id": "108-522-135-045-420"
         },
         {
          "lens_id": "113-908-139-148-710"
         },
         {
          "lens_id": "123-126-920-890-557"
         },
         {
          "lens_id": "124-245-123-092-040"
         },
         {
          "lens_id": "126-639-502-681-747"
         },
         {
          "lens_id": "126-974-724-220-717"
         },
         {
          "lens_id": "150-664-421-618-492"
         },
         {
          "lens_id": "153-533-904-550-428"
         },
         {
          "lens_id": "155-292-040-921-292"
         },
         {
          "lens_id": "160-202-315-706-153"
         },
         {
          "lens_id": "166-818-980-250-444"
         },
         {
          "lens_id": "167-210-278-052-385"
         },
         {
          "lens_id": "168-968-795-252-25X"
         },
         {
          "lens_id": "169-442-351-831-998"
         }
        ],
        "scholarly_citations_count": 22,
        "source": {
         "country": "United States",
         "issn": [
          {
           "type": "print",
           "value": "24700010"
          },
          {
           "type": "electronic",
           "value": "24700029"
          }
         ],
         "publisher": "American Physical Society (APS)",
         "title_full": "Physical Review D"
        },
        "source_urls": [
         {
          "type": "pdf",
          "url": "https://arxiv.org/pdf/1509.06313.pdf"
         },
         {
          "type": "html",
          "url": "https://journals.aps.org/prd/abstract/10.1103/PhysRevD.93.013012"
         },
         {
          "type": "html",
          "url": "https://link.aps.org/doi/10.1103/PhysRevD.93.013012"
         },
         {
          "type": "html",
          "url": "https://ui.adsabs.harvard.edu/abs/2016PhRvD..93a3012A/abstract"
         },
         {
          "type": "html",
          "url": "https://arxiv.org/abs/1509.06313"
         },
         {
          "type": null,
          "url": "http://journals.aps.org/prd/abstract/10.1103/PhysRevD.93.013012"
         },
         {
          "type": "core_fulltext",
          "url": "http://arxiv.org/abs/1509.06313"
         }
        ],
        "start_page": "013012",
        "title": "Fermion dark matter from SO(10) GUTs",
        "volume": "93",
        "year_published": 2016
       },
       {
        "abstract": "By extending the Standard Model with three right-handed neutrinos (N{sub i}) and a second Higgs doublet (H{sub 2}), odd under a Z{sub 2} symmetry, it is possible to explain non-zero neutrino masses and to account for the dark matter. We consider the case where the dark matter is a scalar and study its coannihilations with the right-handed neutrinos. These coannihilations tend to increase, rather than reduce, the dark matter density and they modify in a significant way the viable parameter space of the model. In particular, they allow to satisfy the relic density constraint for dark matter masses well below 500 GeV. The dependence of the relic density on the relevant parameters of the model, such as the dark matter mass, the mass splitting, and the number of coannihilating fermions, is analyzed in detail. We also investigate, via a scan over the parameter space, the new viable regions that are obtained when coannihilations are taken into account. Notably, they feature large indirect detection rates, with (σv) reaching values of order 10{sup −24}cm{sup 3}s{sup −1}. Finally, we emphasize that coannihilation effects analogous to those discussed here can be used to reconcile a thermal freeze-out with a large (σv) also in othermore » models of dark matter.« less",
        "authors": [
         {
          "affiliations": [
           {
            "addresses": [
             {
              "country_code": "DE"
             }
            ],
            "ids": [
             {
              "type": "magid",
              "value": "22465464"
             },
             {
              "type": "grid",
              "value": "grid.5949.1"
             },
             {
              "type": "fundref",
              "value": "501100004869"
             },
             {
              "type": "ror",
              "value": "https://ror.org/00pd74e08"
             }
            ],
            "name": "University of Münster"
           }
          ],
          "collective_name": null,
          "first_name": "Michael",
          "initials": "M",
          "last_name": "Klasen"
         },
         {
          "affiliations": [
           {
            "addresses": [
             {
              "country_code": "DE"
             }
            ],
            "ids": [
             {
              "type": "magid",
              "value": "22465464"
             },
             {
              "type": "grid",
              "value": "grid.5949.1"
             },
             {
              "type": "fundref",
              "value": "501100004869"
             },
             {
              "type": "ror",
              "value": "https://ror.org/00pd74e08"
             }
            ],
            "name": "University of Münster"
           }
          ],
          "collective_name": null,
          "first_name": "Carlos E.",
          "initials": "CE",
          "last_name": "Yaguna"
         },
         {
          "affiliations": [
           {
            "addresses": [
             {
              "country_code": "CO"
             }
            ],
            "ids": [
             {
              "type": "magid",
              "value": "35961687"
             },
             {
              "type": "grid",
              "value": "grid.412881.6"
             },
             {
              "type": "ror",
              "value": "https://ror.org/03bp5hc83"
             }
            ],
            "name": "University of Antioquia"
           }
          ],
          "collective_name": null,
          "first_name": "José D.",
          "initials": "JD",
          "last_name": "Ruiz-Álvarez"
         },
         {
          "affiliations": [
           {
            "addresses": [
             {
              "country_code": "CO"
             }
            ],
            "ids": [
             {
              "type": "magid",
              "value": "35961687"
             },
             {
              "type": "grid",
              "value": "grid.412881.6"
             },
             {
              "type": "ror",
              "value": "https://ror.org/03bp5hc83"
             }
            ],
            "name": "University of Antioquia"
           }
          ],
          "collective_name": null,
          "first_name": "Diego",
          "initials": "D",
          "last_name": "Restrepo"
         },
         {
          "affiliations": [
           {
            "addresses": [
             {
              "country_code": "CO"
             }
            ],
            "ids": [
             {
              "type": "magid",
              "value": "35961687"
             },
             {
              "type": "grid",
              "value": "grid.412881.6"
             },
             {
              "type": "ror",
              "value": "https://ror.org/03bp5hc83"
             }
            ],
            "name": "University of Antioquia"
           }
          ],
          "collective_name": null,
          "first_name": "Óscar",
          "initials": "Ó",
          "last_name": "Zapata"
         }
        ],
        "chemicals": [],
        "date_published": {
         "date": "2013-04-29T00:00:00+00:00"
        },
        "end_page": "044",
        "fields_of_study": [
         {
          "name": "Particle physics"
         },
         {
          "name": "Warm dark matter"
         },
         {
          "name": "Physics"
         },
         {
          "name": "Dark matter"
         },
         {
          "name": "Neutrino"
         },
         {
          "name": "Light dark matter"
         },
         {
          "name": "Dark fluid"
         },
         {
          "name": "Standard Model"
         },
         {
          "name": "Fermion"
         },
         {
          "name": "Scalar field dark matter"
         },
         {
          "name": "Higgs boson"
         },
         {
          "name": "Seesaw molecular geometry"
         },
         {
          "name": "Scalar (mathematics)"
         },
         {
          "name": "Parameter space"
         }
        ],
        "funding": [],
        "issue": "04",
        "keywords": [],
        "lens_id": "136-793-956-698-541",
        "mesh_terms": [],
        "patent_citations_count": 0,
        "publication_type": "journal article",
        "references": [
         {
          "lens_id": "000-261-668-351-907"
         },
         {
          "lens_id": "002-146-103-859-315"
         },
         {
          "lens_id": "003-546-365-409-364"
         },
         {
          "lens_id": "005-249-567-689-810"
         },
         {
          "lens_id": "008-077-025-309-466"
         },
         {
          "lens_id": "008-465-113-171-756"
         },
         {
          "lens_id": "010-065-299-089-265"
         },
         {
          "lens_id": "011-568-424-265-514"
         },
         {
          "lens_id": "014-948-032-257-762"
         },
         {
          "lens_id": "019-767-726-982-933"
         },
         {
          "lens_id": "021-994-802-451-037"
         },
         {
          "lens_id": "022-719-931-631-181"
         },
         {
          "lens_id": "023-340-102-426-009"
         },
         {
          "lens_id": "026-548-911-699-535"
         },
         {
          "lens_id": "027-450-501-765-131"
         },
         {
          "lens_id": "028-159-180-754-951"
         },
         {
          "lens_id": "031-839-177-728-151"
         },
         {
          "lens_id": "033-352-163-106-077"
         },
         {
          "lens_id": "037-630-564-012-672"
         },
         {
          "lens_id": "040-396-147-684-238"
         },
         {
          "lens_id": "040-950-081-792-812"
         },
         {
          "lens_id": "043-634-135-830-947"
         },
         {
          "lens_id": "057-447-961-140-459"
         },
         {
          "lens_id": "060-236-184-404-031"
         },
         {
          "lens_id": "065-989-521-308-04X"
         },
         {
          "lens_id": "068-115-828-518-318"
         },
         {
          "lens_id": "081-553-194-760-970"
         },
         {
          "lens_id": "085-643-008-582-977"
         },
         {
          "lens_id": "090-661-884-658-644"
         },
         {
          "lens_id": "091-830-754-264-971"
         },
         {
          "lens_id": "092-582-523-506-79X"
         },
         {
          "lens_id": "097-775-587-884-485"
         },
         {
          "lens_id": "099-181-571-015-597"
         },
         {
          "lens_id": "101-247-381-387-647"
         },
         {
          "lens_id": "109-644-704-159-527"
         },
         {
          "lens_id": "114-506-444-333-319"
         },
         {
          "lens_id": "134-128-562-512-270"
         },
         {
          "lens_id": "134-671-399-438-385"
         }
        ],
        "scholarly_citations_count": 44,
        "source": {
         "country": "United Kingdom",
         "issn": [
          {
           "type": "electronic",
           "value": "14757516"
          }
         ],
         "publisher": "IOP Publishing",
         "title_full": "Journal of Cosmology and Astroparticle Physics"
        },
        "source_urls": [
         {
          "type": "pdf",
          "url": "http://iopscience.iop.org/article/10.1088/1475-7516/2013/04/044/pdf"
         },
         {
          "type": "html",
          "url": "https://ui.adsabs.harvard.edu/abs/2013JCAP...04..044K/abstract"
         },
         {
          "type": "core_fulltext",
          "url": "http://arxiv.org/abs/1302.5298"
         }
        ],
        "start_page": "044",
        "title": "Scalar dark matter and fermion coannihilations in the radiative seesaw model",
        "volume": "2013",
        "year_published": 2013
       },
       {
        "abstract": "We propose a simple theory for the idea that cosmological dark matter (DM) may be present today mainly in the form of stable neutral hadronic thermal relics. In our model, neutrino masses arise radiatively from the exchange of colored DM constituents, giving a common origin for both dark matter and neutrino mass. The exact conservation of $B\\ensuremath{-}L$ symmetry ensures dark matter stability and the Dirac nature of neutrinos. The theory can be falsified by dark matter nuclear recoil direct detection experiments, leading also to possible signals at a next generation hadron collider.",
        "authors": [
         {
          "affiliations": [
           {
            "addresses": [
             {
              "country_code": "ES"
             }
            ],
            "ids": [
             {
              "type": "magid",
              "value": "16097986"
             },
             {
              "type": "grid",
              "value": "grid.5338.d"
             },
             {
              "type": "ror",
              "value": "https://ror.org/043nxc105"
             }
            ],
            "name": "University of Valencia"
           }
          ],
          "collective_name": null,
          "first_name": "Mario",
          "initials": "M",
          "last_name": "Reig"
         },
         {
          "affiliations": [
           {
            "addresses": [
             {
              "country_code": "CO"
             }
            ],
            "ids": [
             {
              "type": "magid",
              "value": "35961687"
             },
             {
              "type": "grid",
              "value": "grid.412881.6"
             },
             {
              "type": "ror",
              "value": "https://ror.org/03bp5hc83"
             }
            ],
            "name": "University of Antioquia"
           }
          ],
          "collective_name": null,
          "first_name": "Diego",
          "initials": "D",
          "last_name": "Restrepo"
         },
         {
          "affiliations": [
           {
            "addresses": [
             {
              "country_code": "ES"
             }
            ],
            "ids": [
             {
              "type": "magid",
              "value": "16097986"
             },
             {
              "type": "grid",
              "value": "grid.5338.d"
             },
             {
              "type": "ror",
              "value": "https://ror.org/043nxc105"
             }
            ],
            "name": "University of Valencia"
           }
          ],
          "collective_name": null,
          "first_name": "José W. F.",
          "initials": "JWF",
          "last_name": "Valle"
         },
         {
          "affiliations": [
           {
            "addresses": [
             {
              "country_code": "CO"
             }
            ],
            "ids": [
             {
              "type": "magid",
              "value": "35961687"
             },
             {
              "type": "grid",
              "value": "grid.412881.6"
             },
             {
              "type": "ror",
              "value": "https://ror.org/03bp5hc83"
             }
            ],
            "name": "University of Antioquia"
           }
          ],
          "collective_name": null,
          "first_name": "Óscar",
          "initials": "Ó",
          "last_name": "Zapata"
         }
        ],
        "chemicals": [],
        "date_published": {
         "date": "2018-06-19T00:00:00+00:00"
        },
        "end_page": null,
        "fields_of_study": [
         {
          "name": "Particle physics"
         },
         {
          "name": "Physics"
         },
         {
          "name": "Dark matter"
         },
         {
          "name": "Bound state"
         },
         {
          "name": "Neutrino"
         },
         {
          "name": "Hadron"
         },
         {
          "name": "Recoil"
         },
         {
          "name": "SIMPLE (dark matter experiment)"
         },
         {
          "name": "Conservation law"
         },
         {
          "name": "Dirac (video compression format)"
         }
        ],
        "funding": [
         {
          "country": null,
          "funding_id": null,
          "org": "Ministerio de Economía y Competitividad"
         },
         {
          "country": null,
          "funding_id": null,
          "org": "Ministerio de Economía y Competitividad"
         },
         {
          "country": null,
          "funding_id": null,
          "org": "Departamento Administrativo de Ciencia, Tecnología e Innovación"
         },
         {
          "country": null,
          "funding_id": null,
          "org": "Departamento Administrativo de Ciencia, Tecnología e Innovación"
         },
         {
          "country": null,
          "funding_id": null,
          "org": "Sostenibilidad-UdeA"
         }
        ],
        "issue": "11",
        "keywords": [],
        "lens_id": "148-103-731-507-85X",
        "mesh_terms": [],
        "patent_citations_count": 0,
        "publication_type": "journal article",
        "references": [
         {
          "lens_id": "005-904-164-081-358"
         },
         {
          "lens_id": "015-584-147-655-703"
         },
         {
          "lens_id": "025-666-735-270-094"
         },
         {
          "lens_id": "030-344-434-328-167"
         },
         {
          "lens_id": "031-811-475-736-083"
         },
         {
          "lens_id": "036-408-241-855-09X"
         },
         {
          "lens_id": "038-819-753-332-187"
         },
         {
          "lens_id": "040-003-630-739-294"
         },
         {
          "lens_id": "043-164-481-734-655"
         },
         {
          "lens_id": "044-138-240-277-454"
         },
         {
          "lens_id": "045-593-275-077-250"
         },
         {
          "lens_id": "047-737-986-919-947"
         },
         {
          "lens_id": "056-113-309-955-810"
         },
         {
          "lens_id": "065-989-521-308-04X"
         },
         {
          "lens_id": "066-125-154-541-357"
         },
         {
          "lens_id": "068-381-489-295-413"
         },
         {
          "lens_id": "077-567-659-751-146"
         },
         {
          "lens_id": "086-021-292-599-126"
         },
         {
          "lens_id": "089-956-411-318-765"
         },
         {
          "lens_id": "096-777-508-677-297"
         },
         {
          "lens_id": "130-619-931-138-634"
         },
         {
          "lens_id": "146-450-551-695-623"
         },
         {
          "lens_id": "166-791-595-733-004"
         },
         {
          "lens_id": "172-687-903-817-478"
         }
        ],
        "scholarly_citations_count": 35,
        "source": {
         "country": "United States",
         "issn": [
          {
           "type": "print",
           "value": "24700010"
          },
          {
           "type": "electronic",
           "value": "24700029"
          }
         ],
         "publisher": "American Physical Society (APS)",
         "title_full": "Physical Review D"
        },
        "source_urls": [
         {
          "type": "html",
          "url": "https://link.aps.org/doi/10.1103/PhysRevD.97.115032"
         },
         {
          "type": "pdf",
          "url": "https://link.aps.org/pdf/10.1103/PhysRevD.97.115032"
         },
         {
          "type": "html",
          "url": "https://arxiv.org/abs/1803.08528"
         },
         {
          "type": "pdf",
          "url": "http://arxiv.org/pdf/1803.08528.pdf"
         },
         {
          "type": "html",
          "url": "https://ui.adsabs.harvard.edu/abs/2018PhRvD..97k5032R/abstract"
         },
         {
          "type": "core_fulltext",
          "url": "http://arxiv.org/abs/1803.08528"
         }
        ],
        "start_page": "115032",
        "title": "Bound-state dark matter and Dirac neutrino masses",
        "volume": "97",
        "year_published": 2018
       },
       {
        "abstract": null,
        "authors": [
         {
          "affiliations": [
           {
            "addresses": [
             {
              "country_code": "CO"
             }
            ],
            "ids": [
             {
              "type": "magid",
              "value": "35961687"
             },
             {
              "type": "grid",
              "value": "grid.412881.6"
             },
             {
              "type": "ror",
              "value": "https://ror.org/03bp5hc83"
             }
            ],
            "name": "University of Antioquia"
           }
          ],
          "collective_name": null,
          "first_name": "Dora María Hernández",
          "initials": "DMH",
          "last_name": "Holguín"
         },
         {
          "affiliations": [
           {
            "addresses": [],
            "ids": [],
            "name": "Universidad CES"
           }
          ],
          "collective_name": null,
          "first_name": "Diego A.",
          "initials": "DA",
          "last_name": "Restrepo"
         },
         {
          "affiliations": [
           {
            "addresses": [
             {
              "country_code": "CO"
             }
            ],
            "ids": [
             {
              "type": "magid",
              "value": "35961687"
             },
             {
              "type": "grid",
              "value": "grid.412881.6"
             },
             {
              "type": "ror",
              "value": "https://ror.org/03bp5hc83"
             }
            ],
            "name": "University of Antioquia"
           }
          ],
          "collective_name": null,
          "first_name": "María Vilma",
          "initials": "MV",
          "last_name": "Restrepo"
         },
         {
          "affiliations": [
           {
            "addresses": [],
            "ids": [],
            "name": "Universidad Cooperativa de Colombia"
           }
          ],
          "collective_name": null,
          "first_name": "Gina P.",
          "initials": "GP",
          "last_name": "Cuartas"
         }
        ],
        "chemicals": [],
        "date_published": {
         "date": "2015-03-15T00:00:00+00:00"
        },
        "end_page": "10",
        "fields_of_study": [],
        "funding": [],
        "issue": null,
        "keywords": [],
        "lens_id": "182-879-246-290-176",
        "mesh_terms": [],
        "patent_citations_count": 0,
        "publication_type": "journal article",
        "references": [
         {
          "lens_id": "062-836-199-297-664"
         }
        ],
        "scholarly_citations_count": 0,
        "source": {
         "country": null,
         "issn": [
          {
           "type": "unknown",
           "value": "0120064x"
          }
         ],
         "publisher": null,
         "title_full": "Revista Facultad Nacional de Salud Pública"
        },
        "source_urls": [
         {
          "type": "html",
          "url": "http://aprendeenlinea.udea.edu.co/revistas/index.php/fnsp/article/view/22305"
         },
         {
          "type": "html",
          "url": "https://revistas.udea.edu.co/index.php/fnsp/article/view/22305"
         },
         {
          "type": "pdf",
          "url": "https://revistas.udea.edu.co/index.php/fnsp/article/download/22305/18467"
         },
         {
          "type": "pdf",
          "url": "http://aprendeenlinea.udea.edu.co/revistas/index.php/fnsp/article/download/22305/18467"
         }
        ],
        "start_page": "3",
        "title": "Salud mental: una mirada desde la salud pública",
        "volume": "32",
        "year_published": 2015
       },
       {
        "abstract": "<jats:p>We present 48 types of solutions to the anomaly cancellation conditions of local Abelian extensions of the Standard Model (SM) with right-handed SM-singlet chiral fermions. At least two of them acquire effective light Dirac neutrino masses, while the others get heavy masses from the spontaneous symmetry breaking of the local Abelian symmetry, forming a dark sector with multi-component and multi-generational fermionic dark matter. The corresponding effective Dirac neutrino mass operator can be realized at tree-level or radiatively by introducing extra scalars, and in some cases after imposing extra scotogenic conditions. The Dirac Zee model with Dirac fermionic dark matter is presented as an example of model where the neutrino and dark matter phenomenology are basically independent of each other.</jats:p>",
        "authors": [
         {
          "affiliations": [
           {
            "addresses": [],
            "ids": [
             {
              "type": "openalex",
              "value": "I35961687"
             },
             {
              "type": "ror",
              "value": "03bp5hc83"
             }
            ],
            "name": "University of Antioquia"
           }
          ],
          "collective_name": null,
          "first_name": "Diego",
          "initials": "D",
          "last_name": "Restrepo"
         },
         {
          "affiliations": [
           {
            "addresses": [],
            "ids": [
             {
              "type": "openalex",
              "value": "I35961687"
             },
             {
              "type": "ror",
              "value": "03bp5hc83"
             }
            ],
            "name": "University of Antioquia"
           }
          ],
          "collective_name": null,
          "first_name": "David",
          "initials": "D",
          "last_name": "Suarez"
         }
        ],
        "chemicals": [],
        "date_published": {
         "date": "2022-04-26T00:00:00+00:00"
        },
        "end_page": null,
        "fields_of_study": [
         {
          "name": "Physics"
         },
         {
          "name": "Neutrino"
         },
         {
          "name": "Particle physics"
         },
         {
          "name": "Dark matter"
         },
         {
          "name": "Dirac fermion"
         },
         {
          "name": "Phenomenology (philosophy)"
         },
         {
          "name": "Standard Model (mathematical formulation)"
         },
         {
          "name": "Sterile neutrino"
         },
         {
          "name": "Physics beyond the Standard Model"
         },
         {
          "name": "Theoretical physics"
         }
        ],
        "funding": [],
        "issue": null,
        "keywords": [],
        "lens_id": "196-172-723-641-936",
        "mesh_terms": [],
        "patent_citations_count": 0,
        "publication_type": "journal article",
        "references": [
         {
          "lens_id": "010-915-835-788-755"
         },
         {
          "lens_id": "017-930-819-670-095"
         },
         {
          "lens_id": "022-258-509-790-209"
         },
         {
          "lens_id": "022-276-209-793-28X"
         },
         {
          "lens_id": "024-599-000-693-842"
         },
         {
          "lens_id": "025-673-012-266-564"
         },
         {
          "lens_id": "026-855-784-961-931"
         },
         {
          "lens_id": "026-927-442-199-318"
         },
         {
          "lens_id": "030-396-043-787-328"
         },
         {
          "lens_id": "032-486-405-823-093"
         },
         {
          "lens_id": "037-808-293-649-334"
         },
         {
          "lens_id": "041-649-827-754-729"
         },
         {
          "lens_id": "045-398-198-298-274"
         },
         {
          "lens_id": "046-836-277-058-23X"
         },
         {
          "lens_id": "061-019-801-987-259"
         },
         {
          "lens_id": "064-091-235-413-482"
         },
         {
          "lens_id": "065-715-855-665-68X"
         },
         {
          "lens_id": "065-989-521-308-04X"
         },
         {
          "lens_id": "077-845-976-945-515"
         },
         {
          "lens_id": "081-067-523-514-110"
         },
         {
          "lens_id": "090-129-857-584-124"
         },
         {
          "lens_id": "102-411-236-533-909"
         },
         {
          "lens_id": "177-576-669-800-036"
         }
        ],
        "scholarly_citations_count": 0,
        "source": {
         "country": null,
         "issn": [
          {
           "type": "unknown",
           "value": "2296424x"
          }
         ],
         "publisher": "Frontiers Media SA",
         "title_full": "Frontiers in Physics"
        },
        "source_urls": [],
        "start_page": null,
        "title": "Effective Dirac Neutrino Mass Operator in the Standard Model With a Local Abelian Extension",
        "volume": "10",
        "year_published": 2022
       }
      ],
      "text/plain": [
       "<IPython.core.display.JSON object>"
      ]
     },
     "execution_count": 30,
     "metadata": {
      "application/json": {
       "expanded": false,
       "root": "root"
      }
     },
     "output_type": "execute_result"
    }
   ],
   "source": [
    "JSON(data)"
   ]
  },
  {
   "cell_type": "code",
   "execution_count": 31,
   "id": "a0aa526e-013c-4083-81ad-3b1f1d90fa4d",
   "metadata": {},
   "outputs": [],
   "source": [
    "pd.set_option('display.max_columns', 500)"
   ]
  },
  {
   "cell_type": "code",
   "execution_count": 32,
   "id": "753a8b4e-245e-41d1-acfc-092deb6ddf66",
   "metadata": {},
   "outputs": [
    {
     "data": {
      "text/html": [
       "<div>\n",
       "<style scoped>\n",
       "    .dataframe tbody tr th:only-of-type {\n",
       "        vertical-align: middle;\n",
       "    }\n",
       "\n",
       "    .dataframe tbody tr th {\n",
       "        vertical-align: top;\n",
       "    }\n",
       "\n",
       "    .dataframe thead th {\n",
       "        text-align: right;\n",
       "    }\n",
       "</style>\n",
       "<table border=\"1\" class=\"dataframe\">\n",
       "  <thead>\n",
       "    <tr style=\"text-align: right;\">\n",
       "      <th></th>\n",
       "      <th>Lens ID</th>\n",
       "      <th>Title</th>\n",
       "      <th>Date Published</th>\n",
       "      <th>Publication Year</th>\n",
       "      <th>Publication Type</th>\n",
       "      <th>Source Title</th>\n",
       "      <th>ISSNs</th>\n",
       "      <th>Publisher</th>\n",
       "      <th>Source Country</th>\n",
       "      <th>Author/s</th>\n",
       "      <th>Abstract</th>\n",
       "      <th>Volume</th>\n",
       "      <th>Issue Number</th>\n",
       "      <th>Start Page</th>\n",
       "      <th>End Page</th>\n",
       "      <th>Fields of Study</th>\n",
       "      <th>Keywords</th>\n",
       "      <th>MeSH Terms</th>\n",
       "      <th>Chemicals</th>\n",
       "      <th>Funding</th>\n",
       "      <th>Source URLs</th>\n",
       "      <th>External URL</th>\n",
       "      <th>PMID</th>\n",
       "      <th>DOI</th>\n",
       "      <th>Microsoft Academic ID</th>\n",
       "      <th>PMCID</th>\n",
       "      <th>Citing Patents Count</th>\n",
       "      <th>References</th>\n",
       "      <th>Citing Works Count</th>\n",
       "      <th>Is Open Access</th>\n",
       "      <th>Open Access License</th>\n",
       "      <th>Open Access Colour</th>\n",
       "    </tr>\n",
       "  </thead>\n",
       "  <tbody>\n",
       "    <tr>\n",
       "      <th>0</th>\n",
       "      <td>000-191-015-917-095</td>\n",
       "      <td>Anomaly-free Abelian gauge symmetries with Dir...</td>\n",
       "      <td>2021-08-16</td>\n",
       "      <td>2021</td>\n",
       "      <td>NaN</td>\n",
       "      <td>arXiv: High Energy Physics - Phenomenology</td>\n",
       "      <td>NaN</td>\n",
       "      <td>NaN</td>\n",
       "      <td>NaN</td>\n",
       "      <td>Nicolás Bernal; Diego Restrepo</td>\n",
       "      <td>We perform a systematic analysis of Standard M...</td>\n",
       "      <td>NaN</td>\n",
       "      <td>NaN</td>\n",
       "      <td>NaN</td>\n",
       "      <td>NaN</td>\n",
       "      <td>Standard Model (mathematical formulation); Par...</td>\n",
       "      <td>NaN</td>\n",
       "      <td>NaN</td>\n",
       "      <td>NaN</td>\n",
       "      <td>NaN</td>\n",
       "      <td>https://arxiv.org/pdf/2108.05907 https://inspi...</td>\n",
       "      <td>https://inspirehep.net/literature/1904961</td>\n",
       "      <td>NaN</td>\n",
       "      <td>NaN</td>\n",
       "      <td>3195092710</td>\n",
       "      <td>NaN</td>\n",
       "      <td>0</td>\n",
       "      <td>002-122-391-536-484; 004-766-632-851-036; 004-...</td>\n",
       "      <td>1</td>\n",
       "      <td>True</td>\n",
       "      <td>NaN</td>\n",
       "      <td>NaN</td>\n",
       "    </tr>\n",
       "    <tr>\n",
       "      <th>1</th>\n",
       "      <td>000-293-119-187-370</td>\n",
       "      <td>Indicadores de vinculación con el entorno para...</td>\n",
       "      <td>NaN</td>\n",
       "      <td>2017</td>\n",
       "      <td>journal article</td>\n",
       "      <td>SSRN Electronic Journal</td>\n",
       "      <td>15565068</td>\n",
       "      <td>Elsevier BV</td>\n",
       "      <td>NaN</td>\n",
       "      <td>Gabriel Jaime Vélez Cuartas; Alejandro Uribe-T...</td>\n",
       "      <td>NaN</td>\n",
       "      <td>NaN</td>\n",
       "      <td>NaN</td>\n",
       "      <td>NaN</td>\n",
       "      <td>NaN</td>\n",
       "      <td>Humanities; Political science; Differential im...</td>\n",
       "      <td>NaN</td>\n",
       "      <td>NaN</td>\n",
       "      <td>NaN</td>\n",
       "      <td>NaN</td>\n",
       "      <td>https://papers.ssrn.com/sol3/papers.cfm?abstra...</td>\n",
       "      <td>http://dx.doi.org/10.2139/ssrn.3136094</td>\n",
       "      <td>NaN</td>\n",
       "      <td>10.2139/ssrn.3136094</td>\n",
       "      <td>2909173301</td>\n",
       "      <td>NaN</td>\n",
       "      <td>0</td>\n",
       "      <td>008-337-514-790-690; 034-154-058-064-652; 047-...</td>\n",
       "      <td>0</td>\n",
       "      <td>False</td>\n",
       "      <td>NaN</td>\n",
       "      <td>NaN</td>\n",
       "    </tr>\n",
       "  </tbody>\n",
       "</table>\n",
       "</div>"
      ],
      "text/plain": [
       "               Lens ID                                              Title  \\\n",
       "0  000-191-015-917-095  Anomaly-free Abelian gauge symmetries with Dir...   \n",
       "1  000-293-119-187-370  Indicadores de vinculación con el entorno para...   \n",
       "\n",
       "  Date Published  Publication Year Publication Type  \\\n",
       "0     2021-08-16              2021              NaN   \n",
       "1            NaN              2017  journal article   \n",
       "\n",
       "                                 Source Title     ISSNs    Publisher  \\\n",
       "0  arXiv: High Energy Physics - Phenomenology       NaN          NaN   \n",
       "1                     SSRN Electronic Journal  15565068  Elsevier BV   \n",
       "\n",
       "  Source Country                                           Author/s  \\\n",
       "0            NaN                     Nicolás Bernal; Diego Restrepo   \n",
       "1            NaN  Gabriel Jaime Vélez Cuartas; Alejandro Uribe-T...   \n",
       "\n",
       "                                            Abstract Volume  Issue Number  \\\n",
       "0  We perform a systematic analysis of Standard M...    NaN           NaN   \n",
       "1                                                NaN    NaN           NaN   \n",
       "\n",
       "   Start Page  End Page                                    Fields of Study  \\\n",
       "0         NaN       NaN  Standard Model (mathematical formulation); Par...   \n",
       "1         NaN       NaN  Humanities; Political science; Differential im...   \n",
       "\n",
       "   Keywords  MeSH Terms  Chemicals Funding  \\\n",
       "0       NaN         NaN        NaN     NaN   \n",
       "1       NaN         NaN        NaN     NaN   \n",
       "\n",
       "                                         Source URLs  \\\n",
       "0  https://arxiv.org/pdf/2108.05907 https://inspi...   \n",
       "1  https://papers.ssrn.com/sol3/papers.cfm?abstra...   \n",
       "\n",
       "                                External URL  PMID                   DOI  \\\n",
       "0  https://inspirehep.net/literature/1904961   NaN                   NaN   \n",
       "1     http://dx.doi.org/10.2139/ssrn.3136094   NaN  10.2139/ssrn.3136094   \n",
       "\n",
       "  Microsoft Academic ID  PMCID  Citing Patents Count  \\\n",
       "0            3195092710    NaN                     0   \n",
       "1            2909173301    NaN                     0   \n",
       "\n",
       "                                          References  Citing Works Count  \\\n",
       "0  002-122-391-536-484; 004-766-632-851-036; 004-...                   1   \n",
       "1  008-337-514-790-690; 034-154-058-064-652; 047-...                   0   \n",
       "\n",
       "   Is Open Access Open Access License Open Access Colour  \n",
       "0            True                 NaN                NaN  \n",
       "1           False                 NaN                NaN  "
      ]
     },
     "execution_count": 32,
     "metadata": {},
     "output_type": "execute_result"
    }
   ],
   "source": [
    "df=pd.read_csv('https://raw.githubusercontent.com/colav-playground/lens/main/2022-08-22.csv')\n",
    "df[:2]"
   ]
  }
 ],
 "metadata": {
  "kernelspec": {
   "display_name": "Python 3 (ipykernel)",
   "language": "python",
   "name": "python3"
  },
  "language_info": {
   "codemirror_mode": {
    "name": "ipython",
    "version": 3
   },
   "file_extension": ".py",
   "mimetype": "text/x-python",
   "name": "python",
   "nbconvert_exporter": "python",
   "pygments_lexer": "ipython3",
   "version": "3.9.2"
  }
 },
 "nbformat": 4,
 "nbformat_minor": 5
}
