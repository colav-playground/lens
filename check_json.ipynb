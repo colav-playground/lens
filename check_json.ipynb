{
 "cells": [
  {
   "cell_type": "markdown",
   "id": "68029272-ca46-4b91-87e3-a35386c532c7",
   "metadata": {},
   "source": [
    "# Check JSON"
   ]
  },
  {
   "cell_type": "markdown",
   "id": "2a3f4c8b-728f-4b66-8e69-1f0ff3cc11ac",
   "metadata": {},
   "source": [
    "Search Formula https://link.lens.org/VX54fIStybb\n",
    "* Version Date: 2022-08-22"
   ]
  },
  {
   "cell_type": "code",
   "execution_count": null,
   "id": "84a77f6f-984f-4552-86a2-97b4f78a3776",
   "metadata": {},
   "outputs": [],
   "source": []
  }
 ],
 "metadata": {
  "kernelspec": {
   "display_name": "Python 3 (ipykernel)",
   "language": "python",
   "name": "python3"
  },
  "language_info": {
   "codemirror_mode": {
    "name": "ipython",
    "version": 3
   },
   "file_extension": ".py",
   "mimetype": "text/x-python",
   "name": "python",
   "nbconvert_exporter": "python",
   "pygments_lexer": "ipython3",
   "version": "3.9.2"
  }
 },
 "nbformat": 4,
 "nbformat_minor": 5
}
